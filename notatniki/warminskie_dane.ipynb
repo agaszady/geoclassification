{
 "cells": [
  {
   "cell_type": "markdown",
   "source": [
    "cechy wyodrębniane z warstwy granic miejscowosci - liczba ludnosci i powierzchnia"
   ],
   "metadata": {
    "collapsed": false
   },
   "id": "8cbcf3f318d0d535"
  },
  {
   "cell_type": "code",
   "execution_count": 20,
   "outputs": [],
   "source": [
    "import pandas as pd\n",
    "import geopandas as gpd\n",
    "from sklearn.preprocessing import MinMaxScaler"
   ],
   "metadata": {
    "collapsed": false,
    "ExecuteTime": {
     "end_time": "2023-12-30T13:32:29.711174500Z",
     "start_time": "2023-12-30T13:32:29.460159900Z"
    }
   },
   "id": "initial_id"
  },
  {
   "cell_type": "markdown",
   "source": [
    "przygotowanie warstwy prng - bazy tabeli na której będzie opierał się model"
   ],
   "metadata": {
    "collapsed": false
   },
   "id": "83c92007d5bdc707"
  },
  {
   "cell_type": "code",
   "execution_count": 21,
   "outputs": [
    {
     "data": {
      "text/plain": "                           idIIP  idPRNG                      nazwaGlown  \\\n0            PL.PZGiK.320.NGRP.2       2                  Osiedle Struga   \n1            PL.PZGiK.320.NGRP.4       4                        Abisynia   \n2            PL.PZGiK.320.NGRP.6       6                        Abisynia   \n3            PL.PZGiK.320.NGRP.7       7                        Abisynia   \n4            PL.PZGiK.320.NGRP.8       8                        Abisynia   \n...                          ...     ...                             ...   \n124558  PL.PZGiK.320.NGRP.269651  269651   Osiedle Ignacego Daszyńskiego   \n124559  PL.PZGiK.320.NGRP.269652  269652                  Osiedle Poręba   \n124560  PL.PZGiK.320.NGRP.269653  269653                   Osiedle Widok   \n124561  PL.PZGiK.320.NGRP.269654  269654                   Osiedle Górki   \n124562  PL.PZGiK.320.NGRP.269656  269656  Osiedle Feliksa Nowowiejskiego   \n\n                    elementRoz elementRod                  dopelniacz  \\\n0                       Struga    Osiedle                     -la -gi   \n1                     Abisynia        NaN                        -nii   \n2                     Abisynia        NaN                        -nii   \n3                     Abisynia        NaN                        -nii   \n4                     Abisynia        NaN                        -nii   \n...                        ...        ...                         ...   \n124558   Ignacego Daszyńskiego    Osiedle   -la Ignacego Daszyńskiego   \n124559                  Poręba    Osiedle                  -la Poręby   \n124560                   Widok    Osiedle                     -la -ku   \n124561                   Górki    Osiedle                   -la Górek   \n124562  Feliksa Nowowiejskiego    Osiedle  -la Feliksa Nowowiejskiego   \n\n       przymiot         statusNazw    kategoria          rodzaj  ...  \\\n0           NaN  niestandaryzowana  miejscowość    część miasta  ...   \n1           NaN  niestandaryzowana  miejscowość       część wsi  ...   \n2           NaN  niestandaryzowana  miejscowość  przysiółek wsi  ...   \n3           NaN           urzędowa  miejscowość       część wsi  ...   \n4           NaN  niestandaryzowana  miejscowość    część miasta  ...   \n...         ...                ...          ...             ...  ...   \n124558      NaN  niestandaryzowana  miejscowość    część miasta  ...   \n124559      NaN  niestandaryzowana  miejscowość    część miasta  ...   \n124560      NaN  niestandaryzowana  miejscowość    część miasta  ...   \n124561      NaN  niestandaryzowana  miejscowość    część miasta  ...   \n124562      NaN  niestandaryzowana  miejscowość    część miasta  ...   \n\n       jezykEgzon latynEgzon       wojewodz                   powiat  \\\n0             NaN        NaN   dolnośląskie           dzierżoniowski   \n1             NaN        NaN  wielkopolskie               pleszewski   \n2             NaN        NaN       lubuskie   strzelecko-drezdenecki   \n3             NaN        NaN  wielkopolskie  czarnkowsko-trzcianecki   \n4             NaN        NaN       opolskie              krapkowicki   \n...           ...        ...            ...                      ...   \n124558        NaN        NaN      lubelskie                   Lublin   \n124559        NaN        NaN      lubelskie                   Lublin   \n124560        NaN        NaN      lubelskie                   Lublin   \n124561        NaN        NaN      lubelskie                   Lublin   \n124562        NaN        NaN      lubelskie                   Lublin   \n\n                                   gmina  idGminy            poczWerOb  \\\n0              Dzierżoniów-gmina miejska  0202021  2022-04-01T17:18:26   \n1          Pleszew-gmina miejsko-wiejska  3020063  2022-04-01T17:20:18   \n2             Stare Kurowo-gmina wiejska  0806032  2023-04-25T17:23:30   \n3                  Drawsko-gmina wiejska  3002032  2022-03-22T21:26:58   \n4       Krapkowice-gmina miejsko-wiejska  1605023  2022-04-01T17:18:26   \n...                                  ...      ...                  ...   \n124558              Lublin-gmina miejska  0663011  2023-09-11T23:08:51   \n124559              Lublin-gmina miejska  0663011  2023-09-11T23:16:06   \n124560              Lublin-gmina miejska  0663011  2023-09-11T23:22:20   \n124561              Lublin-gmina miejska  0663011  2023-09-11T23:28:14   \n124562              Lublin-gmina miejska  0663011  2023-09-11T23:38:05   \n\n                   wersjaOb     waznaOd                       geometry  \n0       2022-04-01T17:18:26  2015-06-30  POINT (334530.330 319384.250)  \n1       2022-04-01T17:20:18  2016-04-25  POINT (419019.650 447421.450)  \n2       2023-04-25T17:23:30  2016-01-27  POINT (274605.810 556427.550)  \n3       2022-03-22T21:26:58  2016-03-10  POINT (300270.010 557521.480)  \n4       2022-04-01T17:18:26  2019-10-09  POINT (427022.520 292751.830)  \n...                     ...         ...                            ...  \n124558  2023-09-11T23:08:51  2023-09-11  POINT (750806.120 383325.670)  \n124559  2023-09-11T23:16:06  2023-09-11  POINT (744782.200 378872.240)  \n124560  2023-09-11T23:22:20  2023-09-11  POINT (745551.260 378780.490)  \n124561  2023-09-11T23:28:14  2023-09-11  POINT (746310.060 378878.540)  \n124562  2023-09-11T23:38:05  2023-09-11  POINT (747880.270 383190.560)  \n\n[124563 rows x 40 columns]",
      "text/html": "<div>\n<style scoped>\n    .dataframe tbody tr th:only-of-type {\n        vertical-align: middle;\n    }\n\n    .dataframe tbody tr th {\n        vertical-align: top;\n    }\n\n    .dataframe thead th {\n        text-align: right;\n    }\n</style>\n<table border=\"1\" class=\"dataframe\">\n  <thead>\n    <tr style=\"text-align: right;\">\n      <th></th>\n      <th>idIIP</th>\n      <th>idPRNG</th>\n      <th>nazwaGlown</th>\n      <th>elementRoz</th>\n      <th>elementRod</th>\n      <th>dopelniacz</th>\n      <th>przymiot</th>\n      <th>statusNazw</th>\n      <th>kategoria</th>\n      <th>rodzaj</th>\n      <th>...</th>\n      <th>jezykEgzon</th>\n      <th>latynEgzon</th>\n      <th>wojewodz</th>\n      <th>powiat</th>\n      <th>gmina</th>\n      <th>idGminy</th>\n      <th>poczWerOb</th>\n      <th>wersjaOb</th>\n      <th>waznaOd</th>\n      <th>geometry</th>\n    </tr>\n  </thead>\n  <tbody>\n    <tr>\n      <th>0</th>\n      <td>PL.PZGiK.320.NGRP.2</td>\n      <td>2</td>\n      <td>Osiedle Struga</td>\n      <td>Struga</td>\n      <td>Osiedle</td>\n      <td>-la -gi</td>\n      <td>NaN</td>\n      <td>niestandaryzowana</td>\n      <td>miejscowość</td>\n      <td>część miasta</td>\n      <td>...</td>\n      <td>NaN</td>\n      <td>NaN</td>\n      <td>dolnośląskie</td>\n      <td>dzierżoniowski</td>\n      <td>Dzierżoniów-gmina miejska</td>\n      <td>0202021</td>\n      <td>2022-04-01T17:18:26</td>\n      <td>2022-04-01T17:18:26</td>\n      <td>2015-06-30</td>\n      <td>POINT (334530.330 319384.250)</td>\n    </tr>\n    <tr>\n      <th>1</th>\n      <td>PL.PZGiK.320.NGRP.4</td>\n      <td>4</td>\n      <td>Abisynia</td>\n      <td>Abisynia</td>\n      <td>NaN</td>\n      <td>-nii</td>\n      <td>NaN</td>\n      <td>niestandaryzowana</td>\n      <td>miejscowość</td>\n      <td>część wsi</td>\n      <td>...</td>\n      <td>NaN</td>\n      <td>NaN</td>\n      <td>wielkopolskie</td>\n      <td>pleszewski</td>\n      <td>Pleszew-gmina miejsko-wiejska</td>\n      <td>3020063</td>\n      <td>2022-04-01T17:20:18</td>\n      <td>2022-04-01T17:20:18</td>\n      <td>2016-04-25</td>\n      <td>POINT (419019.650 447421.450)</td>\n    </tr>\n    <tr>\n      <th>2</th>\n      <td>PL.PZGiK.320.NGRP.6</td>\n      <td>6</td>\n      <td>Abisynia</td>\n      <td>Abisynia</td>\n      <td>NaN</td>\n      <td>-nii</td>\n      <td>NaN</td>\n      <td>niestandaryzowana</td>\n      <td>miejscowość</td>\n      <td>przysiółek wsi</td>\n      <td>...</td>\n      <td>NaN</td>\n      <td>NaN</td>\n      <td>lubuskie</td>\n      <td>strzelecko-drezdenecki</td>\n      <td>Stare Kurowo-gmina wiejska</td>\n      <td>0806032</td>\n      <td>2023-04-25T17:23:30</td>\n      <td>2023-04-25T17:23:30</td>\n      <td>2016-01-27</td>\n      <td>POINT (274605.810 556427.550)</td>\n    </tr>\n    <tr>\n      <th>3</th>\n      <td>PL.PZGiK.320.NGRP.7</td>\n      <td>7</td>\n      <td>Abisynia</td>\n      <td>Abisynia</td>\n      <td>NaN</td>\n      <td>-nii</td>\n      <td>NaN</td>\n      <td>urzędowa</td>\n      <td>miejscowość</td>\n      <td>część wsi</td>\n      <td>...</td>\n      <td>NaN</td>\n      <td>NaN</td>\n      <td>wielkopolskie</td>\n      <td>czarnkowsko-trzcianecki</td>\n      <td>Drawsko-gmina wiejska</td>\n      <td>3002032</td>\n      <td>2022-03-22T21:26:58</td>\n      <td>2022-03-22T21:26:58</td>\n      <td>2016-03-10</td>\n      <td>POINT (300270.010 557521.480)</td>\n    </tr>\n    <tr>\n      <th>4</th>\n      <td>PL.PZGiK.320.NGRP.8</td>\n      <td>8</td>\n      <td>Abisynia</td>\n      <td>Abisynia</td>\n      <td>NaN</td>\n      <td>-nii</td>\n      <td>NaN</td>\n      <td>niestandaryzowana</td>\n      <td>miejscowość</td>\n      <td>część miasta</td>\n      <td>...</td>\n      <td>NaN</td>\n      <td>NaN</td>\n      <td>opolskie</td>\n      <td>krapkowicki</td>\n      <td>Krapkowice-gmina miejsko-wiejska</td>\n      <td>1605023</td>\n      <td>2022-04-01T17:18:26</td>\n      <td>2022-04-01T17:18:26</td>\n      <td>2019-10-09</td>\n      <td>POINT (427022.520 292751.830)</td>\n    </tr>\n    <tr>\n      <th>...</th>\n      <td>...</td>\n      <td>...</td>\n      <td>...</td>\n      <td>...</td>\n      <td>...</td>\n      <td>...</td>\n      <td>...</td>\n      <td>...</td>\n      <td>...</td>\n      <td>...</td>\n      <td>...</td>\n      <td>...</td>\n      <td>...</td>\n      <td>...</td>\n      <td>...</td>\n      <td>...</td>\n      <td>...</td>\n      <td>...</td>\n      <td>...</td>\n      <td>...</td>\n      <td>...</td>\n    </tr>\n    <tr>\n      <th>124558</th>\n      <td>PL.PZGiK.320.NGRP.269651</td>\n      <td>269651</td>\n      <td>Osiedle Ignacego Daszyńskiego</td>\n      <td>Ignacego Daszyńskiego</td>\n      <td>Osiedle</td>\n      <td>-la Ignacego Daszyńskiego</td>\n      <td>NaN</td>\n      <td>niestandaryzowana</td>\n      <td>miejscowość</td>\n      <td>część miasta</td>\n      <td>...</td>\n      <td>NaN</td>\n      <td>NaN</td>\n      <td>lubelskie</td>\n      <td>Lublin</td>\n      <td>Lublin-gmina miejska</td>\n      <td>0663011</td>\n      <td>2023-09-11T23:08:51</td>\n      <td>2023-09-11T23:08:51</td>\n      <td>2023-09-11</td>\n      <td>POINT (750806.120 383325.670)</td>\n    </tr>\n    <tr>\n      <th>124559</th>\n      <td>PL.PZGiK.320.NGRP.269652</td>\n      <td>269652</td>\n      <td>Osiedle Poręba</td>\n      <td>Poręba</td>\n      <td>Osiedle</td>\n      <td>-la Poręby</td>\n      <td>NaN</td>\n      <td>niestandaryzowana</td>\n      <td>miejscowość</td>\n      <td>część miasta</td>\n      <td>...</td>\n      <td>NaN</td>\n      <td>NaN</td>\n      <td>lubelskie</td>\n      <td>Lublin</td>\n      <td>Lublin-gmina miejska</td>\n      <td>0663011</td>\n      <td>2023-09-11T23:16:06</td>\n      <td>2023-09-11T23:16:06</td>\n      <td>2023-09-11</td>\n      <td>POINT (744782.200 378872.240)</td>\n    </tr>\n    <tr>\n      <th>124560</th>\n      <td>PL.PZGiK.320.NGRP.269653</td>\n      <td>269653</td>\n      <td>Osiedle Widok</td>\n      <td>Widok</td>\n      <td>Osiedle</td>\n      <td>-la -ku</td>\n      <td>NaN</td>\n      <td>niestandaryzowana</td>\n      <td>miejscowość</td>\n      <td>część miasta</td>\n      <td>...</td>\n      <td>NaN</td>\n      <td>NaN</td>\n      <td>lubelskie</td>\n      <td>Lublin</td>\n      <td>Lublin-gmina miejska</td>\n      <td>0663011</td>\n      <td>2023-09-11T23:22:20</td>\n      <td>2023-09-11T23:22:20</td>\n      <td>2023-09-11</td>\n      <td>POINT (745551.260 378780.490)</td>\n    </tr>\n    <tr>\n      <th>124561</th>\n      <td>PL.PZGiK.320.NGRP.269654</td>\n      <td>269654</td>\n      <td>Osiedle Górki</td>\n      <td>Górki</td>\n      <td>Osiedle</td>\n      <td>-la Górek</td>\n      <td>NaN</td>\n      <td>niestandaryzowana</td>\n      <td>miejscowość</td>\n      <td>część miasta</td>\n      <td>...</td>\n      <td>NaN</td>\n      <td>NaN</td>\n      <td>lubelskie</td>\n      <td>Lublin</td>\n      <td>Lublin-gmina miejska</td>\n      <td>0663011</td>\n      <td>2023-09-11T23:28:14</td>\n      <td>2023-09-11T23:28:14</td>\n      <td>2023-09-11</td>\n      <td>POINT (746310.060 378878.540)</td>\n    </tr>\n    <tr>\n      <th>124562</th>\n      <td>PL.PZGiK.320.NGRP.269656</td>\n      <td>269656</td>\n      <td>Osiedle Feliksa Nowowiejskiego</td>\n      <td>Feliksa Nowowiejskiego</td>\n      <td>Osiedle</td>\n      <td>-la Feliksa Nowowiejskiego</td>\n      <td>NaN</td>\n      <td>niestandaryzowana</td>\n      <td>miejscowość</td>\n      <td>część miasta</td>\n      <td>...</td>\n      <td>NaN</td>\n      <td>NaN</td>\n      <td>lubelskie</td>\n      <td>Lublin</td>\n      <td>Lublin-gmina miejska</td>\n      <td>0663011</td>\n      <td>2023-09-11T23:38:05</td>\n      <td>2023-09-11T23:38:05</td>\n      <td>2023-09-11</td>\n      <td>POINT (747880.270 383190.560)</td>\n    </tr>\n  </tbody>\n</table>\n<p>124563 rows × 40 columns</p>\n</div>"
     },
     "execution_count": 21,
     "metadata": {},
     "output_type": "execute_result"
    }
   ],
   "source": [
    "# miejscowości z prng - warstwa punktowa\n",
    "miejscowosci_prng = gpd.read_file('PRNG_MIEJSCOWOSCI_SHP/PRNG_MIEJSCOWOSCI_SHP.shp')\n",
    "miejscowosci_prng"
   ],
   "metadata": {
    "collapsed": false,
    "ExecuteTime": {
     "end_time": "2023-12-30T13:33:06.333475500Z",
     "start_time": "2023-12-30T13:32:29.472161100Z"
    }
   },
   "id": "c0682f2256e809ca"
  },
  {
   "cell_type": "code",
   "execution_count": 22,
   "outputs": [],
   "source": [
    "# miejscowosci_prng['rodzaj'].sort_values().unique()"
   ],
   "metadata": {
    "collapsed": false,
    "ExecuteTime": {
     "end_time": "2023-12-30T13:33:06.370564Z",
     "start_time": "2023-12-30T13:33:06.332475500Z"
    }
   },
   "id": "9ab60a3f2800d188"
  },
  {
   "cell_type": "code",
   "execution_count": 23,
   "outputs": [],
   "source": [
    "# zliczenie_rodzajow = miejscowosci_prng.groupby('rodzaj')['idMscNd'].agg([(\"Liczba niesamodzielnych\", lambda x: x.count()), (\"Liczba samodzielnych\", lambda x: x.isna().sum())])\n",
    "# zliczenie_rodzajow.reset_index().sort_values(by=['Liczba samodzielnych', 'Liczba niesamodzielnych'], ascending=False)"
   ],
   "metadata": {
    "collapsed": false,
    "ExecuteTime": {
     "end_time": "2023-12-30T13:33:06.407979300Z",
     "start_time": "2023-12-30T13:33:06.350477700Z"
    }
   },
   "id": "320307aaa1210240"
  },
  {
   "cell_type": "code",
   "execution_count": 24,
   "outputs": [],
   "source": [
    "# miejscowosci_prng_2 = miejscowosci_prng[miejscowosci_prng['idMscNd'].isna()]\n",
    "# miejscowosci_prng_2 = miejscowosci_prng_2[~miejscowosci_prng_2['rodzaj'].isin({'miasto', 'osiedle', 'część miasta'})]\n",
    "# tabela_licznosci = miejscowosci_prng_2.groupby(['wojewodz', 'rodzaj']).size().unstack(fill_value=0)\n",
    "# tabela_procentow = tabela_licznosci.div(tabela_licznosci.sum(axis=1), axis=0) * 100\n",
    "# suma = tabela_licznosci.sum(axis=1)\n",
    "# tabela_licznosci['suma'] = suma\n",
    "# tabela_procentow = tabela_procentow.round(2)\n",
    "# tabela_procentow"
   ],
   "metadata": {
    "collapsed": false,
    "ExecuteTime": {
     "end_time": "2023-12-30T13:33:06.453985500Z",
     "start_time": "2023-12-30T13:33:06.364565500Z"
    }
   },
   "id": "575b64c0db941f94"
  },
  {
   "cell_type": "code",
   "execution_count": 25,
   "outputs": [
    {
     "data": {
      "text/plain": "array(['część kolonii', 'część miasta', 'część osady', 'część wsi',\n       'kolonia', 'kolonia osady', 'kolonia wsi', 'leśniczówka', 'miasto',\n       'osada', 'osada leśna', 'osada leśna wsi', 'osada wsi', 'osiedle',\n       'przysiółek', 'przysiółek osady', 'przysiółek wsi', 'wieś'],\n      dtype=object)"
     },
     "execution_count": 25,
     "metadata": {},
     "output_type": "execute_result"
    }
   ],
   "source": [
    "# ograniczenie do warmińsko-mazurskiego\n",
    "warminskie_prng = miejscowosci_prng[miejscowosci_prng['wojewodz'] == 'warmińsko-mazurskie']\n",
    "warminskie_prng['rodzaj'].sort_values().unique()"
   ],
   "metadata": {
    "collapsed": false,
    "ExecuteTime": {
     "end_time": "2023-12-30T13:33:06.485856300Z",
     "start_time": "2023-12-30T13:33:06.379566300Z"
    }
   },
   "id": "48fbf4872f6e922d"
  },
  {
   "cell_type": "code",
   "execution_count": 26,
   "outputs": [],
   "source": [
    "# stworzenie df z najistotniejszymi kolumnami\n",
    "warminskie_prng = warminskie_prng[['idZewnetrz', 'rodzaj', 'nazwaGlown', 'idMscNd', 'nazwaMscNd', 'geometry']]"
   ],
   "metadata": {
    "collapsed": false,
    "ExecuteTime": {
     "end_time": "2023-12-30T13:33:06.486857200Z",
     "start_time": "2023-12-30T13:33:06.426986300Z"
    }
   },
   "id": "af30a9c9525077f"
  },
  {
   "cell_type": "code",
   "execution_count": 27,
   "outputs": [],
   "source": [
    "# zmiana nazw dla czytelności\n",
    "warminskie_prng.rename(columns={'idZewnetrz': 'SIMC_id', 'nazwaGlown': 'nazwa', 'idMscNd': 'id_msc_nd', 'nazwaMscNd': 'nazwa_msc_nd'}, inplace=True)\n",
    "# zmiana typów z object na int64\n",
    "warminskie_prng['SIMC_id'] = pd.to_numeric(warminskie_prng['SIMC_id'], errors='coerce').astype('Int64')\n",
    "warminskie_prng['id_msc_nd'] = pd.to_numeric(warminskie_prng['id_msc_nd'], errors='coerce').astype('Int64')"
   ],
   "metadata": {
    "collapsed": false,
    "ExecuteTime": {
     "end_time": "2023-12-30T13:33:06.488840300Z",
     "start_time": "2023-12-30T13:33:06.444987800Z"
    }
   },
   "id": "7810f6e152641469"
  },
  {
   "cell_type": "code",
   "execution_count": 28,
   "outputs": [],
   "source": [
    "# wyłączenie miast i pochodnych z analizy\n",
    "warminskie_prng = warminskie_prng[~warminskie_prng['rodzaj'].isin({'miasto', 'osiedle', 'część miasta'})]\n",
    "warminskie_prng.dropna(subset=['SIMC_id'], inplace=True)\n",
    "# pozbycie się ewentualnych duplikatów\n",
    "warminskie_prng.drop_duplicates(inplace=True)"
   ],
   "metadata": {
    "collapsed": false,
    "ExecuteTime": {
     "end_time": "2023-12-30T13:33:06.517839800Z",
     "start_time": "2023-12-30T13:33:06.458988300Z"
    }
   },
   "id": "3ff98f5c49be4a05"
  },
  {
   "cell_type": "code",
   "execution_count": 29,
   "outputs": [
    {
     "data": {
      "text/plain": "        SIMC_id     rodzaj            nazwa  id_msc_nd  nazwa_msc_nd  \\\n71       149222       wieś          Adamowo       <NA>           NaN   \n73       157948       wieś          Adamowo       <NA>           NaN   \n79       117890       wieś          Adamowo       <NA>           NaN   \n85       471403       wieś          Adamowo       <NA>           NaN   \n92       149647  część wsi  Adamowo-Osiedle     149630  Władysławowo   \n...         ...        ...              ...        ...           ...   \n124182  1044583  część wsi     Trzech Króli     844100      Świniarc   \n124183  1044577  część wsi     Tama za Wodą     844117        Trzcin   \n124184  1044407  część wsi       Pod Mątowo     844146      Zwiniarz   \n124241  1045803  część wsi       Ostrzywilk     847280       Radomno   \n124338  1067526      osada    Turowski Młyn       <NA>           NaN   \n\n                             geometry  \n71      POINT (517072.190 698942.620)  \n73      POINT (522923.230 649553.540)  \n79      POINT (561486.270 590967.880)  \n85      POINT (630835.770 669115.890)  \n92      POINT (521525.150 699758.410)  \n...                               ...  \n124182  POINT (552390.880 620035.670)  \n124183  POINT (549613.840 611421.500)  \n124184  POINT (555161.830 618831.980)  \n124241  POINT (537562.224 628117.656)  \n124338  POINT (579057.870 622015.670)  \n\n[4546 rows x 6 columns]",
      "text/html": "<div>\n<style scoped>\n    .dataframe tbody tr th:only-of-type {\n        vertical-align: middle;\n    }\n\n    .dataframe tbody tr th {\n        vertical-align: top;\n    }\n\n    .dataframe thead th {\n        text-align: right;\n    }\n</style>\n<table border=\"1\" class=\"dataframe\">\n  <thead>\n    <tr style=\"text-align: right;\">\n      <th></th>\n      <th>SIMC_id</th>\n      <th>rodzaj</th>\n      <th>nazwa</th>\n      <th>id_msc_nd</th>\n      <th>nazwa_msc_nd</th>\n      <th>geometry</th>\n    </tr>\n  </thead>\n  <tbody>\n    <tr>\n      <th>71</th>\n      <td>149222</td>\n      <td>wieś</td>\n      <td>Adamowo</td>\n      <td>&lt;NA&gt;</td>\n      <td>NaN</td>\n      <td>POINT (517072.190 698942.620)</td>\n    </tr>\n    <tr>\n      <th>73</th>\n      <td>157948</td>\n      <td>wieś</td>\n      <td>Adamowo</td>\n      <td>&lt;NA&gt;</td>\n      <td>NaN</td>\n      <td>POINT (522923.230 649553.540)</td>\n    </tr>\n    <tr>\n      <th>79</th>\n      <td>117890</td>\n      <td>wieś</td>\n      <td>Adamowo</td>\n      <td>&lt;NA&gt;</td>\n      <td>NaN</td>\n      <td>POINT (561486.270 590967.880)</td>\n    </tr>\n    <tr>\n      <th>85</th>\n      <td>471403</td>\n      <td>wieś</td>\n      <td>Adamowo</td>\n      <td>&lt;NA&gt;</td>\n      <td>NaN</td>\n      <td>POINT (630835.770 669115.890)</td>\n    </tr>\n    <tr>\n      <th>92</th>\n      <td>149647</td>\n      <td>część wsi</td>\n      <td>Adamowo-Osiedle</td>\n      <td>149630</td>\n      <td>Władysławowo</td>\n      <td>POINT (521525.150 699758.410)</td>\n    </tr>\n    <tr>\n      <th>...</th>\n      <td>...</td>\n      <td>...</td>\n      <td>...</td>\n      <td>...</td>\n      <td>...</td>\n      <td>...</td>\n    </tr>\n    <tr>\n      <th>124182</th>\n      <td>1044583</td>\n      <td>część wsi</td>\n      <td>Trzech Króli</td>\n      <td>844100</td>\n      <td>Świniarc</td>\n      <td>POINT (552390.880 620035.670)</td>\n    </tr>\n    <tr>\n      <th>124183</th>\n      <td>1044577</td>\n      <td>część wsi</td>\n      <td>Tama za Wodą</td>\n      <td>844117</td>\n      <td>Trzcin</td>\n      <td>POINT (549613.840 611421.500)</td>\n    </tr>\n    <tr>\n      <th>124184</th>\n      <td>1044407</td>\n      <td>część wsi</td>\n      <td>Pod Mątowo</td>\n      <td>844146</td>\n      <td>Zwiniarz</td>\n      <td>POINT (555161.830 618831.980)</td>\n    </tr>\n    <tr>\n      <th>124241</th>\n      <td>1045803</td>\n      <td>część wsi</td>\n      <td>Ostrzywilk</td>\n      <td>847280</td>\n      <td>Radomno</td>\n      <td>POINT (537562.224 628117.656)</td>\n    </tr>\n    <tr>\n      <th>124338</th>\n      <td>1067526</td>\n      <td>osada</td>\n      <td>Turowski Młyn</td>\n      <td>&lt;NA&gt;</td>\n      <td>NaN</td>\n      <td>POINT (579057.870 622015.670)</td>\n    </tr>\n  </tbody>\n</table>\n<p>4546 rows × 6 columns</p>\n</div>"
     },
     "execution_count": 29,
     "metadata": {},
     "output_type": "execute_result"
    }
   ],
   "source": [
    "warminskie_prng"
   ],
   "metadata": {
    "collapsed": false,
    "ExecuteTime": {
     "end_time": "2023-12-30T13:33:06.526842300Z",
     "start_time": "2023-12-30T13:33:06.491842700Z"
    }
   },
   "id": "8636126e3f8de1f3"
  },
  {
   "cell_type": "code",
   "execution_count": 30,
   "outputs": [],
   "source": [
    "# informacyjne wyświetlenie rodzajów\n",
    "# warminskie_prng['rodzaj'].drop_duplicates()"
   ],
   "metadata": {
    "collapsed": false,
    "ExecuteTime": {
     "end_time": "2023-12-30T13:33:06.550770700Z",
     "start_time": "2023-12-30T13:33:06.505841500Z"
    }
   },
   "id": "44c20b7668eea4e8"
  },
  {
   "cell_type": "code",
   "execution_count": 31,
   "outputs": [
    {
     "data": {
      "text/plain": "        SIMC_id     rodzaj            nazwa  id_msc_nd  nazwa_msc_nd  \\\n71       149222       wieś          Adamowo       <NA>           NaN   \n73       157948       wieś          Adamowo       <NA>           NaN   \n79       117890       wieś          Adamowo       <NA>           NaN   \n85       471403       wieś          Adamowo       <NA>           NaN   \n92       149647  część wsi  Adamowo-Osiedle     149630  Władysławowo   \n...         ...        ...              ...        ...           ...   \n124182  1044583  część wsi     Trzech Króli     844100      Świniarc   \n124183  1044577  część wsi     Tama za Wodą     844117        Trzcin   \n124184  1044407  część wsi       Pod Mątowo     844146      Zwiniarz   \n124241  1045803  część wsi       Ostrzywilk     847280       Radomno   \n124338  1067526      osada    Turowski Młyn       <NA>           NaN   \n\n                             geometry  czy_samodzielna  \n71      POINT (517072.190 698942.620)             True  \n73      POINT (522923.230 649553.540)             True  \n79      POINT (561486.270 590967.880)             True  \n85      POINT (630835.770 669115.890)             True  \n92      POINT (521525.150 699758.410)            False  \n...                               ...              ...  \n124182  POINT (552390.880 620035.670)            False  \n124183  POINT (549613.840 611421.500)            False  \n124184  POINT (555161.830 618831.980)            False  \n124241  POINT (537562.224 628117.656)            False  \n124338  POINT (579057.870 622015.670)             True  \n\n[4546 rows x 7 columns]",
      "text/html": "<div>\n<style scoped>\n    .dataframe tbody tr th:only-of-type {\n        vertical-align: middle;\n    }\n\n    .dataframe tbody tr th {\n        vertical-align: top;\n    }\n\n    .dataframe thead th {\n        text-align: right;\n    }\n</style>\n<table border=\"1\" class=\"dataframe\">\n  <thead>\n    <tr style=\"text-align: right;\">\n      <th></th>\n      <th>SIMC_id</th>\n      <th>rodzaj</th>\n      <th>nazwa</th>\n      <th>id_msc_nd</th>\n      <th>nazwa_msc_nd</th>\n      <th>geometry</th>\n      <th>czy_samodzielna</th>\n    </tr>\n  </thead>\n  <tbody>\n    <tr>\n      <th>71</th>\n      <td>149222</td>\n      <td>wieś</td>\n      <td>Adamowo</td>\n      <td>&lt;NA&gt;</td>\n      <td>NaN</td>\n      <td>POINT (517072.190 698942.620)</td>\n      <td>True</td>\n    </tr>\n    <tr>\n      <th>73</th>\n      <td>157948</td>\n      <td>wieś</td>\n      <td>Adamowo</td>\n      <td>&lt;NA&gt;</td>\n      <td>NaN</td>\n      <td>POINT (522923.230 649553.540)</td>\n      <td>True</td>\n    </tr>\n    <tr>\n      <th>79</th>\n      <td>117890</td>\n      <td>wieś</td>\n      <td>Adamowo</td>\n      <td>&lt;NA&gt;</td>\n      <td>NaN</td>\n      <td>POINT (561486.270 590967.880)</td>\n      <td>True</td>\n    </tr>\n    <tr>\n      <th>85</th>\n      <td>471403</td>\n      <td>wieś</td>\n      <td>Adamowo</td>\n      <td>&lt;NA&gt;</td>\n      <td>NaN</td>\n      <td>POINT (630835.770 669115.890)</td>\n      <td>True</td>\n    </tr>\n    <tr>\n      <th>92</th>\n      <td>149647</td>\n      <td>część wsi</td>\n      <td>Adamowo-Osiedle</td>\n      <td>149630</td>\n      <td>Władysławowo</td>\n      <td>POINT (521525.150 699758.410)</td>\n      <td>False</td>\n    </tr>\n    <tr>\n      <th>...</th>\n      <td>...</td>\n      <td>...</td>\n      <td>...</td>\n      <td>...</td>\n      <td>...</td>\n      <td>...</td>\n      <td>...</td>\n    </tr>\n    <tr>\n      <th>124182</th>\n      <td>1044583</td>\n      <td>część wsi</td>\n      <td>Trzech Króli</td>\n      <td>844100</td>\n      <td>Świniarc</td>\n      <td>POINT (552390.880 620035.670)</td>\n      <td>False</td>\n    </tr>\n    <tr>\n      <th>124183</th>\n      <td>1044577</td>\n      <td>część wsi</td>\n      <td>Tama za Wodą</td>\n      <td>844117</td>\n      <td>Trzcin</td>\n      <td>POINT (549613.840 611421.500)</td>\n      <td>False</td>\n    </tr>\n    <tr>\n      <th>124184</th>\n      <td>1044407</td>\n      <td>część wsi</td>\n      <td>Pod Mątowo</td>\n      <td>844146</td>\n      <td>Zwiniarz</td>\n      <td>POINT (555161.830 618831.980)</td>\n      <td>False</td>\n    </tr>\n    <tr>\n      <th>124241</th>\n      <td>1045803</td>\n      <td>część wsi</td>\n      <td>Ostrzywilk</td>\n      <td>847280</td>\n      <td>Radomno</td>\n      <td>POINT (537562.224 628117.656)</td>\n      <td>False</td>\n    </tr>\n    <tr>\n      <th>124338</th>\n      <td>1067526</td>\n      <td>osada</td>\n      <td>Turowski Młyn</td>\n      <td>&lt;NA&gt;</td>\n      <td>NaN</td>\n      <td>POINT (579057.870 622015.670)</td>\n      <td>True</td>\n    </tr>\n  </tbody>\n</table>\n<p>4546 rows × 7 columns</p>\n</div>"
     },
     "execution_count": 31,
     "metadata": {},
     "output_type": "execute_result"
    }
   ],
   "source": [
    "# dodanie kolumny czy_samodzielna\n",
    "warminskie_prng['czy_samodzielna'] = [True if pd.isna(id_msc_nd) else False for id_msc_nd in warminskie_prng['id_msc_nd']]\n",
    "warminskie_prng"
   ],
   "metadata": {
    "collapsed": false,
    "ExecuteTime": {
     "end_time": "2023-12-30T13:33:21.001927600Z",
     "start_time": "2023-12-30T13:33:20.948769300Z"
    }
   },
   "id": "b29b58cca0c9bdb4"
  },
  {
   "cell_type": "markdown",
   "source": [
    "ograniczenie zbioru danych miejscowości tylko do tych, które mają adresację\n",
    "wyekstraktowanie danych z warstwy adresów - liczba adresów"
   ],
   "metadata": {
    "collapsed": false
   },
   "id": "da4e2afa9dc2115f"
  },
  {
   "cell_type": "code",
   "execution_count": 42,
   "outputs": [
    {
     "data": {
      "text/plain": "        TERYT     PNA  SIMC_id SIMC_nazwa ULIC_id ULIC_nazwa Numer  \\\n20655  280302  13-200  0113419     Burkat     NaN        NaN    37   \n20330  280302  13-200  0113419     Burkat     NaN        NaN    6A   \n20324  280302  13-200  0113419     Burkat     NaN        NaN    85   \n20321  280302  13-200  0113419     Burkat     NaN        NaN   25C   \n20317  280302  13-200  0113419     Burkat     NaN        NaN    54   \n\n                            geometry  \n20655  POINT (576331.144 601424.345)  \n20330  POINT (576346.545 601260.438)  \n20324  POINT (576685.443 601103.681)  \n20321  POINT (576892.119 601234.371)  \n20317  POINT (576161.963 601413.796)  ",
      "text/html": "<div>\n<style scoped>\n    .dataframe tbody tr th:only-of-type {\n        vertical-align: middle;\n    }\n\n    .dataframe tbody tr th {\n        vertical-align: top;\n    }\n\n    .dataframe thead th {\n        text-align: right;\n    }\n</style>\n<table border=\"1\" class=\"dataframe\">\n  <thead>\n    <tr style=\"text-align: right;\">\n      <th></th>\n      <th>TERYT</th>\n      <th>PNA</th>\n      <th>SIMC_id</th>\n      <th>SIMC_nazwa</th>\n      <th>ULIC_id</th>\n      <th>ULIC_nazwa</th>\n      <th>Numer</th>\n      <th>geometry</th>\n    </tr>\n  </thead>\n  <tbody>\n    <tr>\n      <th>20655</th>\n      <td>280302</td>\n      <td>13-200</td>\n      <td>0113419</td>\n      <td>Burkat</td>\n      <td>NaN</td>\n      <td>NaN</td>\n      <td>37</td>\n      <td>POINT (576331.144 601424.345)</td>\n    </tr>\n    <tr>\n      <th>20330</th>\n      <td>280302</td>\n      <td>13-200</td>\n      <td>0113419</td>\n      <td>Burkat</td>\n      <td>NaN</td>\n      <td>NaN</td>\n      <td>6A</td>\n      <td>POINT (576346.545 601260.438)</td>\n    </tr>\n    <tr>\n      <th>20324</th>\n      <td>280302</td>\n      <td>13-200</td>\n      <td>0113419</td>\n      <td>Burkat</td>\n      <td>NaN</td>\n      <td>NaN</td>\n      <td>85</td>\n      <td>POINT (576685.443 601103.681)</td>\n    </tr>\n    <tr>\n      <th>20321</th>\n      <td>280302</td>\n      <td>13-200</td>\n      <td>0113419</td>\n      <td>Burkat</td>\n      <td>NaN</td>\n      <td>NaN</td>\n      <td>25C</td>\n      <td>POINT (576892.119 601234.371)</td>\n    </tr>\n    <tr>\n      <th>20317</th>\n      <td>280302</td>\n      <td>13-200</td>\n      <td>0113419</td>\n      <td>Burkat</td>\n      <td>NaN</td>\n      <td>NaN</td>\n      <td>54</td>\n      <td>POINT (576161.963 601413.796)</td>\n    </tr>\n  </tbody>\n</table>\n</div>"
     },
     "execution_count": 42,
     "metadata": {},
     "output_type": "execute_result"
    }
   ],
   "source": [
    "# pobranie punktów adresowych\n",
    "punkty_adresowe = gpd.read_file(\"28/PRG_PunktyAdresowe_28.shp\")\n",
    "punkty_adresowe.sort_values(by='SIMC_id').head()"
   ],
   "metadata": {
    "collapsed": false,
    "ExecuteTime": {
     "end_time": "2023-12-30T16:14:33.649610Z",
     "start_time": "2023-12-30T16:14:10.918593300Z"
    }
   },
   "id": "aefef2e087838fdf"
  },
  {
   "cell_type": "code",
   "execution_count": 33,
   "outputs": [],
   "source": [
    "punkty_adresowe['SIMC_id'] = pd.to_numeric(punkty_adresowe['SIMC_id'], errors='coerce').astype('Int64')"
   ],
   "metadata": {
    "collapsed": false,
    "ExecuteTime": {
     "end_time": "2023-12-30T13:33:47.488781200Z",
     "start_time": "2023-12-30T13:33:47.367115200Z"
    }
   },
   "id": "fb617fd51a471289"
  },
  {
   "cell_type": "code",
   "execution_count": 34,
   "outputs": [],
   "source": [
    "# usunięcie adresów bez przypisania do simc (id miejscowości)\n",
    "punkty_adresowe = punkty_adresowe.dropna(subset=['SIMC_id'])"
   ],
   "metadata": {
    "collapsed": false,
    "ExecuteTime": {
     "end_time": "2023-12-30T13:33:47.602781800Z",
     "start_time": "2023-12-30T13:33:47.477782500Z"
    }
   },
   "id": "72201edb1ab4f9d4"
  },
  {
   "cell_type": "markdown",
   "source": [
    "zliczenie adresów dla miejscowości"
   ],
   "metadata": {
    "collapsed": false
   },
   "id": "8a43c50bbbf7ce4"
  },
  {
   "cell_type": "code",
   "execution_count": 35,
   "outputs": [
    {
     "data": {
      "text/plain": "      SIMC_id  liczba_adresow\n0      964465           12782\n1      932703           11603\n2      964650            3651\n3      977670            3464\n4      930609            3316\n...       ...             ...\n3825   482097               1\n3826   481650               1\n3827   481689               1\n3828   757938               1\n3829   482967               1\n\n[3830 rows x 2 columns]",
      "text/html": "<div>\n<style scoped>\n    .dataframe tbody tr th:only-of-type {\n        vertical-align: middle;\n    }\n\n    .dataframe tbody tr th {\n        vertical-align: top;\n    }\n\n    .dataframe thead th {\n        text-align: right;\n    }\n</style>\n<table border=\"1\" class=\"dataframe\">\n  <thead>\n    <tr style=\"text-align: right;\">\n      <th></th>\n      <th>SIMC_id</th>\n      <th>liczba_adresow</th>\n    </tr>\n  </thead>\n  <tbody>\n    <tr>\n      <th>0</th>\n      <td>964465</td>\n      <td>12782</td>\n    </tr>\n    <tr>\n      <th>1</th>\n      <td>932703</td>\n      <td>11603</td>\n    </tr>\n    <tr>\n      <th>2</th>\n      <td>964650</td>\n      <td>3651</td>\n    </tr>\n    <tr>\n      <th>3</th>\n      <td>977670</td>\n      <td>3464</td>\n    </tr>\n    <tr>\n      <th>4</th>\n      <td>930609</td>\n      <td>3316</td>\n    </tr>\n    <tr>\n      <th>...</th>\n      <td>...</td>\n      <td>...</td>\n    </tr>\n    <tr>\n      <th>3825</th>\n      <td>482097</td>\n      <td>1</td>\n    </tr>\n    <tr>\n      <th>3826</th>\n      <td>481650</td>\n      <td>1</td>\n    </tr>\n    <tr>\n      <th>3827</th>\n      <td>481689</td>\n      <td>1</td>\n    </tr>\n    <tr>\n      <th>3828</th>\n      <td>757938</td>\n      <td>1</td>\n    </tr>\n    <tr>\n      <th>3829</th>\n      <td>482967</td>\n      <td>1</td>\n    </tr>\n  </tbody>\n</table>\n<p>3830 rows × 2 columns</p>\n</div>"
     },
     "execution_count": 35,
     "metadata": {},
     "output_type": "execute_result"
    }
   ],
   "source": [
    "punkty_adresowe_simc = punkty_adresowe['SIMC_id'].value_counts().reset_index()\n",
    "punkty_adresowe_simc.rename(columns={'count': 'liczba_adresow'}, inplace=True)\n",
    "punkty_adresowe_simc"
   ],
   "metadata": {
    "collapsed": false,
    "ExecuteTime": {
     "end_time": "2023-12-30T13:33:47.626797400Z",
     "start_time": "2023-12-30T13:33:47.604784100Z"
    }
   },
   "id": "c0b9e4e8086af1b0"
  },
  {
   "cell_type": "code",
   "execution_count": 38,
   "outputs": [],
   "source": [
    "# stworzenie setów zawierających numery simc z warstwy adresowej i miejscowosci prng\n",
    "set_punkty_adresowe = set(punkty_adresowe['SIMC_id'])\n",
    "set_prng = set(warminskie_prng['SIMC_id'])"
   ],
   "metadata": {
    "collapsed": false,
    "ExecuteTime": {
     "end_time": "2023-12-30T13:34:35.897360800Z",
     "start_time": "2023-12-30T13:34:35.837362500Z"
    }
   },
   "id": "8efc8f2f9fa3940e"
  },
  {
   "cell_type": "code",
   "execution_count": 39,
   "outputs": [
    {
     "data": {
      "text/plain": "3778"
     },
     "execution_count": 39,
     "metadata": {},
     "output_type": "execute_result"
    }
   ],
   "source": [
    "# wyznaczenie częsci wspólnej - zależy nam tylko na miejscowościach z adresacją\n",
    "simc_z_adresacja = set_prng & set_punkty_adresowe\n",
    "len(simc_z_adresacja)"
   ],
   "metadata": {
    "collapsed": false,
    "ExecuteTime": {
     "end_time": "2023-12-30T13:34:36.441939800Z",
     "start_time": "2023-12-30T13:34:36.381194400Z"
    }
   },
   "id": "83d5a1a17bd1d277"
  },
  {
   "cell_type": "code",
   "execution_count": 40,
   "outputs": [
    {
     "data": {
      "text/plain": "        SIMC_id     rodzaj            nazwa  id_msc_nd  nazwa_msc_nd  \\\n71       149222       wieś          Adamowo       <NA>           NaN   \n73       157948       wieś          Adamowo       <NA>           NaN   \n79       117890       wieś          Adamowo       <NA>           NaN   \n85       471403       wieś          Adamowo       <NA>           NaN   \n92       149647  część wsi  Adamowo-Osiedle     149630  Władysławowo   \n...         ...        ...              ...        ...           ...   \n121305  1047050      osada           Janowo       <NA>           NaN   \n121320   764660    kolonia   Wąglik-Kolonia       <NA>           NaN   \n121737   770672    kolonia            Zajdy       <NA>           NaN   \n123350  1067147      osada      Niewiastowo       <NA>           NaN   \n124338  1067526      osada    Turowski Młyn       <NA>           NaN   \n\n                             geometry  czy_samodzielna  \n71      POINT (517072.190 698942.620)             True  \n73      POINT (522923.230 649553.540)             True  \n79      POINT (561486.270 590967.880)             True  \n85      POINT (630835.770 669115.890)             True  \n92      POINT (521525.150 699758.410)            False  \n...                               ...              ...  \n121305  POINT (565834.280 675757.940)             True  \n121320  POINT (682736.170 644304.860)             True  \n121737  POINT (724720.600 686869.290)             True  \n123350  POINT (545598.880 719970.260)             True  \n124338  POINT (579057.870 622015.670)             True  \n\n[3778 rows x 7 columns]",
      "text/html": "<div>\n<style scoped>\n    .dataframe tbody tr th:only-of-type {\n        vertical-align: middle;\n    }\n\n    .dataframe tbody tr th {\n        vertical-align: top;\n    }\n\n    .dataframe thead th {\n        text-align: right;\n    }\n</style>\n<table border=\"1\" class=\"dataframe\">\n  <thead>\n    <tr style=\"text-align: right;\">\n      <th></th>\n      <th>SIMC_id</th>\n      <th>rodzaj</th>\n      <th>nazwa</th>\n      <th>id_msc_nd</th>\n      <th>nazwa_msc_nd</th>\n      <th>geometry</th>\n      <th>czy_samodzielna</th>\n    </tr>\n  </thead>\n  <tbody>\n    <tr>\n      <th>71</th>\n      <td>149222</td>\n      <td>wieś</td>\n      <td>Adamowo</td>\n      <td>&lt;NA&gt;</td>\n      <td>NaN</td>\n      <td>POINT (517072.190 698942.620)</td>\n      <td>True</td>\n    </tr>\n    <tr>\n      <th>73</th>\n      <td>157948</td>\n      <td>wieś</td>\n      <td>Adamowo</td>\n      <td>&lt;NA&gt;</td>\n      <td>NaN</td>\n      <td>POINT (522923.230 649553.540)</td>\n      <td>True</td>\n    </tr>\n    <tr>\n      <th>79</th>\n      <td>117890</td>\n      <td>wieś</td>\n      <td>Adamowo</td>\n      <td>&lt;NA&gt;</td>\n      <td>NaN</td>\n      <td>POINT (561486.270 590967.880)</td>\n      <td>True</td>\n    </tr>\n    <tr>\n      <th>85</th>\n      <td>471403</td>\n      <td>wieś</td>\n      <td>Adamowo</td>\n      <td>&lt;NA&gt;</td>\n      <td>NaN</td>\n      <td>POINT (630835.770 669115.890)</td>\n      <td>True</td>\n    </tr>\n    <tr>\n      <th>92</th>\n      <td>149647</td>\n      <td>część wsi</td>\n      <td>Adamowo-Osiedle</td>\n      <td>149630</td>\n      <td>Władysławowo</td>\n      <td>POINT (521525.150 699758.410)</td>\n      <td>False</td>\n    </tr>\n    <tr>\n      <th>...</th>\n      <td>...</td>\n      <td>...</td>\n      <td>...</td>\n      <td>...</td>\n      <td>...</td>\n      <td>...</td>\n      <td>...</td>\n    </tr>\n    <tr>\n      <th>121305</th>\n      <td>1047050</td>\n      <td>osada</td>\n      <td>Janowo</td>\n      <td>&lt;NA&gt;</td>\n      <td>NaN</td>\n      <td>POINT (565834.280 675757.940)</td>\n      <td>True</td>\n    </tr>\n    <tr>\n      <th>121320</th>\n      <td>764660</td>\n      <td>kolonia</td>\n      <td>Wąglik-Kolonia</td>\n      <td>&lt;NA&gt;</td>\n      <td>NaN</td>\n      <td>POINT (682736.170 644304.860)</td>\n      <td>True</td>\n    </tr>\n    <tr>\n      <th>121737</th>\n      <td>770672</td>\n      <td>kolonia</td>\n      <td>Zajdy</td>\n      <td>&lt;NA&gt;</td>\n      <td>NaN</td>\n      <td>POINT (724720.600 686869.290)</td>\n      <td>True</td>\n    </tr>\n    <tr>\n      <th>123350</th>\n      <td>1067147</td>\n      <td>osada</td>\n      <td>Niewiastowo</td>\n      <td>&lt;NA&gt;</td>\n      <td>NaN</td>\n      <td>POINT (545598.880 719970.260)</td>\n      <td>True</td>\n    </tr>\n    <tr>\n      <th>124338</th>\n      <td>1067526</td>\n      <td>osada</td>\n      <td>Turowski Młyn</td>\n      <td>&lt;NA&gt;</td>\n      <td>NaN</td>\n      <td>POINT (579057.870 622015.670)</td>\n      <td>True</td>\n    </tr>\n  </tbody>\n</table>\n<p>3778 rows × 7 columns</p>\n</div>"
     },
     "execution_count": 40,
     "metadata": {},
     "output_type": "execute_result"
    }
   ],
   "source": [
    "# ograniczenie warstwy miejscowośąci tylko do tych z adresacją\n",
    "warminskie_prng = warminskie_prng[warminskie_prng['SIMC_id'].isin(simc_z_adresacja)]\n",
    "warminskie_prng"
   ],
   "metadata": {
    "collapsed": false,
    "ExecuteTime": {
     "end_time": "2023-12-30T14:55:23.195728Z",
     "start_time": "2023-12-30T14:55:23.170729300Z"
    }
   },
   "id": "f7a5056f15159687"
  },
  {
   "cell_type": "code",
   "execution_count": 41,
   "outputs": [
    {
     "data": {
      "text/plain": "       SIMC_id rodzaj      nazwa  id_msc_nd nazwa_msc_nd  \\\n8452    113419   wieś     Burkat       <NA>          NaN   \n8474    113431   wieś      Bursz       <NA>          NaN   \n17964   113448   wieś     Filice       <NA>          NaN   \n19292   113454   wieś  Gąsiorowo       <NA>          NaN   \n20403   113460   wieś   Gnojenko       <NA>          NaN   \n\n                            geometry  czy_samodzielna  \n8452   POINT (576420.870 601441.750)             True  \n8474   POINT (579272.350 591378.940)             True  \n17964  POINT (576493.650 602925.440)             True  \n19292  POINT (578289.000 615214.190)             True  \n20403  POINT (572803.900 592242.680)             True  ",
      "text/html": "<div>\n<style scoped>\n    .dataframe tbody tr th:only-of-type {\n        vertical-align: middle;\n    }\n\n    .dataframe tbody tr th {\n        vertical-align: top;\n    }\n\n    .dataframe thead th {\n        text-align: right;\n    }\n</style>\n<table border=\"1\" class=\"dataframe\">\n  <thead>\n    <tr style=\"text-align: right;\">\n      <th></th>\n      <th>SIMC_id</th>\n      <th>rodzaj</th>\n      <th>nazwa</th>\n      <th>id_msc_nd</th>\n      <th>nazwa_msc_nd</th>\n      <th>geometry</th>\n      <th>czy_samodzielna</th>\n    </tr>\n  </thead>\n  <tbody>\n    <tr>\n      <th>8452</th>\n      <td>113419</td>\n      <td>wieś</td>\n      <td>Burkat</td>\n      <td>&lt;NA&gt;</td>\n      <td>NaN</td>\n      <td>POINT (576420.870 601441.750)</td>\n      <td>True</td>\n    </tr>\n    <tr>\n      <th>8474</th>\n      <td>113431</td>\n      <td>wieś</td>\n      <td>Bursz</td>\n      <td>&lt;NA&gt;</td>\n      <td>NaN</td>\n      <td>POINT (579272.350 591378.940)</td>\n      <td>True</td>\n    </tr>\n    <tr>\n      <th>17964</th>\n      <td>113448</td>\n      <td>wieś</td>\n      <td>Filice</td>\n      <td>&lt;NA&gt;</td>\n      <td>NaN</td>\n      <td>POINT (576493.650 602925.440)</td>\n      <td>True</td>\n    </tr>\n    <tr>\n      <th>19292</th>\n      <td>113454</td>\n      <td>wieś</td>\n      <td>Gąsiorowo</td>\n      <td>&lt;NA&gt;</td>\n      <td>NaN</td>\n      <td>POINT (578289.000 615214.190)</td>\n      <td>True</td>\n    </tr>\n    <tr>\n      <th>20403</th>\n      <td>113460</td>\n      <td>wieś</td>\n      <td>Gnojenko</td>\n      <td>&lt;NA&gt;</td>\n      <td>NaN</td>\n      <td>POINT (572803.900 592242.680)</td>\n      <td>True</td>\n    </tr>\n  </tbody>\n</table>\n</div>"
     },
     "execution_count": 41,
     "metadata": {},
     "output_type": "execute_result"
    }
   ],
   "source": [
    "warminskie_prng.sort_values(by='SIMC_id').head()"
   ],
   "metadata": {
    "collapsed": false,
    "ExecuteTime": {
     "end_time": "2023-12-30T15:28:46.525658Z",
     "start_time": "2023-12-30T15:28:46.473208500Z"
    }
   },
   "id": "43dbdfeabf957a0"
  },
  {
   "cell_type": "code",
   "execution_count": 78,
   "outputs": [
    {
     "name": "stderr",
     "output_type": "stream",
     "text": [
      "C:\\Users\\agnie\\AppData\\Local\\Temp\\ipykernel_24900\\2581334392.py:2: UserWarning: Column names longer than 10 characters will be truncated when saved to ESRI Shapefile.\n",
      "  warminskie_prng.to_file(\"28/warminskie_prng_z_adresacja\")\n"
     ]
    }
   ],
   "source": [
    "# pomocnicze zapisanie do pliku\n",
    "# warminskie_prng.to_file(\"28/warminskie_prng_z_adresacja\")"
   ],
   "metadata": {
    "collapsed": false,
    "ExecuteTime": {
     "end_time": "2023-11-18T18:03:20.942425900Z",
     "start_time": "2023-11-18T18:03:20.580830900Z"
    }
   },
   "id": "d17a3062144c37f0"
  },
  {
   "cell_type": "markdown",
   "source": [
    "dodanie kolumny z liczbą adresów"
   ],
   "metadata": {
    "collapsed": false
   },
   "id": "385c1cfc82f8d653"
  },
  {
   "cell_type": "code",
   "execution_count": 18,
   "outputs": [
    {
     "data": {
      "text/plain": "      SIMC_id     rodzaj            nazwa  id_msc_nd  nazwa_msc_nd  \\\n0      149222       wieś          Adamowo       <NA>           NaN   \n1      157948       wieś          Adamowo       <NA>           NaN   \n2      117890       wieś          Adamowo       <NA>           NaN   \n3      471403       wieś          Adamowo       <NA>           NaN   \n4      149647  część wsi  Adamowo-Osiedle     149630  Władysławowo   \n...       ...        ...              ...        ...           ...   \n3773  1047050      osada           Janowo       <NA>           NaN   \n3774   764660    kolonia   Wąglik-Kolonia       <NA>           NaN   \n3775   770672    kolonia            Zajdy       <NA>           NaN   \n3776  1067147      osada      Niewiastowo       <NA>           NaN   \n3777  1067526      osada    Turowski Młyn       <NA>           NaN   \n\n                           geometry  czy_samodzielna  liczba_adresow  \n0     POINT (517072.190 698942.620)             True              21  \n1     POINT (522923.230 649553.540)             True              69  \n2     POINT (561486.270 590967.880)             True              33  \n3     POINT (630835.770 669115.890)             True              13  \n4     POINT (521525.150 699758.410)            False              26  \n...                             ...              ...             ...  \n3773  POINT (565834.280 675757.940)             True               2  \n3774  POINT (682736.170 644304.860)             True               6  \n3775  POINT (724720.600 686869.290)             True               5  \n3776  POINT (545598.880 719970.260)             True               3  \n3777  POINT (579057.870 622015.670)             True               1  \n\n[3778 rows x 8 columns]",
      "text/html": "<div>\n<style scoped>\n    .dataframe tbody tr th:only-of-type {\n        vertical-align: middle;\n    }\n\n    .dataframe tbody tr th {\n        vertical-align: top;\n    }\n\n    .dataframe thead th {\n        text-align: right;\n    }\n</style>\n<table border=\"1\" class=\"dataframe\">\n  <thead>\n    <tr style=\"text-align: right;\">\n      <th></th>\n      <th>SIMC_id</th>\n      <th>rodzaj</th>\n      <th>nazwa</th>\n      <th>id_msc_nd</th>\n      <th>nazwa_msc_nd</th>\n      <th>geometry</th>\n      <th>czy_samodzielna</th>\n      <th>liczba_adresow</th>\n    </tr>\n  </thead>\n  <tbody>\n    <tr>\n      <th>0</th>\n      <td>149222</td>\n      <td>wieś</td>\n      <td>Adamowo</td>\n      <td>&lt;NA&gt;</td>\n      <td>NaN</td>\n      <td>POINT (517072.190 698942.620)</td>\n      <td>True</td>\n      <td>21</td>\n    </tr>\n    <tr>\n      <th>1</th>\n      <td>157948</td>\n      <td>wieś</td>\n      <td>Adamowo</td>\n      <td>&lt;NA&gt;</td>\n      <td>NaN</td>\n      <td>POINT (522923.230 649553.540)</td>\n      <td>True</td>\n      <td>69</td>\n    </tr>\n    <tr>\n      <th>2</th>\n      <td>117890</td>\n      <td>wieś</td>\n      <td>Adamowo</td>\n      <td>&lt;NA&gt;</td>\n      <td>NaN</td>\n      <td>POINT (561486.270 590967.880)</td>\n      <td>True</td>\n      <td>33</td>\n    </tr>\n    <tr>\n      <th>3</th>\n      <td>471403</td>\n      <td>wieś</td>\n      <td>Adamowo</td>\n      <td>&lt;NA&gt;</td>\n      <td>NaN</td>\n      <td>POINT (630835.770 669115.890)</td>\n      <td>True</td>\n      <td>13</td>\n    </tr>\n    <tr>\n      <th>4</th>\n      <td>149647</td>\n      <td>część wsi</td>\n      <td>Adamowo-Osiedle</td>\n      <td>149630</td>\n      <td>Władysławowo</td>\n      <td>POINT (521525.150 699758.410)</td>\n      <td>False</td>\n      <td>26</td>\n    </tr>\n    <tr>\n      <th>...</th>\n      <td>...</td>\n      <td>...</td>\n      <td>...</td>\n      <td>...</td>\n      <td>...</td>\n      <td>...</td>\n      <td>...</td>\n      <td>...</td>\n    </tr>\n    <tr>\n      <th>3773</th>\n      <td>1047050</td>\n      <td>osada</td>\n      <td>Janowo</td>\n      <td>&lt;NA&gt;</td>\n      <td>NaN</td>\n      <td>POINT (565834.280 675757.940)</td>\n      <td>True</td>\n      <td>2</td>\n    </tr>\n    <tr>\n      <th>3774</th>\n      <td>764660</td>\n      <td>kolonia</td>\n      <td>Wąglik-Kolonia</td>\n      <td>&lt;NA&gt;</td>\n      <td>NaN</td>\n      <td>POINT (682736.170 644304.860)</td>\n      <td>True</td>\n      <td>6</td>\n    </tr>\n    <tr>\n      <th>3775</th>\n      <td>770672</td>\n      <td>kolonia</td>\n      <td>Zajdy</td>\n      <td>&lt;NA&gt;</td>\n      <td>NaN</td>\n      <td>POINT (724720.600 686869.290)</td>\n      <td>True</td>\n      <td>5</td>\n    </tr>\n    <tr>\n      <th>3776</th>\n      <td>1067147</td>\n      <td>osada</td>\n      <td>Niewiastowo</td>\n      <td>&lt;NA&gt;</td>\n      <td>NaN</td>\n      <td>POINT (545598.880 719970.260)</td>\n      <td>True</td>\n      <td>3</td>\n    </tr>\n    <tr>\n      <th>3777</th>\n      <td>1067526</td>\n      <td>osada</td>\n      <td>Turowski Młyn</td>\n      <td>&lt;NA&gt;</td>\n      <td>NaN</td>\n      <td>POINT (579057.870 622015.670)</td>\n      <td>True</td>\n      <td>1</td>\n    </tr>\n  </tbody>\n</table>\n<p>3778 rows × 8 columns</p>\n</div>"
     },
     "execution_count": 18,
     "metadata": {},
     "output_type": "execute_result"
    }
   ],
   "source": [
    "warminskie_prng = warminskie_prng.merge(punkty_adresowe_simc, how='left', on='SIMC_id')\n",
    "warminskie_prng"
   ],
   "metadata": {
    "collapsed": false,
    "ExecuteTime": {
     "end_time": "2023-11-19T14:32:02.416474900Z",
     "start_time": "2023-11-19T14:32:02.349133100Z"
    }
   },
   "id": "9d021003ad5cf552"
  },
  {
   "cell_type": "markdown",
   "source": [
    "wyekstraktowanie danych z warstwy granic miejscowości - liczby ludności i powierzchni"
   ],
   "metadata": {
    "collapsed": false
   },
   "id": "8e7ca214f83d6ff0"
  },
  {
   "cell_type": "code",
   "execution_count": 19,
   "outputs": [
    {
     "data": {
      "text/plain": "     TERYT                             LOKALNYID             WERSJAID  \\\n0     2801  2C98CCB7-E677-AAFE-E053-CA2BA8C0B325  2022-03-01T12:46:00   \n1     2801  2C98CCB7-E663-AAFE-E053-CA2BA8C0B325  2022-03-01T12:46:00   \n2     2801  2C98CCB7-E68D-AAFE-E053-CA2BA8C0B325  2022-03-01T12:46:00   \n3     2801  2C98CCB7-E690-AAFE-E053-CA2BA8C0B325  2022-03-01T12:46:00   \n4     2801  2C98CCB7-E66F-AAFE-E053-CA2BA8C0B325  2022-03-01T12:46:00   \n...    ...                                   ...                  ...   \n4486  2862  2BF83540-7727-83A2-E053-CC2BA8C04E93  2022-08-08T00:00:00   \n4487  2862  2BF83540-772E-83A2-E053-CC2BA8C04E93  2022-08-08T00:00:00   \n4488  2862  2BF83540-772D-83A2-E053-CC2BA8C04E93  2022-08-08T00:00:00   \n4489  2862  2BF83540-7729-83A2-E053-CC2BA8C04E93  2022-08-08T00:00:00   \n4490  2862  2BF83540-772A-83A2-E053-CC2BA8C04E93  2022-08-08T00:00:00   \n\n                     PNAZW                            GMLID   X_KOD  \\\n0     PL.PZGiK.341.BDOT10k   PL.PZGIK.BDOT10k.ADMSA.28.0177  ADMS03   \n1     PL.PZGiK.341.BDOT10k   PL.PZGIK.BDOT10k.ADMSA.28.0171  ADMS03   \n2     PL.PZGiK.341.BDOT10k   PL.PZGIK.BDOT10k.ADMSA.28.0196  ADMS03   \n3     PL.PZGiK.341.BDOT10k  PL.PZGIK.BDOT10k.ADMSA.28.01108  ADMS03   \n4     PL.PZGiK.341.BDOT10k  PL.PZGIK.BDOT10k.ADMSA.28.01228  ADMS07   \n...                    ...                              ...     ...   \n4486  PL.PZGiK.341.BDOT10k    PL.PZGIK.BDOT10k.ADMSA.28.624  ADMS02   \n4487  PL.PZGiK.341.BDOT10k   PL.PZGIK.BDOT10k.ADMSA.28.6211  ADMS02   \n4488  PL.PZGiK.341.BDOT10k    PL.PZGIK.BDOT10k.ADMSA.28.625  ADMS02   \n4489  PL.PZGiK.341.BDOT10k    PL.PZGIK.BDOT10k.ADMSA.28.627  ADMS02   \n4490  PL.PZGiK.341.BDOT10k    PL.PZGIK.BDOT10k.ADMSA.28.628  ADMS02   \n\n      X_SKRKARTO    X_SKRK_NIL    X_KATDOKG  X_DOKLGEOM  ... EM_LOKID  \\\n0            NaN  inapplicable     dokladny         NaN  ...  0474382   \n1            NaN  inapplicable     dokladny         NaN  ...  0474324   \n2            NaN  inapplicable     dokladny         NaN  ...  0474442   \n3            NaN  inapplicable     dokladny         NaN  ...  0474465   \n4            NaN  inapplicable  przyblizony         NaN  ...  0474420   \n...          ...           ...          ...         ...  ...      ...   \n4486         NaN  inapplicable     dokladny         NaN  ...  0964502   \n4487         NaN  inapplicable     dokladny         NaN  ...  0964531   \n4488         NaN  inapplicable     dokladny         NaN  ...  0964519   \n4489         NaN  inapplicable     dokladny         NaN  ...  0964548   \n4490         NaN  inapplicable     dokladny         NaN  ...  0964554   \n\n           EM_PNAZW  EM_WERID                            PRNG_LOKID  \\\n0      PL.ZIPIN.870       NaN                                109502   \n1      PL.ZIPIN.870       NaN                                 99197   \n2      PL.ZIPIN.870       NaN                                126609   \n3      PL.ZIPIN.870       NaN                                140116   \n4      PL.ZIPIN.870       NaN                                127660   \n...             ...       ...                                   ...   \n4486  PL.ZIPIN.5261       NaN  00000000-0000-0000-0000-000000174289   \n4487  PL.ZIPIN.5261       NaN  00000000-0000-0000-0000-000000100051   \n4488  PL.ZIPIN.5261       NaN  00000000-0000-0000-0000-000000058520   \n4489  PL.ZIPIN.5261       NaN  00000000-0000-0000-0000-000000109589   \n4490  PL.ZIPIN.5261       NaN  00000000-0000-0000-0000-000000180600   \n\n             PRNG_PNAZW PRNG_WERID        area                         layer  \\\n0     PL.PZGiK.204.PRNG        NaN  2773713.13  PL.PZGiK.341.2801__OT_ADMS_A   \n1     PL.PZGiK.204.PRNG        NaN  6744120.39  PL.PZGiK.341.2801__OT_ADMS_A   \n2     PL.PZGiK.204.PRNG        NaN  7996737.92  PL.PZGiK.341.2801__OT_ADMS_A   \n3     PL.PZGiK.204.PRNG        NaN  3882361.42  PL.PZGiK.341.2801__OT_ADMS_A   \n4     PL.PZGiK.204.PRNG        NaN   129325.10  PL.PZGiK.341.2801__OT_ADMS_A   \n...                 ...        ...         ...                           ...   \n4486  PL.PZGiK.320.NGRP        NaN   252852.44  PL.PZGiK.341.2862__OT_ADMS_A   \n4487  PL.PZGiK.320.NGRP        NaN  1829590.94  PL.PZGiK.341.2862__OT_ADMS_A   \n4488  PL.PZGiK.320.NGRP        NaN  2654590.12  PL.PZGiK.341.2862__OT_ADMS_A   \n4489  PL.PZGiK.320.NGRP        NaN    78172.33  PL.PZGiK.341.2862__OT_ADMS_A   \n4490  PL.PZGiK.320.NGRP        NaN    62972.27  PL.PZGiK.341.2862__OT_ADMS_A   \n\n                                                   path  \\\n0     C:\\studia\\pracka\\28_SHP\\28\\2801_SHP\\PL.PZGiK.3...   \n1     C:\\studia\\pracka\\28_SHP\\28\\2801_SHP\\PL.PZGiK.3...   \n2     C:\\studia\\pracka\\28_SHP\\28\\2801_SHP\\PL.PZGiK.3...   \n3     C:\\studia\\pracka\\28_SHP\\28\\2801_SHP\\PL.PZGiK.3...   \n4     C:\\studia\\pracka\\28_SHP\\28\\2801_SHP\\PL.PZGiK.3...   \n...                                                 ...   \n4486  C:\\studia\\pracka\\28_SHP\\28\\2862_SHP\\PL.PZGiK.3...   \n4487  C:\\studia\\pracka\\28_SHP\\28\\2862_SHP\\PL.PZGiK.3...   \n4488  C:\\studia\\pracka\\28_SHP\\28\\2862_SHP\\PL.PZGiK.3...   \n4489  C:\\studia\\pracka\\28_SHP\\28\\2862_SHP\\PL.PZGiK.3...   \n4490  C:\\studia\\pracka\\28_SHP\\28\\2862_SHP\\PL.PZGiK.3...   \n\n                                               geometry  \n0     POLYGON ((602428.650 708821.710, 602501.620 70...  \n1     POLYGON ((600581.150 708206.820, 600756.320 70...  \n2     POLYGON ((597062.200 717054.300, 597160.520 71...  \n3     POLYGON ((602589.080 723526.660, 602670.420 72...  \n4     POLYGON ((599604.680 721448.040, 599629.000 72...  \n...                                                 ...  \n4486  POLYGON ((600044.410 660927.390, 600046.960 66...  \n4487  POLYGON ((599076.590 655343.340, 599104.600 65...  \n4488  POLYGON ((596373.400 656082.910, 596356.220 65...  \n4489  POLYGON ((597088.690 655546.650, 597090.000 65...  \n4490  POLYGON ((595416.370 654388.230, 595420.670 65...  \n\n[4491 rows x 55 columns]",
      "text/html": "<div>\n<style scoped>\n    .dataframe tbody tr th:only-of-type {\n        vertical-align: middle;\n    }\n\n    .dataframe tbody tr th {\n        vertical-align: top;\n    }\n\n    .dataframe thead th {\n        text-align: right;\n    }\n</style>\n<table border=\"1\" class=\"dataframe\">\n  <thead>\n    <tr style=\"text-align: right;\">\n      <th></th>\n      <th>TERYT</th>\n      <th>LOKALNYID</th>\n      <th>WERSJAID</th>\n      <th>PNAZW</th>\n      <th>GMLID</th>\n      <th>X_KOD</th>\n      <th>X_SKRKARTO</th>\n      <th>X_SKRK_NIL</th>\n      <th>X_KATDOKG</th>\n      <th>X_DOKLGEOM</th>\n      <th>...</th>\n      <th>EM_LOKID</th>\n      <th>EM_PNAZW</th>\n      <th>EM_WERID</th>\n      <th>PRNG_LOKID</th>\n      <th>PRNG_PNAZW</th>\n      <th>PRNG_WERID</th>\n      <th>area</th>\n      <th>layer</th>\n      <th>path</th>\n      <th>geometry</th>\n    </tr>\n  </thead>\n  <tbody>\n    <tr>\n      <th>0</th>\n      <td>2801</td>\n      <td>2C98CCB7-E677-AAFE-E053-CA2BA8C0B325</td>\n      <td>2022-03-01T12:46:00</td>\n      <td>PL.PZGiK.341.BDOT10k</td>\n      <td>PL.PZGIK.BDOT10k.ADMSA.28.0177</td>\n      <td>ADMS03</td>\n      <td>NaN</td>\n      <td>inapplicable</td>\n      <td>dokladny</td>\n      <td>NaN</td>\n      <td>...</td>\n      <td>0474382</td>\n      <td>PL.ZIPIN.870</td>\n      <td>NaN</td>\n      <td>109502</td>\n      <td>PL.PZGiK.204.PRNG</td>\n      <td>NaN</td>\n      <td>2773713.13</td>\n      <td>PL.PZGiK.341.2801__OT_ADMS_A</td>\n      <td>C:\\studia\\pracka\\28_SHP\\28\\2801_SHP\\PL.PZGiK.3...</td>\n      <td>POLYGON ((602428.650 708821.710, 602501.620 70...</td>\n    </tr>\n    <tr>\n      <th>1</th>\n      <td>2801</td>\n      <td>2C98CCB7-E663-AAFE-E053-CA2BA8C0B325</td>\n      <td>2022-03-01T12:46:00</td>\n      <td>PL.PZGiK.341.BDOT10k</td>\n      <td>PL.PZGIK.BDOT10k.ADMSA.28.0171</td>\n      <td>ADMS03</td>\n      <td>NaN</td>\n      <td>inapplicable</td>\n      <td>dokladny</td>\n      <td>NaN</td>\n      <td>...</td>\n      <td>0474324</td>\n      <td>PL.ZIPIN.870</td>\n      <td>NaN</td>\n      <td>99197</td>\n      <td>PL.PZGiK.204.PRNG</td>\n      <td>NaN</td>\n      <td>6744120.39</td>\n      <td>PL.PZGiK.341.2801__OT_ADMS_A</td>\n      <td>C:\\studia\\pracka\\28_SHP\\28\\2801_SHP\\PL.PZGiK.3...</td>\n      <td>POLYGON ((600581.150 708206.820, 600756.320 70...</td>\n    </tr>\n    <tr>\n      <th>2</th>\n      <td>2801</td>\n      <td>2C98CCB7-E68D-AAFE-E053-CA2BA8C0B325</td>\n      <td>2022-03-01T12:46:00</td>\n      <td>PL.PZGiK.341.BDOT10k</td>\n      <td>PL.PZGIK.BDOT10k.ADMSA.28.0196</td>\n      <td>ADMS03</td>\n      <td>NaN</td>\n      <td>inapplicable</td>\n      <td>dokladny</td>\n      <td>NaN</td>\n      <td>...</td>\n      <td>0474442</td>\n      <td>PL.ZIPIN.870</td>\n      <td>NaN</td>\n      <td>126609</td>\n      <td>PL.PZGiK.204.PRNG</td>\n      <td>NaN</td>\n      <td>7996737.92</td>\n      <td>PL.PZGiK.341.2801__OT_ADMS_A</td>\n      <td>C:\\studia\\pracka\\28_SHP\\28\\2801_SHP\\PL.PZGiK.3...</td>\n      <td>POLYGON ((597062.200 717054.300, 597160.520 71...</td>\n    </tr>\n    <tr>\n      <th>3</th>\n      <td>2801</td>\n      <td>2C98CCB7-E690-AAFE-E053-CA2BA8C0B325</td>\n      <td>2022-03-01T12:46:00</td>\n      <td>PL.PZGiK.341.BDOT10k</td>\n      <td>PL.PZGIK.BDOT10k.ADMSA.28.01108</td>\n      <td>ADMS03</td>\n      <td>NaN</td>\n      <td>inapplicable</td>\n      <td>dokladny</td>\n      <td>NaN</td>\n      <td>...</td>\n      <td>0474465</td>\n      <td>PL.ZIPIN.870</td>\n      <td>NaN</td>\n      <td>140116</td>\n      <td>PL.PZGiK.204.PRNG</td>\n      <td>NaN</td>\n      <td>3882361.42</td>\n      <td>PL.PZGiK.341.2801__OT_ADMS_A</td>\n      <td>C:\\studia\\pracka\\28_SHP\\28\\2801_SHP\\PL.PZGiK.3...</td>\n      <td>POLYGON ((602589.080 723526.660, 602670.420 72...</td>\n    </tr>\n    <tr>\n      <th>4</th>\n      <td>2801</td>\n      <td>2C98CCB7-E66F-AAFE-E053-CA2BA8C0B325</td>\n      <td>2022-03-01T12:46:00</td>\n      <td>PL.PZGiK.341.BDOT10k</td>\n      <td>PL.PZGIK.BDOT10k.ADMSA.28.01228</td>\n      <td>ADMS07</td>\n      <td>NaN</td>\n      <td>inapplicable</td>\n      <td>przyblizony</td>\n      <td>NaN</td>\n      <td>...</td>\n      <td>0474420</td>\n      <td>PL.ZIPIN.870</td>\n      <td>NaN</td>\n      <td>127660</td>\n      <td>PL.PZGiK.204.PRNG</td>\n      <td>NaN</td>\n      <td>129325.10</td>\n      <td>PL.PZGiK.341.2801__OT_ADMS_A</td>\n      <td>C:\\studia\\pracka\\28_SHP\\28\\2801_SHP\\PL.PZGiK.3...</td>\n      <td>POLYGON ((599604.680 721448.040, 599629.000 72...</td>\n    </tr>\n    <tr>\n      <th>...</th>\n      <td>...</td>\n      <td>...</td>\n      <td>...</td>\n      <td>...</td>\n      <td>...</td>\n      <td>...</td>\n      <td>...</td>\n      <td>...</td>\n      <td>...</td>\n      <td>...</td>\n      <td>...</td>\n      <td>...</td>\n      <td>...</td>\n      <td>...</td>\n      <td>...</td>\n      <td>...</td>\n      <td>...</td>\n      <td>...</td>\n      <td>...</td>\n      <td>...</td>\n      <td>...</td>\n    </tr>\n    <tr>\n      <th>4486</th>\n      <td>2862</td>\n      <td>2BF83540-7727-83A2-E053-CC2BA8C04E93</td>\n      <td>2022-08-08T00:00:00</td>\n      <td>PL.PZGiK.341.BDOT10k</td>\n      <td>PL.PZGIK.BDOT10k.ADMSA.28.624</td>\n      <td>ADMS02</td>\n      <td>NaN</td>\n      <td>inapplicable</td>\n      <td>dokladny</td>\n      <td>NaN</td>\n      <td>...</td>\n      <td>0964502</td>\n      <td>PL.ZIPIN.5261</td>\n      <td>NaN</td>\n      <td>00000000-0000-0000-0000-000000174289</td>\n      <td>PL.PZGiK.320.NGRP</td>\n      <td>NaN</td>\n      <td>252852.44</td>\n      <td>PL.PZGiK.341.2862__OT_ADMS_A</td>\n      <td>C:\\studia\\pracka\\28_SHP\\28\\2862_SHP\\PL.PZGiK.3...</td>\n      <td>POLYGON ((600044.410 660927.390, 600046.960 66...</td>\n    </tr>\n    <tr>\n      <th>4487</th>\n      <td>2862</td>\n      <td>2BF83540-772E-83A2-E053-CC2BA8C04E93</td>\n      <td>2022-08-08T00:00:00</td>\n      <td>PL.PZGiK.341.BDOT10k</td>\n      <td>PL.PZGIK.BDOT10k.ADMSA.28.6211</td>\n      <td>ADMS02</td>\n      <td>NaN</td>\n      <td>inapplicable</td>\n      <td>dokladny</td>\n      <td>NaN</td>\n      <td>...</td>\n      <td>0964531</td>\n      <td>PL.ZIPIN.5261</td>\n      <td>NaN</td>\n      <td>00000000-0000-0000-0000-000000100051</td>\n      <td>PL.PZGiK.320.NGRP</td>\n      <td>NaN</td>\n      <td>1829590.94</td>\n      <td>PL.PZGiK.341.2862__OT_ADMS_A</td>\n      <td>C:\\studia\\pracka\\28_SHP\\28\\2862_SHP\\PL.PZGiK.3...</td>\n      <td>POLYGON ((599076.590 655343.340, 599104.600 65...</td>\n    </tr>\n    <tr>\n      <th>4488</th>\n      <td>2862</td>\n      <td>2BF83540-772D-83A2-E053-CC2BA8C04E93</td>\n      <td>2022-08-08T00:00:00</td>\n      <td>PL.PZGiK.341.BDOT10k</td>\n      <td>PL.PZGIK.BDOT10k.ADMSA.28.625</td>\n      <td>ADMS02</td>\n      <td>NaN</td>\n      <td>inapplicable</td>\n      <td>dokladny</td>\n      <td>NaN</td>\n      <td>...</td>\n      <td>0964519</td>\n      <td>PL.ZIPIN.5261</td>\n      <td>NaN</td>\n      <td>00000000-0000-0000-0000-000000058520</td>\n      <td>PL.PZGiK.320.NGRP</td>\n      <td>NaN</td>\n      <td>2654590.12</td>\n      <td>PL.PZGiK.341.2862__OT_ADMS_A</td>\n      <td>C:\\studia\\pracka\\28_SHP\\28\\2862_SHP\\PL.PZGiK.3...</td>\n      <td>POLYGON ((596373.400 656082.910, 596356.220 65...</td>\n    </tr>\n    <tr>\n      <th>4489</th>\n      <td>2862</td>\n      <td>2BF83540-7729-83A2-E053-CC2BA8C04E93</td>\n      <td>2022-08-08T00:00:00</td>\n      <td>PL.PZGiK.341.BDOT10k</td>\n      <td>PL.PZGIK.BDOT10k.ADMSA.28.627</td>\n      <td>ADMS02</td>\n      <td>NaN</td>\n      <td>inapplicable</td>\n      <td>dokladny</td>\n      <td>NaN</td>\n      <td>...</td>\n      <td>0964548</td>\n      <td>PL.ZIPIN.5261</td>\n      <td>NaN</td>\n      <td>00000000-0000-0000-0000-000000109589</td>\n      <td>PL.PZGiK.320.NGRP</td>\n      <td>NaN</td>\n      <td>78172.33</td>\n      <td>PL.PZGiK.341.2862__OT_ADMS_A</td>\n      <td>C:\\studia\\pracka\\28_SHP\\28\\2862_SHP\\PL.PZGiK.3...</td>\n      <td>POLYGON ((597088.690 655546.650, 597090.000 65...</td>\n    </tr>\n    <tr>\n      <th>4490</th>\n      <td>2862</td>\n      <td>2BF83540-772A-83A2-E053-CC2BA8C04E93</td>\n      <td>2022-08-08T00:00:00</td>\n      <td>PL.PZGiK.341.BDOT10k</td>\n      <td>PL.PZGIK.BDOT10k.ADMSA.28.628</td>\n      <td>ADMS02</td>\n      <td>NaN</td>\n      <td>inapplicable</td>\n      <td>dokladny</td>\n      <td>NaN</td>\n      <td>...</td>\n      <td>0964554</td>\n      <td>PL.ZIPIN.5261</td>\n      <td>NaN</td>\n      <td>00000000-0000-0000-0000-000000180600</td>\n      <td>PL.PZGiK.320.NGRP</td>\n      <td>NaN</td>\n      <td>62972.27</td>\n      <td>PL.PZGiK.341.2862__OT_ADMS_A</td>\n      <td>C:\\studia\\pracka\\28_SHP\\28\\2862_SHP\\PL.PZGiK.3...</td>\n      <td>POLYGON ((595416.370 654388.230, 595420.670 65...</td>\n    </tr>\n  </tbody>\n</table>\n<p>4491 rows × 55 columns</p>\n</div>"
     },
     "execution_count": 19,
     "metadata": {},
     "output_type": "execute_result"
    }
   ],
   "source": [
    "# wczytanie granic miejscowości - warstwa poligonowa\n",
    "granice_miejscowosci = gpd.read_file('28/warminskie_granice_miejscowosci.shp')\n",
    "granice_miejscowosci"
   ],
   "metadata": {
    "collapsed": false,
    "ExecuteTime": {
     "end_time": "2023-11-19T14:32:09.130791100Z",
     "start_time": "2023-11-19T14:32:05.915711400Z"
    }
   },
   "id": "595d3660e442d717"
  },
  {
   "cell_type": "code",
   "execution_count": 20,
   "outputs": [],
   "source": [
    "# zmiana typu i nazwy kolumny klucza\n",
    "granice_miejscowosci['IDTERYTMSC'] = pd.to_numeric(granice_miejscowosci['IDTERYTMSC'], errors='coerce').astype('Int64')\n",
    "granice_miejscowosci.rename(columns={'IDTERYTMSC': 'SIMC_id'}, inplace=True)"
   ],
   "metadata": {
    "collapsed": false,
    "ExecuteTime": {
     "end_time": "2023-11-19T14:32:23.632974100Z",
     "start_time": "2023-11-19T14:32:23.615978800Z"
    }
   },
   "id": "77f91ebee364353"
  },
  {
   "cell_type": "code",
   "execution_count": 21,
   "outputs": [
    {
     "data": {
      "text/plain": "4482"
     },
     "execution_count": 21,
     "metadata": {},
     "output_type": "execute_result"
    }
   ],
   "source": [
    "# set z simc występującymi w warstwie granic miejscowości\n",
    "set_granice_miejscowosci = set(granice_miejscowosci['SIMC_id'])\n",
    "len(set_granice_miejscowosci)"
   ],
   "metadata": {
    "collapsed": false,
    "ExecuteTime": {
     "end_time": "2023-11-19T14:32:24.153276400Z",
     "start_time": "2023-11-19T14:32:24.125120700Z"
    }
   },
   "id": "ab7165793b507c32"
  },
  {
   "cell_type": "markdown",
   "source": [
    "stworzenie nowej warstwy pomocniczej - granice miejscowości z adresacją"
   ],
   "metadata": {
    "collapsed": false
   },
   "id": "659a0a0dbd7c2c9"
  },
  {
   "cell_type": "code",
   "execution_count": 22,
   "outputs": [
    {
     "data": {
      "text/plain": "3764"
     },
     "execution_count": 22,
     "metadata": {},
     "output_type": "execute_result"
    }
   ],
   "source": [
    "set_granice_prng = simc_z_adresacja & set_granice_miejscowosci\n",
    "len(set_granice_prng) # niektóre wartości simc się powtarzają, ale nie ma duplikatów w tabeli z granicami"
   ],
   "metadata": {
    "collapsed": false,
    "ExecuteTime": {
     "end_time": "2023-11-19T14:32:26.445408400Z",
     "start_time": "2023-11-19T14:32:26.412040200Z"
    }
   },
   "id": "7bdd2ac89340ffe0"
  },
  {
   "cell_type": "code",
   "execution_count": 23,
   "outputs": [
    {
     "name": "stderr",
     "output_type": "stream",
     "text": [
      "C:\\Users\\agnie\\AppData\\Local\\Temp\\ipykernel_17996\\3038510844.py:2: SettingWithCopyWarning: \n",
      "A value is trying to be set on a copy of a slice from a DataFrame\n",
      "\n",
      "See the caveats in the documentation: https://pandas.pydata.org/pandas-docs/stable/user_guide/indexing.html#returning-a-view-versus-a-copy\n",
      "  granice_miejscowosci_pomoc.drop_duplicates(inplace=True)\n"
     ]
    },
    {
     "data": {
      "text/plain": "     TERYT                             LOKALNYID             WERSJAID  \\\n0     2801  2C98CCB7-E677-AAFE-E053-CA2BA8C0B325  2022-03-01T12:46:00   \n1     2801  2C98CCB7-E663-AAFE-E053-CA2BA8C0B325  2022-03-01T12:46:00   \n2     2801  2C98CCB7-E68D-AAFE-E053-CA2BA8C0B325  2022-03-01T12:46:00   \n3     2801  2C98CCB7-E690-AAFE-E053-CA2BA8C0B325  2022-03-01T12:46:00   \n4     2801  2C98CCB7-E66F-AAFE-E053-CA2BA8C0B325  2022-03-01T12:46:00   \n...    ...                                   ...                  ...   \n4460  2819  311304D1-499A-B2CD-E053-CC2BA8C0FE3A  2021-10-06T13:36:00   \n4461  2819  311304D1-4996-B2CD-E053-CC2BA8C0FE3A  2021-10-06T13:36:00   \n4462  2819  311304D1-49C6-B2CD-E053-CC2BA8C0FE3A  2021-10-06T13:36:00   \n4464  2819  311304D1-49D7-B2CD-E053-CC2BA8C0FE3A  2021-10-06T13:36:00   \n4465  2819  311304D1-497C-B2CD-E053-CC2BA8C0FE3A  2021-10-06T13:36:00   \n\n                     PNAZW                            GMLID   X_KOD  \\\n0     PL.PZGiK.341.BDOT10k   PL.PZGIK.BDOT10k.ADMSA.28.0177  ADMS03   \n1     PL.PZGiK.341.BDOT10k   PL.PZGIK.BDOT10k.ADMSA.28.0171  ADMS03   \n2     PL.PZGiK.341.BDOT10k   PL.PZGIK.BDOT10k.ADMSA.28.0196  ADMS03   \n3     PL.PZGiK.341.BDOT10k  PL.PZGIK.BDOT10k.ADMSA.28.01108  ADMS03   \n4     PL.PZGiK.341.BDOT10k  PL.PZGIK.BDOT10k.ADMSA.28.01228  ADMS07   \n...                    ...                              ...     ...   \n4460  PL.PZGiK.341.BDOT10k                    OT_ADMS_A.104  ADMS03   \n4461  PL.PZGiK.341.BDOT10k                    OT_ADMS_A.103  ADMS03   \n4462  PL.PZGiK.341.BDOT10k                    OT_ADMS_A.116  ADMS07   \n4464  PL.PZGiK.341.BDOT10k                     OT_ADMS_A.47  ADMS07   \n4465  PL.PZGiK.341.BDOT10k                     OT_ADMS_A.97  ADMS03   \n\n      X_SKRKARTO    X_SKRK_NIL    X_KATDOKG  X_DOKLGEOM  ... EM_LOKID  \\\n0            NaN  inapplicable     dokladny         NaN  ...  0474382   \n1            NaN  inapplicable     dokladny         NaN  ...  0474324   \n2            NaN  inapplicable     dokladny         NaN  ...  0474442   \n3            NaN  inapplicable     dokladny         NaN  ...  0474465   \n4            NaN  inapplicable  przyblizony         NaN  ...  0474420   \n...          ...           ...          ...         ...  ...      ...   \n4460         NaN  inapplicable     dokladny         1.0  ...   765116   \n4461         NaN  inapplicable     dokladny         1.0  ...   770979   \n4462         NaN  inapplicable     dokladny         1.0  ...   771341   \n4464         NaN  inapplicable     dokladny         1.0  ...   755632   \n4465         NaN  inapplicable     dokladny         1.0  ...   755655   \n\n           EM_PNAZW  EM_WERID                            PRNG_LOKID  \\\n0      PL.ZIPIN.870       NaN                                109502   \n1      PL.ZIPIN.870       NaN                                 99197   \n2      PL.ZIPIN.870       NaN                                126609   \n3      PL.ZIPIN.870       NaN                                140116   \n4      PL.ZIPIN.870       NaN                                127660   \n...             ...       ...                                   ...   \n4460  PL.ZIPIN.1943       NaN  00000000-0000-0000-0000-000000040858   \n4461   PL.ZIPIN.903       NaN  00000000-0000-0000-0000-000000040171   \n4462   PL.ZIPIN.903       NaN  00000000-0000-0000-0000-000000133740   \n4464   PL.ZIPIN.902       NaN  00000000-0000-0000-0000-000000026309   \n4465   PL.ZIPIN.902       NaN  00000000-0000-0000-0000-000000155113   \n\n             PRNG_PNAZW PRNG_WERID         area                         layer  \\\n0     PL.PZGiK.204.PRNG        NaN   2773713.13  PL.PZGiK.341.2801__OT_ADMS_A   \n1     PL.PZGiK.204.PRNG        NaN   6744120.39  PL.PZGiK.341.2801__OT_ADMS_A   \n2     PL.PZGiK.204.PRNG        NaN   7996737.92  PL.PZGiK.341.2801__OT_ADMS_A   \n3     PL.PZGiK.204.PRNG        NaN   3882361.42  PL.PZGiK.341.2801__OT_ADMS_A   \n4     PL.PZGiK.204.PRNG        NaN    129325.10  PL.PZGiK.341.2801__OT_ADMS_A   \n...                 ...        ...          ...                           ...   \n4460  PL.PZGiK.204.PRNG        NaN  47631769.37  PL.PZGiK.341.2819__OT_ADMS_A   \n4461  PL.PZGiK.204.PRNG        NaN  22742342.71  PL.PZGiK.341.2819__OT_ADMS_A   \n4462  PL.PZGiK.204.PRNG        NaN   3079021.72  PL.PZGiK.341.2819__OT_ADMS_A   \n4464  PL.PZGiK.204.PRNG        NaN   2833038.18  PL.PZGiK.341.2819__OT_ADMS_A   \n4465  PL.PZGiK.204.PRNG        NaN  10672686.84  PL.PZGiK.341.2819__OT_ADMS_A   \n\n                                                   path  \\\n0     C:\\studia\\pracka\\28_SHP\\28\\2801_SHP\\PL.PZGiK.3...   \n1     C:\\studia\\pracka\\28_SHP\\28\\2801_SHP\\PL.PZGiK.3...   \n2     C:\\studia\\pracka\\28_SHP\\28\\2801_SHP\\PL.PZGiK.3...   \n3     C:\\studia\\pracka\\28_SHP\\28\\2801_SHP\\PL.PZGiK.3...   \n4     C:\\studia\\pracka\\28_SHP\\28\\2801_SHP\\PL.PZGiK.3...   \n...                                                 ...   \n4460  C:\\studia\\pracka\\28_SHP\\28\\2819_SHP\\PL.PZGiK.3...   \n4461  C:\\studia\\pracka\\28_SHP\\28\\2819_SHP\\PL.PZGiK.3...   \n4462  C:\\studia\\pracka\\28_SHP\\28\\2819_SHP\\PL.PZGiK.3...   \n4464  C:\\studia\\pracka\\28_SHP\\28\\2819_SHP\\PL.PZGiK.3...   \n4465  C:\\studia\\pracka\\28_SHP\\28\\2819_SHP\\PL.PZGiK.3...   \n\n                                               geometry  \n0     POLYGON ((602428.650 708821.710, 602501.620 70...  \n1     POLYGON ((600581.150 708206.820, 600756.320 70...  \n2     POLYGON ((597062.200 717054.300, 597160.520 71...  \n3     POLYGON ((602589.080 723526.660, 602670.420 72...  \n4     POLYGON ((599604.680 721448.040, 599629.000 72...  \n...                                                 ...  \n4460  POLYGON ((682986.450 703211.410, 682991.700 70...  \n4461  POLYGON ((667907.680 715869.080, 667852.960 71...  \n4462  POLYGON ((669232.280 706589.380, 669260.150 70...  \n4464  POLYGON ((682807.210 712243.900, 682802.600 71...  \n4465  POLYGON ((689125.400 722718.000, 689362.360 72...  \n\n[3773 rows x 55 columns]",
      "text/html": "<div>\n<style scoped>\n    .dataframe tbody tr th:only-of-type {\n        vertical-align: middle;\n    }\n\n    .dataframe tbody tr th {\n        vertical-align: top;\n    }\n\n    .dataframe thead th {\n        text-align: right;\n    }\n</style>\n<table border=\"1\" class=\"dataframe\">\n  <thead>\n    <tr style=\"text-align: right;\">\n      <th></th>\n      <th>TERYT</th>\n      <th>LOKALNYID</th>\n      <th>WERSJAID</th>\n      <th>PNAZW</th>\n      <th>GMLID</th>\n      <th>X_KOD</th>\n      <th>X_SKRKARTO</th>\n      <th>X_SKRK_NIL</th>\n      <th>X_KATDOKG</th>\n      <th>X_DOKLGEOM</th>\n      <th>...</th>\n      <th>EM_LOKID</th>\n      <th>EM_PNAZW</th>\n      <th>EM_WERID</th>\n      <th>PRNG_LOKID</th>\n      <th>PRNG_PNAZW</th>\n      <th>PRNG_WERID</th>\n      <th>area</th>\n      <th>layer</th>\n      <th>path</th>\n      <th>geometry</th>\n    </tr>\n  </thead>\n  <tbody>\n    <tr>\n      <th>0</th>\n      <td>2801</td>\n      <td>2C98CCB7-E677-AAFE-E053-CA2BA8C0B325</td>\n      <td>2022-03-01T12:46:00</td>\n      <td>PL.PZGiK.341.BDOT10k</td>\n      <td>PL.PZGIK.BDOT10k.ADMSA.28.0177</td>\n      <td>ADMS03</td>\n      <td>NaN</td>\n      <td>inapplicable</td>\n      <td>dokladny</td>\n      <td>NaN</td>\n      <td>...</td>\n      <td>0474382</td>\n      <td>PL.ZIPIN.870</td>\n      <td>NaN</td>\n      <td>109502</td>\n      <td>PL.PZGiK.204.PRNG</td>\n      <td>NaN</td>\n      <td>2773713.13</td>\n      <td>PL.PZGiK.341.2801__OT_ADMS_A</td>\n      <td>C:\\studia\\pracka\\28_SHP\\28\\2801_SHP\\PL.PZGiK.3...</td>\n      <td>POLYGON ((602428.650 708821.710, 602501.620 70...</td>\n    </tr>\n    <tr>\n      <th>1</th>\n      <td>2801</td>\n      <td>2C98CCB7-E663-AAFE-E053-CA2BA8C0B325</td>\n      <td>2022-03-01T12:46:00</td>\n      <td>PL.PZGiK.341.BDOT10k</td>\n      <td>PL.PZGIK.BDOT10k.ADMSA.28.0171</td>\n      <td>ADMS03</td>\n      <td>NaN</td>\n      <td>inapplicable</td>\n      <td>dokladny</td>\n      <td>NaN</td>\n      <td>...</td>\n      <td>0474324</td>\n      <td>PL.ZIPIN.870</td>\n      <td>NaN</td>\n      <td>99197</td>\n      <td>PL.PZGiK.204.PRNG</td>\n      <td>NaN</td>\n      <td>6744120.39</td>\n      <td>PL.PZGiK.341.2801__OT_ADMS_A</td>\n      <td>C:\\studia\\pracka\\28_SHP\\28\\2801_SHP\\PL.PZGiK.3...</td>\n      <td>POLYGON ((600581.150 708206.820, 600756.320 70...</td>\n    </tr>\n    <tr>\n      <th>2</th>\n      <td>2801</td>\n      <td>2C98CCB7-E68D-AAFE-E053-CA2BA8C0B325</td>\n      <td>2022-03-01T12:46:00</td>\n      <td>PL.PZGiK.341.BDOT10k</td>\n      <td>PL.PZGIK.BDOT10k.ADMSA.28.0196</td>\n      <td>ADMS03</td>\n      <td>NaN</td>\n      <td>inapplicable</td>\n      <td>dokladny</td>\n      <td>NaN</td>\n      <td>...</td>\n      <td>0474442</td>\n      <td>PL.ZIPIN.870</td>\n      <td>NaN</td>\n      <td>126609</td>\n      <td>PL.PZGiK.204.PRNG</td>\n      <td>NaN</td>\n      <td>7996737.92</td>\n      <td>PL.PZGiK.341.2801__OT_ADMS_A</td>\n      <td>C:\\studia\\pracka\\28_SHP\\28\\2801_SHP\\PL.PZGiK.3...</td>\n      <td>POLYGON ((597062.200 717054.300, 597160.520 71...</td>\n    </tr>\n    <tr>\n      <th>3</th>\n      <td>2801</td>\n      <td>2C98CCB7-E690-AAFE-E053-CA2BA8C0B325</td>\n      <td>2022-03-01T12:46:00</td>\n      <td>PL.PZGiK.341.BDOT10k</td>\n      <td>PL.PZGIK.BDOT10k.ADMSA.28.01108</td>\n      <td>ADMS03</td>\n      <td>NaN</td>\n      <td>inapplicable</td>\n      <td>dokladny</td>\n      <td>NaN</td>\n      <td>...</td>\n      <td>0474465</td>\n      <td>PL.ZIPIN.870</td>\n      <td>NaN</td>\n      <td>140116</td>\n      <td>PL.PZGiK.204.PRNG</td>\n      <td>NaN</td>\n      <td>3882361.42</td>\n      <td>PL.PZGiK.341.2801__OT_ADMS_A</td>\n      <td>C:\\studia\\pracka\\28_SHP\\28\\2801_SHP\\PL.PZGiK.3...</td>\n      <td>POLYGON ((602589.080 723526.660, 602670.420 72...</td>\n    </tr>\n    <tr>\n      <th>4</th>\n      <td>2801</td>\n      <td>2C98CCB7-E66F-AAFE-E053-CA2BA8C0B325</td>\n      <td>2022-03-01T12:46:00</td>\n      <td>PL.PZGiK.341.BDOT10k</td>\n      <td>PL.PZGIK.BDOT10k.ADMSA.28.01228</td>\n      <td>ADMS07</td>\n      <td>NaN</td>\n      <td>inapplicable</td>\n      <td>przyblizony</td>\n      <td>NaN</td>\n      <td>...</td>\n      <td>0474420</td>\n      <td>PL.ZIPIN.870</td>\n      <td>NaN</td>\n      <td>127660</td>\n      <td>PL.PZGiK.204.PRNG</td>\n      <td>NaN</td>\n      <td>129325.10</td>\n      <td>PL.PZGiK.341.2801__OT_ADMS_A</td>\n      <td>C:\\studia\\pracka\\28_SHP\\28\\2801_SHP\\PL.PZGiK.3...</td>\n      <td>POLYGON ((599604.680 721448.040, 599629.000 72...</td>\n    </tr>\n    <tr>\n      <th>...</th>\n      <td>...</td>\n      <td>...</td>\n      <td>...</td>\n      <td>...</td>\n      <td>...</td>\n      <td>...</td>\n      <td>...</td>\n      <td>...</td>\n      <td>...</td>\n      <td>...</td>\n      <td>...</td>\n      <td>...</td>\n      <td>...</td>\n      <td>...</td>\n      <td>...</td>\n      <td>...</td>\n      <td>...</td>\n      <td>...</td>\n      <td>...</td>\n      <td>...</td>\n      <td>...</td>\n    </tr>\n    <tr>\n      <th>4460</th>\n      <td>2819</td>\n      <td>311304D1-499A-B2CD-E053-CC2BA8C0FE3A</td>\n      <td>2021-10-06T13:36:00</td>\n      <td>PL.PZGiK.341.BDOT10k</td>\n      <td>OT_ADMS_A.104</td>\n      <td>ADMS03</td>\n      <td>NaN</td>\n      <td>inapplicable</td>\n      <td>dokladny</td>\n      <td>1.0</td>\n      <td>...</td>\n      <td>765116</td>\n      <td>PL.ZIPIN.1943</td>\n      <td>NaN</td>\n      <td>00000000-0000-0000-0000-000000040858</td>\n      <td>PL.PZGiK.204.PRNG</td>\n      <td>NaN</td>\n      <td>47631769.37</td>\n      <td>PL.PZGiK.341.2819__OT_ADMS_A</td>\n      <td>C:\\studia\\pracka\\28_SHP\\28\\2819_SHP\\PL.PZGiK.3...</td>\n      <td>POLYGON ((682986.450 703211.410, 682991.700 70...</td>\n    </tr>\n    <tr>\n      <th>4461</th>\n      <td>2819</td>\n      <td>311304D1-4996-B2CD-E053-CC2BA8C0FE3A</td>\n      <td>2021-10-06T13:36:00</td>\n      <td>PL.PZGiK.341.BDOT10k</td>\n      <td>OT_ADMS_A.103</td>\n      <td>ADMS03</td>\n      <td>NaN</td>\n      <td>inapplicable</td>\n      <td>dokladny</td>\n      <td>1.0</td>\n      <td>...</td>\n      <td>770979</td>\n      <td>PL.ZIPIN.903</td>\n      <td>NaN</td>\n      <td>00000000-0000-0000-0000-000000040171</td>\n      <td>PL.PZGiK.204.PRNG</td>\n      <td>NaN</td>\n      <td>22742342.71</td>\n      <td>PL.PZGiK.341.2819__OT_ADMS_A</td>\n      <td>C:\\studia\\pracka\\28_SHP\\28\\2819_SHP\\PL.PZGiK.3...</td>\n      <td>POLYGON ((667907.680 715869.080, 667852.960 71...</td>\n    </tr>\n    <tr>\n      <th>4462</th>\n      <td>2819</td>\n      <td>311304D1-49C6-B2CD-E053-CC2BA8C0FE3A</td>\n      <td>2021-10-06T13:36:00</td>\n      <td>PL.PZGiK.341.BDOT10k</td>\n      <td>OT_ADMS_A.116</td>\n      <td>ADMS07</td>\n      <td>NaN</td>\n      <td>inapplicable</td>\n      <td>dokladny</td>\n      <td>1.0</td>\n      <td>...</td>\n      <td>771341</td>\n      <td>PL.ZIPIN.903</td>\n      <td>NaN</td>\n      <td>00000000-0000-0000-0000-000000133740</td>\n      <td>PL.PZGiK.204.PRNG</td>\n      <td>NaN</td>\n      <td>3079021.72</td>\n      <td>PL.PZGiK.341.2819__OT_ADMS_A</td>\n      <td>C:\\studia\\pracka\\28_SHP\\28\\2819_SHP\\PL.PZGiK.3...</td>\n      <td>POLYGON ((669232.280 706589.380, 669260.150 70...</td>\n    </tr>\n    <tr>\n      <th>4464</th>\n      <td>2819</td>\n      <td>311304D1-49D7-B2CD-E053-CC2BA8C0FE3A</td>\n      <td>2021-10-06T13:36:00</td>\n      <td>PL.PZGiK.341.BDOT10k</td>\n      <td>OT_ADMS_A.47</td>\n      <td>ADMS07</td>\n      <td>NaN</td>\n      <td>inapplicable</td>\n      <td>dokladny</td>\n      <td>1.0</td>\n      <td>...</td>\n      <td>755632</td>\n      <td>PL.ZIPIN.902</td>\n      <td>NaN</td>\n      <td>00000000-0000-0000-0000-000000026309</td>\n      <td>PL.PZGiK.204.PRNG</td>\n      <td>NaN</td>\n      <td>2833038.18</td>\n      <td>PL.PZGiK.341.2819__OT_ADMS_A</td>\n      <td>C:\\studia\\pracka\\28_SHP\\28\\2819_SHP\\PL.PZGiK.3...</td>\n      <td>POLYGON ((682807.210 712243.900, 682802.600 71...</td>\n    </tr>\n    <tr>\n      <th>4465</th>\n      <td>2819</td>\n      <td>311304D1-497C-B2CD-E053-CC2BA8C0FE3A</td>\n      <td>2021-10-06T13:36:00</td>\n      <td>PL.PZGiK.341.BDOT10k</td>\n      <td>OT_ADMS_A.97</td>\n      <td>ADMS03</td>\n      <td>NaN</td>\n      <td>inapplicable</td>\n      <td>dokladny</td>\n      <td>1.0</td>\n      <td>...</td>\n      <td>755655</td>\n      <td>PL.ZIPIN.902</td>\n      <td>NaN</td>\n      <td>00000000-0000-0000-0000-000000155113</td>\n      <td>PL.PZGiK.204.PRNG</td>\n      <td>NaN</td>\n      <td>10672686.84</td>\n      <td>PL.PZGiK.341.2819__OT_ADMS_A</td>\n      <td>C:\\studia\\pracka\\28_SHP\\28\\2819_SHP\\PL.PZGiK.3...</td>\n      <td>POLYGON ((689125.400 722718.000, 689362.360 72...</td>\n    </tr>\n  </tbody>\n</table>\n<p>3773 rows × 55 columns</p>\n</div>"
     },
     "execution_count": 23,
     "metadata": {},
     "output_type": "execute_result"
    }
   ],
   "source": [
    "granice_miejscowosci_pomoc = granice_miejscowosci[granice_miejscowosci['SIMC_id'].isin(set_granice_prng)]\n",
    "granice_miejscowosci_pomoc.drop_duplicates(inplace=True)\n",
    "granice_miejscowosci_pomoc"
   ],
   "metadata": {
    "collapsed": false,
    "ExecuteTime": {
     "end_time": "2023-11-19T14:32:29.522698800Z",
     "start_time": "2023-11-19T14:32:29.340687200Z"
    }
   },
   "id": "7e91ba5269c51be1"
  },
  {
   "cell_type": "code",
   "execution_count": 24,
   "outputs": [],
   "source": [
    "# granice_miejscowosci_pomoc.to_file(\"28/warminskie_granice_miejscowosci_z_adresacja.shp\")"
   ],
   "metadata": {
    "collapsed": false,
    "ExecuteTime": {
     "end_time": "2023-11-19T14:32:31.860115900Z",
     "start_time": "2023-11-19T14:32:31.831108700Z"
    }
   },
   "id": "3c94d63a166f68b9"
  },
  {
   "cell_type": "code",
   "execution_count": 25,
   "outputs": [],
   "source": [
    "granice_miejscowosci_mieszkancy = granice_miejscowosci_pomoc[['SIMC_id', 'LMIESZKANC']]\n",
    "granice_miejscowosci_powierzchnia = granice_miejscowosci_pomoc[['SIMC_id', 'area']]"
   ],
   "metadata": {
    "collapsed": false,
    "ExecuteTime": {
     "end_time": "2023-11-19T14:32:38.054366700Z",
     "start_time": "2023-11-19T14:32:38.033365400Z"
    }
   },
   "id": "6a7fbfdd56f124bd"
  },
  {
   "cell_type": "code",
   "execution_count": 26,
   "outputs": [
    {
     "name": "stderr",
     "output_type": "stream",
     "text": [
      "C:\\Users\\agnie\\AppData\\Local\\Temp\\ipykernel_17996\\1033420425.py:1: SettingWithCopyWarning: \n",
      "A value is trying to be set on a copy of a slice from a DataFrame\n",
      "\n",
      "See the caveats in the documentation: https://pandas.pydata.org/pandas-docs/stable/user_guide/indexing.html#returning-a-view-versus-a-copy\n",
      "  granice_miejscowosci_mieszkancy.dropna(inplace=True)\n",
      "C:\\Users\\agnie\\AppData\\Local\\Temp\\ipykernel_17996\\1033420425.py:2: SettingWithCopyWarning: \n",
      "A value is trying to be set on a copy of a slice from a DataFrame.\n",
      "Try using .loc[row_indexer,col_indexer] = value instead\n",
      "\n",
      "See the caveats in the documentation: https://pandas.pydata.org/pandas-docs/stable/user_guide/indexing.html#returning-a-view-versus-a-copy\n",
      "  granice_miejscowosci_mieszkancy['LMIESZKANC'] = granice_miejscowosci_mieszkancy['LMIESZKANC'].astype('Int64')\n",
      "C:\\Users\\agnie\\AppData\\Local\\Temp\\ipykernel_17996\\1033420425.py:3: SettingWithCopyWarning: \n",
      "A value is trying to be set on a copy of a slice from a DataFrame\n",
      "\n",
      "See the caveats in the documentation: https://pandas.pydata.org/pandas-docs/stable/user_guide/indexing.html#returning-a-view-versus-a-copy\n",
      "  granice_miejscowosci_mieszkancy.drop_duplicates(inplace=True)\n"
     ]
    },
    {
     "data": {
      "text/plain": "      SIMC_id  LMIESZKANC\n0      474382           7\n1      474324          62\n2      474442         186\n3      474465         105\n4      474420          19\n...       ...         ...\n4460   765116         335\n4461   770979         169\n4462   771341          48\n4464   755632          43\n4465   755655         115\n\n[3715 rows x 2 columns]",
      "text/html": "<div>\n<style scoped>\n    .dataframe tbody tr th:only-of-type {\n        vertical-align: middle;\n    }\n\n    .dataframe tbody tr th {\n        vertical-align: top;\n    }\n\n    .dataframe thead th {\n        text-align: right;\n    }\n</style>\n<table border=\"1\" class=\"dataframe\">\n  <thead>\n    <tr style=\"text-align: right;\">\n      <th></th>\n      <th>SIMC_id</th>\n      <th>LMIESZKANC</th>\n    </tr>\n  </thead>\n  <tbody>\n    <tr>\n      <th>0</th>\n      <td>474382</td>\n      <td>7</td>\n    </tr>\n    <tr>\n      <th>1</th>\n      <td>474324</td>\n      <td>62</td>\n    </tr>\n    <tr>\n      <th>2</th>\n      <td>474442</td>\n      <td>186</td>\n    </tr>\n    <tr>\n      <th>3</th>\n      <td>474465</td>\n      <td>105</td>\n    </tr>\n    <tr>\n      <th>4</th>\n      <td>474420</td>\n      <td>19</td>\n    </tr>\n    <tr>\n      <th>...</th>\n      <td>...</td>\n      <td>...</td>\n    </tr>\n    <tr>\n      <th>4460</th>\n      <td>765116</td>\n      <td>335</td>\n    </tr>\n    <tr>\n      <th>4461</th>\n      <td>770979</td>\n      <td>169</td>\n    </tr>\n    <tr>\n      <th>4462</th>\n      <td>771341</td>\n      <td>48</td>\n    </tr>\n    <tr>\n      <th>4464</th>\n      <td>755632</td>\n      <td>43</td>\n    </tr>\n    <tr>\n      <th>4465</th>\n      <td>755655</td>\n      <td>115</td>\n    </tr>\n  </tbody>\n</table>\n<p>3715 rows × 2 columns</p>\n</div>"
     },
     "execution_count": 26,
     "metadata": {},
     "output_type": "execute_result"
    }
   ],
   "source": [
    "granice_miejscowosci_mieszkancy.dropna(inplace=True)\n",
    "granice_miejscowosci_mieszkancy['LMIESZKANC'] = granice_miejscowosci_mieszkancy['LMIESZKANC'].astype('Int64')\n",
    "granice_miejscowosci_mieszkancy.drop_duplicates(inplace=True)\n",
    "granice_miejscowosci_mieszkancy"
   ],
   "metadata": {
    "collapsed": false,
    "ExecuteTime": {
     "end_time": "2023-11-19T14:32:40.191478600Z",
     "start_time": "2023-11-19T14:32:40.124370Z"
    }
   },
   "id": "7ec4319f309415ce"
  },
  {
   "cell_type": "code",
   "execution_count": 27,
   "outputs": [
    {
     "name": "stderr",
     "output_type": "stream",
     "text": [
      "C:\\Users\\agnie\\AppData\\Local\\Temp\\ipykernel_17996\\3114135313.py:1: SettingWithCopyWarning: \n",
      "A value is trying to be set on a copy of a slice from a DataFrame\n",
      "\n",
      "See the caveats in the documentation: https://pandas.pydata.org/pandas-docs/stable/user_guide/indexing.html#returning-a-view-versus-a-copy\n",
      "  granice_miejscowosci_powierzchnia.drop_duplicates(inplace=True)\n"
     ]
    },
    {
     "data": {
      "text/plain": "      SIMC_id         area\n0      474382   2773713.13\n1      474324   6744120.39\n2      474442   7996737.92\n3      474465   3882361.42\n4      474420    129325.10\n...       ...          ...\n4460   765116  47631769.37\n4461   770979  22742342.71\n4462   771341   3079021.72\n4464   755632   2833038.18\n4465   755655  10672686.84\n\n[3773 rows x 2 columns]",
      "text/html": "<div>\n<style scoped>\n    .dataframe tbody tr th:only-of-type {\n        vertical-align: middle;\n    }\n\n    .dataframe tbody tr th {\n        vertical-align: top;\n    }\n\n    .dataframe thead th {\n        text-align: right;\n    }\n</style>\n<table border=\"1\" class=\"dataframe\">\n  <thead>\n    <tr style=\"text-align: right;\">\n      <th></th>\n      <th>SIMC_id</th>\n      <th>area</th>\n    </tr>\n  </thead>\n  <tbody>\n    <tr>\n      <th>0</th>\n      <td>474382</td>\n      <td>2773713.13</td>\n    </tr>\n    <tr>\n      <th>1</th>\n      <td>474324</td>\n      <td>6744120.39</td>\n    </tr>\n    <tr>\n      <th>2</th>\n      <td>474442</td>\n      <td>7996737.92</td>\n    </tr>\n    <tr>\n      <th>3</th>\n      <td>474465</td>\n      <td>3882361.42</td>\n    </tr>\n    <tr>\n      <th>4</th>\n      <td>474420</td>\n      <td>129325.10</td>\n    </tr>\n    <tr>\n      <th>...</th>\n      <td>...</td>\n      <td>...</td>\n    </tr>\n    <tr>\n      <th>4460</th>\n      <td>765116</td>\n      <td>47631769.37</td>\n    </tr>\n    <tr>\n      <th>4461</th>\n      <td>770979</td>\n      <td>22742342.71</td>\n    </tr>\n    <tr>\n      <th>4462</th>\n      <td>771341</td>\n      <td>3079021.72</td>\n    </tr>\n    <tr>\n      <th>4464</th>\n      <td>755632</td>\n      <td>2833038.18</td>\n    </tr>\n    <tr>\n      <th>4465</th>\n      <td>755655</td>\n      <td>10672686.84</td>\n    </tr>\n  </tbody>\n</table>\n<p>3773 rows × 2 columns</p>\n</div>"
     },
     "execution_count": 27,
     "metadata": {},
     "output_type": "execute_result"
    }
   ],
   "source": [
    "granice_miejscowosci_powierzchnia.drop_duplicates(inplace=True)\n",
    "granice_miejscowosci_powierzchnia"
   ],
   "metadata": {
    "collapsed": false,
    "ExecuteTime": {
     "end_time": "2023-11-19T14:32:43.778005Z",
     "start_time": "2023-11-19T14:32:43.720506700Z"
    }
   },
   "id": "1bd51937abd86975"
  },
  {
   "cell_type": "markdown",
   "source": [
    "dodanie kolumny liczba ludnosci"
   ],
   "metadata": {
    "collapsed": false
   },
   "id": "cec78c193382aa9d"
  },
  {
   "cell_type": "code",
   "execution_count": 28,
   "outputs": [
    {
     "data": {
      "text/plain": "      SIMC_id     rodzaj            nazwa  id_msc_nd  nazwa_msc_nd  \\\n0      149222       wieś          Adamowo       <NA>           NaN   \n1      157948       wieś          Adamowo       <NA>           NaN   \n2      117890       wieś          Adamowo       <NA>           NaN   \n3      471403       wieś          Adamowo       <NA>           NaN   \n4      149647  część wsi  Adamowo-Osiedle     149630  Władysławowo   \n...       ...        ...              ...        ...           ...   \n3774  1047050      osada           Janowo       <NA>           NaN   \n3775   764660    kolonia   Wąglik-Kolonia       <NA>           NaN   \n3776   770672    kolonia            Zajdy       <NA>           NaN   \n3777  1067147      osada      Niewiastowo       <NA>           NaN   \n3778  1067526      osada    Turowski Młyn       <NA>           NaN   \n\n                           geometry  czy_samodzielna  liczba_adresow  \\\n0     POINT (517072.190 698942.620)             True              21   \n1     POINT (522923.230 649553.540)             True              69   \n2     POINT (561486.270 590967.880)             True              33   \n3     POINT (630835.770 669115.890)             True              13   \n4     POINT (521525.150 699758.410)            False              26   \n...                             ...              ...             ...   \n3774  POINT (565834.280 675757.940)             True               2   \n3775  POINT (682736.170 644304.860)             True               6   \n3776  POINT (724720.600 686869.290)             True               5   \n3777  POINT (545598.880 719970.260)             True               3   \n3778  POINT (579057.870 622015.670)             True               1   \n\n      LMIESZKANC  \n0             65  \n1            255  \n2             83  \n3            142  \n4             88  \n...          ...  \n3774           5  \n3775           7  \n3776          12  \n3777           4  \n3778        <NA>  \n\n[3779 rows x 9 columns]",
      "text/html": "<div>\n<style scoped>\n    .dataframe tbody tr th:only-of-type {\n        vertical-align: middle;\n    }\n\n    .dataframe tbody tr th {\n        vertical-align: top;\n    }\n\n    .dataframe thead th {\n        text-align: right;\n    }\n</style>\n<table border=\"1\" class=\"dataframe\">\n  <thead>\n    <tr style=\"text-align: right;\">\n      <th></th>\n      <th>SIMC_id</th>\n      <th>rodzaj</th>\n      <th>nazwa</th>\n      <th>id_msc_nd</th>\n      <th>nazwa_msc_nd</th>\n      <th>geometry</th>\n      <th>czy_samodzielna</th>\n      <th>liczba_adresow</th>\n      <th>LMIESZKANC</th>\n    </tr>\n  </thead>\n  <tbody>\n    <tr>\n      <th>0</th>\n      <td>149222</td>\n      <td>wieś</td>\n      <td>Adamowo</td>\n      <td>&lt;NA&gt;</td>\n      <td>NaN</td>\n      <td>POINT (517072.190 698942.620)</td>\n      <td>True</td>\n      <td>21</td>\n      <td>65</td>\n    </tr>\n    <tr>\n      <th>1</th>\n      <td>157948</td>\n      <td>wieś</td>\n      <td>Adamowo</td>\n      <td>&lt;NA&gt;</td>\n      <td>NaN</td>\n      <td>POINT (522923.230 649553.540)</td>\n      <td>True</td>\n      <td>69</td>\n      <td>255</td>\n    </tr>\n    <tr>\n      <th>2</th>\n      <td>117890</td>\n      <td>wieś</td>\n      <td>Adamowo</td>\n      <td>&lt;NA&gt;</td>\n      <td>NaN</td>\n      <td>POINT (561486.270 590967.880)</td>\n      <td>True</td>\n      <td>33</td>\n      <td>83</td>\n    </tr>\n    <tr>\n      <th>3</th>\n      <td>471403</td>\n      <td>wieś</td>\n      <td>Adamowo</td>\n      <td>&lt;NA&gt;</td>\n      <td>NaN</td>\n      <td>POINT (630835.770 669115.890)</td>\n      <td>True</td>\n      <td>13</td>\n      <td>142</td>\n    </tr>\n    <tr>\n      <th>4</th>\n      <td>149647</td>\n      <td>część wsi</td>\n      <td>Adamowo-Osiedle</td>\n      <td>149630</td>\n      <td>Władysławowo</td>\n      <td>POINT (521525.150 699758.410)</td>\n      <td>False</td>\n      <td>26</td>\n      <td>88</td>\n    </tr>\n    <tr>\n      <th>...</th>\n      <td>...</td>\n      <td>...</td>\n      <td>...</td>\n      <td>...</td>\n      <td>...</td>\n      <td>...</td>\n      <td>...</td>\n      <td>...</td>\n      <td>...</td>\n    </tr>\n    <tr>\n      <th>3774</th>\n      <td>1047050</td>\n      <td>osada</td>\n      <td>Janowo</td>\n      <td>&lt;NA&gt;</td>\n      <td>NaN</td>\n      <td>POINT (565834.280 675757.940)</td>\n      <td>True</td>\n      <td>2</td>\n      <td>5</td>\n    </tr>\n    <tr>\n      <th>3775</th>\n      <td>764660</td>\n      <td>kolonia</td>\n      <td>Wąglik-Kolonia</td>\n      <td>&lt;NA&gt;</td>\n      <td>NaN</td>\n      <td>POINT (682736.170 644304.860)</td>\n      <td>True</td>\n      <td>6</td>\n      <td>7</td>\n    </tr>\n    <tr>\n      <th>3776</th>\n      <td>770672</td>\n      <td>kolonia</td>\n      <td>Zajdy</td>\n      <td>&lt;NA&gt;</td>\n      <td>NaN</td>\n      <td>POINT (724720.600 686869.290)</td>\n      <td>True</td>\n      <td>5</td>\n      <td>12</td>\n    </tr>\n    <tr>\n      <th>3777</th>\n      <td>1067147</td>\n      <td>osada</td>\n      <td>Niewiastowo</td>\n      <td>&lt;NA&gt;</td>\n      <td>NaN</td>\n      <td>POINT (545598.880 719970.260)</td>\n      <td>True</td>\n      <td>3</td>\n      <td>4</td>\n    </tr>\n    <tr>\n      <th>3778</th>\n      <td>1067526</td>\n      <td>osada</td>\n      <td>Turowski Młyn</td>\n      <td>&lt;NA&gt;</td>\n      <td>NaN</td>\n      <td>POINT (579057.870 622015.670)</td>\n      <td>True</td>\n      <td>1</td>\n      <td>&lt;NA&gt;</td>\n    </tr>\n  </tbody>\n</table>\n<p>3779 rows × 9 columns</p>\n</div>"
     },
     "execution_count": 28,
     "metadata": {},
     "output_type": "execute_result"
    }
   ],
   "source": [
    "warminskie_prng = warminskie_prng.merge(granice_miejscowosci_mieszkancy, how='left', on='SIMC_id')\n",
    "warminskie_prng"
   ],
   "metadata": {
    "collapsed": false,
    "ExecuteTime": {
     "start_time": "2023-11-19T14:33:10.183225900Z"
    }
   },
   "id": "bc044c667b9c01e2"
  },
  {
   "cell_type": "markdown",
   "source": [
    "dodanie kolumny powierzchnia"
   ],
   "metadata": {
    "collapsed": false
   },
   "id": "d5a641e3842c2e32"
  },
  {
   "cell_type": "code",
   "execution_count": 29,
   "outputs": [
    {
     "data": {
      "text/plain": "      SIMC_id     rodzaj            nazwa  id_msc_nd  nazwa_msc_nd  \\\n0      149222       wieś          Adamowo       <NA>           NaN   \n1      157948       wieś          Adamowo       <NA>           NaN   \n2      117890       wieś          Adamowo       <NA>           NaN   \n3      471403       wieś          Adamowo       <NA>           NaN   \n4      149647  część wsi  Adamowo-Osiedle     149630  Władysławowo   \n...       ...        ...              ...        ...           ...   \n3784  1047050      osada           Janowo       <NA>           NaN   \n3785   764660    kolonia   Wąglik-Kolonia       <NA>           NaN   \n3786   770672    kolonia            Zajdy       <NA>           NaN   \n3787  1067147      osada      Niewiastowo       <NA>           NaN   \n3788  1067526      osada    Turowski Młyn       <NA>           NaN   \n\n                           geometry  czy_samodzielna  liczba_adresow  \\\n0     POINT (517072.190 698942.620)             True              21   \n1     POINT (522923.230 649553.540)             True              69   \n2     POINT (561486.270 590967.880)             True              33   \n3     POINT (630835.770 669115.890)             True              13   \n4     POINT (521525.150 699758.410)            False              26   \n...                             ...              ...             ...   \n3784  POINT (565834.280 675757.940)             True               2   \n3785  POINT (682736.170 644304.860)             True               6   \n3786  POINT (724720.600 686869.290)             True               5   \n3787  POINT (545598.880 719970.260)             True               3   \n3788  POINT (579057.870 622015.670)             True               1   \n\n      LMIESZKANC         area  \n0             65   5184091.39  \n1            255   4841070.89  \n2             83   2073808.18  \n3            142  12131404.50  \n4             88    264581.60  \n...          ...          ...  \n3784           5   4442946.03  \n3785           7     24333.51  \n3786          12    704732.13  \n3787           4    607350.95  \n3788        <NA>          NaN  \n\n[3789 rows x 10 columns]",
      "text/html": "<div>\n<style scoped>\n    .dataframe tbody tr th:only-of-type {\n        vertical-align: middle;\n    }\n\n    .dataframe tbody tr th {\n        vertical-align: top;\n    }\n\n    .dataframe thead th {\n        text-align: right;\n    }\n</style>\n<table border=\"1\" class=\"dataframe\">\n  <thead>\n    <tr style=\"text-align: right;\">\n      <th></th>\n      <th>SIMC_id</th>\n      <th>rodzaj</th>\n      <th>nazwa</th>\n      <th>id_msc_nd</th>\n      <th>nazwa_msc_nd</th>\n      <th>geometry</th>\n      <th>czy_samodzielna</th>\n      <th>liczba_adresow</th>\n      <th>LMIESZKANC</th>\n      <th>area</th>\n    </tr>\n  </thead>\n  <tbody>\n    <tr>\n      <th>0</th>\n      <td>149222</td>\n      <td>wieś</td>\n      <td>Adamowo</td>\n      <td>&lt;NA&gt;</td>\n      <td>NaN</td>\n      <td>POINT (517072.190 698942.620)</td>\n      <td>True</td>\n      <td>21</td>\n      <td>65</td>\n      <td>5184091.39</td>\n    </tr>\n    <tr>\n      <th>1</th>\n      <td>157948</td>\n      <td>wieś</td>\n      <td>Adamowo</td>\n      <td>&lt;NA&gt;</td>\n      <td>NaN</td>\n      <td>POINT (522923.230 649553.540)</td>\n      <td>True</td>\n      <td>69</td>\n      <td>255</td>\n      <td>4841070.89</td>\n    </tr>\n    <tr>\n      <th>2</th>\n      <td>117890</td>\n      <td>wieś</td>\n      <td>Adamowo</td>\n      <td>&lt;NA&gt;</td>\n      <td>NaN</td>\n      <td>POINT (561486.270 590967.880)</td>\n      <td>True</td>\n      <td>33</td>\n      <td>83</td>\n      <td>2073808.18</td>\n    </tr>\n    <tr>\n      <th>3</th>\n      <td>471403</td>\n      <td>wieś</td>\n      <td>Adamowo</td>\n      <td>&lt;NA&gt;</td>\n      <td>NaN</td>\n      <td>POINT (630835.770 669115.890)</td>\n      <td>True</td>\n      <td>13</td>\n      <td>142</td>\n      <td>12131404.50</td>\n    </tr>\n    <tr>\n      <th>4</th>\n      <td>149647</td>\n      <td>część wsi</td>\n      <td>Adamowo-Osiedle</td>\n      <td>149630</td>\n      <td>Władysławowo</td>\n      <td>POINT (521525.150 699758.410)</td>\n      <td>False</td>\n      <td>26</td>\n      <td>88</td>\n      <td>264581.60</td>\n    </tr>\n    <tr>\n      <th>...</th>\n      <td>...</td>\n      <td>...</td>\n      <td>...</td>\n      <td>...</td>\n      <td>...</td>\n      <td>...</td>\n      <td>...</td>\n      <td>...</td>\n      <td>...</td>\n      <td>...</td>\n    </tr>\n    <tr>\n      <th>3784</th>\n      <td>1047050</td>\n      <td>osada</td>\n      <td>Janowo</td>\n      <td>&lt;NA&gt;</td>\n      <td>NaN</td>\n      <td>POINT (565834.280 675757.940)</td>\n      <td>True</td>\n      <td>2</td>\n      <td>5</td>\n      <td>4442946.03</td>\n    </tr>\n    <tr>\n      <th>3785</th>\n      <td>764660</td>\n      <td>kolonia</td>\n      <td>Wąglik-Kolonia</td>\n      <td>&lt;NA&gt;</td>\n      <td>NaN</td>\n      <td>POINT (682736.170 644304.860)</td>\n      <td>True</td>\n      <td>6</td>\n      <td>7</td>\n      <td>24333.51</td>\n    </tr>\n    <tr>\n      <th>3786</th>\n      <td>770672</td>\n      <td>kolonia</td>\n      <td>Zajdy</td>\n      <td>&lt;NA&gt;</td>\n      <td>NaN</td>\n      <td>POINT (724720.600 686869.290)</td>\n      <td>True</td>\n      <td>5</td>\n      <td>12</td>\n      <td>704732.13</td>\n    </tr>\n    <tr>\n      <th>3787</th>\n      <td>1067147</td>\n      <td>osada</td>\n      <td>Niewiastowo</td>\n      <td>&lt;NA&gt;</td>\n      <td>NaN</td>\n      <td>POINT (545598.880 719970.260)</td>\n      <td>True</td>\n      <td>3</td>\n      <td>4</td>\n      <td>607350.95</td>\n    </tr>\n    <tr>\n      <th>3788</th>\n      <td>1067526</td>\n      <td>osada</td>\n      <td>Turowski Młyn</td>\n      <td>&lt;NA&gt;</td>\n      <td>NaN</td>\n      <td>POINT (579057.870 622015.670)</td>\n      <td>True</td>\n      <td>1</td>\n      <td>&lt;NA&gt;</td>\n      <td>NaN</td>\n    </tr>\n  </tbody>\n</table>\n<p>3789 rows × 10 columns</p>\n</div>"
     },
     "execution_count": 29,
     "metadata": {},
     "output_type": "execute_result"
    }
   ],
   "source": [
    "warminskie_prng = warminskie_prng.merge(granice_miejscowosci_powierzchnia, how='left', on='SIMC_id')\n",
    "warminskie_prng"
   ],
   "metadata": {
    "collapsed": false,
    "ExecuteTime": {
     "end_time": "2023-11-19T14:34:09.599237700Z",
     "start_time": "2023-11-19T14:34:09.542945700Z"
    }
   },
   "id": "bcb1f87ba7b33c09"
  },
  {
   "cell_type": "code",
   "execution_count": 30,
   "outputs": [],
   "source": [
    "# zmiana nazwy dla ujednolicenia\n",
    "warminskie_prng.rename(columns={'area': 'powierzchnia', 'LMIESZKANC': 'liczba_mieszkancow'}, inplace=True)"
   ],
   "metadata": {
    "collapsed": false,
    "ExecuteTime": {
     "end_time": "2023-11-19T14:34:27.671318400Z",
     "start_time": "2023-11-19T14:34:27.636324100Z"
    }
   },
   "id": "e0743e9afb4ee192"
  },
  {
   "cell_type": "code",
   "execution_count": 31,
   "outputs": [
    {
     "data": {
      "text/plain": "      SIMC_id     rodzaj            nazwa  id_msc_nd  nazwa_msc_nd  \\\n0      149222       wieś          Adamowo       <NA>           NaN   \n1      157948       wieś          Adamowo       <NA>           NaN   \n2      117890       wieś          Adamowo       <NA>           NaN   \n3      471403       wieś          Adamowo       <NA>           NaN   \n4      149647  część wsi  Adamowo-Osiedle     149630  Władysławowo   \n...       ...        ...              ...        ...           ...   \n3784  1047050      osada           Janowo       <NA>           NaN   \n3785   764660    kolonia   Wąglik-Kolonia       <NA>           NaN   \n3786   770672    kolonia            Zajdy       <NA>           NaN   \n3787  1067147      osada      Niewiastowo       <NA>           NaN   \n3788  1067526      osada    Turowski Młyn       <NA>           NaN   \n\n                           geometry  czy_samodzielna  liczba_adresow  \\\n0     POINT (517072.190 698942.620)             True              21   \n1     POINT (522923.230 649553.540)             True              69   \n2     POINT (561486.270 590967.880)             True              33   \n3     POINT (630835.770 669115.890)             True              13   \n4     POINT (521525.150 699758.410)            False              26   \n...                             ...              ...             ...   \n3784  POINT (565834.280 675757.940)             True               2   \n3785  POINT (682736.170 644304.860)             True               6   \n3786  POINT (724720.600 686869.290)             True               5   \n3787  POINT (545598.880 719970.260)             True               3   \n3788  POINT (579057.870 622015.670)             True               1   \n\n      liczba_mieszkancow  powierzchnia  \n0                     65    5184091.39  \n1                    255    4841070.89  \n2                     83    2073808.18  \n3                    142   12131404.50  \n4                     88     264581.60  \n...                  ...           ...  \n3784                   5    4442946.03  \n3785                   7      24333.51  \n3786                  12     704732.13  \n3787                   4     607350.95  \n3788                <NA>           NaN  \n\n[3778 rows x 10 columns]",
      "text/html": "<div>\n<style scoped>\n    .dataframe tbody tr th:only-of-type {\n        vertical-align: middle;\n    }\n\n    .dataframe tbody tr th {\n        vertical-align: top;\n    }\n\n    .dataframe thead th {\n        text-align: right;\n    }\n</style>\n<table border=\"1\" class=\"dataframe\">\n  <thead>\n    <tr style=\"text-align: right;\">\n      <th></th>\n      <th>SIMC_id</th>\n      <th>rodzaj</th>\n      <th>nazwa</th>\n      <th>id_msc_nd</th>\n      <th>nazwa_msc_nd</th>\n      <th>geometry</th>\n      <th>czy_samodzielna</th>\n      <th>liczba_adresow</th>\n      <th>liczba_mieszkancow</th>\n      <th>powierzchnia</th>\n    </tr>\n  </thead>\n  <tbody>\n    <tr>\n      <th>0</th>\n      <td>149222</td>\n      <td>wieś</td>\n      <td>Adamowo</td>\n      <td>&lt;NA&gt;</td>\n      <td>NaN</td>\n      <td>POINT (517072.190 698942.620)</td>\n      <td>True</td>\n      <td>21</td>\n      <td>65</td>\n      <td>5184091.39</td>\n    </tr>\n    <tr>\n      <th>1</th>\n      <td>157948</td>\n      <td>wieś</td>\n      <td>Adamowo</td>\n      <td>&lt;NA&gt;</td>\n      <td>NaN</td>\n      <td>POINT (522923.230 649553.540)</td>\n      <td>True</td>\n      <td>69</td>\n      <td>255</td>\n      <td>4841070.89</td>\n    </tr>\n    <tr>\n      <th>2</th>\n      <td>117890</td>\n      <td>wieś</td>\n      <td>Adamowo</td>\n      <td>&lt;NA&gt;</td>\n      <td>NaN</td>\n      <td>POINT (561486.270 590967.880)</td>\n      <td>True</td>\n      <td>33</td>\n      <td>83</td>\n      <td>2073808.18</td>\n    </tr>\n    <tr>\n      <th>3</th>\n      <td>471403</td>\n      <td>wieś</td>\n      <td>Adamowo</td>\n      <td>&lt;NA&gt;</td>\n      <td>NaN</td>\n      <td>POINT (630835.770 669115.890)</td>\n      <td>True</td>\n      <td>13</td>\n      <td>142</td>\n      <td>12131404.50</td>\n    </tr>\n    <tr>\n      <th>4</th>\n      <td>149647</td>\n      <td>część wsi</td>\n      <td>Adamowo-Osiedle</td>\n      <td>149630</td>\n      <td>Władysławowo</td>\n      <td>POINT (521525.150 699758.410)</td>\n      <td>False</td>\n      <td>26</td>\n      <td>88</td>\n      <td>264581.60</td>\n    </tr>\n    <tr>\n      <th>...</th>\n      <td>...</td>\n      <td>...</td>\n      <td>...</td>\n      <td>...</td>\n      <td>...</td>\n      <td>...</td>\n      <td>...</td>\n      <td>...</td>\n      <td>...</td>\n      <td>...</td>\n    </tr>\n    <tr>\n      <th>3784</th>\n      <td>1047050</td>\n      <td>osada</td>\n      <td>Janowo</td>\n      <td>&lt;NA&gt;</td>\n      <td>NaN</td>\n      <td>POINT (565834.280 675757.940)</td>\n      <td>True</td>\n      <td>2</td>\n      <td>5</td>\n      <td>4442946.03</td>\n    </tr>\n    <tr>\n      <th>3785</th>\n      <td>764660</td>\n      <td>kolonia</td>\n      <td>Wąglik-Kolonia</td>\n      <td>&lt;NA&gt;</td>\n      <td>NaN</td>\n      <td>POINT (682736.170 644304.860)</td>\n      <td>True</td>\n      <td>6</td>\n      <td>7</td>\n      <td>24333.51</td>\n    </tr>\n    <tr>\n      <th>3786</th>\n      <td>770672</td>\n      <td>kolonia</td>\n      <td>Zajdy</td>\n      <td>&lt;NA&gt;</td>\n      <td>NaN</td>\n      <td>POINT (724720.600 686869.290)</td>\n      <td>True</td>\n      <td>5</td>\n      <td>12</td>\n      <td>704732.13</td>\n    </tr>\n    <tr>\n      <th>3787</th>\n      <td>1067147</td>\n      <td>osada</td>\n      <td>Niewiastowo</td>\n      <td>&lt;NA&gt;</td>\n      <td>NaN</td>\n      <td>POINT (545598.880 719970.260)</td>\n      <td>True</td>\n      <td>3</td>\n      <td>4</td>\n      <td>607350.95</td>\n    </tr>\n    <tr>\n      <th>3788</th>\n      <td>1067526</td>\n      <td>osada</td>\n      <td>Turowski Młyn</td>\n      <td>&lt;NA&gt;</td>\n      <td>NaN</td>\n      <td>POINT (579057.870 622015.670)</td>\n      <td>True</td>\n      <td>1</td>\n      <td>&lt;NA&gt;</td>\n      <td>NaN</td>\n    </tr>\n  </tbody>\n</table>\n<p>3778 rows × 10 columns</p>\n</div>"
     },
     "execution_count": 31,
     "metadata": {},
     "output_type": "execute_result"
    }
   ],
   "source": [
    "warminskie_prng.drop_duplicates(subset='SIMC_id', inplace=True)\n",
    "warminskie_prng"
   ],
   "metadata": {
    "collapsed": false,
    "ExecuteTime": {
     "end_time": "2023-11-19T14:34:29.100239700Z",
     "start_time": "2023-11-19T14:34:29.050456800Z"
    }
   },
   "id": "d360852ad8334b18"
  },
  {
   "cell_type": "code",
   "execution_count": 32,
   "outputs": [
    {
     "data": {
      "text/plain": "      SIMC_id     rodzaj            nazwa  id_msc_nd  nazwa_msc_nd  \\\n0      149222       wieś          Adamowo       <NA>           NaN   \n1      157948       wieś          Adamowo       <NA>           NaN   \n2      117890       wieś          Adamowo       <NA>           NaN   \n3      471403       wieś          Adamowo       <NA>           NaN   \n4      149647  część wsi  Adamowo-Osiedle     149630  Władysławowo   \n...       ...        ...              ...        ...           ...   \n3783  1044100      osada         Rozdroże       <NA>           NaN   \n3784  1047050      osada           Janowo       <NA>           NaN   \n3785   764660    kolonia   Wąglik-Kolonia       <NA>           NaN   \n3786   770672    kolonia            Zajdy       <NA>           NaN   \n3787  1067147      osada      Niewiastowo       <NA>           NaN   \n\n                           geometry  czy_samodzielna  liczba_adresow  \\\n0     POINT (517072.190 698942.620)             True              21   \n1     POINT (522923.230 649553.540)             True              69   \n2     POINT (561486.270 590967.880)             True              33   \n3     POINT (630835.770 669115.890)             True              13   \n4     POINT (521525.150 699758.410)            False              26   \n...                             ...              ...             ...   \n3783  POINT (590288.790 610513.940)             True              76   \n3784  POINT (565834.280 675757.940)             True               2   \n3785  POINT (682736.170 644304.860)             True               6   \n3786  POINT (724720.600 686869.290)             True               5   \n3787  POINT (545598.880 719970.260)             True               3   \n\n      liczba_mieszkancow  powierzchnia  \n0                     65    5184091.39  \n1                    255    4841070.89  \n2                     83    2073808.18  \n3                    142   12131404.50  \n4                     88     264581.60  \n...                  ...           ...  \n3783                 429     944005.19  \n3784                   5    4442946.03  \n3785                   7      24333.51  \n3786                  12     704732.13  \n3787                   4     607350.95  \n\n[3714 rows x 10 columns]",
      "text/html": "<div>\n<style scoped>\n    .dataframe tbody tr th:only-of-type {\n        vertical-align: middle;\n    }\n\n    .dataframe tbody tr th {\n        vertical-align: top;\n    }\n\n    .dataframe thead th {\n        text-align: right;\n    }\n</style>\n<table border=\"1\" class=\"dataframe\">\n  <thead>\n    <tr style=\"text-align: right;\">\n      <th></th>\n      <th>SIMC_id</th>\n      <th>rodzaj</th>\n      <th>nazwa</th>\n      <th>id_msc_nd</th>\n      <th>nazwa_msc_nd</th>\n      <th>geometry</th>\n      <th>czy_samodzielna</th>\n      <th>liczba_adresow</th>\n      <th>liczba_mieszkancow</th>\n      <th>powierzchnia</th>\n    </tr>\n  </thead>\n  <tbody>\n    <tr>\n      <th>0</th>\n      <td>149222</td>\n      <td>wieś</td>\n      <td>Adamowo</td>\n      <td>&lt;NA&gt;</td>\n      <td>NaN</td>\n      <td>POINT (517072.190 698942.620)</td>\n      <td>True</td>\n      <td>21</td>\n      <td>65</td>\n      <td>5184091.39</td>\n    </tr>\n    <tr>\n      <th>1</th>\n      <td>157948</td>\n      <td>wieś</td>\n      <td>Adamowo</td>\n      <td>&lt;NA&gt;</td>\n      <td>NaN</td>\n      <td>POINT (522923.230 649553.540)</td>\n      <td>True</td>\n      <td>69</td>\n      <td>255</td>\n      <td>4841070.89</td>\n    </tr>\n    <tr>\n      <th>2</th>\n      <td>117890</td>\n      <td>wieś</td>\n      <td>Adamowo</td>\n      <td>&lt;NA&gt;</td>\n      <td>NaN</td>\n      <td>POINT (561486.270 590967.880)</td>\n      <td>True</td>\n      <td>33</td>\n      <td>83</td>\n      <td>2073808.18</td>\n    </tr>\n    <tr>\n      <th>3</th>\n      <td>471403</td>\n      <td>wieś</td>\n      <td>Adamowo</td>\n      <td>&lt;NA&gt;</td>\n      <td>NaN</td>\n      <td>POINT (630835.770 669115.890)</td>\n      <td>True</td>\n      <td>13</td>\n      <td>142</td>\n      <td>12131404.50</td>\n    </tr>\n    <tr>\n      <th>4</th>\n      <td>149647</td>\n      <td>część wsi</td>\n      <td>Adamowo-Osiedle</td>\n      <td>149630</td>\n      <td>Władysławowo</td>\n      <td>POINT (521525.150 699758.410)</td>\n      <td>False</td>\n      <td>26</td>\n      <td>88</td>\n      <td>264581.60</td>\n    </tr>\n    <tr>\n      <th>...</th>\n      <td>...</td>\n      <td>...</td>\n      <td>...</td>\n      <td>...</td>\n      <td>...</td>\n      <td>...</td>\n      <td>...</td>\n      <td>...</td>\n      <td>...</td>\n      <td>...</td>\n    </tr>\n    <tr>\n      <th>3783</th>\n      <td>1044100</td>\n      <td>osada</td>\n      <td>Rozdroże</td>\n      <td>&lt;NA&gt;</td>\n      <td>NaN</td>\n      <td>POINT (590288.790 610513.940)</td>\n      <td>True</td>\n      <td>76</td>\n      <td>429</td>\n      <td>944005.19</td>\n    </tr>\n    <tr>\n      <th>3784</th>\n      <td>1047050</td>\n      <td>osada</td>\n      <td>Janowo</td>\n      <td>&lt;NA&gt;</td>\n      <td>NaN</td>\n      <td>POINT (565834.280 675757.940)</td>\n      <td>True</td>\n      <td>2</td>\n      <td>5</td>\n      <td>4442946.03</td>\n    </tr>\n    <tr>\n      <th>3785</th>\n      <td>764660</td>\n      <td>kolonia</td>\n      <td>Wąglik-Kolonia</td>\n      <td>&lt;NA&gt;</td>\n      <td>NaN</td>\n      <td>POINT (682736.170 644304.860)</td>\n      <td>True</td>\n      <td>6</td>\n      <td>7</td>\n      <td>24333.51</td>\n    </tr>\n    <tr>\n      <th>3786</th>\n      <td>770672</td>\n      <td>kolonia</td>\n      <td>Zajdy</td>\n      <td>&lt;NA&gt;</td>\n      <td>NaN</td>\n      <td>POINT (724720.600 686869.290)</td>\n      <td>True</td>\n      <td>5</td>\n      <td>12</td>\n      <td>704732.13</td>\n    </tr>\n    <tr>\n      <th>3787</th>\n      <td>1067147</td>\n      <td>osada</td>\n      <td>Niewiastowo</td>\n      <td>&lt;NA&gt;</td>\n      <td>NaN</td>\n      <td>POINT (545598.880 719970.260)</td>\n      <td>True</td>\n      <td>3</td>\n      <td>4</td>\n      <td>607350.95</td>\n    </tr>\n  </tbody>\n</table>\n<p>3714 rows × 10 columns</p>\n</div>"
     },
     "execution_count": 32,
     "metadata": {},
     "output_type": "execute_result"
    }
   ],
   "source": [
    "bez_na = warminskie_prng.dropna(subset=['liczba_adresow', 'liczba_mieszkancow', 'powierzchnia'])\n",
    "bez_na"
   ],
   "metadata": {
    "collapsed": false,
    "ExecuteTime": {
     "end_time": "2023-11-19T14:34:35.260004200Z",
     "start_time": "2023-11-19T14:34:35.212398700Z"
    }
   },
   "id": "ac35d5bdc3279162"
  },
  {
   "cell_type": "code",
   "execution_count": 33,
   "outputs": [
    {
     "data": {
      "text/plain": "rodzaj\nwieś                2385\nosada                937\nczęść wsi            120\nkolonia               82\nosada leśna           81\nprzysiółek wsi        62\nprzysiółek            16\nprzysiółek osady      16\nkolonia wsi            6\nosada wsi              6\nczęść kolonii          2\nosada leśna wsi        1\nName: count, dtype: int64"
     },
     "execution_count": 33,
     "metadata": {},
     "output_type": "execute_result"
    }
   ],
   "source": [
    "bez_na['rodzaj'].value_counts()"
   ],
   "metadata": {
    "collapsed": false,
    "ExecuteTime": {
     "end_time": "2023-11-19T14:34:36.444577900Z",
     "start_time": "2023-11-19T14:34:36.414023600Z"
    }
   },
   "id": "f4e60baf935f5479"
  },
  {
   "cell_type": "markdown",
   "source": [
    "usunięcie niepotrzebnych kolumn"
   ],
   "metadata": {
    "collapsed": false
   },
   "id": "588dfacca229a3a"
  },
  {
   "cell_type": "code",
   "execution_count": 36,
   "outputs": [
    {
     "data": {
      "text/plain": "      SIMC_id     rodzaj            nazwa                       geometry  \\\n0      149222       wieś          Adamowo  POINT (517072.190 698942.620)   \n1      157948       wieś          Adamowo  POINT (522923.230 649553.540)   \n2      117890       wieś          Adamowo  POINT (561486.270 590967.880)   \n3      471403       wieś          Adamowo  POINT (630835.770 669115.890)   \n4      149647  część wsi  Adamowo-Osiedle  POINT (521525.150 699758.410)   \n...       ...        ...              ...                            ...   \n3784  1047050      osada           Janowo  POINT (565834.280 675757.940)   \n3785   764660    kolonia   Wąglik-Kolonia  POINT (682736.170 644304.860)   \n3786   770672    kolonia            Zajdy  POINT (724720.600 686869.290)   \n3787  1067147      osada      Niewiastowo  POINT (545598.880 719970.260)   \n3788  1067526      osada    Turowski Młyn  POINT (579057.870 622015.670)   \n\n      czy_samodzielna  liczba_adresow  liczba_mieszkancow  powierzchnia  \n0                True              21                  65    5184091.39  \n1                True              69                 255    4841070.89  \n2                True              33                  83    2073808.18  \n3                True              13                 142   12131404.50  \n4               False              26                  88     264581.60  \n...               ...             ...                 ...           ...  \n3784             True               2                   5    4442946.03  \n3785             True               6                   7      24333.51  \n3786             True               5                  12     704732.13  \n3787             True               3                   4     607350.95  \n3788             True               1                <NA>           NaN  \n\n[3778 rows x 8 columns]",
      "text/html": "<div>\n<style scoped>\n    .dataframe tbody tr th:only-of-type {\n        vertical-align: middle;\n    }\n\n    .dataframe tbody tr th {\n        vertical-align: top;\n    }\n\n    .dataframe thead th {\n        text-align: right;\n    }\n</style>\n<table border=\"1\" class=\"dataframe\">\n  <thead>\n    <tr style=\"text-align: right;\">\n      <th></th>\n      <th>SIMC_id</th>\n      <th>rodzaj</th>\n      <th>nazwa</th>\n      <th>geometry</th>\n      <th>czy_samodzielna</th>\n      <th>liczba_adresow</th>\n      <th>liczba_mieszkancow</th>\n      <th>powierzchnia</th>\n    </tr>\n  </thead>\n  <tbody>\n    <tr>\n      <th>0</th>\n      <td>149222</td>\n      <td>wieś</td>\n      <td>Adamowo</td>\n      <td>POINT (517072.190 698942.620)</td>\n      <td>True</td>\n      <td>21</td>\n      <td>65</td>\n      <td>5184091.39</td>\n    </tr>\n    <tr>\n      <th>1</th>\n      <td>157948</td>\n      <td>wieś</td>\n      <td>Adamowo</td>\n      <td>POINT (522923.230 649553.540)</td>\n      <td>True</td>\n      <td>69</td>\n      <td>255</td>\n      <td>4841070.89</td>\n    </tr>\n    <tr>\n      <th>2</th>\n      <td>117890</td>\n      <td>wieś</td>\n      <td>Adamowo</td>\n      <td>POINT (561486.270 590967.880)</td>\n      <td>True</td>\n      <td>33</td>\n      <td>83</td>\n      <td>2073808.18</td>\n    </tr>\n    <tr>\n      <th>3</th>\n      <td>471403</td>\n      <td>wieś</td>\n      <td>Adamowo</td>\n      <td>POINT (630835.770 669115.890)</td>\n      <td>True</td>\n      <td>13</td>\n      <td>142</td>\n      <td>12131404.50</td>\n    </tr>\n    <tr>\n      <th>4</th>\n      <td>149647</td>\n      <td>część wsi</td>\n      <td>Adamowo-Osiedle</td>\n      <td>POINT (521525.150 699758.410)</td>\n      <td>False</td>\n      <td>26</td>\n      <td>88</td>\n      <td>264581.60</td>\n    </tr>\n    <tr>\n      <th>...</th>\n      <td>...</td>\n      <td>...</td>\n      <td>...</td>\n      <td>...</td>\n      <td>...</td>\n      <td>...</td>\n      <td>...</td>\n      <td>...</td>\n    </tr>\n    <tr>\n      <th>3784</th>\n      <td>1047050</td>\n      <td>osada</td>\n      <td>Janowo</td>\n      <td>POINT (565834.280 675757.940)</td>\n      <td>True</td>\n      <td>2</td>\n      <td>5</td>\n      <td>4442946.03</td>\n    </tr>\n    <tr>\n      <th>3785</th>\n      <td>764660</td>\n      <td>kolonia</td>\n      <td>Wąglik-Kolonia</td>\n      <td>POINT (682736.170 644304.860)</td>\n      <td>True</td>\n      <td>6</td>\n      <td>7</td>\n      <td>24333.51</td>\n    </tr>\n    <tr>\n      <th>3786</th>\n      <td>770672</td>\n      <td>kolonia</td>\n      <td>Zajdy</td>\n      <td>POINT (724720.600 686869.290)</td>\n      <td>True</td>\n      <td>5</td>\n      <td>12</td>\n      <td>704732.13</td>\n    </tr>\n    <tr>\n      <th>3787</th>\n      <td>1067147</td>\n      <td>osada</td>\n      <td>Niewiastowo</td>\n      <td>POINT (545598.880 719970.260)</td>\n      <td>True</td>\n      <td>3</td>\n      <td>4</td>\n      <td>607350.95</td>\n    </tr>\n    <tr>\n      <th>3788</th>\n      <td>1067526</td>\n      <td>osada</td>\n      <td>Turowski Młyn</td>\n      <td>POINT (579057.870 622015.670)</td>\n      <td>True</td>\n      <td>1</td>\n      <td>&lt;NA&gt;</td>\n      <td>NaN</td>\n    </tr>\n  </tbody>\n</table>\n<p>3778 rows × 8 columns</p>\n</div>"
     },
     "execution_count": 36,
     "metadata": {},
     "output_type": "execute_result"
    }
   ],
   "source": [
    "warminskie_prng = warminskie_prng.drop(['id_msc_nd', 'nazwa_msc_nd'], axis=1)\n",
    "warminskie_prng"
   ],
   "metadata": {
    "collapsed": false,
    "ExecuteTime": {
     "end_time": "2023-11-19T14:36:48.587255300Z",
     "start_time": "2023-11-19T14:36:48.553436200Z"
    }
   },
   "id": "fb4d674fe8ae848a"
  },
  {
   "cell_type": "markdown",
   "source": [
    "dodanie kolumn wziązanych z analizą zabudowy"
   ],
   "metadata": {
    "collapsed": false
   },
   "id": "6a6b2ee69288ead0"
  },
  {
   "cell_type": "code",
   "execution_count": 34,
   "outputs": [
    {
     "data": {
      "text/plain": "      SIMC_id  liczba_budynkow  powierzchnia_budynkow  \\\n0      113419              371               83569.42   \n1      113431               12                3383.35   \n2      113448              229               30639.25   \n3      113454               97               17698.85   \n4      113460               48                5193.56   \n...       ...              ...                    ...   \n3758  1063126               22                1601.74   \n3759  1064491               52               16319.27   \n3760  1064500                3                 311.89   \n3761  1064516                7                 430.60   \n3762  1067147                5                 449.97   \n\n      srednia_liczba_kondygnacji  budynekGospodarstwaRolnego  \\\n0                       1.583784                         146   \n1                       1.250000                           7   \n2                       1.606987                         104   \n3                       1.278351                          59   \n4                       1.145833                          30   \n...                          ...                         ...   \n3758                    1.636364                           7   \n3759                    1.423077                          29   \n3760                    1.333333                           2   \n3761                    1.428571                           5   \n3762                    1.000000                           1   \n\n      budynekZabytkowy  budynkiBiurowe  budynkiGarazy  \\\n0                    0               3              1   \n1                    0               0              0   \n2                    0               2              0   \n3                    0               1              1   \n4                    0               0              0   \n...                ...             ...            ...   \n3758                 0               0              0   \n3759                 0               0              0   \n3760                 0               0              0   \n3761                 0               0              0   \n3762                 0               0              0   \n\n      budynkiHandlowoUslugowe  budynkiHoteli  ...  \\\n0                           2              1  ...   \n1                           0              0  ...   \n2                           2              0  ...   \n3                           0              0  ...   \n4                           0              0  ...   \n...                       ...            ...  ...   \n3758                        0              0  ...   \n3759                        0              0  ...   \n3760                        0              0  ...   \n3761                        0              0  ...   \n3762                        0              0  ...   \n\n      ogolnodostepneObiektyKulturalne  pozostaleBudynkiNiemieszkalne  \\\n0                                   0                              1   \n1                                   0                              0   \n2                                   0                              0   \n3                                   1                              1   \n4                                   0                              0   \n...                               ...                            ...   \n3758                                0                              0   \n3759                                0                              2   \n3760                                0                              0   \n3761                                0                              0   \n3762                                0                              0   \n\n      zbiornikSilosIBudynkiMagazynowe  nna_index  srednia_odleglosci  \\\n0                                  14   0.349610         1066.709097   \n1                                   0   0.196046          247.277883   \n2                                   0   0.212606          497.217195   \n3                                   2   0.235016          486.756717   \n4                                   0   0.336787          441.816209   \n...                               ...        ...                 ...   \n3758                                0   0.200409          137.338223   \n3759                                0   0.917561          193.946638   \n3760                                0   1.179343           78.110162   \n3761                                0   0.028865           51.428196   \n3762                                0   0.328823           81.384689   \n\n      odchylenie_standardowe  wspolczynnik_zmiennosci  min_odleglosc  \\\n0                 907.926013                85.114678       5.595754   \n1                 170.333300                68.883354      10.068545   \n2                 401.666020                80.782810       6.621034   \n3                 374.794532                76.998328       5.007587   \n4                 284.333460                64.355597       5.033175   \n...                      ...                      ...            ...   \n3758               94.242414                68.620673      12.877561   \n3759              128.815451                66.417986       5.625767   \n3760               77.477626                99.190200      24.087480   \n3761               40.195020                78.157554      11.037517   \n3762               57.180786                70.259881      19.517409   \n\n      max_odleglosc  min_max_rozstep  \n0       4490.197390      4490.197390  \n1        520.223242       520.223242  \n2       2849.556375      2849.556375  \n3       2204.703636      2204.703636  \n4       1253.942402      1253.942402  \n...             ...              ...  \n3758     304.774513       304.774513  \n3759     614.792574       614.792574  \n3760     175.737876       175.737876  \n3761     111.790464       111.790464  \n3762     180.381791       180.381791  \n\n[3763 rows x 32 columns]",
      "text/html": "<div>\n<style scoped>\n    .dataframe tbody tr th:only-of-type {\n        vertical-align: middle;\n    }\n\n    .dataframe tbody tr th {\n        vertical-align: top;\n    }\n\n    .dataframe thead th {\n        text-align: right;\n    }\n</style>\n<table border=\"1\" class=\"dataframe\">\n  <thead>\n    <tr style=\"text-align: right;\">\n      <th></th>\n      <th>SIMC_id</th>\n      <th>liczba_budynkow</th>\n      <th>powierzchnia_budynkow</th>\n      <th>srednia_liczba_kondygnacji</th>\n      <th>budynekGospodarstwaRolnego</th>\n      <th>budynekZabytkowy</th>\n      <th>budynkiBiurowe</th>\n      <th>budynkiGarazy</th>\n      <th>budynkiHandlowoUslugowe</th>\n      <th>budynkiHoteli</th>\n      <th>...</th>\n      <th>ogolnodostepneObiektyKulturalne</th>\n      <th>pozostaleBudynkiNiemieszkalne</th>\n      <th>zbiornikSilosIBudynkiMagazynowe</th>\n      <th>nna_index</th>\n      <th>srednia_odleglosci</th>\n      <th>odchylenie_standardowe</th>\n      <th>wspolczynnik_zmiennosci</th>\n      <th>min_odleglosc</th>\n      <th>max_odleglosc</th>\n      <th>min_max_rozstep</th>\n    </tr>\n  </thead>\n  <tbody>\n    <tr>\n      <th>0</th>\n      <td>113419</td>\n      <td>371</td>\n      <td>83569.42</td>\n      <td>1.583784</td>\n      <td>146</td>\n      <td>0</td>\n      <td>3</td>\n      <td>1</td>\n      <td>2</td>\n      <td>1</td>\n      <td>...</td>\n      <td>0</td>\n      <td>1</td>\n      <td>14</td>\n      <td>0.349610</td>\n      <td>1066.709097</td>\n      <td>907.926013</td>\n      <td>85.114678</td>\n      <td>5.595754</td>\n      <td>4490.197390</td>\n      <td>4490.197390</td>\n    </tr>\n    <tr>\n      <th>1</th>\n      <td>113431</td>\n      <td>12</td>\n      <td>3383.35</td>\n      <td>1.250000</td>\n      <td>7</td>\n      <td>0</td>\n      <td>0</td>\n      <td>0</td>\n      <td>0</td>\n      <td>0</td>\n      <td>...</td>\n      <td>0</td>\n      <td>0</td>\n      <td>0</td>\n      <td>0.196046</td>\n      <td>247.277883</td>\n      <td>170.333300</td>\n      <td>68.883354</td>\n      <td>10.068545</td>\n      <td>520.223242</td>\n      <td>520.223242</td>\n    </tr>\n    <tr>\n      <th>2</th>\n      <td>113448</td>\n      <td>229</td>\n      <td>30639.25</td>\n      <td>1.606987</td>\n      <td>104</td>\n      <td>0</td>\n      <td>2</td>\n      <td>0</td>\n      <td>2</td>\n      <td>0</td>\n      <td>...</td>\n      <td>0</td>\n      <td>0</td>\n      <td>0</td>\n      <td>0.212606</td>\n      <td>497.217195</td>\n      <td>401.666020</td>\n      <td>80.782810</td>\n      <td>6.621034</td>\n      <td>2849.556375</td>\n      <td>2849.556375</td>\n    </tr>\n    <tr>\n      <th>3</th>\n      <td>113454</td>\n      <td>97</td>\n      <td>17698.85</td>\n      <td>1.278351</td>\n      <td>59</td>\n      <td>0</td>\n      <td>1</td>\n      <td>1</td>\n      <td>0</td>\n      <td>0</td>\n      <td>...</td>\n      <td>1</td>\n      <td>1</td>\n      <td>2</td>\n      <td>0.235016</td>\n      <td>486.756717</td>\n      <td>374.794532</td>\n      <td>76.998328</td>\n      <td>5.007587</td>\n      <td>2204.703636</td>\n      <td>2204.703636</td>\n    </tr>\n    <tr>\n      <th>4</th>\n      <td>113460</td>\n      <td>48</td>\n      <td>5193.56</td>\n      <td>1.145833</td>\n      <td>30</td>\n      <td>0</td>\n      <td>0</td>\n      <td>0</td>\n      <td>0</td>\n      <td>0</td>\n      <td>...</td>\n      <td>0</td>\n      <td>0</td>\n      <td>0</td>\n      <td>0.336787</td>\n      <td>441.816209</td>\n      <td>284.333460</td>\n      <td>64.355597</td>\n      <td>5.033175</td>\n      <td>1253.942402</td>\n      <td>1253.942402</td>\n    </tr>\n    <tr>\n      <th>...</th>\n      <td>...</td>\n      <td>...</td>\n      <td>...</td>\n      <td>...</td>\n      <td>...</td>\n      <td>...</td>\n      <td>...</td>\n      <td>...</td>\n      <td>...</td>\n      <td>...</td>\n      <td>...</td>\n      <td>...</td>\n      <td>...</td>\n      <td>...</td>\n      <td>...</td>\n      <td>...</td>\n      <td>...</td>\n      <td>...</td>\n      <td>...</td>\n      <td>...</td>\n      <td>...</td>\n    </tr>\n    <tr>\n      <th>3758</th>\n      <td>1063126</td>\n      <td>22</td>\n      <td>1601.74</td>\n      <td>1.636364</td>\n      <td>7</td>\n      <td>0</td>\n      <td>0</td>\n      <td>0</td>\n      <td>0</td>\n      <td>0</td>\n      <td>...</td>\n      <td>0</td>\n      <td>0</td>\n      <td>0</td>\n      <td>0.200409</td>\n      <td>137.338223</td>\n      <td>94.242414</td>\n      <td>68.620673</td>\n      <td>12.877561</td>\n      <td>304.774513</td>\n      <td>304.774513</td>\n    </tr>\n    <tr>\n      <th>3759</th>\n      <td>1064491</td>\n      <td>52</td>\n      <td>16319.27</td>\n      <td>1.423077</td>\n      <td>29</td>\n      <td>0</td>\n      <td>0</td>\n      <td>0</td>\n      <td>0</td>\n      <td>0</td>\n      <td>...</td>\n      <td>0</td>\n      <td>2</td>\n      <td>0</td>\n      <td>0.917561</td>\n      <td>193.946638</td>\n      <td>128.815451</td>\n      <td>66.417986</td>\n      <td>5.625767</td>\n      <td>614.792574</td>\n      <td>614.792574</td>\n    </tr>\n    <tr>\n      <th>3760</th>\n      <td>1064500</td>\n      <td>3</td>\n      <td>311.89</td>\n      <td>1.333333</td>\n      <td>2</td>\n      <td>0</td>\n      <td>0</td>\n      <td>0</td>\n      <td>0</td>\n      <td>0</td>\n      <td>...</td>\n      <td>0</td>\n      <td>0</td>\n      <td>0</td>\n      <td>1.179343</td>\n      <td>78.110162</td>\n      <td>77.477626</td>\n      <td>99.190200</td>\n      <td>24.087480</td>\n      <td>175.737876</td>\n      <td>175.737876</td>\n    </tr>\n    <tr>\n      <th>3761</th>\n      <td>1064516</td>\n      <td>7</td>\n      <td>430.60</td>\n      <td>1.428571</td>\n      <td>5</td>\n      <td>0</td>\n      <td>0</td>\n      <td>0</td>\n      <td>0</td>\n      <td>0</td>\n      <td>...</td>\n      <td>0</td>\n      <td>0</td>\n      <td>0</td>\n      <td>0.028865</td>\n      <td>51.428196</td>\n      <td>40.195020</td>\n      <td>78.157554</td>\n      <td>11.037517</td>\n      <td>111.790464</td>\n      <td>111.790464</td>\n    </tr>\n    <tr>\n      <th>3762</th>\n      <td>1067147</td>\n      <td>5</td>\n      <td>449.97</td>\n      <td>1.000000</td>\n      <td>1</td>\n      <td>0</td>\n      <td>0</td>\n      <td>0</td>\n      <td>0</td>\n      <td>0</td>\n      <td>...</td>\n      <td>0</td>\n      <td>0</td>\n      <td>0</td>\n      <td>0.328823</td>\n      <td>81.384689</td>\n      <td>57.180786</td>\n      <td>70.259881</td>\n      <td>19.517409</td>\n      <td>180.381791</td>\n      <td>180.381791</td>\n    </tr>\n  </tbody>\n</table>\n<p>3763 rows × 32 columns</p>\n</div>"
     },
     "execution_count": 34,
     "metadata": {},
     "output_type": "execute_result"
    }
   ],
   "source": [
    "dane_zabudowa = pd.read_csv('28/analiza_zabudowy_warminskie.csv', sep=';')\n",
    "dane_zabudowa"
   ],
   "metadata": {
    "collapsed": false,
    "ExecuteTime": {
     "end_time": "2023-11-19T14:34:43.959924500Z",
     "start_time": "2023-11-19T14:34:43.901581600Z"
    }
   },
   "id": "9024754a481e8128"
  },
  {
   "cell_type": "code",
   "execution_count": 37,
   "outputs": [
    {
     "data": {
      "text/plain": "      SIMC_id     rodzaj            nazwa                       geometry  \\\n0      149222       wieś          Adamowo  POINT (517072.190 698942.620)   \n1      157948       wieś          Adamowo  POINT (522923.230 649553.540)   \n2      117890       wieś          Adamowo  POINT (561486.270 590967.880)   \n3      471403       wieś          Adamowo  POINT (630835.770 669115.890)   \n4      149647  część wsi  Adamowo-Osiedle  POINT (521525.150 699758.410)   \n...       ...        ...              ...                            ...   \n3773  1047050      osada           Janowo  POINT (565834.280 675757.940)   \n3774   764660    kolonia   Wąglik-Kolonia  POINT (682736.170 644304.860)   \n3775   770672    kolonia            Zajdy  POINT (724720.600 686869.290)   \n3776  1067147      osada      Niewiastowo  POINT (545598.880 719970.260)   \n3777  1067526      osada    Turowski Młyn  POINT (579057.870 622015.670)   \n\n      czy_samodzielna  liczba_adresow  liczba_mieszkancow  powierzchnia  \\\n0                True              21                  65    5184091.39   \n1                True              69                 255    4841070.89   \n2                True              33                  83    2073808.18   \n3                True              13                 142   12131404.50   \n4               False              26                  88     264581.60   \n...               ...             ...                 ...           ...   \n3773             True               2                   5    4442946.03   \n3774             True               6                   7      24333.51   \n3775             True               5                  12     704732.13   \n3776             True               3                   4     607350.95   \n3777             True               1                <NA>           NaN   \n\n      liczba_budynkow  powierzchnia_budynkow  ...  \\\n0                60.0               14715.06  ...   \n1               147.0               25168.40  ...   \n2                93.0                8551.89  ...   \n3               118.0               32306.85  ...   \n4                29.0                7311.39  ...   \n...               ...                    ...  ...   \n3773             21.0                1600.72  ...   \n3774              7.0                 883.66  ...   \n3775             20.0                2580.28  ...   \n3776              5.0                 449.97  ...   \n3777              NaN                    NaN  ...   \n\n      ogolnodostepneObiektyKulturalne  pozostaleBudynkiNiemieszkalne  \\\n0                                 0.0                            0.0   \n1                                 0.0                            0.0   \n2                                 0.0                            0.0   \n3                                 0.0                            0.0   \n4                                 0.0                            0.0   \n...                               ...                            ...   \n3773                              0.0                            0.0   \n3774                              0.0                            0.0   \n3775                              0.0                            0.0   \n3776                              0.0                            0.0   \n3777                              NaN                            NaN   \n\n      zbiornikSilosIBudynkiMagazynowe  nna_index  srednia_odleglosci  \\\n0                                 0.0   0.287704         1223.486507   \n1                                 0.0   0.345539         1211.098579   \n2                                 0.0   0.232380          203.093999   \n3                                 0.0   0.160716         1239.796179   \n4                                 3.0   0.454862          132.621878   \n...                               ...        ...                 ...   \n3773                              0.0   0.358676         1158.103589   \n3774                              0.0   1.081121           59.375132   \n3775                              0.0   0.165141          505.469867   \n3776                              0.0   0.328823           81.384689   \n3777                              NaN        NaN                 NaN   \n\n      odchylenie_standardowe  wspolczynnik_zmiennosci  min_odleglosc  \\\n0                 853.187516                69.734117       6.805516   \n1                 648.750812                53.567135       7.723816   \n2                 156.541945                77.078568       5.140856   \n3                 725.923757                58.551863       6.414879   \n4                  79.351370                59.832790       5.648417   \n...                      ...                      ...            ...   \n3773             1044.314695                90.174550       7.218277   \n3774               34.049685                57.346710      24.023513   \n3775              361.880396                71.592872       7.672812   \n3776               57.180786                70.259881      19.517409   \n3777                     NaN                      NaN            NaN   \n\n      max_odleglosc  min_max_rozstep  \n0       3049.927024      3049.927024  \n1       3010.174003      3010.174003  \n2        888.593759       888.593759  \n3       3130.001913      3130.001913  \n4        402.083649       402.083649  \n...             ...              ...  \n3773    2380.240443      2380.240443  \n3774     112.380274       112.380274  \n3775    1110.875269      1110.875269  \n3776     180.381791       180.381791  \n3777            NaN              NaN  \n\n[3778 rows x 39 columns]",
      "text/html": "<div>\n<style scoped>\n    .dataframe tbody tr th:only-of-type {\n        vertical-align: middle;\n    }\n\n    .dataframe tbody tr th {\n        vertical-align: top;\n    }\n\n    .dataframe thead th {\n        text-align: right;\n    }\n</style>\n<table border=\"1\" class=\"dataframe\">\n  <thead>\n    <tr style=\"text-align: right;\">\n      <th></th>\n      <th>SIMC_id</th>\n      <th>rodzaj</th>\n      <th>nazwa</th>\n      <th>geometry</th>\n      <th>czy_samodzielna</th>\n      <th>liczba_adresow</th>\n      <th>liczba_mieszkancow</th>\n      <th>powierzchnia</th>\n      <th>liczba_budynkow</th>\n      <th>powierzchnia_budynkow</th>\n      <th>...</th>\n      <th>ogolnodostepneObiektyKulturalne</th>\n      <th>pozostaleBudynkiNiemieszkalne</th>\n      <th>zbiornikSilosIBudynkiMagazynowe</th>\n      <th>nna_index</th>\n      <th>srednia_odleglosci</th>\n      <th>odchylenie_standardowe</th>\n      <th>wspolczynnik_zmiennosci</th>\n      <th>min_odleglosc</th>\n      <th>max_odleglosc</th>\n      <th>min_max_rozstep</th>\n    </tr>\n  </thead>\n  <tbody>\n    <tr>\n      <th>0</th>\n      <td>149222</td>\n      <td>wieś</td>\n      <td>Adamowo</td>\n      <td>POINT (517072.190 698942.620)</td>\n      <td>True</td>\n      <td>21</td>\n      <td>65</td>\n      <td>5184091.39</td>\n      <td>60.0</td>\n      <td>14715.06</td>\n      <td>...</td>\n      <td>0.0</td>\n      <td>0.0</td>\n      <td>0.0</td>\n      <td>0.287704</td>\n      <td>1223.486507</td>\n      <td>853.187516</td>\n      <td>69.734117</td>\n      <td>6.805516</td>\n      <td>3049.927024</td>\n      <td>3049.927024</td>\n    </tr>\n    <tr>\n      <th>1</th>\n      <td>157948</td>\n      <td>wieś</td>\n      <td>Adamowo</td>\n      <td>POINT (522923.230 649553.540)</td>\n      <td>True</td>\n      <td>69</td>\n      <td>255</td>\n      <td>4841070.89</td>\n      <td>147.0</td>\n      <td>25168.40</td>\n      <td>...</td>\n      <td>0.0</td>\n      <td>0.0</td>\n      <td>0.0</td>\n      <td>0.345539</td>\n      <td>1211.098579</td>\n      <td>648.750812</td>\n      <td>53.567135</td>\n      <td>7.723816</td>\n      <td>3010.174003</td>\n      <td>3010.174003</td>\n    </tr>\n    <tr>\n      <th>2</th>\n      <td>117890</td>\n      <td>wieś</td>\n      <td>Adamowo</td>\n      <td>POINT (561486.270 590967.880)</td>\n      <td>True</td>\n      <td>33</td>\n      <td>83</td>\n      <td>2073808.18</td>\n      <td>93.0</td>\n      <td>8551.89</td>\n      <td>...</td>\n      <td>0.0</td>\n      <td>0.0</td>\n      <td>0.0</td>\n      <td>0.232380</td>\n      <td>203.093999</td>\n      <td>156.541945</td>\n      <td>77.078568</td>\n      <td>5.140856</td>\n      <td>888.593759</td>\n      <td>888.593759</td>\n    </tr>\n    <tr>\n      <th>3</th>\n      <td>471403</td>\n      <td>wieś</td>\n      <td>Adamowo</td>\n      <td>POINT (630835.770 669115.890)</td>\n      <td>True</td>\n      <td>13</td>\n      <td>142</td>\n      <td>12131404.50</td>\n      <td>118.0</td>\n      <td>32306.85</td>\n      <td>...</td>\n      <td>0.0</td>\n      <td>0.0</td>\n      <td>0.0</td>\n      <td>0.160716</td>\n      <td>1239.796179</td>\n      <td>725.923757</td>\n      <td>58.551863</td>\n      <td>6.414879</td>\n      <td>3130.001913</td>\n      <td>3130.001913</td>\n    </tr>\n    <tr>\n      <th>4</th>\n      <td>149647</td>\n      <td>część wsi</td>\n      <td>Adamowo-Osiedle</td>\n      <td>POINT (521525.150 699758.410)</td>\n      <td>False</td>\n      <td>26</td>\n      <td>88</td>\n      <td>264581.60</td>\n      <td>29.0</td>\n      <td>7311.39</td>\n      <td>...</td>\n      <td>0.0</td>\n      <td>0.0</td>\n      <td>3.0</td>\n      <td>0.454862</td>\n      <td>132.621878</td>\n      <td>79.351370</td>\n      <td>59.832790</td>\n      <td>5.648417</td>\n      <td>402.083649</td>\n      <td>402.083649</td>\n    </tr>\n    <tr>\n      <th>...</th>\n      <td>...</td>\n      <td>...</td>\n      <td>...</td>\n      <td>...</td>\n      <td>...</td>\n      <td>...</td>\n      <td>...</td>\n      <td>...</td>\n      <td>...</td>\n      <td>...</td>\n      <td>...</td>\n      <td>...</td>\n      <td>...</td>\n      <td>...</td>\n      <td>...</td>\n      <td>...</td>\n      <td>...</td>\n      <td>...</td>\n      <td>...</td>\n      <td>...</td>\n      <td>...</td>\n    </tr>\n    <tr>\n      <th>3773</th>\n      <td>1047050</td>\n      <td>osada</td>\n      <td>Janowo</td>\n      <td>POINT (565834.280 675757.940)</td>\n      <td>True</td>\n      <td>2</td>\n      <td>5</td>\n      <td>4442946.03</td>\n      <td>21.0</td>\n      <td>1600.72</td>\n      <td>...</td>\n      <td>0.0</td>\n      <td>0.0</td>\n      <td>0.0</td>\n      <td>0.358676</td>\n      <td>1158.103589</td>\n      <td>1044.314695</td>\n      <td>90.174550</td>\n      <td>7.218277</td>\n      <td>2380.240443</td>\n      <td>2380.240443</td>\n    </tr>\n    <tr>\n      <th>3774</th>\n      <td>764660</td>\n      <td>kolonia</td>\n      <td>Wąglik-Kolonia</td>\n      <td>POINT (682736.170 644304.860)</td>\n      <td>True</td>\n      <td>6</td>\n      <td>7</td>\n      <td>24333.51</td>\n      <td>7.0</td>\n      <td>883.66</td>\n      <td>...</td>\n      <td>0.0</td>\n      <td>0.0</td>\n      <td>0.0</td>\n      <td>1.081121</td>\n      <td>59.375132</td>\n      <td>34.049685</td>\n      <td>57.346710</td>\n      <td>24.023513</td>\n      <td>112.380274</td>\n      <td>112.380274</td>\n    </tr>\n    <tr>\n      <th>3775</th>\n      <td>770672</td>\n      <td>kolonia</td>\n      <td>Zajdy</td>\n      <td>POINT (724720.600 686869.290)</td>\n      <td>True</td>\n      <td>5</td>\n      <td>12</td>\n      <td>704732.13</td>\n      <td>20.0</td>\n      <td>2580.28</td>\n      <td>...</td>\n      <td>0.0</td>\n      <td>0.0</td>\n      <td>0.0</td>\n      <td>0.165141</td>\n      <td>505.469867</td>\n      <td>361.880396</td>\n      <td>71.592872</td>\n      <td>7.672812</td>\n      <td>1110.875269</td>\n      <td>1110.875269</td>\n    </tr>\n    <tr>\n      <th>3776</th>\n      <td>1067147</td>\n      <td>osada</td>\n      <td>Niewiastowo</td>\n      <td>POINT (545598.880 719970.260)</td>\n      <td>True</td>\n      <td>3</td>\n      <td>4</td>\n      <td>607350.95</td>\n      <td>5.0</td>\n      <td>449.97</td>\n      <td>...</td>\n      <td>0.0</td>\n      <td>0.0</td>\n      <td>0.0</td>\n      <td>0.328823</td>\n      <td>81.384689</td>\n      <td>57.180786</td>\n      <td>70.259881</td>\n      <td>19.517409</td>\n      <td>180.381791</td>\n      <td>180.381791</td>\n    </tr>\n    <tr>\n      <th>3777</th>\n      <td>1067526</td>\n      <td>osada</td>\n      <td>Turowski Młyn</td>\n      <td>POINT (579057.870 622015.670)</td>\n      <td>True</td>\n      <td>1</td>\n      <td>&lt;NA&gt;</td>\n      <td>NaN</td>\n      <td>NaN</td>\n      <td>NaN</td>\n      <td>...</td>\n      <td>NaN</td>\n      <td>NaN</td>\n      <td>NaN</td>\n      <td>NaN</td>\n      <td>NaN</td>\n      <td>NaN</td>\n      <td>NaN</td>\n      <td>NaN</td>\n      <td>NaN</td>\n      <td>NaN</td>\n    </tr>\n  </tbody>\n</table>\n<p>3778 rows × 39 columns</p>\n</div>"
     },
     "execution_count": 37,
     "metadata": {},
     "output_type": "execute_result"
    }
   ],
   "source": [
    "warminskie_prng = warminskie_prng.merge(dane_zabudowa, how='left', on='SIMC_id')\n",
    "warminskie_prng"
   ],
   "metadata": {
    "collapsed": false,
    "ExecuteTime": {
     "end_time": "2023-11-19T14:37:25.392242Z",
     "start_time": "2023-11-19T14:37:25.326431600Z"
    }
   },
   "id": "e05aad291595791d"
  },
  {
   "cell_type": "markdown",
   "source": [
    "badanie jak wygląda kwestia braków danych"
   ],
   "metadata": {
    "collapsed": false
   },
   "id": "d4e754a096e57697"
  },
  {
   "cell_type": "code",
   "execution_count": 38,
   "outputs": [
    {
     "data": {
      "text/plain": "      SIMC_id     rodzaj            nazwa  id_msc_nd  nazwa_msc_nd  \\\n0      149222       wieś          Adamowo       <NA>           NaN   \n1      157948       wieś          Adamowo       <NA>           NaN   \n2      117890       wieś          Adamowo       <NA>           NaN   \n3      471403       wieś          Adamowo       <NA>           NaN   \n4      149647  część wsi  Adamowo-Osiedle     149630  Władysławowo   \n...       ...        ...              ...        ...           ...   \n3783  1044100      osada         Rozdroże       <NA>           NaN   \n3784  1047050      osada           Janowo       <NA>           NaN   \n3785   764660    kolonia   Wąglik-Kolonia       <NA>           NaN   \n3786   770672    kolonia            Zajdy       <NA>           NaN   \n3787  1067147      osada      Niewiastowo       <NA>           NaN   \n\n                           geometry  czy_samodzielna  liczba_adresow  \\\n0     POINT (517072.190 698942.620)             True              21   \n1     POINT (522923.230 649553.540)             True              69   \n2     POINT (561486.270 590967.880)             True              33   \n3     POINT (630835.770 669115.890)             True              13   \n4     POINT (521525.150 699758.410)            False              26   \n...                             ...              ...             ...   \n3783  POINT (590288.790 610513.940)             True              76   \n3784  POINT (565834.280 675757.940)             True               2   \n3785  POINT (682736.170 644304.860)             True               6   \n3786  POINT (724720.600 686869.290)             True               5   \n3787  POINT (545598.880 719970.260)             True               3   \n\n      liczba_mieszkancow  powierzchnia  \n0                     65    5184091.39  \n1                    255    4841070.89  \n2                     83    2073808.18  \n3                    142   12131404.50  \n4                     88     264581.60  \n...                  ...           ...  \n3783                 429     944005.19  \n3784                   5    4442946.03  \n3785                   7      24333.51  \n3786                  12     704732.13  \n3787                   4     607350.95  \n\n[3714 rows x 10 columns]",
      "text/html": "<div>\n<style scoped>\n    .dataframe tbody tr th:only-of-type {\n        vertical-align: middle;\n    }\n\n    .dataframe tbody tr th {\n        vertical-align: top;\n    }\n\n    .dataframe thead th {\n        text-align: right;\n    }\n</style>\n<table border=\"1\" class=\"dataframe\">\n  <thead>\n    <tr style=\"text-align: right;\">\n      <th></th>\n      <th>SIMC_id</th>\n      <th>rodzaj</th>\n      <th>nazwa</th>\n      <th>id_msc_nd</th>\n      <th>nazwa_msc_nd</th>\n      <th>geometry</th>\n      <th>czy_samodzielna</th>\n      <th>liczba_adresow</th>\n      <th>liczba_mieszkancow</th>\n      <th>powierzchnia</th>\n    </tr>\n  </thead>\n  <tbody>\n    <tr>\n      <th>0</th>\n      <td>149222</td>\n      <td>wieś</td>\n      <td>Adamowo</td>\n      <td>&lt;NA&gt;</td>\n      <td>NaN</td>\n      <td>POINT (517072.190 698942.620)</td>\n      <td>True</td>\n      <td>21</td>\n      <td>65</td>\n      <td>5184091.39</td>\n    </tr>\n    <tr>\n      <th>1</th>\n      <td>157948</td>\n      <td>wieś</td>\n      <td>Adamowo</td>\n      <td>&lt;NA&gt;</td>\n      <td>NaN</td>\n      <td>POINT (522923.230 649553.540)</td>\n      <td>True</td>\n      <td>69</td>\n      <td>255</td>\n      <td>4841070.89</td>\n    </tr>\n    <tr>\n      <th>2</th>\n      <td>117890</td>\n      <td>wieś</td>\n      <td>Adamowo</td>\n      <td>&lt;NA&gt;</td>\n      <td>NaN</td>\n      <td>POINT (561486.270 590967.880)</td>\n      <td>True</td>\n      <td>33</td>\n      <td>83</td>\n      <td>2073808.18</td>\n    </tr>\n    <tr>\n      <th>3</th>\n      <td>471403</td>\n      <td>wieś</td>\n      <td>Adamowo</td>\n      <td>&lt;NA&gt;</td>\n      <td>NaN</td>\n      <td>POINT (630835.770 669115.890)</td>\n      <td>True</td>\n      <td>13</td>\n      <td>142</td>\n      <td>12131404.50</td>\n    </tr>\n    <tr>\n      <th>4</th>\n      <td>149647</td>\n      <td>część wsi</td>\n      <td>Adamowo-Osiedle</td>\n      <td>149630</td>\n      <td>Władysławowo</td>\n      <td>POINT (521525.150 699758.410)</td>\n      <td>False</td>\n      <td>26</td>\n      <td>88</td>\n      <td>264581.60</td>\n    </tr>\n    <tr>\n      <th>...</th>\n      <td>...</td>\n      <td>...</td>\n      <td>...</td>\n      <td>...</td>\n      <td>...</td>\n      <td>...</td>\n      <td>...</td>\n      <td>...</td>\n      <td>...</td>\n      <td>...</td>\n    </tr>\n    <tr>\n      <th>3783</th>\n      <td>1044100</td>\n      <td>osada</td>\n      <td>Rozdroże</td>\n      <td>&lt;NA&gt;</td>\n      <td>NaN</td>\n      <td>POINT (590288.790 610513.940)</td>\n      <td>True</td>\n      <td>76</td>\n      <td>429</td>\n      <td>944005.19</td>\n    </tr>\n    <tr>\n      <th>3784</th>\n      <td>1047050</td>\n      <td>osada</td>\n      <td>Janowo</td>\n      <td>&lt;NA&gt;</td>\n      <td>NaN</td>\n      <td>POINT (565834.280 675757.940)</td>\n      <td>True</td>\n      <td>2</td>\n      <td>5</td>\n      <td>4442946.03</td>\n    </tr>\n    <tr>\n      <th>3785</th>\n      <td>764660</td>\n      <td>kolonia</td>\n      <td>Wąglik-Kolonia</td>\n      <td>&lt;NA&gt;</td>\n      <td>NaN</td>\n      <td>POINT (682736.170 644304.860)</td>\n      <td>True</td>\n      <td>6</td>\n      <td>7</td>\n      <td>24333.51</td>\n    </tr>\n    <tr>\n      <th>3786</th>\n      <td>770672</td>\n      <td>kolonia</td>\n      <td>Zajdy</td>\n      <td>&lt;NA&gt;</td>\n      <td>NaN</td>\n      <td>POINT (724720.600 686869.290)</td>\n      <td>True</td>\n      <td>5</td>\n      <td>12</td>\n      <td>704732.13</td>\n    </tr>\n    <tr>\n      <th>3787</th>\n      <td>1067147</td>\n      <td>osada</td>\n      <td>Niewiastowo</td>\n      <td>&lt;NA&gt;</td>\n      <td>NaN</td>\n      <td>POINT (545598.880 719970.260)</td>\n      <td>True</td>\n      <td>3</td>\n      <td>4</td>\n      <td>607350.95</td>\n    </tr>\n  </tbody>\n</table>\n<p>3714 rows × 10 columns</p>\n</div>"
     },
     "execution_count": 38,
     "metadata": {},
     "output_type": "execute_result"
    }
   ],
   "source": [
    "bez_na2 = warminskie_prng.dropna()\n",
    "bez_na"
   ],
   "metadata": {
    "collapsed": false,
    "ExecuteTime": {
     "end_time": "2023-11-19T14:38:00.253016500Z",
     "start_time": "2023-11-19T14:38:00.163886900Z"
    }
   },
   "id": "cbc88d84a8f98cd8"
  },
  {
   "cell_type": "code",
   "execution_count": 39,
   "outputs": [
    {
     "data": {
      "text/plain": "rodzaj\nwieś                2385\nosada                936\nczęść wsi            120\nkolonia               82\nosada leśna           81\nprzysiółek wsi        62\nprzysiółek            16\nprzysiółek osady      16\nkolonia wsi            6\nosada wsi              6\nczęść kolonii          2\nosada leśna wsi        1\nName: count, dtype: int64"
     },
     "execution_count": 39,
     "metadata": {},
     "output_type": "execute_result"
    }
   ],
   "source": [
    "bez_na2['rodzaj'].value_counts()\n",
    "# czyli braki prezentują się prawie tak samo jak przed dodaniem cech zabudowy - dobry znak"
   ],
   "metadata": {
    "collapsed": false,
    "ExecuteTime": {
     "end_time": "2023-11-19T14:41:01.765715Z",
     "start_time": "2023-11-19T14:41:01.707342600Z"
    }
   },
   "id": "fa98dd38bd02d29a"
  },
  {
   "cell_type": "code",
   "execution_count": 43,
   "outputs": [
    {
     "data": {
      "text/plain": "      SIMC_id          rodzaj            nazwa                       geometry  \\\n41     488289           osada          Bajorki  POINT (665265.610 716079.110)   \n70     473750     osada leśna           Barduń  POINT (575860.940 647622.450)   \n144    486089  przysiółek wsi           Bieńki  POINT (647427.360 654896.520)   \n320    490955     osada leśna  Nowe Chmielówko  POINT (542970.830 651975.800)   \n339    484848     osada leśna        Cichogrąd  POINT (588119.010 643554.970)   \n...       ...             ...              ...                            ...   \n3724   477759           osada        Henrykowo  POINT (649628.660 682306.010)   \n3747   473885           osada          Barwiny  POINT (587705.710 649081.290)   \n3748   473773           osada          Cegłowo  POINT (584778.330 652306.700)   \n3770  1061630           osada          Parkity  POINT (614332.880 690722.390)   \n3777  1067526           osada    Turowski Młyn  POINT (579057.870 622015.670)   \n\n      czy_samodzielna  liczba_adresow  liczba_mieszkancow  powierzchnia  \\\n41               True               1                <NA>           NaN   \n70               True               2                <NA>    1274413.52   \n144             False               2                <NA>     201594.06   \n320              True               1                <NA>     828537.59   \n339              True               5                <NA>    3897072.99   \n...               ...             ...                 ...           ...   \n3724             True               1                <NA>           NaN   \n3747             True               6                <NA>    1127197.07   \n3748             True               5                <NA>     285089.87   \n3770             True               1                   1    2194465.41   \n3777             True               1                <NA>           NaN   \n\n      liczba_budynkow  powierzchnia_budynkow  ...  \\\n41                NaN                    NaN  ...   \n70                7.0                 684.67  ...   \n144              18.0                1679.79  ...   \n320              18.0                1300.67  ...   \n339               6.0                 707.13  ...   \n...               ...                    ...  ...   \n3724              NaN                    NaN  ...   \n3747             10.0                2536.58  ...   \n3748              9.0                1423.26  ...   \n3770              NaN                    NaN  ...   \n3777              NaN                    NaN  ...   \n\n      ogolnodostepneObiektyKulturalne  pozostaleBudynkiNiemieszkalne  \\\n41                                NaN                            NaN   \n70                                0.0                            0.0   \n144                               0.0                            0.0   \n320                               0.0                            0.0   \n339                               0.0                            0.0   \n...                               ...                            ...   \n3724                              NaN                            NaN   \n3747                              0.0                            0.0   \n3748                              0.0                            0.0   \n3770                              NaN                            NaN   \n3777                              NaN                            NaN   \n\n      zbiornikSilosIBudynkiMagazynowe  nna_index  srednia_odleglosci  \\\n41                                NaN        NaN                 NaN   \n70                                0.0   0.096342          142.343869   \n144                               0.0   0.433279          171.640715   \n320                               0.0   0.212041           58.080137   \n339                               0.0   0.438131          309.836649   \n...                               ...        ...                 ...   \n3724                              NaN        NaN                 NaN   \n3747                              0.0   0.315121          449.123881   \n3748                              0.0   0.354005          112.064060   \n3770                              NaN        NaN                 NaN   \n3777                              NaN        NaN                 NaN   \n\n      odchylenie_standardowe  wspolczynnik_zmiennosci  min_odleglosc  \\\n41                       NaN                      NaN            NaN   \n70                116.961328                82.168153      16.381119   \n144               216.059073               125.878684       6.293846   \n320                28.972878                49.884315      17.037495   \n339               416.116799               134.301994      20.592213   \n...                      ...                      ...            ...   \n3724                     NaN                      NaN            NaN   \n3747              319.295185                71.092898      18.210738   \n3748               76.945263                68.661856      15.615158   \n3770                     NaN                      NaN            NaN   \n3777                     NaN                      NaN            NaN   \n\n      max_odleglosc  min_max_rozstep  \n41              NaN              NaN  \n70       314.344279       314.344279  \n144      617.169036       617.169036  \n320      122.385751       122.385751  \n339     1022.086441      1022.086441  \n...             ...              ...  \n3724            NaN              NaN  \n3747    1052.913971      1052.913971  \n3748     259.986453       259.986453  \n3770            NaN              NaN  \n3777            NaN              NaN  \n\n[65 rows x 39 columns]",
      "text/html": "<div>\n<style scoped>\n    .dataframe tbody tr th:only-of-type {\n        vertical-align: middle;\n    }\n\n    .dataframe tbody tr th {\n        vertical-align: top;\n    }\n\n    .dataframe thead th {\n        text-align: right;\n    }\n</style>\n<table border=\"1\" class=\"dataframe\">\n  <thead>\n    <tr style=\"text-align: right;\">\n      <th></th>\n      <th>SIMC_id</th>\n      <th>rodzaj</th>\n      <th>nazwa</th>\n      <th>geometry</th>\n      <th>czy_samodzielna</th>\n      <th>liczba_adresow</th>\n      <th>liczba_mieszkancow</th>\n      <th>powierzchnia</th>\n      <th>liczba_budynkow</th>\n      <th>powierzchnia_budynkow</th>\n      <th>...</th>\n      <th>ogolnodostepneObiektyKulturalne</th>\n      <th>pozostaleBudynkiNiemieszkalne</th>\n      <th>zbiornikSilosIBudynkiMagazynowe</th>\n      <th>nna_index</th>\n      <th>srednia_odleglosci</th>\n      <th>odchylenie_standardowe</th>\n      <th>wspolczynnik_zmiennosci</th>\n      <th>min_odleglosc</th>\n      <th>max_odleglosc</th>\n      <th>min_max_rozstep</th>\n    </tr>\n  </thead>\n  <tbody>\n    <tr>\n      <th>41</th>\n      <td>488289</td>\n      <td>osada</td>\n      <td>Bajorki</td>\n      <td>POINT (665265.610 716079.110)</td>\n      <td>True</td>\n      <td>1</td>\n      <td>&lt;NA&gt;</td>\n      <td>NaN</td>\n      <td>NaN</td>\n      <td>NaN</td>\n      <td>...</td>\n      <td>NaN</td>\n      <td>NaN</td>\n      <td>NaN</td>\n      <td>NaN</td>\n      <td>NaN</td>\n      <td>NaN</td>\n      <td>NaN</td>\n      <td>NaN</td>\n      <td>NaN</td>\n      <td>NaN</td>\n    </tr>\n    <tr>\n      <th>70</th>\n      <td>473750</td>\n      <td>osada leśna</td>\n      <td>Barduń</td>\n      <td>POINT (575860.940 647622.450)</td>\n      <td>True</td>\n      <td>2</td>\n      <td>&lt;NA&gt;</td>\n      <td>1274413.52</td>\n      <td>7.0</td>\n      <td>684.67</td>\n      <td>...</td>\n      <td>0.0</td>\n      <td>0.0</td>\n      <td>0.0</td>\n      <td>0.096342</td>\n      <td>142.343869</td>\n      <td>116.961328</td>\n      <td>82.168153</td>\n      <td>16.381119</td>\n      <td>314.344279</td>\n      <td>314.344279</td>\n    </tr>\n    <tr>\n      <th>144</th>\n      <td>486089</td>\n      <td>przysiółek wsi</td>\n      <td>Bieńki</td>\n      <td>POINT (647427.360 654896.520)</td>\n      <td>False</td>\n      <td>2</td>\n      <td>&lt;NA&gt;</td>\n      <td>201594.06</td>\n      <td>18.0</td>\n      <td>1679.79</td>\n      <td>...</td>\n      <td>0.0</td>\n      <td>0.0</td>\n      <td>0.0</td>\n      <td>0.433279</td>\n      <td>171.640715</td>\n      <td>216.059073</td>\n      <td>125.878684</td>\n      <td>6.293846</td>\n      <td>617.169036</td>\n      <td>617.169036</td>\n    </tr>\n    <tr>\n      <th>320</th>\n      <td>490955</td>\n      <td>osada leśna</td>\n      <td>Nowe Chmielówko</td>\n      <td>POINT (542970.830 651975.800)</td>\n      <td>True</td>\n      <td>1</td>\n      <td>&lt;NA&gt;</td>\n      <td>828537.59</td>\n      <td>18.0</td>\n      <td>1300.67</td>\n      <td>...</td>\n      <td>0.0</td>\n      <td>0.0</td>\n      <td>0.0</td>\n      <td>0.212041</td>\n      <td>58.080137</td>\n      <td>28.972878</td>\n      <td>49.884315</td>\n      <td>17.037495</td>\n      <td>122.385751</td>\n      <td>122.385751</td>\n    </tr>\n    <tr>\n      <th>339</th>\n      <td>484848</td>\n      <td>osada leśna</td>\n      <td>Cichogrąd</td>\n      <td>POINT (588119.010 643554.970)</td>\n      <td>True</td>\n      <td>5</td>\n      <td>&lt;NA&gt;</td>\n      <td>3897072.99</td>\n      <td>6.0</td>\n      <td>707.13</td>\n      <td>...</td>\n      <td>0.0</td>\n      <td>0.0</td>\n      <td>0.0</td>\n      <td>0.438131</td>\n      <td>309.836649</td>\n      <td>416.116799</td>\n      <td>134.301994</td>\n      <td>20.592213</td>\n      <td>1022.086441</td>\n      <td>1022.086441</td>\n    </tr>\n    <tr>\n      <th>...</th>\n      <td>...</td>\n      <td>...</td>\n      <td>...</td>\n      <td>...</td>\n      <td>...</td>\n      <td>...</td>\n      <td>...</td>\n      <td>...</td>\n      <td>...</td>\n      <td>...</td>\n      <td>...</td>\n      <td>...</td>\n      <td>...</td>\n      <td>...</td>\n      <td>...</td>\n      <td>...</td>\n      <td>...</td>\n      <td>...</td>\n      <td>...</td>\n      <td>...</td>\n      <td>...</td>\n    </tr>\n    <tr>\n      <th>3724</th>\n      <td>477759</td>\n      <td>osada</td>\n      <td>Henrykowo</td>\n      <td>POINT (649628.660 682306.010)</td>\n      <td>True</td>\n      <td>1</td>\n      <td>&lt;NA&gt;</td>\n      <td>NaN</td>\n      <td>NaN</td>\n      <td>NaN</td>\n      <td>...</td>\n      <td>NaN</td>\n      <td>NaN</td>\n      <td>NaN</td>\n      <td>NaN</td>\n      <td>NaN</td>\n      <td>NaN</td>\n      <td>NaN</td>\n      <td>NaN</td>\n      <td>NaN</td>\n      <td>NaN</td>\n    </tr>\n    <tr>\n      <th>3747</th>\n      <td>473885</td>\n      <td>osada</td>\n      <td>Barwiny</td>\n      <td>POINT (587705.710 649081.290)</td>\n      <td>True</td>\n      <td>6</td>\n      <td>&lt;NA&gt;</td>\n      <td>1127197.07</td>\n      <td>10.0</td>\n      <td>2536.58</td>\n      <td>...</td>\n      <td>0.0</td>\n      <td>0.0</td>\n      <td>0.0</td>\n      <td>0.315121</td>\n      <td>449.123881</td>\n      <td>319.295185</td>\n      <td>71.092898</td>\n      <td>18.210738</td>\n      <td>1052.913971</td>\n      <td>1052.913971</td>\n    </tr>\n    <tr>\n      <th>3748</th>\n      <td>473773</td>\n      <td>osada</td>\n      <td>Cegłowo</td>\n      <td>POINT (584778.330 652306.700)</td>\n      <td>True</td>\n      <td>5</td>\n      <td>&lt;NA&gt;</td>\n      <td>285089.87</td>\n      <td>9.0</td>\n      <td>1423.26</td>\n      <td>...</td>\n      <td>0.0</td>\n      <td>0.0</td>\n      <td>0.0</td>\n      <td>0.354005</td>\n      <td>112.064060</td>\n      <td>76.945263</td>\n      <td>68.661856</td>\n      <td>15.615158</td>\n      <td>259.986453</td>\n      <td>259.986453</td>\n    </tr>\n    <tr>\n      <th>3770</th>\n      <td>1061630</td>\n      <td>osada</td>\n      <td>Parkity</td>\n      <td>POINT (614332.880 690722.390)</td>\n      <td>True</td>\n      <td>1</td>\n      <td>1</td>\n      <td>2194465.41</td>\n      <td>NaN</td>\n      <td>NaN</td>\n      <td>...</td>\n      <td>NaN</td>\n      <td>NaN</td>\n      <td>NaN</td>\n      <td>NaN</td>\n      <td>NaN</td>\n      <td>NaN</td>\n      <td>NaN</td>\n      <td>NaN</td>\n      <td>NaN</td>\n      <td>NaN</td>\n    </tr>\n    <tr>\n      <th>3777</th>\n      <td>1067526</td>\n      <td>osada</td>\n      <td>Turowski Młyn</td>\n      <td>POINT (579057.870 622015.670)</td>\n      <td>True</td>\n      <td>1</td>\n      <td>&lt;NA&gt;</td>\n      <td>NaN</td>\n      <td>NaN</td>\n      <td>NaN</td>\n      <td>...</td>\n      <td>NaN</td>\n      <td>NaN</td>\n      <td>NaN</td>\n      <td>NaN</td>\n      <td>NaN</td>\n      <td>NaN</td>\n      <td>NaN</td>\n      <td>NaN</td>\n      <td>NaN</td>\n      <td>NaN</td>\n    </tr>\n  </tbody>\n</table>\n<p>65 rows × 39 columns</p>\n</div>"
     },
     "execution_count": 43,
     "metadata": {},
     "output_type": "execute_result"
    }
   ],
   "source": [
    "na = warminskie_prng[warminskie_prng.isnull().any(axis=1)]\n",
    "na\n",
    "# rekordów z brakującymi danymi jest 65\n",
    "# w związku z tym, że te braki na razie są ściśle związane z brakiem informacji o liczbie mieszkańców - można spróbować je uzupełnić później\n",
    "# na razie braki w liczbie mieszkańców zostaną zastąpione zerami"
   ],
   "metadata": {
    "collapsed": false,
    "ExecuteTime": {
     "end_time": "2023-11-19T14:51:18.101456400Z",
     "start_time": "2023-11-19T14:51:18.040721600Z"
    }
   },
   "id": "54f7a58f7c744803"
  },
  {
   "cell_type": "code",
   "execution_count": 44,
   "outputs": [
    {
     "name": "stdout",
     "output_type": "stream",
     "text": [
      "      SIMC_id       rodzaj            nazwa                       geometry  \\\n",
      "41     488289        osada          Bajorki  POINT (665265.610 716079.110)   \n",
      "694    148850        osada           Glinka  POINT (552501.570 717686.150)   \n",
      "972    753604      kolonia          Jeglewo  POINT (696472.790 709470.410)   \n",
      "980    766890  osada leśna            Jeleń  POINT (662381.110 639547.720)   \n",
      "1659   155470         wieś           Łojewo  POINT (562394.900 710231.780)   \n",
      "2139   755879        osada          Ostrowo  POINT (725014.650 718138.760)   \n",
      "2768   756867        osada             Skup  POINT (721532.970 675348.720)   \n",
      "2792   484759      kolonia         Smolanek  POINT (576410.850 643313.960)   \n",
      "3333   148783         wieś            Wilki  POINT (562308.100 728620.860)   \n",
      "3686  1067578         wieś    Mikosze-Osada  POINT (691453.040 665399.440)   \n",
      "3699   479764         wieś  Kłusity Wielkie  POINT (588034.430 707217.590)   \n",
      "3715   154186      kolonia           Gibity  POINT (546460.360 696339.850)   \n",
      "3724   477759        osada        Henrykowo  POINT (649628.660 682306.010)   \n",
      "3770  1061630        osada          Parkity  POINT (614332.880 690722.390)   \n",
      "3777  1067526        osada    Turowski Młyn  POINT (579057.870 622015.670)   \n",
      "\n",
      "      czy_samodzielna  liczba_adresow  liczba_mieszkancow  powierzchnia  \\\n",
      "41               True               1                <NA>           NaN   \n",
      "694              True              14                <NA>           NaN   \n",
      "972              True               1                <NA>           NaN   \n",
      "980              True               1                <NA>           NaN   \n",
      "1659             True               1                <NA>           NaN   \n",
      "2139             True               1                <NA>           NaN   \n",
      "2768             True               2                <NA>           NaN   \n",
      "2792             True               2                <NA>           NaN   \n",
      "3333             True               2                <NA>           NaN   \n",
      "3686             True              15                <NA>           NaN   \n",
      "3699             True               1                <NA>           NaN   \n",
      "3715             True               4                <NA>           NaN   \n",
      "3724             True               1                <NA>           NaN   \n",
      "3770             True               1                   1    2194465.41   \n",
      "3777             True               1                <NA>           NaN   \n",
      "\n",
      "      liczba_budynkow  powierzchnia_budynkow  ...  \\\n",
      "41                NaN                    NaN  ...   \n",
      "694               NaN                    NaN  ...   \n",
      "972               NaN                    NaN  ...   \n",
      "980               NaN                    NaN  ...   \n",
      "1659              NaN                    NaN  ...   \n",
      "2139              NaN                    NaN  ...   \n",
      "2768              NaN                    NaN  ...   \n",
      "2792              NaN                    NaN  ...   \n",
      "3333              NaN                    NaN  ...   \n",
      "3686              NaN                    NaN  ...   \n",
      "3699              NaN                    NaN  ...   \n",
      "3715              NaN                    NaN  ...   \n",
      "3724              NaN                    NaN  ...   \n",
      "3770              NaN                    NaN  ...   \n",
      "3777              NaN                    NaN  ...   \n",
      "\n",
      "      ogolnodostepneObiektyKulturalne  pozostaleBudynkiNiemieszkalne  \\\n",
      "41                                NaN                            NaN   \n",
      "694                               NaN                            NaN   \n",
      "972                               NaN                            NaN   \n",
      "980                               NaN                            NaN   \n",
      "1659                              NaN                            NaN   \n",
      "2139                              NaN                            NaN   \n",
      "2768                              NaN                            NaN   \n",
      "2792                              NaN                            NaN   \n",
      "3333                              NaN                            NaN   \n",
      "3686                              NaN                            NaN   \n",
      "3699                              NaN                            NaN   \n",
      "3715                              NaN                            NaN   \n",
      "3724                              NaN                            NaN   \n",
      "3770                              NaN                            NaN   \n",
      "3777                              NaN                            NaN   \n",
      "\n",
      "      zbiornikSilosIBudynkiMagazynowe  nna_index  srednia_odleglosci  \\\n",
      "41                                NaN        NaN                 NaN   \n",
      "694                               NaN        NaN                 NaN   \n",
      "972                               NaN        NaN                 NaN   \n",
      "980                               NaN        NaN                 NaN   \n",
      "1659                              NaN        NaN                 NaN   \n",
      "2139                              NaN        NaN                 NaN   \n",
      "2768                              NaN        NaN                 NaN   \n",
      "2792                              NaN        NaN                 NaN   \n",
      "3333                              NaN        NaN                 NaN   \n",
      "3686                              NaN        NaN                 NaN   \n",
      "3699                              NaN        NaN                 NaN   \n",
      "3715                              NaN        NaN                 NaN   \n",
      "3724                              NaN        NaN                 NaN   \n",
      "3770                              NaN        NaN                 NaN   \n",
      "3777                              NaN        NaN                 NaN   \n",
      "\n",
      "      odchylenie_standardowe  wspolczynnik_zmiennosci  min_odleglosc  \\\n",
      "41                       NaN                      NaN            NaN   \n",
      "694                      NaN                      NaN            NaN   \n",
      "972                      NaN                      NaN            NaN   \n",
      "980                      NaN                      NaN            NaN   \n",
      "1659                     NaN                      NaN            NaN   \n",
      "2139                     NaN                      NaN            NaN   \n",
      "2768                     NaN                      NaN            NaN   \n",
      "2792                     NaN                      NaN            NaN   \n",
      "3333                     NaN                      NaN            NaN   \n",
      "3686                     NaN                      NaN            NaN   \n",
      "3699                     NaN                      NaN            NaN   \n",
      "3715                     NaN                      NaN            NaN   \n",
      "3724                     NaN                      NaN            NaN   \n",
      "3770                     NaN                      NaN            NaN   \n",
      "3777                     NaN                      NaN            NaN   \n",
      "\n",
      "      max_odleglosc  min_max_rozstep  \n",
      "41              NaN              NaN  \n",
      "694             NaN              NaN  \n",
      "972             NaN              NaN  \n",
      "980             NaN              NaN  \n",
      "1659            NaN              NaN  \n",
      "2139            NaN              NaN  \n",
      "2768            NaN              NaN  \n",
      "2792            NaN              NaN  \n",
      "3333            NaN              NaN  \n",
      "3686            NaN              NaN  \n",
      "3699            NaN              NaN  \n",
      "3715            NaN              NaN  \n",
      "3724            NaN              NaN  \n",
      "3770            NaN              NaN  \n",
      "3777            NaN              NaN  \n",
      "\n",
      "[15 rows x 39 columns]\n"
     ]
    },
    {
     "data": {
      "text/plain": "{148783,\n 148850,\n 154186,\n 155470,\n 477759,\n 479764,\n 484759,\n 488289,\n 753604,\n 755879,\n 756867,\n 766890,\n 1061630,\n 1067526,\n 1067578}"
     },
     "execution_count": 44,
     "metadata": {},
     "output_type": "execute_result"
    }
   ],
   "source": [
    "na_sum = warminskie_prng[warminskie_prng.isnull().sum(axis=1)>1]\n",
    "print(na_sum)\n",
    "# na razie zostaną wyrzucone rekordy, które mają więcej niż jeden brak danych - jest ich 15\n",
    "set_na_sum = set(na_sum['SIMC_id'])\n",
    "set_na_sum"
   ],
   "metadata": {
    "collapsed": false,
    "ExecuteTime": {
     "end_time": "2023-11-19T14:51:59.122852200Z",
     "start_time": "2023-11-19T14:51:59.021961900Z"
    }
   },
   "id": "69a1cdf9d8cf21c"
  },
  {
   "cell_type": "code",
   "execution_count": 45,
   "outputs": [
    {
     "data": {
      "text/plain": "      SIMC_id     rodzaj            nazwa                       geometry  \\\n0      149222       wieś          Adamowo  POINT (517072.190 698942.620)   \n1      157948       wieś          Adamowo  POINT (522923.230 649553.540)   \n2      117890       wieś          Adamowo  POINT (561486.270 590967.880)   \n3      471403       wieś          Adamowo  POINT (630835.770 669115.890)   \n4      149647  część wsi  Adamowo-Osiedle  POINT (521525.150 699758.410)   \n...       ...        ...              ...                            ...   \n3772  1044100      osada         Rozdroże  POINT (590288.790 610513.940)   \n3773  1047050      osada           Janowo  POINT (565834.280 675757.940)   \n3774   764660    kolonia   Wąglik-Kolonia  POINT (682736.170 644304.860)   \n3775   770672    kolonia            Zajdy  POINT (724720.600 686869.290)   \n3776  1067147      osada      Niewiastowo  POINT (545598.880 719970.260)   \n\n      czy_samodzielna  liczba_adresow  liczba_mieszkancow  powierzchnia  \\\n0                True              21                  65    5184091.39   \n1                True              69                 255    4841070.89   \n2                True              33                  83    2073808.18   \n3                True              13                 142   12131404.50   \n4               False              26                  88     264581.60   \n...               ...             ...                 ...           ...   \n3772             True              76                 429     944005.19   \n3773             True               2                   5    4442946.03   \n3774             True               6                   7      24333.51   \n3775             True               5                  12     704732.13   \n3776             True               3                   4     607350.95   \n\n      liczba_budynkow  powierzchnia_budynkow  ...  \\\n0                60.0               14715.06  ...   \n1               147.0               25168.40  ...   \n2                93.0                8551.89  ...   \n3               118.0               32306.85  ...   \n4                29.0                7311.39  ...   \n...               ...                    ...  ...   \n3772             88.0               17862.33  ...   \n3773             21.0                1600.72  ...   \n3774              7.0                 883.66  ...   \n3775             20.0                2580.28  ...   \n3776              5.0                 449.97  ...   \n\n      ogolnodostepneObiektyKulturalne  pozostaleBudynkiNiemieszkalne  \\\n0                                 0.0                            0.0   \n1                                 0.0                            0.0   \n2                                 0.0                            0.0   \n3                                 0.0                            0.0   \n4                                 0.0                            0.0   \n...                               ...                            ...   \n3772                              0.0                            1.0   \n3773                              0.0                            0.0   \n3774                              0.0                            0.0   \n3775                              0.0                            0.0   \n3776                              0.0                            0.0   \n\n      zbiornikSilosIBudynkiMagazynowe  nna_index  srednia_odleglosci  \\\n0                                 0.0   0.287704         1223.486507   \n1                                 0.0   0.345539         1211.098579   \n2                                 0.0   0.232380          203.093999   \n3                                 0.0   0.160716         1239.796179   \n4                                 3.0   0.454862          132.621878   \n...                               ...        ...                 ...   \n3772                              0.0   0.570609          397.641182   \n3773                              0.0   0.358676         1158.103589   \n3774                              0.0   1.081121           59.375132   \n3775                              0.0   0.165141          505.469867   \n3776                              0.0   0.328823           81.384689   \n\n      odchylenie_standardowe  wspolczynnik_zmiennosci  min_odleglosc  \\\n0                 853.187516                69.734117       6.805516   \n1                 648.750812                53.567135       7.723816   \n2                 156.541945                77.078568       5.140856   \n3                 725.923757                58.551863       6.414879   \n4                  79.351370                59.832790       5.648417   \n...                      ...                      ...            ...   \n3772              221.024272                55.583848       6.201421   \n3773             1044.314695                90.174550       7.218277   \n3774               34.049685                57.346710      24.023513   \n3775              361.880396                71.592872       7.672812   \n3776               57.180786                70.259881      19.517409   \n\n      max_odleglosc  min_max_rozstep  \n0       3049.927024      3049.927024  \n1       3010.174003      3010.174003  \n2        888.593759       888.593759  \n3       3130.001913      3130.001913  \n4        402.083649       402.083649  \n...             ...              ...  \n3772    1074.914468      1074.914468  \n3773    2380.240443      2380.240443  \n3774     112.380274       112.380274  \n3775    1110.875269      1110.875269  \n3776     180.381791       180.381791  \n\n[3763 rows x 39 columns]",
      "text/html": "<div>\n<style scoped>\n    .dataframe tbody tr th:only-of-type {\n        vertical-align: middle;\n    }\n\n    .dataframe tbody tr th {\n        vertical-align: top;\n    }\n\n    .dataframe thead th {\n        text-align: right;\n    }\n</style>\n<table border=\"1\" class=\"dataframe\">\n  <thead>\n    <tr style=\"text-align: right;\">\n      <th></th>\n      <th>SIMC_id</th>\n      <th>rodzaj</th>\n      <th>nazwa</th>\n      <th>geometry</th>\n      <th>czy_samodzielna</th>\n      <th>liczba_adresow</th>\n      <th>liczba_mieszkancow</th>\n      <th>powierzchnia</th>\n      <th>liczba_budynkow</th>\n      <th>powierzchnia_budynkow</th>\n      <th>...</th>\n      <th>ogolnodostepneObiektyKulturalne</th>\n      <th>pozostaleBudynkiNiemieszkalne</th>\n      <th>zbiornikSilosIBudynkiMagazynowe</th>\n      <th>nna_index</th>\n      <th>srednia_odleglosci</th>\n      <th>odchylenie_standardowe</th>\n      <th>wspolczynnik_zmiennosci</th>\n      <th>min_odleglosc</th>\n      <th>max_odleglosc</th>\n      <th>min_max_rozstep</th>\n    </tr>\n  </thead>\n  <tbody>\n    <tr>\n      <th>0</th>\n      <td>149222</td>\n      <td>wieś</td>\n      <td>Adamowo</td>\n      <td>POINT (517072.190 698942.620)</td>\n      <td>True</td>\n      <td>21</td>\n      <td>65</td>\n      <td>5184091.39</td>\n      <td>60.0</td>\n      <td>14715.06</td>\n      <td>...</td>\n      <td>0.0</td>\n      <td>0.0</td>\n      <td>0.0</td>\n      <td>0.287704</td>\n      <td>1223.486507</td>\n      <td>853.187516</td>\n      <td>69.734117</td>\n      <td>6.805516</td>\n      <td>3049.927024</td>\n      <td>3049.927024</td>\n    </tr>\n    <tr>\n      <th>1</th>\n      <td>157948</td>\n      <td>wieś</td>\n      <td>Adamowo</td>\n      <td>POINT (522923.230 649553.540)</td>\n      <td>True</td>\n      <td>69</td>\n      <td>255</td>\n      <td>4841070.89</td>\n      <td>147.0</td>\n      <td>25168.40</td>\n      <td>...</td>\n      <td>0.0</td>\n      <td>0.0</td>\n      <td>0.0</td>\n      <td>0.345539</td>\n      <td>1211.098579</td>\n      <td>648.750812</td>\n      <td>53.567135</td>\n      <td>7.723816</td>\n      <td>3010.174003</td>\n      <td>3010.174003</td>\n    </tr>\n    <tr>\n      <th>2</th>\n      <td>117890</td>\n      <td>wieś</td>\n      <td>Adamowo</td>\n      <td>POINT (561486.270 590967.880)</td>\n      <td>True</td>\n      <td>33</td>\n      <td>83</td>\n      <td>2073808.18</td>\n      <td>93.0</td>\n      <td>8551.89</td>\n      <td>...</td>\n      <td>0.0</td>\n      <td>0.0</td>\n      <td>0.0</td>\n      <td>0.232380</td>\n      <td>203.093999</td>\n      <td>156.541945</td>\n      <td>77.078568</td>\n      <td>5.140856</td>\n      <td>888.593759</td>\n      <td>888.593759</td>\n    </tr>\n    <tr>\n      <th>3</th>\n      <td>471403</td>\n      <td>wieś</td>\n      <td>Adamowo</td>\n      <td>POINT (630835.770 669115.890)</td>\n      <td>True</td>\n      <td>13</td>\n      <td>142</td>\n      <td>12131404.50</td>\n      <td>118.0</td>\n      <td>32306.85</td>\n      <td>...</td>\n      <td>0.0</td>\n      <td>0.0</td>\n      <td>0.0</td>\n      <td>0.160716</td>\n      <td>1239.796179</td>\n      <td>725.923757</td>\n      <td>58.551863</td>\n      <td>6.414879</td>\n      <td>3130.001913</td>\n      <td>3130.001913</td>\n    </tr>\n    <tr>\n      <th>4</th>\n      <td>149647</td>\n      <td>część wsi</td>\n      <td>Adamowo-Osiedle</td>\n      <td>POINT (521525.150 699758.410)</td>\n      <td>False</td>\n      <td>26</td>\n      <td>88</td>\n      <td>264581.60</td>\n      <td>29.0</td>\n      <td>7311.39</td>\n      <td>...</td>\n      <td>0.0</td>\n      <td>0.0</td>\n      <td>3.0</td>\n      <td>0.454862</td>\n      <td>132.621878</td>\n      <td>79.351370</td>\n      <td>59.832790</td>\n      <td>5.648417</td>\n      <td>402.083649</td>\n      <td>402.083649</td>\n    </tr>\n    <tr>\n      <th>...</th>\n      <td>...</td>\n      <td>...</td>\n      <td>...</td>\n      <td>...</td>\n      <td>...</td>\n      <td>...</td>\n      <td>...</td>\n      <td>...</td>\n      <td>...</td>\n      <td>...</td>\n      <td>...</td>\n      <td>...</td>\n      <td>...</td>\n      <td>...</td>\n      <td>...</td>\n      <td>...</td>\n      <td>...</td>\n      <td>...</td>\n      <td>...</td>\n      <td>...</td>\n      <td>...</td>\n    </tr>\n    <tr>\n      <th>3772</th>\n      <td>1044100</td>\n      <td>osada</td>\n      <td>Rozdroże</td>\n      <td>POINT (590288.790 610513.940)</td>\n      <td>True</td>\n      <td>76</td>\n      <td>429</td>\n      <td>944005.19</td>\n      <td>88.0</td>\n      <td>17862.33</td>\n      <td>...</td>\n      <td>0.0</td>\n      <td>1.0</td>\n      <td>0.0</td>\n      <td>0.570609</td>\n      <td>397.641182</td>\n      <td>221.024272</td>\n      <td>55.583848</td>\n      <td>6.201421</td>\n      <td>1074.914468</td>\n      <td>1074.914468</td>\n    </tr>\n    <tr>\n      <th>3773</th>\n      <td>1047050</td>\n      <td>osada</td>\n      <td>Janowo</td>\n      <td>POINT (565834.280 675757.940)</td>\n      <td>True</td>\n      <td>2</td>\n      <td>5</td>\n      <td>4442946.03</td>\n      <td>21.0</td>\n      <td>1600.72</td>\n      <td>...</td>\n      <td>0.0</td>\n      <td>0.0</td>\n      <td>0.0</td>\n      <td>0.358676</td>\n      <td>1158.103589</td>\n      <td>1044.314695</td>\n      <td>90.174550</td>\n      <td>7.218277</td>\n      <td>2380.240443</td>\n      <td>2380.240443</td>\n    </tr>\n    <tr>\n      <th>3774</th>\n      <td>764660</td>\n      <td>kolonia</td>\n      <td>Wąglik-Kolonia</td>\n      <td>POINT (682736.170 644304.860)</td>\n      <td>True</td>\n      <td>6</td>\n      <td>7</td>\n      <td>24333.51</td>\n      <td>7.0</td>\n      <td>883.66</td>\n      <td>...</td>\n      <td>0.0</td>\n      <td>0.0</td>\n      <td>0.0</td>\n      <td>1.081121</td>\n      <td>59.375132</td>\n      <td>34.049685</td>\n      <td>57.346710</td>\n      <td>24.023513</td>\n      <td>112.380274</td>\n      <td>112.380274</td>\n    </tr>\n    <tr>\n      <th>3775</th>\n      <td>770672</td>\n      <td>kolonia</td>\n      <td>Zajdy</td>\n      <td>POINT (724720.600 686869.290)</td>\n      <td>True</td>\n      <td>5</td>\n      <td>12</td>\n      <td>704732.13</td>\n      <td>20.0</td>\n      <td>2580.28</td>\n      <td>...</td>\n      <td>0.0</td>\n      <td>0.0</td>\n      <td>0.0</td>\n      <td>0.165141</td>\n      <td>505.469867</td>\n      <td>361.880396</td>\n      <td>71.592872</td>\n      <td>7.672812</td>\n      <td>1110.875269</td>\n      <td>1110.875269</td>\n    </tr>\n    <tr>\n      <th>3776</th>\n      <td>1067147</td>\n      <td>osada</td>\n      <td>Niewiastowo</td>\n      <td>POINT (545598.880 719970.260)</td>\n      <td>True</td>\n      <td>3</td>\n      <td>4</td>\n      <td>607350.95</td>\n      <td>5.0</td>\n      <td>449.97</td>\n      <td>...</td>\n      <td>0.0</td>\n      <td>0.0</td>\n      <td>0.0</td>\n      <td>0.328823</td>\n      <td>81.384689</td>\n      <td>57.180786</td>\n      <td>70.259881</td>\n      <td>19.517409</td>\n      <td>180.381791</td>\n      <td>180.381791</td>\n    </tr>\n  </tbody>\n</table>\n<p>3763 rows × 39 columns</p>\n</div>"
     },
     "execution_count": 45,
     "metadata": {},
     "output_type": "execute_result"
    }
   ],
   "source": [
    "# wyrzucenie tych rekordów\n",
    "warminskie_prng = warminskie_prng[~warminskie_prng['SIMC_id'].isin(set_na_sum)]\n",
    "warminskie_prng"
   ],
   "metadata": {
    "collapsed": false,
    "ExecuteTime": {
     "end_time": "2023-11-19T14:53:40.379958200Z",
     "start_time": "2023-11-19T14:53:40.318618500Z"
    }
   },
   "id": "6a34d7fbf5219e7a"
  },
  {
   "cell_type": "code",
   "execution_count": 46,
   "outputs": [
    {
     "data": {
      "text/plain": "      SIMC_id          rodzaj             nazwa  \\\n70     473750     osada leśna            Barduń   \n144    486089  przysiółek wsi            Bieńki   \n320    490955     osada leśna   Nowe Chmielówko   \n339    484848     osada leśna         Cichogrąd   \n389    470148     osada leśna      Czerwony Bór   \n491    473709     kolonia wsi        Zaskwierki   \n655    471700     osada leśna          Gęsikowo   \n657    484268     osada leśna            Gibała   \n772    476004     osada leśna     Grabowo Leśne   \n858    473649           osada       Guzowy Młyn   \n902    484216     osada leśna          Jagiełek   \n979    486304       część wsi             Jeleń   \n1056   475619     osada leśna           Kaletka   \n1253   484469           osada           Kołatek   \n1332   754911           osada  Kożuchowski Młyn   \n1366   470119     osada leśna          Koronowo   \n1431   473626     osada leśna            Kudypy   \n1499   485167           osada   Lesiak Lipowski   \n1641   473684         kolonia      Łęgucki Młyn   \n1662   473690         kolonia          Łopkajny   \n1751   484498     osada leśna            Marązy   \n1836   473796           osada            Smoleń   \n1964   771631           osada             Norki   \n2051   995945           osada         Nowy Młyn   \n2057   486681     osada leśna        Nowy Ramuk   \n2104   476607     osada leśna            Omulew   \n2108   480997     osada leśna             Orlik   \n2181   470711         kolonia           Pasaria   \n2231   487686           osada             Pieny   \n2263   482051           osada           Piławki   \n2517   760231     osada leśna           Rogojny   \n2654   471449     osada leśna           Sadłowo   \n2663   473661           osada          Salminek   \n2735   473840           osada              Siła   \n2778   488131           osada           Słomowo   \n2804   755069           osada            Sokoły   \n2811   991315           osada           Solniki   \n2835   490085       część wsi         Spychówko   \n3010   477305     osada leśna         Szelągowo   \n3155   154230           osada           Tumpity   \n3218   484736     osada leśna          Warglewo   \n3472   471350         kolonia           Wysieka   \n3544   764192     osada leśna          Zaroślak   \n3570   488852     osada leśna          Zazdrość   \n3580   473827     kolonia wsi           Zdrojek   \n3637   489840           osada         Żardeniki   \n3716   154370           osada              Kąty   \n3717   154447     osada leśna          Kwitajny   \n3747   473885           osada           Barwiny   \n3748   473773           osada           Cegłowo   \n\n                           geometry  czy_samodzielna  liczba_adresow  \\\n70    POINT (575860.940 647622.450)             True               2   \n144   POINT (647427.360 654896.520)            False               2   \n320   POINT (542970.830 651975.800)             True               1   \n339   POINT (588119.010 643554.970)             True               5   \n389   POINT (614594.340 665570.150)             True               2   \n491   POINT (578482.170 653824.260)            False               4   \n655   POINT (628510.200 671160.770)             True               3   \n657   POINT (576058.990 635908.900)             True               1   \n772   POINT (596091.960 599253.930)             True               2   \n858   POINT (581669.690 648030.890)             True               4   \n902   POINT (585626.680 639258.330)             True               4   \n979   POINT (653168.390 655512.250)            False               1   \n1056  POINT (546680.890 648525.970)             True               1   \n1253  POINT (589679.010 635767.990)             True               5   \n1332  POINT (705180.340 644088.970)             True               1   \n1366  POINT (617738.910 668183.190)             True               5   \n1431  POINT (590758.470 656287.810)             True              10   \n1499  POINT (555091.670 637039.030)             True               1   \n1641  POINT (575999.100 655789.490)             True               1   \n1662  POINT (574659.320 655712.690)             True               4   \n1751  POINT (592428.020 632202.450)             True               1   \n1836  POINT (582896.680 649147.570)             True               1   \n1964  POINT (732144.510 682589.000)             True               1   \n2051  POINT (578100.470 657665.030)             True               1   \n2057  POINT (604237.190 644094.340)             True               5   \n2104  POINT (606326.700 624818.560)             True               1   \n2108  POINT (568808.030 652284.830)             True               1   \n2181  POINT (621825.530 703844.320)             True               2   \n2231  POINT (624921.990 711730.140)             True               1   \n2263  POINT (559035.620 653388.900)             True               3   \n2517  POINT (705790.650 699298.540)             True               1   \n2654  POINT (630046.110 670938.450)             True               5   \n2663  POINT (578761.500 648747.610)             True               4   \n2735  POINT (590422.380 651088.410)             True             138   \n2778  POINT (643226.120 667501.680)             True               1   \n2804  POINT (702503.940 634861.840)             True               1   \n2811  POINT (534031.180 650859.440)             True               1   \n2835  POINT (654583.180 640562.370)            False              15   \n3010  POINT (587645.970 658083.590)             True               2   \n3155  POINT (542659.190 680129.240)             True              12   \n3218  POINT (577095.830 636212.220)             True               3   \n3472  POINT (612489.870 716876.760)             True               1   \n3544  POINT (666865.340 634149.180)             True               1   \n3570  POINT (600519.840 649093.830)             True               3   \n3580  POINT (576529.820 652430.550)            False               3   \n3637  POINT (583836.030 681348.680)             True              16   \n3716  POINT (539998.240 681822.260)             True               2   \n3717  POINT (551171.920 685192.570)             True               2   \n3747  POINT (587705.710 649081.290)             True               6   \n3748  POINT (584778.330 652306.700)             True               5   \n\n      liczba_mieszkancow  powierzchnia  liczba_budynkow  \\\n70                  <NA>    1274413.52              7.0   \n144                 <NA>     201594.06             18.0   \n320                 <NA>     828537.59             18.0   \n339                 <NA>    3897072.99              6.0   \n389                 <NA>       1215.94              2.0   \n491                 <NA>    1374904.89             11.0   \n655                 <NA>     294460.39              4.0   \n657                 <NA>     749893.21              3.0   \n772                 <NA>    1061489.83              3.0   \n858                 <NA>     675009.96             21.0   \n902                 <NA>       6138.93              2.0   \n979                 <NA>      87491.87              3.0   \n1056                <NA>     570230.27             29.0   \n1253                <NA>     274795.35             63.0   \n1332                <NA>    3085484.88              4.0   \n1366                <NA>      12309.64              4.0   \n1431                <NA>    8838324.21             61.0   \n1499                <NA>    1520960.77              1.0   \n1641                <NA>    2918776.39             10.0   \n1662                <NA>    2785911.80              6.0   \n1751                <NA>      89332.06              4.0   \n1836                <NA>    3494503.89              3.0   \n1964                <NA>     859212.93             20.0   \n2051                <NA>    1119402.23              2.0   \n2057                <NA>    6843655.36             14.0   \n2104                <NA>     266364.83             16.0   \n2108                <NA>     101750.26              4.0   \n2181                <NA>    1334033.90              3.0   \n2231                <NA>    1462930.41              7.0   \n2263                <NA>     125439.63             34.0   \n2517                <NA>       2566.53              3.0   \n2654                <NA>     339224.34             19.0   \n2663                <NA>    1487031.10              9.0   \n2735                <NA>     676676.05            161.0   \n2778                <NA>     361365.60             13.0   \n2804                <NA>    1634710.83              3.0   \n2811                <NA>   18604823.04              4.0   \n2835                <NA>      82379.42             14.0   \n3010                <NA>     121135.14              3.0   \n3155                <NA>     543192.39             15.0   \n3218                <NA>     572483.42             10.0   \n3472                <NA>     933229.00              1.0   \n3544                <NA>      18495.68              4.0   \n3570                <NA>    2062225.54              8.0   \n3580                <NA>     110885.14              6.0   \n3637                <NA>    2913927.84             35.0   \n3716                <NA>      37005.43              6.0   \n3717                <NA>      32831.54              2.0   \n3747                <NA>    1127197.07             10.0   \n3748                <NA>     285089.87              9.0   \n\n      powierzchnia_budynkow  ...  ogolnodostepneObiektyKulturalne  \\\n70                   684.67  ...                              0.0   \n144                 1679.79  ...                              0.0   \n320                 1300.67  ...                              0.0   \n339                  707.13  ...                              0.0   \n389                  226.10  ...                              0.0   \n491                 2530.64  ...                              0.0   \n655                  594.89  ...                              0.0   \n657                  373.19  ...                              0.0   \n772                  319.10  ...                              0.0   \n858                 2029.96  ...                              0.0   \n902                  337.28  ...                              0.0   \n979                 1058.26  ...                              0.0   \n1056                1514.26  ...                              0.0   \n1253                9645.91  ...                              0.0   \n1332                 616.19  ...                              0.0   \n1366                 434.48  ...                              0.0   \n1431                9163.94  ...                              0.0   \n1499                 108.02  ...                              0.0   \n1641                1134.16  ...                              0.0   \n1662                1303.89  ...                              0.0   \n1751                 511.40  ...                              0.0   \n1836                 299.27  ...                              0.0   \n1964               11793.81  ...                              0.0   \n2051                 375.53  ...                              0.0   \n2057                2069.81  ...                              1.0   \n2104                3019.46  ...                              0.0   \n2108                 431.31  ...                              0.0   \n2181                 194.67  ...                              0.0   \n2231                2218.41  ...                              0.0   \n2263                1769.49  ...                              0.0   \n2517                 326.32  ...                              0.0   \n2654                1926.32  ...                              0.0   \n2663                1158.82  ...                              0.0   \n2735               17710.91  ...                              0.0   \n2778                5727.35  ...                              0.0   \n2804                 265.19  ...                              0.0   \n2811                 565.32  ...                              0.0   \n2835                1551.05  ...                              0.0   \n3010                 467.69  ...                              0.0   \n3155                2184.62  ...                              0.0   \n3218                1558.55  ...                              0.0   \n3472                 132.47  ...                              0.0   \n3544                 386.54  ...                              0.0   \n3570                 927.58  ...                              0.0   \n3580                 565.55  ...                              0.0   \n3637                8554.48  ...                              0.0   \n3716                 500.54  ...                              0.0   \n3717                 139.71  ...                              0.0   \n3747                2536.58  ...                              0.0   \n3748                1423.26  ...                              0.0   \n\n      pozostaleBudynkiNiemieszkalne  zbiornikSilosIBudynkiMagazynowe  \\\n70                              0.0                              0.0   \n144                             0.0                              0.0   \n320                             0.0                              0.0   \n339                             0.0                              0.0   \n389                             0.0                              0.0   \n491                             0.0                              0.0   \n655                             0.0                              0.0   \n657                             0.0                              0.0   \n772                             0.0                              0.0   \n858                             0.0                              0.0   \n902                             0.0                              0.0   \n979                             0.0                              0.0   \n1056                            0.0                              0.0   \n1253                            0.0                              0.0   \n1332                            0.0                              0.0   \n1366                            0.0                              0.0   \n1431                            0.0                              0.0   \n1499                            0.0                              0.0   \n1641                            0.0                              0.0   \n1662                            0.0                              0.0   \n1751                            0.0                              0.0   \n1836                            0.0                              0.0   \n1964                            0.0                              1.0   \n2051                            0.0                              0.0   \n2057                            0.0                              0.0   \n2104                            0.0                              0.0   \n2108                            0.0                              0.0   \n2181                            0.0                              0.0   \n2231                            0.0                              0.0   \n2263                            0.0                              0.0   \n2517                            0.0                              0.0   \n2654                            0.0                              0.0   \n2663                            0.0                              0.0   \n2735                            0.0                              0.0   \n2778                            0.0                              6.0   \n2804                            0.0                              0.0   \n2811                            0.0                              0.0   \n2835                            0.0                              0.0   \n3010                            0.0                              0.0   \n3155                            0.0                              0.0   \n3218                            0.0                              0.0   \n3472                            0.0                              0.0   \n3544                            0.0                              0.0   \n3570                            0.0                              0.0   \n3580                            0.0                              0.0   \n3637                            0.0                              0.0   \n3716                            0.0                              0.0   \n3717                            0.0                              0.0   \n3747                            0.0                              0.0   \n3748                            0.0                              0.0   \n\n      nna_index  srednia_odleglosci  odchylenie_standardowe  \\\n70     0.096342          142.343869              116.961328   \n144    0.433279          171.640715              216.059073   \n320    0.212041           58.080137               28.972878   \n339    0.438131          309.836649              416.116799   \n389    1.078661            6.649149                6.649149   \n491    0.123013           63.298820               40.333521   \n655    0.173493           22.365852               14.555811   \n657    0.098263           19.930641               15.071780   \n772    0.210995           69.039783               64.709968   \n858    0.355844          270.059580              193.093536   \n902    0.655374            9.077382                9.077382   \n979    0.564088           41.420156               33.158105   \n1056   0.294633           89.241141               48.942244   \n1253   0.806720          279.312710              263.885608   \n1332   0.045010           20.311833               13.218343   \n1366   1.055061           27.288040               17.133576   \n1431   0.149038          563.382746              363.073240   \n1499   0.000000            0.000000                0.000000   \n1641   0.657142          355.807626              518.620422   \n1662   0.083119          108.984447               87.967986   \n1751   0.340591           28.151259               19.636223   \n1836   0.059314           22.844136               16.350071   \n1964   0.353730          114.898629               61.126111   \n2051   0.129349           24.192590               24.192590   \n2057   0.070370          118.385316               68.480354   \n2104   0.495360          240.309306              173.100073   \n2108   0.328422           24.892966               16.341110   \n2181   0.037933           13.912357               13.006949   \n2231   0.272678          105.015994               80.710440   \n2263   0.425185          219.737153              168.918006   \n2517   1.569394           19.246611               14.844001   \n2654   0.266121          169.606941              132.690417   \n2663   0.557814          237.601716              279.113972   \n2735   0.778837          497.728688              319.404316   \n2778   0.443226          110.892016               64.578279   \n2804   0.159566           67.896516               67.204738   \n2811   0.019099         1697.583169             1687.303639   \n2835   0.680296          102.596230               71.346265   \n3010   0.305423           24.931079               19.240132   \n3155   0.127893           49.225426               32.032108   \n3218   0.235864          409.013226              427.718592   \n3472   0.000000            0.000000                0.000000   \n3544   0.737366           26.178451               17.557624   \n3570   0.105362          482.734088              494.757221   \n3580   0.329801           49.165077               39.659129   \n3637   0.226981          220.945843              121.329854   \n3716   0.258012           47.135759               37.942399   \n3717   0.123438            3.953852                3.953852   \n3747   0.315121          449.123881              319.295185   \n3748   0.354005          112.064060               76.945263   \n\n      wspolczynnik_zmiennosci  min_odleglosc  max_odleglosc  min_max_rozstep  \n70                  82.168153      16.381119     314.344279       314.344279  \n144                125.878684       6.293846     617.169036       617.169036  \n320                 49.884315      17.037495     122.385751       122.385751  \n339                134.301994      20.592213    1022.086441      1022.086441  \n389                100.000000      13.298298      13.298298        13.298298  \n491                 63.719230       5.868704     133.217309       133.217309  \n655                 65.080511      20.582189      45.784765        45.784765  \n657                 75.621147      21.606985      37.603046        37.603046  \n772                 93.728522      32.140301     154.558465       154.558465  \n858                 71.500347       6.990098     635.423290       635.423290  \n902                100.000000      18.154764      18.154764        18.154764  \n979                 80.053066      47.098405      88.991300        88.991300  \n1056                54.842692      15.998431     230.161216       230.161216  \n1253                94.476763      11.373688    1011.738953      1011.738953  \n1332                65.077054      15.308771      36.879083        36.879083  \n1366                62.787857      27.567577      50.944737        50.944737  \n1431                64.445218       5.700330    1452.367035      1452.367035  \n1499                 0.000000       0.000000       0.000000         0.000000  \n1641               145.758658       8.243651    1535.122682      1535.122682  \n1662                80.716092       9.383353     237.484557       237.484557  \n1751                69.752558      23.381705      57.296486        57.296486  \n1836                71.572287      29.892202      36.666571        36.666571  \n1964                53.200035      26.570677     310.703259       310.703259  \n2051               100.000000      48.385180      48.385180        48.385180  \n2057                57.845311       6.196642     234.879651       234.879651  \n2104                72.032197      17.390659     636.873929       636.873929  \n2108                65.645490      23.066309      49.493347        49.493347  \n2181                93.492062       6.635487      31.297765        31.297765  \n2231                76.855379      26.914018     256.667695       256.667695  \n2263                76.872756       7.334857     463.828337       463.828337  \n2517                77.125268      20.270369      38.025057        38.025057  \n2654                78.234072       7.646281     423.160742       423.160742  \n2663               117.471362      13.460332     886.732673       886.732673  \n2735                64.172374       6.984249    1645.838865      1645.838865  \n2778                58.235283      13.141480     265.378037       265.378037  \n2804                98.981130      20.833968     149.687136       149.687136  \n2811                99.394461      19.726671    3389.359450      3389.359450  \n2835                69.540826      15.968851     289.996378       289.996378  \n3010                77.173283      30.614829      50.745575        50.745575  \n3155                65.072281       5.774960     117.505206       117.505206  \n3218               104.573291      15.468687    1144.622700      1144.622700  \n3472                 0.000000       0.000000       0.000000         0.000000  \n3544                67.068993      23.431407      48.439401        48.439401  \n3570               102.490633       8.761261    1171.177692      1171.177692  \n3580                80.665243      17.190297     116.964719       116.964719  \n3637                54.913843      10.017915     581.651388       581.651388  \n3716                80.495996       5.203045      95.279940        95.279940  \n3717               100.000000       7.907703       7.907703         7.907703  \n3747                71.092898      18.210738    1052.913971      1052.913971  \n3748                68.661856      15.615158     259.986453       259.986453  \n\n[50 rows x 39 columns]",
      "text/html": "<div>\n<style scoped>\n    .dataframe tbody tr th:only-of-type {\n        vertical-align: middle;\n    }\n\n    .dataframe tbody tr th {\n        vertical-align: top;\n    }\n\n    .dataframe thead th {\n        text-align: right;\n    }\n</style>\n<table border=\"1\" class=\"dataframe\">\n  <thead>\n    <tr style=\"text-align: right;\">\n      <th></th>\n      <th>SIMC_id</th>\n      <th>rodzaj</th>\n      <th>nazwa</th>\n      <th>geometry</th>\n      <th>czy_samodzielna</th>\n      <th>liczba_adresow</th>\n      <th>liczba_mieszkancow</th>\n      <th>powierzchnia</th>\n      <th>liczba_budynkow</th>\n      <th>powierzchnia_budynkow</th>\n      <th>...</th>\n      <th>ogolnodostepneObiektyKulturalne</th>\n      <th>pozostaleBudynkiNiemieszkalne</th>\n      <th>zbiornikSilosIBudynkiMagazynowe</th>\n      <th>nna_index</th>\n      <th>srednia_odleglosci</th>\n      <th>odchylenie_standardowe</th>\n      <th>wspolczynnik_zmiennosci</th>\n      <th>min_odleglosc</th>\n      <th>max_odleglosc</th>\n      <th>min_max_rozstep</th>\n    </tr>\n  </thead>\n  <tbody>\n    <tr>\n      <th>70</th>\n      <td>473750</td>\n      <td>osada leśna</td>\n      <td>Barduń</td>\n      <td>POINT (575860.940 647622.450)</td>\n      <td>True</td>\n      <td>2</td>\n      <td>&lt;NA&gt;</td>\n      <td>1274413.52</td>\n      <td>7.0</td>\n      <td>684.67</td>\n      <td>...</td>\n      <td>0.0</td>\n      <td>0.0</td>\n      <td>0.0</td>\n      <td>0.096342</td>\n      <td>142.343869</td>\n      <td>116.961328</td>\n      <td>82.168153</td>\n      <td>16.381119</td>\n      <td>314.344279</td>\n      <td>314.344279</td>\n    </tr>\n    <tr>\n      <th>144</th>\n      <td>486089</td>\n      <td>przysiółek wsi</td>\n      <td>Bieńki</td>\n      <td>POINT (647427.360 654896.520)</td>\n      <td>False</td>\n      <td>2</td>\n      <td>&lt;NA&gt;</td>\n      <td>201594.06</td>\n      <td>18.0</td>\n      <td>1679.79</td>\n      <td>...</td>\n      <td>0.0</td>\n      <td>0.0</td>\n      <td>0.0</td>\n      <td>0.433279</td>\n      <td>171.640715</td>\n      <td>216.059073</td>\n      <td>125.878684</td>\n      <td>6.293846</td>\n      <td>617.169036</td>\n      <td>617.169036</td>\n    </tr>\n    <tr>\n      <th>320</th>\n      <td>490955</td>\n      <td>osada leśna</td>\n      <td>Nowe Chmielówko</td>\n      <td>POINT (542970.830 651975.800)</td>\n      <td>True</td>\n      <td>1</td>\n      <td>&lt;NA&gt;</td>\n      <td>828537.59</td>\n      <td>18.0</td>\n      <td>1300.67</td>\n      <td>...</td>\n      <td>0.0</td>\n      <td>0.0</td>\n      <td>0.0</td>\n      <td>0.212041</td>\n      <td>58.080137</td>\n      <td>28.972878</td>\n      <td>49.884315</td>\n      <td>17.037495</td>\n      <td>122.385751</td>\n      <td>122.385751</td>\n    </tr>\n    <tr>\n      <th>339</th>\n      <td>484848</td>\n      <td>osada leśna</td>\n      <td>Cichogrąd</td>\n      <td>POINT (588119.010 643554.970)</td>\n      <td>True</td>\n      <td>5</td>\n      <td>&lt;NA&gt;</td>\n      <td>3897072.99</td>\n      <td>6.0</td>\n      <td>707.13</td>\n      <td>...</td>\n      <td>0.0</td>\n      <td>0.0</td>\n      <td>0.0</td>\n      <td>0.438131</td>\n      <td>309.836649</td>\n      <td>416.116799</td>\n      <td>134.301994</td>\n      <td>20.592213</td>\n      <td>1022.086441</td>\n      <td>1022.086441</td>\n    </tr>\n    <tr>\n      <th>389</th>\n      <td>470148</td>\n      <td>osada leśna</td>\n      <td>Czerwony Bór</td>\n      <td>POINT (614594.340 665570.150)</td>\n      <td>True</td>\n      <td>2</td>\n      <td>&lt;NA&gt;</td>\n      <td>1215.94</td>\n      <td>2.0</td>\n      <td>226.10</td>\n      <td>...</td>\n      <td>0.0</td>\n      <td>0.0</td>\n      <td>0.0</td>\n      <td>1.078661</td>\n      <td>6.649149</td>\n      <td>6.649149</td>\n      <td>100.000000</td>\n      <td>13.298298</td>\n      <td>13.298298</td>\n      <td>13.298298</td>\n    </tr>\n    <tr>\n      <th>491</th>\n      <td>473709</td>\n      <td>kolonia wsi</td>\n      <td>Zaskwierki</td>\n      <td>POINT (578482.170 653824.260)</td>\n      <td>False</td>\n      <td>4</td>\n      <td>&lt;NA&gt;</td>\n      <td>1374904.89</td>\n      <td>11.0</td>\n      <td>2530.64</td>\n      <td>...</td>\n      <td>0.0</td>\n      <td>0.0</td>\n      <td>0.0</td>\n      <td>0.123013</td>\n      <td>63.298820</td>\n      <td>40.333521</td>\n      <td>63.719230</td>\n      <td>5.868704</td>\n      <td>133.217309</td>\n      <td>133.217309</td>\n    </tr>\n    <tr>\n      <th>655</th>\n      <td>471700</td>\n      <td>osada leśna</td>\n      <td>Gęsikowo</td>\n      <td>POINT (628510.200 671160.770)</td>\n      <td>True</td>\n      <td>3</td>\n      <td>&lt;NA&gt;</td>\n      <td>294460.39</td>\n      <td>4.0</td>\n      <td>594.89</td>\n      <td>...</td>\n      <td>0.0</td>\n      <td>0.0</td>\n      <td>0.0</td>\n      <td>0.173493</td>\n      <td>22.365852</td>\n      <td>14.555811</td>\n      <td>65.080511</td>\n      <td>20.582189</td>\n      <td>45.784765</td>\n      <td>45.784765</td>\n    </tr>\n    <tr>\n      <th>657</th>\n      <td>484268</td>\n      <td>osada leśna</td>\n      <td>Gibała</td>\n      <td>POINT (576058.990 635908.900)</td>\n      <td>True</td>\n      <td>1</td>\n      <td>&lt;NA&gt;</td>\n      <td>749893.21</td>\n      <td>3.0</td>\n      <td>373.19</td>\n      <td>...</td>\n      <td>0.0</td>\n      <td>0.0</td>\n      <td>0.0</td>\n      <td>0.098263</td>\n      <td>19.930641</td>\n      <td>15.071780</td>\n      <td>75.621147</td>\n      <td>21.606985</td>\n      <td>37.603046</td>\n      <td>37.603046</td>\n    </tr>\n    <tr>\n      <th>772</th>\n      <td>476004</td>\n      <td>osada leśna</td>\n      <td>Grabowo Leśne</td>\n      <td>POINT (596091.960 599253.930)</td>\n      <td>True</td>\n      <td>2</td>\n      <td>&lt;NA&gt;</td>\n      <td>1061489.83</td>\n      <td>3.0</td>\n      <td>319.10</td>\n      <td>...</td>\n      <td>0.0</td>\n      <td>0.0</td>\n      <td>0.0</td>\n      <td>0.210995</td>\n      <td>69.039783</td>\n      <td>64.709968</td>\n      <td>93.728522</td>\n      <td>32.140301</td>\n      <td>154.558465</td>\n      <td>154.558465</td>\n    </tr>\n    <tr>\n      <th>858</th>\n      <td>473649</td>\n      <td>osada</td>\n      <td>Guzowy Młyn</td>\n      <td>POINT (581669.690 648030.890)</td>\n      <td>True</td>\n      <td>4</td>\n      <td>&lt;NA&gt;</td>\n      <td>675009.96</td>\n      <td>21.0</td>\n      <td>2029.96</td>\n      <td>...</td>\n      <td>0.0</td>\n      <td>0.0</td>\n      <td>0.0</td>\n      <td>0.355844</td>\n      <td>270.059580</td>\n      <td>193.093536</td>\n      <td>71.500347</td>\n      <td>6.990098</td>\n      <td>635.423290</td>\n      <td>635.423290</td>\n    </tr>\n    <tr>\n      <th>902</th>\n      <td>484216</td>\n      <td>osada leśna</td>\n      <td>Jagiełek</td>\n      <td>POINT (585626.680 639258.330)</td>\n      <td>True</td>\n      <td>4</td>\n      <td>&lt;NA&gt;</td>\n      <td>6138.93</td>\n      <td>2.0</td>\n      <td>337.28</td>\n      <td>...</td>\n      <td>0.0</td>\n      <td>0.0</td>\n      <td>0.0</td>\n      <td>0.655374</td>\n      <td>9.077382</td>\n      <td>9.077382</td>\n      <td>100.000000</td>\n      <td>18.154764</td>\n      <td>18.154764</td>\n      <td>18.154764</td>\n    </tr>\n    <tr>\n      <th>979</th>\n      <td>486304</td>\n      <td>część wsi</td>\n      <td>Jeleń</td>\n      <td>POINT (653168.390 655512.250)</td>\n      <td>False</td>\n      <td>1</td>\n      <td>&lt;NA&gt;</td>\n      <td>87491.87</td>\n      <td>3.0</td>\n      <td>1058.26</td>\n      <td>...</td>\n      <td>0.0</td>\n      <td>0.0</td>\n      <td>0.0</td>\n      <td>0.564088</td>\n      <td>41.420156</td>\n      <td>33.158105</td>\n      <td>80.053066</td>\n      <td>47.098405</td>\n      <td>88.991300</td>\n      <td>88.991300</td>\n    </tr>\n    <tr>\n      <th>1056</th>\n      <td>475619</td>\n      <td>osada leśna</td>\n      <td>Kaletka</td>\n      <td>POINT (546680.890 648525.970)</td>\n      <td>True</td>\n      <td>1</td>\n      <td>&lt;NA&gt;</td>\n      <td>570230.27</td>\n      <td>29.0</td>\n      <td>1514.26</td>\n      <td>...</td>\n      <td>0.0</td>\n      <td>0.0</td>\n      <td>0.0</td>\n      <td>0.294633</td>\n      <td>89.241141</td>\n      <td>48.942244</td>\n      <td>54.842692</td>\n      <td>15.998431</td>\n      <td>230.161216</td>\n      <td>230.161216</td>\n    </tr>\n    <tr>\n      <th>1253</th>\n      <td>484469</td>\n      <td>osada</td>\n      <td>Kołatek</td>\n      <td>POINT (589679.010 635767.990)</td>\n      <td>True</td>\n      <td>5</td>\n      <td>&lt;NA&gt;</td>\n      <td>274795.35</td>\n      <td>63.0</td>\n      <td>9645.91</td>\n      <td>...</td>\n      <td>0.0</td>\n      <td>0.0</td>\n      <td>0.0</td>\n      <td>0.806720</td>\n      <td>279.312710</td>\n      <td>263.885608</td>\n      <td>94.476763</td>\n      <td>11.373688</td>\n      <td>1011.738953</td>\n      <td>1011.738953</td>\n    </tr>\n    <tr>\n      <th>1332</th>\n      <td>754911</td>\n      <td>osada</td>\n      <td>Kożuchowski Młyn</td>\n      <td>POINT (705180.340 644088.970)</td>\n      <td>True</td>\n      <td>1</td>\n      <td>&lt;NA&gt;</td>\n      <td>3085484.88</td>\n      <td>4.0</td>\n      <td>616.19</td>\n      <td>...</td>\n      <td>0.0</td>\n      <td>0.0</td>\n      <td>0.0</td>\n      <td>0.045010</td>\n      <td>20.311833</td>\n      <td>13.218343</td>\n      <td>65.077054</td>\n      <td>15.308771</td>\n      <td>36.879083</td>\n      <td>36.879083</td>\n    </tr>\n    <tr>\n      <th>1366</th>\n      <td>470119</td>\n      <td>osada leśna</td>\n      <td>Koronowo</td>\n      <td>POINT (617738.910 668183.190)</td>\n      <td>True</td>\n      <td>5</td>\n      <td>&lt;NA&gt;</td>\n      <td>12309.64</td>\n      <td>4.0</td>\n      <td>434.48</td>\n      <td>...</td>\n      <td>0.0</td>\n      <td>0.0</td>\n      <td>0.0</td>\n      <td>1.055061</td>\n      <td>27.288040</td>\n      <td>17.133576</td>\n      <td>62.787857</td>\n      <td>27.567577</td>\n      <td>50.944737</td>\n      <td>50.944737</td>\n    </tr>\n    <tr>\n      <th>1431</th>\n      <td>473626</td>\n      <td>osada leśna</td>\n      <td>Kudypy</td>\n      <td>POINT (590758.470 656287.810)</td>\n      <td>True</td>\n      <td>10</td>\n      <td>&lt;NA&gt;</td>\n      <td>8838324.21</td>\n      <td>61.0</td>\n      <td>9163.94</td>\n      <td>...</td>\n      <td>0.0</td>\n      <td>0.0</td>\n      <td>0.0</td>\n      <td>0.149038</td>\n      <td>563.382746</td>\n      <td>363.073240</td>\n      <td>64.445218</td>\n      <td>5.700330</td>\n      <td>1452.367035</td>\n      <td>1452.367035</td>\n    </tr>\n    <tr>\n      <th>1499</th>\n      <td>485167</td>\n      <td>osada</td>\n      <td>Lesiak Lipowski</td>\n      <td>POINT (555091.670 637039.030)</td>\n      <td>True</td>\n      <td>1</td>\n      <td>&lt;NA&gt;</td>\n      <td>1520960.77</td>\n      <td>1.0</td>\n      <td>108.02</td>\n      <td>...</td>\n      <td>0.0</td>\n      <td>0.0</td>\n      <td>0.0</td>\n      <td>0.000000</td>\n      <td>0.000000</td>\n      <td>0.000000</td>\n      <td>0.000000</td>\n      <td>0.000000</td>\n      <td>0.000000</td>\n      <td>0.000000</td>\n    </tr>\n    <tr>\n      <th>1641</th>\n      <td>473684</td>\n      <td>kolonia</td>\n      <td>Łęgucki Młyn</td>\n      <td>POINT (575999.100 655789.490)</td>\n      <td>True</td>\n      <td>1</td>\n      <td>&lt;NA&gt;</td>\n      <td>2918776.39</td>\n      <td>10.0</td>\n      <td>1134.16</td>\n      <td>...</td>\n      <td>0.0</td>\n      <td>0.0</td>\n      <td>0.0</td>\n      <td>0.657142</td>\n      <td>355.807626</td>\n      <td>518.620422</td>\n      <td>145.758658</td>\n      <td>8.243651</td>\n      <td>1535.122682</td>\n      <td>1535.122682</td>\n    </tr>\n    <tr>\n      <th>1662</th>\n      <td>473690</td>\n      <td>kolonia</td>\n      <td>Łopkajny</td>\n      <td>POINT (574659.320 655712.690)</td>\n      <td>True</td>\n      <td>4</td>\n      <td>&lt;NA&gt;</td>\n      <td>2785911.80</td>\n      <td>6.0</td>\n      <td>1303.89</td>\n      <td>...</td>\n      <td>0.0</td>\n      <td>0.0</td>\n      <td>0.0</td>\n      <td>0.083119</td>\n      <td>108.984447</td>\n      <td>87.967986</td>\n      <td>80.716092</td>\n      <td>9.383353</td>\n      <td>237.484557</td>\n      <td>237.484557</td>\n    </tr>\n    <tr>\n      <th>1751</th>\n      <td>484498</td>\n      <td>osada leśna</td>\n      <td>Marązy</td>\n      <td>POINT (592428.020 632202.450)</td>\n      <td>True</td>\n      <td>1</td>\n      <td>&lt;NA&gt;</td>\n      <td>89332.06</td>\n      <td>4.0</td>\n      <td>511.40</td>\n      <td>...</td>\n      <td>0.0</td>\n      <td>0.0</td>\n      <td>0.0</td>\n      <td>0.340591</td>\n      <td>28.151259</td>\n      <td>19.636223</td>\n      <td>69.752558</td>\n      <td>23.381705</td>\n      <td>57.296486</td>\n      <td>57.296486</td>\n    </tr>\n    <tr>\n      <th>1836</th>\n      <td>473796</td>\n      <td>osada</td>\n      <td>Smoleń</td>\n      <td>POINT (582896.680 649147.570)</td>\n      <td>True</td>\n      <td>1</td>\n      <td>&lt;NA&gt;</td>\n      <td>3494503.89</td>\n      <td>3.0</td>\n      <td>299.27</td>\n      <td>...</td>\n      <td>0.0</td>\n      <td>0.0</td>\n      <td>0.0</td>\n      <td>0.059314</td>\n      <td>22.844136</td>\n      <td>16.350071</td>\n      <td>71.572287</td>\n      <td>29.892202</td>\n      <td>36.666571</td>\n      <td>36.666571</td>\n    </tr>\n    <tr>\n      <th>1964</th>\n      <td>771631</td>\n      <td>osada</td>\n      <td>Norki</td>\n      <td>POINT (732144.510 682589.000)</td>\n      <td>True</td>\n      <td>1</td>\n      <td>&lt;NA&gt;</td>\n      <td>859212.93</td>\n      <td>20.0</td>\n      <td>11793.81</td>\n      <td>...</td>\n      <td>0.0</td>\n      <td>0.0</td>\n      <td>1.0</td>\n      <td>0.353730</td>\n      <td>114.898629</td>\n      <td>61.126111</td>\n      <td>53.200035</td>\n      <td>26.570677</td>\n      <td>310.703259</td>\n      <td>310.703259</td>\n    </tr>\n    <tr>\n      <th>2051</th>\n      <td>995945</td>\n      <td>osada</td>\n      <td>Nowy Młyn</td>\n      <td>POINT (578100.470 657665.030)</td>\n      <td>True</td>\n      <td>1</td>\n      <td>&lt;NA&gt;</td>\n      <td>1119402.23</td>\n      <td>2.0</td>\n      <td>375.53</td>\n      <td>...</td>\n      <td>0.0</td>\n      <td>0.0</td>\n      <td>0.0</td>\n      <td>0.129349</td>\n      <td>24.192590</td>\n      <td>24.192590</td>\n      <td>100.000000</td>\n      <td>48.385180</td>\n      <td>48.385180</td>\n      <td>48.385180</td>\n    </tr>\n    <tr>\n      <th>2057</th>\n      <td>486681</td>\n      <td>osada leśna</td>\n      <td>Nowy Ramuk</td>\n      <td>POINT (604237.190 644094.340)</td>\n      <td>True</td>\n      <td>5</td>\n      <td>&lt;NA&gt;</td>\n      <td>6843655.36</td>\n      <td>14.0</td>\n      <td>2069.81</td>\n      <td>...</td>\n      <td>1.0</td>\n      <td>0.0</td>\n      <td>0.0</td>\n      <td>0.070370</td>\n      <td>118.385316</td>\n      <td>68.480354</td>\n      <td>57.845311</td>\n      <td>6.196642</td>\n      <td>234.879651</td>\n      <td>234.879651</td>\n    </tr>\n    <tr>\n      <th>2104</th>\n      <td>476607</td>\n      <td>osada leśna</td>\n      <td>Omulew</td>\n      <td>POINT (606326.700 624818.560)</td>\n      <td>True</td>\n      <td>1</td>\n      <td>&lt;NA&gt;</td>\n      <td>266364.83</td>\n      <td>16.0</td>\n      <td>3019.46</td>\n      <td>...</td>\n      <td>0.0</td>\n      <td>0.0</td>\n      <td>0.0</td>\n      <td>0.495360</td>\n      <td>240.309306</td>\n      <td>173.100073</td>\n      <td>72.032197</td>\n      <td>17.390659</td>\n      <td>636.873929</td>\n      <td>636.873929</td>\n    </tr>\n    <tr>\n      <th>2108</th>\n      <td>480997</td>\n      <td>osada leśna</td>\n      <td>Orlik</td>\n      <td>POINT (568808.030 652284.830)</td>\n      <td>True</td>\n      <td>1</td>\n      <td>&lt;NA&gt;</td>\n      <td>101750.26</td>\n      <td>4.0</td>\n      <td>431.31</td>\n      <td>...</td>\n      <td>0.0</td>\n      <td>0.0</td>\n      <td>0.0</td>\n      <td>0.328422</td>\n      <td>24.892966</td>\n      <td>16.341110</td>\n      <td>65.645490</td>\n      <td>23.066309</td>\n      <td>49.493347</td>\n      <td>49.493347</td>\n    </tr>\n    <tr>\n      <th>2181</th>\n      <td>470711</td>\n      <td>kolonia</td>\n      <td>Pasaria</td>\n      <td>POINT (621825.530 703844.320)</td>\n      <td>True</td>\n      <td>2</td>\n      <td>&lt;NA&gt;</td>\n      <td>1334033.90</td>\n      <td>3.0</td>\n      <td>194.67</td>\n      <td>...</td>\n      <td>0.0</td>\n      <td>0.0</td>\n      <td>0.0</td>\n      <td>0.037933</td>\n      <td>13.912357</td>\n      <td>13.006949</td>\n      <td>93.492062</td>\n      <td>6.635487</td>\n      <td>31.297765</td>\n      <td>31.297765</td>\n    </tr>\n    <tr>\n      <th>2231</th>\n      <td>487686</td>\n      <td>osada</td>\n      <td>Pieny</td>\n      <td>POINT (624921.990 711730.140)</td>\n      <td>True</td>\n      <td>1</td>\n      <td>&lt;NA&gt;</td>\n      <td>1462930.41</td>\n      <td>7.0</td>\n      <td>2218.41</td>\n      <td>...</td>\n      <td>0.0</td>\n      <td>0.0</td>\n      <td>0.0</td>\n      <td>0.272678</td>\n      <td>105.015994</td>\n      <td>80.710440</td>\n      <td>76.855379</td>\n      <td>26.914018</td>\n      <td>256.667695</td>\n      <td>256.667695</td>\n    </tr>\n    <tr>\n      <th>2263</th>\n      <td>482051</td>\n      <td>osada</td>\n      <td>Piławki</td>\n      <td>POINT (559035.620 653388.900)</td>\n      <td>True</td>\n      <td>3</td>\n      <td>&lt;NA&gt;</td>\n      <td>125439.63</td>\n      <td>34.0</td>\n      <td>1769.49</td>\n      <td>...</td>\n      <td>0.0</td>\n      <td>0.0</td>\n      <td>0.0</td>\n      <td>0.425185</td>\n      <td>219.737153</td>\n      <td>168.918006</td>\n      <td>76.872756</td>\n      <td>7.334857</td>\n      <td>463.828337</td>\n      <td>463.828337</td>\n    </tr>\n    <tr>\n      <th>2517</th>\n      <td>760231</td>\n      <td>osada leśna</td>\n      <td>Rogojny</td>\n      <td>POINT (705790.650 699298.540)</td>\n      <td>True</td>\n      <td>1</td>\n      <td>&lt;NA&gt;</td>\n      <td>2566.53</td>\n      <td>3.0</td>\n      <td>326.32</td>\n      <td>...</td>\n      <td>0.0</td>\n      <td>0.0</td>\n      <td>0.0</td>\n      <td>1.569394</td>\n      <td>19.246611</td>\n      <td>14.844001</td>\n      <td>77.125268</td>\n      <td>20.270369</td>\n      <td>38.025057</td>\n      <td>38.025057</td>\n    </tr>\n    <tr>\n      <th>2654</th>\n      <td>471449</td>\n      <td>osada leśna</td>\n      <td>Sadłowo</td>\n      <td>POINT (630046.110 670938.450)</td>\n      <td>True</td>\n      <td>5</td>\n      <td>&lt;NA&gt;</td>\n      <td>339224.34</td>\n      <td>19.0</td>\n      <td>1926.32</td>\n      <td>...</td>\n      <td>0.0</td>\n      <td>0.0</td>\n      <td>0.0</td>\n      <td>0.266121</td>\n      <td>169.606941</td>\n      <td>132.690417</td>\n      <td>78.234072</td>\n      <td>7.646281</td>\n      <td>423.160742</td>\n      <td>423.160742</td>\n    </tr>\n    <tr>\n      <th>2663</th>\n      <td>473661</td>\n      <td>osada</td>\n      <td>Salminek</td>\n      <td>POINT (578761.500 648747.610)</td>\n      <td>True</td>\n      <td>4</td>\n      <td>&lt;NA&gt;</td>\n      <td>1487031.10</td>\n      <td>9.0</td>\n      <td>1158.82</td>\n      <td>...</td>\n      <td>0.0</td>\n      <td>0.0</td>\n      <td>0.0</td>\n      <td>0.557814</td>\n      <td>237.601716</td>\n      <td>279.113972</td>\n      <td>117.471362</td>\n      <td>13.460332</td>\n      <td>886.732673</td>\n      <td>886.732673</td>\n    </tr>\n    <tr>\n      <th>2735</th>\n      <td>473840</td>\n      <td>osada</td>\n      <td>Siła</td>\n      <td>POINT (590422.380 651088.410)</td>\n      <td>True</td>\n      <td>138</td>\n      <td>&lt;NA&gt;</td>\n      <td>676676.05</td>\n      <td>161.0</td>\n      <td>17710.91</td>\n      <td>...</td>\n      <td>0.0</td>\n      <td>0.0</td>\n      <td>0.0</td>\n      <td>0.778837</td>\n      <td>497.728688</td>\n      <td>319.404316</td>\n      <td>64.172374</td>\n      <td>6.984249</td>\n      <td>1645.838865</td>\n      <td>1645.838865</td>\n    </tr>\n    <tr>\n      <th>2778</th>\n      <td>488131</td>\n      <td>osada</td>\n      <td>Słomowo</td>\n      <td>POINT (643226.120 667501.680)</td>\n      <td>True</td>\n      <td>1</td>\n      <td>&lt;NA&gt;</td>\n      <td>361365.60</td>\n      <td>13.0</td>\n      <td>5727.35</td>\n      <td>...</td>\n      <td>0.0</td>\n      <td>0.0</td>\n      <td>6.0</td>\n      <td>0.443226</td>\n      <td>110.892016</td>\n      <td>64.578279</td>\n      <td>58.235283</td>\n      <td>13.141480</td>\n      <td>265.378037</td>\n      <td>265.378037</td>\n    </tr>\n    <tr>\n      <th>2804</th>\n      <td>755069</td>\n      <td>osada</td>\n      <td>Sokoły</td>\n      <td>POINT (702503.940 634861.840)</td>\n      <td>True</td>\n      <td>1</td>\n      <td>&lt;NA&gt;</td>\n      <td>1634710.83</td>\n      <td>3.0</td>\n      <td>265.19</td>\n      <td>...</td>\n      <td>0.0</td>\n      <td>0.0</td>\n      <td>0.0</td>\n      <td>0.159566</td>\n      <td>67.896516</td>\n      <td>67.204738</td>\n      <td>98.981130</td>\n      <td>20.833968</td>\n      <td>149.687136</td>\n      <td>149.687136</td>\n    </tr>\n    <tr>\n      <th>2811</th>\n      <td>991315</td>\n      <td>osada</td>\n      <td>Solniki</td>\n      <td>POINT (534031.180 650859.440)</td>\n      <td>True</td>\n      <td>1</td>\n      <td>&lt;NA&gt;</td>\n      <td>18604823.04</td>\n      <td>4.0</td>\n      <td>565.32</td>\n      <td>...</td>\n      <td>0.0</td>\n      <td>0.0</td>\n      <td>0.0</td>\n      <td>0.019099</td>\n      <td>1697.583169</td>\n      <td>1687.303639</td>\n      <td>99.394461</td>\n      <td>19.726671</td>\n      <td>3389.359450</td>\n      <td>3389.359450</td>\n    </tr>\n    <tr>\n      <th>2835</th>\n      <td>490085</td>\n      <td>część wsi</td>\n      <td>Spychówko</td>\n      <td>POINT (654583.180 640562.370)</td>\n      <td>False</td>\n      <td>15</td>\n      <td>&lt;NA&gt;</td>\n      <td>82379.42</td>\n      <td>14.0</td>\n      <td>1551.05</td>\n      <td>...</td>\n      <td>0.0</td>\n      <td>0.0</td>\n      <td>0.0</td>\n      <td>0.680296</td>\n      <td>102.596230</td>\n      <td>71.346265</td>\n      <td>69.540826</td>\n      <td>15.968851</td>\n      <td>289.996378</td>\n      <td>289.996378</td>\n    </tr>\n    <tr>\n      <th>3010</th>\n      <td>477305</td>\n      <td>osada leśna</td>\n      <td>Szelągowo</td>\n      <td>POINT (587645.970 658083.590)</td>\n      <td>True</td>\n      <td>2</td>\n      <td>&lt;NA&gt;</td>\n      <td>121135.14</td>\n      <td>3.0</td>\n      <td>467.69</td>\n      <td>...</td>\n      <td>0.0</td>\n      <td>0.0</td>\n      <td>0.0</td>\n      <td>0.305423</td>\n      <td>24.931079</td>\n      <td>19.240132</td>\n      <td>77.173283</td>\n      <td>30.614829</td>\n      <td>50.745575</td>\n      <td>50.745575</td>\n    </tr>\n    <tr>\n      <th>3155</th>\n      <td>154230</td>\n      <td>osada</td>\n      <td>Tumpity</td>\n      <td>POINT (542659.190 680129.240)</td>\n      <td>True</td>\n      <td>12</td>\n      <td>&lt;NA&gt;</td>\n      <td>543192.39</td>\n      <td>15.0</td>\n      <td>2184.62</td>\n      <td>...</td>\n      <td>0.0</td>\n      <td>0.0</td>\n      <td>0.0</td>\n      <td>0.127893</td>\n      <td>49.225426</td>\n      <td>32.032108</td>\n      <td>65.072281</td>\n      <td>5.774960</td>\n      <td>117.505206</td>\n      <td>117.505206</td>\n    </tr>\n    <tr>\n      <th>3218</th>\n      <td>484736</td>\n      <td>osada leśna</td>\n      <td>Warglewo</td>\n      <td>POINT (577095.830 636212.220)</td>\n      <td>True</td>\n      <td>3</td>\n      <td>&lt;NA&gt;</td>\n      <td>572483.42</td>\n      <td>10.0</td>\n      <td>1558.55</td>\n      <td>...</td>\n      <td>0.0</td>\n      <td>0.0</td>\n      <td>0.0</td>\n      <td>0.235864</td>\n      <td>409.013226</td>\n      <td>427.718592</td>\n      <td>104.573291</td>\n      <td>15.468687</td>\n      <td>1144.622700</td>\n      <td>1144.622700</td>\n    </tr>\n    <tr>\n      <th>3472</th>\n      <td>471350</td>\n      <td>kolonia</td>\n      <td>Wysieka</td>\n      <td>POINT (612489.870 716876.760)</td>\n      <td>True</td>\n      <td>1</td>\n      <td>&lt;NA&gt;</td>\n      <td>933229.00</td>\n      <td>1.0</td>\n      <td>132.47</td>\n      <td>...</td>\n      <td>0.0</td>\n      <td>0.0</td>\n      <td>0.0</td>\n      <td>0.000000</td>\n      <td>0.000000</td>\n      <td>0.000000</td>\n      <td>0.000000</td>\n      <td>0.000000</td>\n      <td>0.000000</td>\n      <td>0.000000</td>\n    </tr>\n    <tr>\n      <th>3544</th>\n      <td>764192</td>\n      <td>osada leśna</td>\n      <td>Zaroślak</td>\n      <td>POINT (666865.340 634149.180)</td>\n      <td>True</td>\n      <td>1</td>\n      <td>&lt;NA&gt;</td>\n      <td>18495.68</td>\n      <td>4.0</td>\n      <td>386.54</td>\n      <td>...</td>\n      <td>0.0</td>\n      <td>0.0</td>\n      <td>0.0</td>\n      <td>0.737366</td>\n      <td>26.178451</td>\n      <td>17.557624</td>\n      <td>67.068993</td>\n      <td>23.431407</td>\n      <td>48.439401</td>\n      <td>48.439401</td>\n    </tr>\n    <tr>\n      <th>3570</th>\n      <td>488852</td>\n      <td>osada leśna</td>\n      <td>Zazdrość</td>\n      <td>POINT (600519.840 649093.830)</td>\n      <td>True</td>\n      <td>3</td>\n      <td>&lt;NA&gt;</td>\n      <td>2062225.54</td>\n      <td>8.0</td>\n      <td>927.58</td>\n      <td>...</td>\n      <td>0.0</td>\n      <td>0.0</td>\n      <td>0.0</td>\n      <td>0.105362</td>\n      <td>482.734088</td>\n      <td>494.757221</td>\n      <td>102.490633</td>\n      <td>8.761261</td>\n      <td>1171.177692</td>\n      <td>1171.177692</td>\n    </tr>\n    <tr>\n      <th>3580</th>\n      <td>473827</td>\n      <td>kolonia wsi</td>\n      <td>Zdrojek</td>\n      <td>POINT (576529.820 652430.550)</td>\n      <td>False</td>\n      <td>3</td>\n      <td>&lt;NA&gt;</td>\n      <td>110885.14</td>\n      <td>6.0</td>\n      <td>565.55</td>\n      <td>...</td>\n      <td>0.0</td>\n      <td>0.0</td>\n      <td>0.0</td>\n      <td>0.329801</td>\n      <td>49.165077</td>\n      <td>39.659129</td>\n      <td>80.665243</td>\n      <td>17.190297</td>\n      <td>116.964719</td>\n      <td>116.964719</td>\n    </tr>\n    <tr>\n      <th>3637</th>\n      <td>489840</td>\n      <td>osada</td>\n      <td>Żardeniki</td>\n      <td>POINT (583836.030 681348.680)</td>\n      <td>True</td>\n      <td>16</td>\n      <td>&lt;NA&gt;</td>\n      <td>2913927.84</td>\n      <td>35.0</td>\n      <td>8554.48</td>\n      <td>...</td>\n      <td>0.0</td>\n      <td>0.0</td>\n      <td>0.0</td>\n      <td>0.226981</td>\n      <td>220.945843</td>\n      <td>121.329854</td>\n      <td>54.913843</td>\n      <td>10.017915</td>\n      <td>581.651388</td>\n      <td>581.651388</td>\n    </tr>\n    <tr>\n      <th>3716</th>\n      <td>154370</td>\n      <td>osada</td>\n      <td>Kąty</td>\n      <td>POINT (539998.240 681822.260)</td>\n      <td>True</td>\n      <td>2</td>\n      <td>&lt;NA&gt;</td>\n      <td>37005.43</td>\n      <td>6.0</td>\n      <td>500.54</td>\n      <td>...</td>\n      <td>0.0</td>\n      <td>0.0</td>\n      <td>0.0</td>\n      <td>0.258012</td>\n      <td>47.135759</td>\n      <td>37.942399</td>\n      <td>80.495996</td>\n      <td>5.203045</td>\n      <td>95.279940</td>\n      <td>95.279940</td>\n    </tr>\n    <tr>\n      <th>3717</th>\n      <td>154447</td>\n      <td>osada leśna</td>\n      <td>Kwitajny</td>\n      <td>POINT (551171.920 685192.570)</td>\n      <td>True</td>\n      <td>2</td>\n      <td>&lt;NA&gt;</td>\n      <td>32831.54</td>\n      <td>2.0</td>\n      <td>139.71</td>\n      <td>...</td>\n      <td>0.0</td>\n      <td>0.0</td>\n      <td>0.0</td>\n      <td>0.123438</td>\n      <td>3.953852</td>\n      <td>3.953852</td>\n      <td>100.000000</td>\n      <td>7.907703</td>\n      <td>7.907703</td>\n      <td>7.907703</td>\n    </tr>\n    <tr>\n      <th>3747</th>\n      <td>473885</td>\n      <td>osada</td>\n      <td>Barwiny</td>\n      <td>POINT (587705.710 649081.290)</td>\n      <td>True</td>\n      <td>6</td>\n      <td>&lt;NA&gt;</td>\n      <td>1127197.07</td>\n      <td>10.0</td>\n      <td>2536.58</td>\n      <td>...</td>\n      <td>0.0</td>\n      <td>0.0</td>\n      <td>0.0</td>\n      <td>0.315121</td>\n      <td>449.123881</td>\n      <td>319.295185</td>\n      <td>71.092898</td>\n      <td>18.210738</td>\n      <td>1052.913971</td>\n      <td>1052.913971</td>\n    </tr>\n    <tr>\n      <th>3748</th>\n      <td>473773</td>\n      <td>osada</td>\n      <td>Cegłowo</td>\n      <td>POINT (584778.330 652306.700)</td>\n      <td>True</td>\n      <td>5</td>\n      <td>&lt;NA&gt;</td>\n      <td>285089.87</td>\n      <td>9.0</td>\n      <td>1423.26</td>\n      <td>...</td>\n      <td>0.0</td>\n      <td>0.0</td>\n      <td>0.0</td>\n      <td>0.354005</td>\n      <td>112.064060</td>\n      <td>76.945263</td>\n      <td>68.661856</td>\n      <td>15.615158</td>\n      <td>259.986453</td>\n      <td>259.986453</td>\n    </tr>\n  </tbody>\n</table>\n<p>50 rows × 39 columns</p>\n</div>"
     },
     "execution_count": 46,
     "metadata": {},
     "output_type": "execute_result"
    }
   ],
   "source": [
    "# sprawdzenie wartości null\n",
    "# na = warminskie_prng[warminskie_prng.isnull().any(axis=1)]\n",
    "# na"
   ],
   "metadata": {
    "collapsed": false,
    "ExecuteTime": {
     "end_time": "2023-11-19T14:55:42.760487500Z",
     "start_time": "2023-11-19T14:55:42.701784900Z"
    }
   },
   "id": "baa54b7a2f331241"
  },
  {
   "cell_type": "code",
   "execution_count": 52,
   "outputs": [
    {
     "data": {
      "text/plain": "      SIMC_id     rodzaj            nazwa                       geometry  \\\n0      149222       wieś          Adamowo  POINT (517072.190 698942.620)   \n1      157948       wieś          Adamowo  POINT (522923.230 649553.540)   \n2      117890       wieś          Adamowo  POINT (561486.270 590967.880)   \n3      471403       wieś          Adamowo  POINT (630835.770 669115.890)   \n4      149647  część wsi  Adamowo-Osiedle  POINT (521525.150 699758.410)   \n...       ...        ...              ...                            ...   \n3772  1044100      osada         Rozdroże  POINT (590288.790 610513.940)   \n3773  1047050      osada           Janowo  POINT (565834.280 675757.940)   \n3774   764660    kolonia   Wąglik-Kolonia  POINT (682736.170 644304.860)   \n3775   770672    kolonia            Zajdy  POINT (724720.600 686869.290)   \n3776  1067147      osada      Niewiastowo  POINT (545598.880 719970.260)   \n\n      czy_samodzielna  liczba_adresow  liczba_mieszkancow  powierzchnia  \\\n0                True              21                  65    5184091.39   \n1                True              69                 255    4841070.89   \n2                True              33                  83    2073808.18   \n3                True              13                 142   12131404.50   \n4               False              26                  88     264581.60   \n...               ...             ...                 ...           ...   \n3772             True              76                 429     944005.19   \n3773             True               2                   5    4442946.03   \n3774             True               6                   7      24333.51   \n3775             True               5                  12     704732.13   \n3776             True               3                   4     607350.95   \n\n      liczba_budynkow  powierzchnia_budynkow  ...  \\\n0                60.0               14715.06  ...   \n1               147.0               25168.40  ...   \n2                93.0                8551.89  ...   \n3               118.0               32306.85  ...   \n4                29.0                7311.39  ...   \n...               ...                    ...  ...   \n3772             88.0               17862.33  ...   \n3773             21.0                1600.72  ...   \n3774              7.0                 883.66  ...   \n3775             20.0                2580.28  ...   \n3776              5.0                 449.97  ...   \n\n      ogolnodostepneObiektyKulturalne  pozostaleBudynkiNiemieszkalne  \\\n0                                 0.0                            0.0   \n1                                 0.0                            0.0   \n2                                 0.0                            0.0   \n3                                 0.0                            0.0   \n4                                 0.0                            0.0   \n...                               ...                            ...   \n3772                              0.0                            1.0   \n3773                              0.0                            0.0   \n3774                              0.0                            0.0   \n3775                              0.0                            0.0   \n3776                              0.0                            0.0   \n\n      zbiornikSilosIBudynkiMagazynowe  nna_index  srednia_odleglosci  \\\n0                                 0.0   0.287704         1223.486507   \n1                                 0.0   0.345539         1211.098579   \n2                                 0.0   0.232380          203.093999   \n3                                 0.0   0.160716         1239.796179   \n4                                 3.0   0.454862          132.621878   \n...                               ...        ...                 ...   \n3772                              0.0   0.570609          397.641182   \n3773                              0.0   0.358676         1158.103589   \n3774                              0.0   1.081121           59.375132   \n3775                              0.0   0.165141          505.469867   \n3776                              0.0   0.328823           81.384689   \n\n      odchylenie_standardowe  wspolczynnik_zmiennosci  min_odleglosc  \\\n0                 853.187516                69.734117       6.805516   \n1                 648.750812                53.567135       7.723816   \n2                 156.541945                77.078568       5.140856   \n3                 725.923757                58.551863       6.414879   \n4                  79.351370                59.832790       5.648417   \n...                      ...                      ...            ...   \n3772              221.024272                55.583848       6.201421   \n3773             1044.314695                90.174550       7.218277   \n3774               34.049685                57.346710      24.023513   \n3775              361.880396                71.592872       7.672812   \n3776               57.180786                70.259881      19.517409   \n\n      max_odleglosc  min_max_rozstep  \n0       3049.927024      3049.927024  \n1       3010.174003      3010.174003  \n2        888.593759       888.593759  \n3       3130.001913      3130.001913  \n4        402.083649       402.083649  \n...             ...              ...  \n3772    1074.914468      1074.914468  \n3773    2380.240443      2380.240443  \n3774     112.380274       112.380274  \n3775    1110.875269      1110.875269  \n3776     180.381791       180.381791  \n\n[3763 rows x 39 columns]",
      "text/html": "<div>\n<style scoped>\n    .dataframe tbody tr th:only-of-type {\n        vertical-align: middle;\n    }\n\n    .dataframe tbody tr th {\n        vertical-align: top;\n    }\n\n    .dataframe thead th {\n        text-align: right;\n    }\n</style>\n<table border=\"1\" class=\"dataframe\">\n  <thead>\n    <tr style=\"text-align: right;\">\n      <th></th>\n      <th>SIMC_id</th>\n      <th>rodzaj</th>\n      <th>nazwa</th>\n      <th>geometry</th>\n      <th>czy_samodzielna</th>\n      <th>liczba_adresow</th>\n      <th>liczba_mieszkancow</th>\n      <th>powierzchnia</th>\n      <th>liczba_budynkow</th>\n      <th>powierzchnia_budynkow</th>\n      <th>...</th>\n      <th>ogolnodostepneObiektyKulturalne</th>\n      <th>pozostaleBudynkiNiemieszkalne</th>\n      <th>zbiornikSilosIBudynkiMagazynowe</th>\n      <th>nna_index</th>\n      <th>srednia_odleglosci</th>\n      <th>odchylenie_standardowe</th>\n      <th>wspolczynnik_zmiennosci</th>\n      <th>min_odleglosc</th>\n      <th>max_odleglosc</th>\n      <th>min_max_rozstep</th>\n    </tr>\n  </thead>\n  <tbody>\n    <tr>\n      <th>0</th>\n      <td>149222</td>\n      <td>wieś</td>\n      <td>Adamowo</td>\n      <td>POINT (517072.190 698942.620)</td>\n      <td>True</td>\n      <td>21</td>\n      <td>65</td>\n      <td>5184091.39</td>\n      <td>60.0</td>\n      <td>14715.06</td>\n      <td>...</td>\n      <td>0.0</td>\n      <td>0.0</td>\n      <td>0.0</td>\n      <td>0.287704</td>\n      <td>1223.486507</td>\n      <td>853.187516</td>\n      <td>69.734117</td>\n      <td>6.805516</td>\n      <td>3049.927024</td>\n      <td>3049.927024</td>\n    </tr>\n    <tr>\n      <th>1</th>\n      <td>157948</td>\n      <td>wieś</td>\n      <td>Adamowo</td>\n      <td>POINT (522923.230 649553.540)</td>\n      <td>True</td>\n      <td>69</td>\n      <td>255</td>\n      <td>4841070.89</td>\n      <td>147.0</td>\n      <td>25168.40</td>\n      <td>...</td>\n      <td>0.0</td>\n      <td>0.0</td>\n      <td>0.0</td>\n      <td>0.345539</td>\n      <td>1211.098579</td>\n      <td>648.750812</td>\n      <td>53.567135</td>\n      <td>7.723816</td>\n      <td>3010.174003</td>\n      <td>3010.174003</td>\n    </tr>\n    <tr>\n      <th>2</th>\n      <td>117890</td>\n      <td>wieś</td>\n      <td>Adamowo</td>\n      <td>POINT (561486.270 590967.880)</td>\n      <td>True</td>\n      <td>33</td>\n      <td>83</td>\n      <td>2073808.18</td>\n      <td>93.0</td>\n      <td>8551.89</td>\n      <td>...</td>\n      <td>0.0</td>\n      <td>0.0</td>\n      <td>0.0</td>\n      <td>0.232380</td>\n      <td>203.093999</td>\n      <td>156.541945</td>\n      <td>77.078568</td>\n      <td>5.140856</td>\n      <td>888.593759</td>\n      <td>888.593759</td>\n    </tr>\n    <tr>\n      <th>3</th>\n      <td>471403</td>\n      <td>wieś</td>\n      <td>Adamowo</td>\n      <td>POINT (630835.770 669115.890)</td>\n      <td>True</td>\n      <td>13</td>\n      <td>142</td>\n      <td>12131404.50</td>\n      <td>118.0</td>\n      <td>32306.85</td>\n      <td>...</td>\n      <td>0.0</td>\n      <td>0.0</td>\n      <td>0.0</td>\n      <td>0.160716</td>\n      <td>1239.796179</td>\n      <td>725.923757</td>\n      <td>58.551863</td>\n      <td>6.414879</td>\n      <td>3130.001913</td>\n      <td>3130.001913</td>\n    </tr>\n    <tr>\n      <th>4</th>\n      <td>149647</td>\n      <td>część wsi</td>\n      <td>Adamowo-Osiedle</td>\n      <td>POINT (521525.150 699758.410)</td>\n      <td>False</td>\n      <td>26</td>\n      <td>88</td>\n      <td>264581.60</td>\n      <td>29.0</td>\n      <td>7311.39</td>\n      <td>...</td>\n      <td>0.0</td>\n      <td>0.0</td>\n      <td>3.0</td>\n      <td>0.454862</td>\n      <td>132.621878</td>\n      <td>79.351370</td>\n      <td>59.832790</td>\n      <td>5.648417</td>\n      <td>402.083649</td>\n      <td>402.083649</td>\n    </tr>\n    <tr>\n      <th>...</th>\n      <td>...</td>\n      <td>...</td>\n      <td>...</td>\n      <td>...</td>\n      <td>...</td>\n      <td>...</td>\n      <td>...</td>\n      <td>...</td>\n      <td>...</td>\n      <td>...</td>\n      <td>...</td>\n      <td>...</td>\n      <td>...</td>\n      <td>...</td>\n      <td>...</td>\n      <td>...</td>\n      <td>...</td>\n      <td>...</td>\n      <td>...</td>\n      <td>...</td>\n      <td>...</td>\n    </tr>\n    <tr>\n      <th>3772</th>\n      <td>1044100</td>\n      <td>osada</td>\n      <td>Rozdroże</td>\n      <td>POINT (590288.790 610513.940)</td>\n      <td>True</td>\n      <td>76</td>\n      <td>429</td>\n      <td>944005.19</td>\n      <td>88.0</td>\n      <td>17862.33</td>\n      <td>...</td>\n      <td>0.0</td>\n      <td>1.0</td>\n      <td>0.0</td>\n      <td>0.570609</td>\n      <td>397.641182</td>\n      <td>221.024272</td>\n      <td>55.583848</td>\n      <td>6.201421</td>\n      <td>1074.914468</td>\n      <td>1074.914468</td>\n    </tr>\n    <tr>\n      <th>3773</th>\n      <td>1047050</td>\n      <td>osada</td>\n      <td>Janowo</td>\n      <td>POINT (565834.280 675757.940)</td>\n      <td>True</td>\n      <td>2</td>\n      <td>5</td>\n      <td>4442946.03</td>\n      <td>21.0</td>\n      <td>1600.72</td>\n      <td>...</td>\n      <td>0.0</td>\n      <td>0.0</td>\n      <td>0.0</td>\n      <td>0.358676</td>\n      <td>1158.103589</td>\n      <td>1044.314695</td>\n      <td>90.174550</td>\n      <td>7.218277</td>\n      <td>2380.240443</td>\n      <td>2380.240443</td>\n    </tr>\n    <tr>\n      <th>3774</th>\n      <td>764660</td>\n      <td>kolonia</td>\n      <td>Wąglik-Kolonia</td>\n      <td>POINT (682736.170 644304.860)</td>\n      <td>True</td>\n      <td>6</td>\n      <td>7</td>\n      <td>24333.51</td>\n      <td>7.0</td>\n      <td>883.66</td>\n      <td>...</td>\n      <td>0.0</td>\n      <td>0.0</td>\n      <td>0.0</td>\n      <td>1.081121</td>\n      <td>59.375132</td>\n      <td>34.049685</td>\n      <td>57.346710</td>\n      <td>24.023513</td>\n      <td>112.380274</td>\n      <td>112.380274</td>\n    </tr>\n    <tr>\n      <th>3775</th>\n      <td>770672</td>\n      <td>kolonia</td>\n      <td>Zajdy</td>\n      <td>POINT (724720.600 686869.290)</td>\n      <td>True</td>\n      <td>5</td>\n      <td>12</td>\n      <td>704732.13</td>\n      <td>20.0</td>\n      <td>2580.28</td>\n      <td>...</td>\n      <td>0.0</td>\n      <td>0.0</td>\n      <td>0.0</td>\n      <td>0.165141</td>\n      <td>505.469867</td>\n      <td>361.880396</td>\n      <td>71.592872</td>\n      <td>7.672812</td>\n      <td>1110.875269</td>\n      <td>1110.875269</td>\n    </tr>\n    <tr>\n      <th>3776</th>\n      <td>1067147</td>\n      <td>osada</td>\n      <td>Niewiastowo</td>\n      <td>POINT (545598.880 719970.260)</td>\n      <td>True</td>\n      <td>3</td>\n      <td>4</td>\n      <td>607350.95</td>\n      <td>5.0</td>\n      <td>449.97</td>\n      <td>...</td>\n      <td>0.0</td>\n      <td>0.0</td>\n      <td>0.0</td>\n      <td>0.328823</td>\n      <td>81.384689</td>\n      <td>57.180786</td>\n      <td>70.259881</td>\n      <td>19.517409</td>\n      <td>180.381791</td>\n      <td>180.381791</td>\n    </tr>\n  </tbody>\n</table>\n<p>3763 rows × 39 columns</p>\n</div>"
     },
     "execution_count": 52,
     "metadata": {},
     "output_type": "execute_result"
    }
   ],
   "source": [
    "# tymczasowe uzupełnienie brakującej liczby mieszkańców w rekordach zerami\n",
    "warminskie_prng_v_2 = warminskie_prng.copy()\n",
    "warminskie_prng_v_2['liczba_mieszkancow'] = warminskie_prng['liczba_mieszkancow'].fillna(0)\n",
    "warminskie_prng_v_2"
   ],
   "metadata": {
    "collapsed": false,
    "ExecuteTime": {
     "end_time": "2023-11-19T14:59:23.969368500Z",
     "start_time": "2023-11-19T14:59:23.896843300Z"
    }
   },
   "id": "898a100c61572697"
  },
  {
   "cell_type": "code",
   "execution_count": 53,
   "outputs": [
    {
     "data": {
      "text/plain": "Empty GeoDataFrame\nColumns: [SIMC_id, rodzaj, nazwa, geometry, czy_samodzielna, liczba_adresow, liczba_mieszkancow, powierzchnia, liczba_budynkow, powierzchnia_budynkow, srednia_liczba_kondygnacji, budynekGospodarstwaRolnego, budynekZabytkowy, budynkiBiurowe, budynkiGarazy, budynkiHandlowoUslugowe, budynkiHoteli, budynkiKultuReligijnego, budynkiKulturyFizycznej, budynkiLacznosciDworcowITerminali, budynkiMieszkalneJednorodzinne, budynkiMuzeowIBibliotek, budynkiODwochMieszkaniach, budynkiOTrzechIWiecejMieszkaniach, budynkiPrzemyslowe, budynkiSzkolIInstytucjiBadawczych, budynkiSzpitaliIZakladowOpiekiMedycznej, budynkiZakwaterowaniaTurystycznegoPozostale, budynkiZbiorowegoZamieszkania, ogolnodostepneObiektyKulturalne, pozostaleBudynkiNiemieszkalne, zbiornikSilosIBudynkiMagazynowe, nna_index, srednia_odleglosci, odchylenie_standardowe, wspolczynnik_zmiennosci, min_odleglosc, max_odleglosc, min_max_rozstep]\nIndex: []\n\n[0 rows x 39 columns]",
      "text/html": "<div>\n<style scoped>\n    .dataframe tbody tr th:only-of-type {\n        vertical-align: middle;\n    }\n\n    .dataframe tbody tr th {\n        vertical-align: top;\n    }\n\n    .dataframe thead th {\n        text-align: right;\n    }\n</style>\n<table border=\"1\" class=\"dataframe\">\n  <thead>\n    <tr style=\"text-align: right;\">\n      <th></th>\n      <th>SIMC_id</th>\n      <th>rodzaj</th>\n      <th>nazwa</th>\n      <th>geometry</th>\n      <th>czy_samodzielna</th>\n      <th>liczba_adresow</th>\n      <th>liczba_mieszkancow</th>\n      <th>powierzchnia</th>\n      <th>liczba_budynkow</th>\n      <th>powierzchnia_budynkow</th>\n      <th>...</th>\n      <th>ogolnodostepneObiektyKulturalne</th>\n      <th>pozostaleBudynkiNiemieszkalne</th>\n      <th>zbiornikSilosIBudynkiMagazynowe</th>\n      <th>nna_index</th>\n      <th>srednia_odleglosci</th>\n      <th>odchylenie_standardowe</th>\n      <th>wspolczynnik_zmiennosci</th>\n      <th>min_odleglosc</th>\n      <th>max_odleglosc</th>\n      <th>min_max_rozstep</th>\n    </tr>\n  </thead>\n  <tbody>\n  </tbody>\n</table>\n<p>0 rows × 39 columns</p>\n</div>"
     },
     "execution_count": 53,
     "metadata": {},
     "output_type": "execute_result"
    }
   ],
   "source": [
    "# sprawdzenie wartości null\n",
    "# na = warminskie_prng_v_2[warminskie_prng_v_2.isnull().any(axis=1)]\n",
    "# na"
   ],
   "metadata": {
    "collapsed": false,
    "ExecuteTime": {
     "end_time": "2023-11-19T14:59:34.998037600Z",
     "start_time": "2023-11-19T14:59:34.882932500Z"
    }
   },
   "id": "4515c79be9f2c9c2"
  },
  {
   "cell_type": "markdown",
   "source": [
    "dodanie kolumny z dlugością ulic"
   ],
   "metadata": {
    "collapsed": false
   },
   "id": "c274a621a1402de8"
  },
  {
   "cell_type": "code",
   "execution_count": 54,
   "outputs": [
    {
     "data": {
      "text/plain": "       TERYT  SIMC_id SIMC_nazwa ULIC_id  Cecha       ULIC_nazwa  \\\n0     281707   490062   Spychowo   19830  Ulica     Sienkiewicza   \n1     281707   490062   Spychowo   33516  Ulica  Osiedle Zacisze   \n2     281707   490062   Spychowo   12555  Ulica         Mazurska   \n3     281707   490062   Spychowo   20254  Ulica        Słoneczna   \n4     281707   490062   Spychowo   10898  Ulica            Leśna   \n...      ...      ...        ...     ...    ...              ...   \n7575  281411   488906   Gryźliny     NaN  Ulica         Pasłęcka   \n7576  281411   488906   Gryźliny   12991  Ulica          Miodowa   \n7577  281411   488906   Gryźliny   17390  Ulica       Poziomkowa   \n7578  281411   488906   Gryźliny   26585  Ulica       Żurawinowa   \n7579  281411   488906   Gryźliny   10009  Ulica           Krótka   \n\n                                               geometry  \n0     MULTILINESTRING ((655397.160 639786.350, 65548...  \n1     LINESTRING (655270.026 639186.740, 655372.822 ...  \n2     MULTILINESTRING ((655548.711 638968.601, 65554...  \n3     LINESTRING (655473.380 639464.090, 655631.960 ...  \n4     LINESTRING (654907.620 639433.789, 654872.268 ...  \n...                                                 ...  \n7575  LINESTRING (591197.722 643305.848, 591148.426 ...  \n7576  LINESTRING (588725.500 640508.320, 588770.600 ...  \n7577  LINESTRING (589116.150 639631.470, 589114.200 ...  \n7578  LINESTRING (590196.320 642044.460, 590209.020 ...  \n7579  LINESTRING (588887.240 639674.440, 588883.730 ...  \n\n[7580 rows x 7 columns]",
      "text/html": "<div>\n<style scoped>\n    .dataframe tbody tr th:only-of-type {\n        vertical-align: middle;\n    }\n\n    .dataframe tbody tr th {\n        vertical-align: top;\n    }\n\n    .dataframe thead th {\n        text-align: right;\n    }\n</style>\n<table border=\"1\" class=\"dataframe\">\n  <thead>\n    <tr style=\"text-align: right;\">\n      <th></th>\n      <th>TERYT</th>\n      <th>SIMC_id</th>\n      <th>SIMC_nazwa</th>\n      <th>ULIC_id</th>\n      <th>Cecha</th>\n      <th>ULIC_nazwa</th>\n      <th>geometry</th>\n    </tr>\n  </thead>\n  <tbody>\n    <tr>\n      <th>0</th>\n      <td>281707</td>\n      <td>490062</td>\n      <td>Spychowo</td>\n      <td>19830</td>\n      <td>Ulica</td>\n      <td>Sienkiewicza</td>\n      <td>MULTILINESTRING ((655397.160 639786.350, 65548...</td>\n    </tr>\n    <tr>\n      <th>1</th>\n      <td>281707</td>\n      <td>490062</td>\n      <td>Spychowo</td>\n      <td>33516</td>\n      <td>Ulica</td>\n      <td>Osiedle Zacisze</td>\n      <td>LINESTRING (655270.026 639186.740, 655372.822 ...</td>\n    </tr>\n    <tr>\n      <th>2</th>\n      <td>281707</td>\n      <td>490062</td>\n      <td>Spychowo</td>\n      <td>12555</td>\n      <td>Ulica</td>\n      <td>Mazurska</td>\n      <td>MULTILINESTRING ((655548.711 638968.601, 65554...</td>\n    </tr>\n    <tr>\n      <th>3</th>\n      <td>281707</td>\n      <td>490062</td>\n      <td>Spychowo</td>\n      <td>20254</td>\n      <td>Ulica</td>\n      <td>Słoneczna</td>\n      <td>LINESTRING (655473.380 639464.090, 655631.960 ...</td>\n    </tr>\n    <tr>\n      <th>4</th>\n      <td>281707</td>\n      <td>490062</td>\n      <td>Spychowo</td>\n      <td>10898</td>\n      <td>Ulica</td>\n      <td>Leśna</td>\n      <td>LINESTRING (654907.620 639433.789, 654872.268 ...</td>\n    </tr>\n    <tr>\n      <th>...</th>\n      <td>...</td>\n      <td>...</td>\n      <td>...</td>\n      <td>...</td>\n      <td>...</td>\n      <td>...</td>\n      <td>...</td>\n    </tr>\n    <tr>\n      <th>7575</th>\n      <td>281411</td>\n      <td>488906</td>\n      <td>Gryźliny</td>\n      <td>NaN</td>\n      <td>Ulica</td>\n      <td>Pasłęcka</td>\n      <td>LINESTRING (591197.722 643305.848, 591148.426 ...</td>\n    </tr>\n    <tr>\n      <th>7576</th>\n      <td>281411</td>\n      <td>488906</td>\n      <td>Gryźliny</td>\n      <td>12991</td>\n      <td>Ulica</td>\n      <td>Miodowa</td>\n      <td>LINESTRING (588725.500 640508.320, 588770.600 ...</td>\n    </tr>\n    <tr>\n      <th>7577</th>\n      <td>281411</td>\n      <td>488906</td>\n      <td>Gryźliny</td>\n      <td>17390</td>\n      <td>Ulica</td>\n      <td>Poziomkowa</td>\n      <td>LINESTRING (589116.150 639631.470, 589114.200 ...</td>\n    </tr>\n    <tr>\n      <th>7578</th>\n      <td>281411</td>\n      <td>488906</td>\n      <td>Gryźliny</td>\n      <td>26585</td>\n      <td>Ulica</td>\n      <td>Żurawinowa</td>\n      <td>LINESTRING (590196.320 642044.460, 590209.020 ...</td>\n    </tr>\n    <tr>\n      <th>7579</th>\n      <td>281411</td>\n      <td>488906</td>\n      <td>Gryźliny</td>\n      <td>10009</td>\n      <td>Ulica</td>\n      <td>Krótka</td>\n      <td>LINESTRING (588887.240 639674.440, 588883.730 ...</td>\n    </tr>\n  </tbody>\n</table>\n<p>7580 rows × 7 columns</p>\n</div>"
     },
     "execution_count": 54,
     "metadata": {},
     "output_type": "execute_result"
    }
   ],
   "source": [
    "# pobranie ulic\n",
    "ulice = gpd.read_file('28/PRG_Ulice_28.shp')\n",
    "ulice['SIMC_id'] = pd.to_numeric(ulice['SIMC_id'], errors='coerce').astype('Int64')\n",
    "ulice"
   ],
   "metadata": {
    "collapsed": false,
    "ExecuteTime": {
     "end_time": "2023-11-19T15:11:34.181161900Z",
     "start_time": "2023-11-19T15:11:31.803080Z"
    }
   },
   "id": "20fb29dd5d2bdf70"
  },
  {
   "cell_type": "code",
   "execution_count": 55,
   "outputs": [],
   "source": [
    "ulice['dlugosc_ulic'] = ulice['geometry'].length"
   ],
   "metadata": {
    "collapsed": false,
    "ExecuteTime": {
     "end_time": "2023-11-19T15:22:33.721451300Z",
     "start_time": "2023-11-19T15:22:33.682425200Z"
    }
   },
   "id": "75599708752bf524"
  },
  {
   "cell_type": "code",
   "execution_count": 56,
   "outputs": [
    {
     "data": {
      "text/plain": "     SIMC_id  dlugosc_ulic\n0     116435  17858.676103\n1     116458   8022.927889\n2     116518  15928.923194\n3     117914   1427.497986\n4     118010   9400.601378\n..       ...           ...\n229   977947  49981.750589\n230   983563  47577.358167\n231  1063103   1871.085677\n232  1066828   6818.686482\n233  1067147    265.437943\n\n[234 rows x 2 columns]",
      "text/html": "<div>\n<style scoped>\n    .dataframe tbody tr th:only-of-type {\n        vertical-align: middle;\n    }\n\n    .dataframe tbody tr th {\n        vertical-align: top;\n    }\n\n    .dataframe thead th {\n        text-align: right;\n    }\n</style>\n<table border=\"1\" class=\"dataframe\">\n  <thead>\n    <tr style=\"text-align: right;\">\n      <th></th>\n      <th>SIMC_id</th>\n      <th>dlugosc_ulic</th>\n    </tr>\n  </thead>\n  <tbody>\n    <tr>\n      <th>0</th>\n      <td>116435</td>\n      <td>17858.676103</td>\n    </tr>\n    <tr>\n      <th>1</th>\n      <td>116458</td>\n      <td>8022.927889</td>\n    </tr>\n    <tr>\n      <th>2</th>\n      <td>116518</td>\n      <td>15928.923194</td>\n    </tr>\n    <tr>\n      <th>3</th>\n      <td>117914</td>\n      <td>1427.497986</td>\n    </tr>\n    <tr>\n      <th>4</th>\n      <td>118010</td>\n      <td>9400.601378</td>\n    </tr>\n    <tr>\n      <th>...</th>\n      <td>...</td>\n      <td>...</td>\n    </tr>\n    <tr>\n      <th>229</th>\n      <td>977947</td>\n      <td>49981.750589</td>\n    </tr>\n    <tr>\n      <th>230</th>\n      <td>983563</td>\n      <td>47577.358167</td>\n    </tr>\n    <tr>\n      <th>231</th>\n      <td>1063103</td>\n      <td>1871.085677</td>\n    </tr>\n    <tr>\n      <th>232</th>\n      <td>1066828</td>\n      <td>6818.686482</td>\n    </tr>\n    <tr>\n      <th>233</th>\n      <td>1067147</td>\n      <td>265.437943</td>\n    </tr>\n  </tbody>\n</table>\n<p>234 rows × 2 columns</p>\n</div>"
     },
     "execution_count": 56,
     "metadata": {},
     "output_type": "execute_result"
    }
   ],
   "source": [
    "# łączna długość ulic\n",
    "dlugosc_ulic = ulice[['SIMC_id', 'dlugosc_ulic']]\n",
    "dlugosc_ulic = dlugosc_ulic.groupby('SIMC_id')['dlugosc_ulic'].sum().reset_index()\n",
    "dlugosc_ulic # w metrach\n",
    "# w przypadku ulic danych jest dużo mniej niż obserwacji, ze względu na to, że są to tylko \"nazwane\" ulice\n",
    "# na razie nie będę ich dodawać, zobaczę, jak pójdzie z modelem w aktualnym stanie"
   ],
   "metadata": {
    "collapsed": false,
    "ExecuteTime": {
     "end_time": "2023-11-19T15:22:36.535810700Z",
     "start_time": "2023-11-19T15:22:36.472936200Z"
    }
   },
   "id": "e01a7c9f82d3cbb0"
  },
  {
   "cell_type": "markdown",
   "source": [
    "zapisanie do pliku tabeli, która będzie podstawą modelu"
   ],
   "metadata": {
    "collapsed": false
   },
   "id": "224b6926dd585c45"
  },
  {
   "cell_type": "code",
   "execution_count": 57,
   "outputs": [
    {
     "data": {
      "text/plain": "      SIMC_id     rodzaj            nazwa  czy_samodzielna  liczba_adresow  \\\n0      149222       wieś          Adamowo             True              21   \n1      157948       wieś          Adamowo             True              69   \n2      117890       wieś          Adamowo             True              33   \n3      471403       wieś          Adamowo             True              13   \n4      149647  część wsi  Adamowo-Osiedle            False              26   \n...       ...        ...              ...              ...             ...   \n3772  1044100      osada         Rozdroże             True              76   \n3773  1047050      osada           Janowo             True               2   \n3774   764660    kolonia   Wąglik-Kolonia             True               6   \n3775   770672    kolonia            Zajdy             True               5   \n3776  1067147      osada      Niewiastowo             True               3   \n\n      liczba_mieszkancow  powierzchnia  liczba_budynkow  \\\n0                     65    5184091.39             60.0   \n1                    255    4841070.89            147.0   \n2                     83    2073808.18             93.0   \n3                    142   12131404.50            118.0   \n4                     88     264581.60             29.0   \n...                  ...           ...              ...   \n3772                 429     944005.19             88.0   \n3773                   5    4442946.03             21.0   \n3774                   7      24333.51              7.0   \n3775                  12     704732.13             20.0   \n3776                   4     607350.95              5.0   \n\n      powierzchnia_budynkow  srednia_liczba_kondygnacji  ...  \\\n0                  14715.06                    1.300000  ...   \n1                  25168.40                    1.408163  ...   \n2                   8551.89                    1.505376  ...   \n3                  32306.85                    1.101695  ...   \n4                   7311.39                    1.448276  ...   \n...                     ...                         ...  ...   \n3772               17862.33                    1.409091  ...   \n3773                1600.72                    1.285714  ...   \n3774                 883.66                    1.000000  ...   \n3775                2580.28                    1.000000  ...   \n3776                 449.97                    1.000000  ...   \n\n      ogolnodostepneObiektyKulturalne  pozostaleBudynkiNiemieszkalne  \\\n0                                 0.0                            0.0   \n1                                 0.0                            0.0   \n2                                 0.0                            0.0   \n3                                 0.0                            0.0   \n4                                 0.0                            0.0   \n...                               ...                            ...   \n3772                              0.0                            1.0   \n3773                              0.0                            0.0   \n3774                              0.0                            0.0   \n3775                              0.0                            0.0   \n3776                              0.0                            0.0   \n\n      zbiornikSilosIBudynkiMagazynowe  nna_index  srednia_odleglosci  \\\n0                                 0.0   0.287704         1223.486507   \n1                                 0.0   0.345539         1211.098579   \n2                                 0.0   0.232380          203.093999   \n3                                 0.0   0.160716         1239.796179   \n4                                 3.0   0.454862          132.621878   \n...                               ...        ...                 ...   \n3772                              0.0   0.570609          397.641182   \n3773                              0.0   0.358676         1158.103589   \n3774                              0.0   1.081121           59.375132   \n3775                              0.0   0.165141          505.469867   \n3776                              0.0   0.328823           81.384689   \n\n      odchylenie_standardowe  wspolczynnik_zmiennosci  min_odleglosc  \\\n0                 853.187516                69.734117       6.805516   \n1                 648.750812                53.567135       7.723816   \n2                 156.541945                77.078568       5.140856   \n3                 725.923757                58.551863       6.414879   \n4                  79.351370                59.832790       5.648417   \n...                      ...                      ...            ...   \n3772              221.024272                55.583848       6.201421   \n3773             1044.314695                90.174550       7.218277   \n3774               34.049685                57.346710      24.023513   \n3775              361.880396                71.592872       7.672812   \n3776               57.180786                70.259881      19.517409   \n\n      max_odleglosc  min_max_rozstep  \n0       3049.927024      3049.927024  \n1       3010.174003      3010.174003  \n2        888.593759       888.593759  \n3       3130.001913      3130.001913  \n4        402.083649       402.083649  \n...             ...              ...  \n3772    1074.914468      1074.914468  \n3773    2380.240443      2380.240443  \n3774     112.380274       112.380274  \n3775    1110.875269      1110.875269  \n3776     180.381791       180.381791  \n\n[3763 rows x 38 columns]",
      "text/html": "<div>\n<style scoped>\n    .dataframe tbody tr th:only-of-type {\n        vertical-align: middle;\n    }\n\n    .dataframe tbody tr th {\n        vertical-align: top;\n    }\n\n    .dataframe thead th {\n        text-align: right;\n    }\n</style>\n<table border=\"1\" class=\"dataframe\">\n  <thead>\n    <tr style=\"text-align: right;\">\n      <th></th>\n      <th>SIMC_id</th>\n      <th>rodzaj</th>\n      <th>nazwa</th>\n      <th>czy_samodzielna</th>\n      <th>liczba_adresow</th>\n      <th>liczba_mieszkancow</th>\n      <th>powierzchnia</th>\n      <th>liczba_budynkow</th>\n      <th>powierzchnia_budynkow</th>\n      <th>srednia_liczba_kondygnacji</th>\n      <th>...</th>\n      <th>ogolnodostepneObiektyKulturalne</th>\n      <th>pozostaleBudynkiNiemieszkalne</th>\n      <th>zbiornikSilosIBudynkiMagazynowe</th>\n      <th>nna_index</th>\n      <th>srednia_odleglosci</th>\n      <th>odchylenie_standardowe</th>\n      <th>wspolczynnik_zmiennosci</th>\n      <th>min_odleglosc</th>\n      <th>max_odleglosc</th>\n      <th>min_max_rozstep</th>\n    </tr>\n  </thead>\n  <tbody>\n    <tr>\n      <th>0</th>\n      <td>149222</td>\n      <td>wieś</td>\n      <td>Adamowo</td>\n      <td>True</td>\n      <td>21</td>\n      <td>65</td>\n      <td>5184091.39</td>\n      <td>60.0</td>\n      <td>14715.06</td>\n      <td>1.300000</td>\n      <td>...</td>\n      <td>0.0</td>\n      <td>0.0</td>\n      <td>0.0</td>\n      <td>0.287704</td>\n      <td>1223.486507</td>\n      <td>853.187516</td>\n      <td>69.734117</td>\n      <td>6.805516</td>\n      <td>3049.927024</td>\n      <td>3049.927024</td>\n    </tr>\n    <tr>\n      <th>1</th>\n      <td>157948</td>\n      <td>wieś</td>\n      <td>Adamowo</td>\n      <td>True</td>\n      <td>69</td>\n      <td>255</td>\n      <td>4841070.89</td>\n      <td>147.0</td>\n      <td>25168.40</td>\n      <td>1.408163</td>\n      <td>...</td>\n      <td>0.0</td>\n      <td>0.0</td>\n      <td>0.0</td>\n      <td>0.345539</td>\n      <td>1211.098579</td>\n      <td>648.750812</td>\n      <td>53.567135</td>\n      <td>7.723816</td>\n      <td>3010.174003</td>\n      <td>3010.174003</td>\n    </tr>\n    <tr>\n      <th>2</th>\n      <td>117890</td>\n      <td>wieś</td>\n      <td>Adamowo</td>\n      <td>True</td>\n      <td>33</td>\n      <td>83</td>\n      <td>2073808.18</td>\n      <td>93.0</td>\n      <td>8551.89</td>\n      <td>1.505376</td>\n      <td>...</td>\n      <td>0.0</td>\n      <td>0.0</td>\n      <td>0.0</td>\n      <td>0.232380</td>\n      <td>203.093999</td>\n      <td>156.541945</td>\n      <td>77.078568</td>\n      <td>5.140856</td>\n      <td>888.593759</td>\n      <td>888.593759</td>\n    </tr>\n    <tr>\n      <th>3</th>\n      <td>471403</td>\n      <td>wieś</td>\n      <td>Adamowo</td>\n      <td>True</td>\n      <td>13</td>\n      <td>142</td>\n      <td>12131404.50</td>\n      <td>118.0</td>\n      <td>32306.85</td>\n      <td>1.101695</td>\n      <td>...</td>\n      <td>0.0</td>\n      <td>0.0</td>\n      <td>0.0</td>\n      <td>0.160716</td>\n      <td>1239.796179</td>\n      <td>725.923757</td>\n      <td>58.551863</td>\n      <td>6.414879</td>\n      <td>3130.001913</td>\n      <td>3130.001913</td>\n    </tr>\n    <tr>\n      <th>4</th>\n      <td>149647</td>\n      <td>część wsi</td>\n      <td>Adamowo-Osiedle</td>\n      <td>False</td>\n      <td>26</td>\n      <td>88</td>\n      <td>264581.60</td>\n      <td>29.0</td>\n      <td>7311.39</td>\n      <td>1.448276</td>\n      <td>...</td>\n      <td>0.0</td>\n      <td>0.0</td>\n      <td>3.0</td>\n      <td>0.454862</td>\n      <td>132.621878</td>\n      <td>79.351370</td>\n      <td>59.832790</td>\n      <td>5.648417</td>\n      <td>402.083649</td>\n      <td>402.083649</td>\n    </tr>\n    <tr>\n      <th>...</th>\n      <td>...</td>\n      <td>...</td>\n      <td>...</td>\n      <td>...</td>\n      <td>...</td>\n      <td>...</td>\n      <td>...</td>\n      <td>...</td>\n      <td>...</td>\n      <td>...</td>\n      <td>...</td>\n      <td>...</td>\n      <td>...</td>\n      <td>...</td>\n      <td>...</td>\n      <td>...</td>\n      <td>...</td>\n      <td>...</td>\n      <td>...</td>\n      <td>...</td>\n      <td>...</td>\n    </tr>\n    <tr>\n      <th>3772</th>\n      <td>1044100</td>\n      <td>osada</td>\n      <td>Rozdroże</td>\n      <td>True</td>\n      <td>76</td>\n      <td>429</td>\n      <td>944005.19</td>\n      <td>88.0</td>\n      <td>17862.33</td>\n      <td>1.409091</td>\n      <td>...</td>\n      <td>0.0</td>\n      <td>1.0</td>\n      <td>0.0</td>\n      <td>0.570609</td>\n      <td>397.641182</td>\n      <td>221.024272</td>\n      <td>55.583848</td>\n      <td>6.201421</td>\n      <td>1074.914468</td>\n      <td>1074.914468</td>\n    </tr>\n    <tr>\n      <th>3773</th>\n      <td>1047050</td>\n      <td>osada</td>\n      <td>Janowo</td>\n      <td>True</td>\n      <td>2</td>\n      <td>5</td>\n      <td>4442946.03</td>\n      <td>21.0</td>\n      <td>1600.72</td>\n      <td>1.285714</td>\n      <td>...</td>\n      <td>0.0</td>\n      <td>0.0</td>\n      <td>0.0</td>\n      <td>0.358676</td>\n      <td>1158.103589</td>\n      <td>1044.314695</td>\n      <td>90.174550</td>\n      <td>7.218277</td>\n      <td>2380.240443</td>\n      <td>2380.240443</td>\n    </tr>\n    <tr>\n      <th>3774</th>\n      <td>764660</td>\n      <td>kolonia</td>\n      <td>Wąglik-Kolonia</td>\n      <td>True</td>\n      <td>6</td>\n      <td>7</td>\n      <td>24333.51</td>\n      <td>7.0</td>\n      <td>883.66</td>\n      <td>1.000000</td>\n      <td>...</td>\n      <td>0.0</td>\n      <td>0.0</td>\n      <td>0.0</td>\n      <td>1.081121</td>\n      <td>59.375132</td>\n      <td>34.049685</td>\n      <td>57.346710</td>\n      <td>24.023513</td>\n      <td>112.380274</td>\n      <td>112.380274</td>\n    </tr>\n    <tr>\n      <th>3775</th>\n      <td>770672</td>\n      <td>kolonia</td>\n      <td>Zajdy</td>\n      <td>True</td>\n      <td>5</td>\n      <td>12</td>\n      <td>704732.13</td>\n      <td>20.0</td>\n      <td>2580.28</td>\n      <td>1.000000</td>\n      <td>...</td>\n      <td>0.0</td>\n      <td>0.0</td>\n      <td>0.0</td>\n      <td>0.165141</td>\n      <td>505.469867</td>\n      <td>361.880396</td>\n      <td>71.592872</td>\n      <td>7.672812</td>\n      <td>1110.875269</td>\n      <td>1110.875269</td>\n    </tr>\n    <tr>\n      <th>3776</th>\n      <td>1067147</td>\n      <td>osada</td>\n      <td>Niewiastowo</td>\n      <td>True</td>\n      <td>3</td>\n      <td>4</td>\n      <td>607350.95</td>\n      <td>5.0</td>\n      <td>449.97</td>\n      <td>1.000000</td>\n      <td>...</td>\n      <td>0.0</td>\n      <td>0.0</td>\n      <td>0.0</td>\n      <td>0.328823</td>\n      <td>81.384689</td>\n      <td>57.180786</td>\n      <td>70.259881</td>\n      <td>19.517409</td>\n      <td>180.381791</td>\n      <td>180.381791</td>\n    </tr>\n  </tbody>\n</table>\n<p>3763 rows × 38 columns</p>\n</div>"
     },
     "execution_count": 57,
     "metadata": {},
     "output_type": "execute_result"
    }
   ],
   "source": [
    "warminskie_prng_bez_geom = warminskie_prng_v_2.drop('geometry', axis=1)\n",
    "warminskie_prng_bez_geom"
   ],
   "metadata": {
    "collapsed": false,
    "ExecuteTime": {
     "end_time": "2023-11-19T15:26:35.993024Z",
     "start_time": "2023-11-19T15:26:35.890003900Z"
    }
   },
   "id": "51d2506a8d1b563b"
  },
  {
   "cell_type": "code",
   "execution_count": 59,
   "outputs": [],
   "source": [
    "# warminskie_prng_bez_geom.to_csv('28/warminskie_miejscowosci_do_analizy.csv', sep=';', header=True, index=False)"
   ],
   "metadata": {
    "collapsed": false,
    "ExecuteTime": {
     "end_time": "2023-11-19T15:28:22.359051500Z",
     "start_time": "2023-11-19T15:28:22.274784800Z"
    }
   },
   "id": "6b926245de5136dc"
  },
  {
   "cell_type": "code",
   "execution_count": null,
   "outputs": [],
   "source": [],
   "metadata": {
    "collapsed": false
   },
   "id": "d94b01d359e6d2b7"
  }
 ],
 "metadata": {
  "kernelspec": {
   "display_name": "Python 3",
   "language": "python",
   "name": "python3"
  },
  "language_info": {
   "codemirror_mode": {
    "name": "ipython",
    "version": 2
   },
   "file_extension": ".py",
   "mimetype": "text/x-python",
   "name": "python",
   "nbconvert_exporter": "python",
   "pygments_lexer": "ipython2",
   "version": "2.7.6"
  }
 },
 "nbformat": 4,
 "nbformat_minor": 5
}
