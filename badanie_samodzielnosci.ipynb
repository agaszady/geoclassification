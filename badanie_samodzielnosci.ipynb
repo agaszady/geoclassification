{
 "cells": [
  {
   "cell_type": "markdown",
   "source": [
    "sprawdzenie ile jest miejscowosci niesamodzielnych z adresacją w warminsko mazurskim"
   ],
   "metadata": {
    "collapsed": false
   },
   "id": "ea5a357713f0a39d"
  },
  {
   "cell_type": "code",
   "execution_count": 44,
   "outputs": [],
   "source": [
    "import geopandas as gpd\n",
    "import pandas as pd\n",
    "from shapely.geometry import MultiPoint"
   ],
   "metadata": {
    "collapsed": false,
    "ExecuteTime": {
     "end_time": "2023-12-26T19:15:32.212054900Z",
     "start_time": "2023-12-26T19:15:32.183651100Z"
    }
   },
   "id": "b1df40b832d3c257"
  },
  {
   "cell_type": "code",
   "execution_count": 27,
   "outputs": [
    {
     "data": {
      "text/plain": "                           idIIP  idPRNG                      nazwaGlown  \\\n0            PL.PZGiK.320.NGRP.2       2                  Osiedle Struga   \n1            PL.PZGiK.320.NGRP.4       4                        Abisynia   \n2            PL.PZGiK.320.NGRP.6       6                        Abisynia   \n3            PL.PZGiK.320.NGRP.7       7                        Abisynia   \n4            PL.PZGiK.320.NGRP.8       8                        Abisynia   \n...                          ...     ...                             ...   \n124558  PL.PZGiK.320.NGRP.269651  269651   Osiedle Ignacego Daszyńskiego   \n124559  PL.PZGiK.320.NGRP.269652  269652                  Osiedle Poręba   \n124560  PL.PZGiK.320.NGRP.269653  269653                   Osiedle Widok   \n124561  PL.PZGiK.320.NGRP.269654  269654                   Osiedle Górki   \n124562  PL.PZGiK.320.NGRP.269656  269656  Osiedle Feliksa Nowowiejskiego   \n\n                    elementRoz elementRod                  dopelniacz  \\\n0                       Struga    Osiedle                     -la -gi   \n1                     Abisynia        NaN                        -nii   \n2                     Abisynia        NaN                        -nii   \n3                     Abisynia        NaN                        -nii   \n4                     Abisynia        NaN                        -nii   \n...                        ...        ...                         ...   \n124558   Ignacego Daszyńskiego    Osiedle   -la Ignacego Daszyńskiego   \n124559                  Poręba    Osiedle                  -la Poręby   \n124560                   Widok    Osiedle                     -la -ku   \n124561                   Górki    Osiedle                   -la Górek   \n124562  Feliksa Nowowiejskiego    Osiedle  -la Feliksa Nowowiejskiego   \n\n       przymiot         statusNazw    kategoria          rodzaj  ...  \\\n0           NaN  niestandaryzowana  miejscowość    część miasta  ...   \n1           NaN  niestandaryzowana  miejscowość       część wsi  ...   \n2           NaN  niestandaryzowana  miejscowość  przysiółek wsi  ...   \n3           NaN           urzędowa  miejscowość       część wsi  ...   \n4           NaN  niestandaryzowana  miejscowość    część miasta  ...   \n...         ...                ...          ...             ...  ...   \n124558      NaN  niestandaryzowana  miejscowość    część miasta  ...   \n124559      NaN  niestandaryzowana  miejscowość    część miasta  ...   \n124560      NaN  niestandaryzowana  miejscowość    część miasta  ...   \n124561      NaN  niestandaryzowana  miejscowość    część miasta  ...   \n124562      NaN  niestandaryzowana  miejscowość    część miasta  ...   \n\n       jezykEgzon latynEgzon       wojewodz                   powiat  \\\n0             NaN        NaN   dolnośląskie           dzierżoniowski   \n1             NaN        NaN  wielkopolskie               pleszewski   \n2             NaN        NaN       lubuskie   strzelecko-drezdenecki   \n3             NaN        NaN  wielkopolskie  czarnkowsko-trzcianecki   \n4             NaN        NaN       opolskie              krapkowicki   \n...           ...        ...            ...                      ...   \n124558        NaN        NaN      lubelskie                   Lublin   \n124559        NaN        NaN      lubelskie                   Lublin   \n124560        NaN        NaN      lubelskie                   Lublin   \n124561        NaN        NaN      lubelskie                   Lublin   \n124562        NaN        NaN      lubelskie                   Lublin   \n\n                                   gmina  idGminy            poczWerOb  \\\n0              Dzierżoniów-gmina miejska  0202021  2022-04-01T17:18:26   \n1          Pleszew-gmina miejsko-wiejska  3020063  2022-04-01T17:20:18   \n2             Stare Kurowo-gmina wiejska  0806032  2023-04-25T17:23:30   \n3                  Drawsko-gmina wiejska  3002032  2022-03-22T21:26:58   \n4       Krapkowice-gmina miejsko-wiejska  1605023  2022-04-01T17:18:26   \n...                                  ...      ...                  ...   \n124558              Lublin-gmina miejska  0663011  2023-09-11T23:08:51   \n124559              Lublin-gmina miejska  0663011  2023-09-11T23:16:06   \n124560              Lublin-gmina miejska  0663011  2023-09-11T23:22:20   \n124561              Lublin-gmina miejska  0663011  2023-09-11T23:28:14   \n124562              Lublin-gmina miejska  0663011  2023-09-11T23:38:05   \n\n                   wersjaOb     waznaOd                       geometry  \n0       2022-04-01T17:18:26  2015-06-30  POINT (334530.330 319384.250)  \n1       2022-04-01T17:20:18  2016-04-25  POINT (419019.650 447421.450)  \n2       2023-04-25T17:23:30  2016-01-27  POINT (274605.810 556427.550)  \n3       2022-03-22T21:26:58  2016-03-10  POINT (300270.010 557521.480)  \n4       2022-04-01T17:18:26  2019-10-09  POINT (427022.520 292751.830)  \n...                     ...         ...                            ...  \n124558  2023-09-11T23:08:51  2023-09-11  POINT (750806.120 383325.670)  \n124559  2023-09-11T23:16:06  2023-09-11  POINT (744782.200 378872.240)  \n124560  2023-09-11T23:22:20  2023-09-11  POINT (745551.260 378780.490)  \n124561  2023-09-11T23:28:14  2023-09-11  POINT (746310.060 378878.540)  \n124562  2023-09-11T23:38:05  2023-09-11  POINT (747880.270 383190.560)  \n\n[124563 rows x 40 columns]",
      "text/html": "<div>\n<style scoped>\n    .dataframe tbody tr th:only-of-type {\n        vertical-align: middle;\n    }\n\n    .dataframe tbody tr th {\n        vertical-align: top;\n    }\n\n    .dataframe thead th {\n        text-align: right;\n    }\n</style>\n<table border=\"1\" class=\"dataframe\">\n  <thead>\n    <tr style=\"text-align: right;\">\n      <th></th>\n      <th>idIIP</th>\n      <th>idPRNG</th>\n      <th>nazwaGlown</th>\n      <th>elementRoz</th>\n      <th>elementRod</th>\n      <th>dopelniacz</th>\n      <th>przymiot</th>\n      <th>statusNazw</th>\n      <th>kategoria</th>\n      <th>rodzaj</th>\n      <th>...</th>\n      <th>jezykEgzon</th>\n      <th>latynEgzon</th>\n      <th>wojewodz</th>\n      <th>powiat</th>\n      <th>gmina</th>\n      <th>idGminy</th>\n      <th>poczWerOb</th>\n      <th>wersjaOb</th>\n      <th>waznaOd</th>\n      <th>geometry</th>\n    </tr>\n  </thead>\n  <tbody>\n    <tr>\n      <th>0</th>\n      <td>PL.PZGiK.320.NGRP.2</td>\n      <td>2</td>\n      <td>Osiedle Struga</td>\n      <td>Struga</td>\n      <td>Osiedle</td>\n      <td>-la -gi</td>\n      <td>NaN</td>\n      <td>niestandaryzowana</td>\n      <td>miejscowość</td>\n      <td>część miasta</td>\n      <td>...</td>\n      <td>NaN</td>\n      <td>NaN</td>\n      <td>dolnośląskie</td>\n      <td>dzierżoniowski</td>\n      <td>Dzierżoniów-gmina miejska</td>\n      <td>0202021</td>\n      <td>2022-04-01T17:18:26</td>\n      <td>2022-04-01T17:18:26</td>\n      <td>2015-06-30</td>\n      <td>POINT (334530.330 319384.250)</td>\n    </tr>\n    <tr>\n      <th>1</th>\n      <td>PL.PZGiK.320.NGRP.4</td>\n      <td>4</td>\n      <td>Abisynia</td>\n      <td>Abisynia</td>\n      <td>NaN</td>\n      <td>-nii</td>\n      <td>NaN</td>\n      <td>niestandaryzowana</td>\n      <td>miejscowość</td>\n      <td>część wsi</td>\n      <td>...</td>\n      <td>NaN</td>\n      <td>NaN</td>\n      <td>wielkopolskie</td>\n      <td>pleszewski</td>\n      <td>Pleszew-gmina miejsko-wiejska</td>\n      <td>3020063</td>\n      <td>2022-04-01T17:20:18</td>\n      <td>2022-04-01T17:20:18</td>\n      <td>2016-04-25</td>\n      <td>POINT (419019.650 447421.450)</td>\n    </tr>\n    <tr>\n      <th>2</th>\n      <td>PL.PZGiK.320.NGRP.6</td>\n      <td>6</td>\n      <td>Abisynia</td>\n      <td>Abisynia</td>\n      <td>NaN</td>\n      <td>-nii</td>\n      <td>NaN</td>\n      <td>niestandaryzowana</td>\n      <td>miejscowość</td>\n      <td>przysiółek wsi</td>\n      <td>...</td>\n      <td>NaN</td>\n      <td>NaN</td>\n      <td>lubuskie</td>\n      <td>strzelecko-drezdenecki</td>\n      <td>Stare Kurowo-gmina wiejska</td>\n      <td>0806032</td>\n      <td>2023-04-25T17:23:30</td>\n      <td>2023-04-25T17:23:30</td>\n      <td>2016-01-27</td>\n      <td>POINT (274605.810 556427.550)</td>\n    </tr>\n    <tr>\n      <th>3</th>\n      <td>PL.PZGiK.320.NGRP.7</td>\n      <td>7</td>\n      <td>Abisynia</td>\n      <td>Abisynia</td>\n      <td>NaN</td>\n      <td>-nii</td>\n      <td>NaN</td>\n      <td>urzędowa</td>\n      <td>miejscowość</td>\n      <td>część wsi</td>\n      <td>...</td>\n      <td>NaN</td>\n      <td>NaN</td>\n      <td>wielkopolskie</td>\n      <td>czarnkowsko-trzcianecki</td>\n      <td>Drawsko-gmina wiejska</td>\n      <td>3002032</td>\n      <td>2022-03-22T21:26:58</td>\n      <td>2022-03-22T21:26:58</td>\n      <td>2016-03-10</td>\n      <td>POINT (300270.010 557521.480)</td>\n    </tr>\n    <tr>\n      <th>4</th>\n      <td>PL.PZGiK.320.NGRP.8</td>\n      <td>8</td>\n      <td>Abisynia</td>\n      <td>Abisynia</td>\n      <td>NaN</td>\n      <td>-nii</td>\n      <td>NaN</td>\n      <td>niestandaryzowana</td>\n      <td>miejscowość</td>\n      <td>część miasta</td>\n      <td>...</td>\n      <td>NaN</td>\n      <td>NaN</td>\n      <td>opolskie</td>\n      <td>krapkowicki</td>\n      <td>Krapkowice-gmina miejsko-wiejska</td>\n      <td>1605023</td>\n      <td>2022-04-01T17:18:26</td>\n      <td>2022-04-01T17:18:26</td>\n      <td>2019-10-09</td>\n      <td>POINT (427022.520 292751.830)</td>\n    </tr>\n    <tr>\n      <th>...</th>\n      <td>...</td>\n      <td>...</td>\n      <td>...</td>\n      <td>...</td>\n      <td>...</td>\n      <td>...</td>\n      <td>...</td>\n      <td>...</td>\n      <td>...</td>\n      <td>...</td>\n      <td>...</td>\n      <td>...</td>\n      <td>...</td>\n      <td>...</td>\n      <td>...</td>\n      <td>...</td>\n      <td>...</td>\n      <td>...</td>\n      <td>...</td>\n      <td>...</td>\n      <td>...</td>\n    </tr>\n    <tr>\n      <th>124558</th>\n      <td>PL.PZGiK.320.NGRP.269651</td>\n      <td>269651</td>\n      <td>Osiedle Ignacego Daszyńskiego</td>\n      <td>Ignacego Daszyńskiego</td>\n      <td>Osiedle</td>\n      <td>-la Ignacego Daszyńskiego</td>\n      <td>NaN</td>\n      <td>niestandaryzowana</td>\n      <td>miejscowość</td>\n      <td>część miasta</td>\n      <td>...</td>\n      <td>NaN</td>\n      <td>NaN</td>\n      <td>lubelskie</td>\n      <td>Lublin</td>\n      <td>Lublin-gmina miejska</td>\n      <td>0663011</td>\n      <td>2023-09-11T23:08:51</td>\n      <td>2023-09-11T23:08:51</td>\n      <td>2023-09-11</td>\n      <td>POINT (750806.120 383325.670)</td>\n    </tr>\n    <tr>\n      <th>124559</th>\n      <td>PL.PZGiK.320.NGRP.269652</td>\n      <td>269652</td>\n      <td>Osiedle Poręba</td>\n      <td>Poręba</td>\n      <td>Osiedle</td>\n      <td>-la Poręby</td>\n      <td>NaN</td>\n      <td>niestandaryzowana</td>\n      <td>miejscowość</td>\n      <td>część miasta</td>\n      <td>...</td>\n      <td>NaN</td>\n      <td>NaN</td>\n      <td>lubelskie</td>\n      <td>Lublin</td>\n      <td>Lublin-gmina miejska</td>\n      <td>0663011</td>\n      <td>2023-09-11T23:16:06</td>\n      <td>2023-09-11T23:16:06</td>\n      <td>2023-09-11</td>\n      <td>POINT (744782.200 378872.240)</td>\n    </tr>\n    <tr>\n      <th>124560</th>\n      <td>PL.PZGiK.320.NGRP.269653</td>\n      <td>269653</td>\n      <td>Osiedle Widok</td>\n      <td>Widok</td>\n      <td>Osiedle</td>\n      <td>-la -ku</td>\n      <td>NaN</td>\n      <td>niestandaryzowana</td>\n      <td>miejscowość</td>\n      <td>część miasta</td>\n      <td>...</td>\n      <td>NaN</td>\n      <td>NaN</td>\n      <td>lubelskie</td>\n      <td>Lublin</td>\n      <td>Lublin-gmina miejska</td>\n      <td>0663011</td>\n      <td>2023-09-11T23:22:20</td>\n      <td>2023-09-11T23:22:20</td>\n      <td>2023-09-11</td>\n      <td>POINT (745551.260 378780.490)</td>\n    </tr>\n    <tr>\n      <th>124561</th>\n      <td>PL.PZGiK.320.NGRP.269654</td>\n      <td>269654</td>\n      <td>Osiedle Górki</td>\n      <td>Górki</td>\n      <td>Osiedle</td>\n      <td>-la Górek</td>\n      <td>NaN</td>\n      <td>niestandaryzowana</td>\n      <td>miejscowość</td>\n      <td>część miasta</td>\n      <td>...</td>\n      <td>NaN</td>\n      <td>NaN</td>\n      <td>lubelskie</td>\n      <td>Lublin</td>\n      <td>Lublin-gmina miejska</td>\n      <td>0663011</td>\n      <td>2023-09-11T23:28:14</td>\n      <td>2023-09-11T23:28:14</td>\n      <td>2023-09-11</td>\n      <td>POINT (746310.060 378878.540)</td>\n    </tr>\n    <tr>\n      <th>124562</th>\n      <td>PL.PZGiK.320.NGRP.269656</td>\n      <td>269656</td>\n      <td>Osiedle Feliksa Nowowiejskiego</td>\n      <td>Feliksa Nowowiejskiego</td>\n      <td>Osiedle</td>\n      <td>-la Feliksa Nowowiejskiego</td>\n      <td>NaN</td>\n      <td>niestandaryzowana</td>\n      <td>miejscowość</td>\n      <td>część miasta</td>\n      <td>...</td>\n      <td>NaN</td>\n      <td>NaN</td>\n      <td>lubelskie</td>\n      <td>Lublin</td>\n      <td>Lublin-gmina miejska</td>\n      <td>0663011</td>\n      <td>2023-09-11T23:38:05</td>\n      <td>2023-09-11T23:38:05</td>\n      <td>2023-09-11</td>\n      <td>POINT (747880.270 383190.560)</td>\n    </tr>\n  </tbody>\n</table>\n<p>124563 rows × 40 columns</p>\n</div>"
     },
     "execution_count": 27,
     "metadata": {},
     "output_type": "execute_result"
    }
   ],
   "source": [
    "# miejscowości z prng - warstwa punktowa\n",
    "miejscowosci_prng = gpd.read_file('PRNG_MIEJSCOWOSCI_SHP/PRNG_MIEJSCOWOSCI_SHP.shp')\n",
    "miejscowosci_prng"
   ],
   "metadata": {
    "collapsed": false,
    "ExecuteTime": {
     "end_time": "2023-12-26T19:07:21.765187500Z",
     "start_time": "2023-12-26T19:06:44.891233500Z"
    }
   },
   "id": "initial_id"
  },
  {
   "cell_type": "code",
   "execution_count": 28,
   "outputs": [
    {
     "data": {
      "text/plain": "['idIIP',\n 'idPRNG',\n 'nazwaGlown',\n 'elementRoz',\n 'elementRod',\n 'dopelniacz',\n 'przymiot',\n 'statusNazw',\n 'kategoria',\n 'rodzaj',\n 'nazwaMscNd',\n 'idMscNd',\n 'informDod',\n 'systemZewn',\n 'idZewnetrz',\n 'zrodloTyt',\n 'zrodloData',\n 'zrodloWyd',\n 'rodzajRepr',\n 'wspGeograf',\n 'wspXY',\n 'nazwaHist',\n 'nazwaObocz',\n 'nazwaDodat',\n 'jezykDodat',\n 'latynDodat',\n 'endonim',\n 'jezykEndon',\n 'latynEndon',\n 'egzonim',\n 'jezykEgzon',\n 'latynEgzon',\n 'wojewodz',\n 'powiat',\n 'gmina',\n 'idGminy',\n 'poczWerOb',\n 'wersjaOb',\n 'waznaOd',\n 'geometry']"
     },
     "execution_count": 28,
     "metadata": {},
     "output_type": "execute_result"
    }
   ],
   "source": [
    "miejscowosci_prng.columns.to_list()"
   ],
   "metadata": {
    "collapsed": false,
    "ExecuteTime": {
     "end_time": "2023-12-26T19:07:21.795213Z",
     "start_time": "2023-12-26T19:07:21.766192700Z"
    }
   },
   "id": "ca5a07f7e6c7574f"
  },
  {
   "cell_type": "code",
   "execution_count": 29,
   "outputs": [
    {
     "name": "stderr",
     "output_type": "stream",
     "text": [
      "C:\\Users\\agnie\\AppData\\Local\\Programs\\Python\\Python310\\lib\\site-packages\\geopandas\\geodataframe.py:1543: SettingWithCopyWarning: \n",
      "A value is trying to be set on a copy of a slice from a DataFrame.\n",
      "Try using .loc[row_indexer,col_indexer] = value instead\n",
      "\n",
      "See the caveats in the documentation: https://pandas.pydata.org/pandas-docs/stable/user_guide/indexing.html#returning-a-view-versus-a-copy\n",
      "  super().__setitem__(key, value)\n"
     ]
    },
    {
     "data": {
      "text/plain": "        SIMC_id        rodzaj        nazwaGlown  idMscNd    nazwaMscNd  \\\n71       149222          wieś           Adamowo     <NA>           NaN   \n73       157948          wieś           Adamowo     <NA>           NaN   \n79       117890          wieś           Adamowo     <NA>           NaN   \n85       471403          wieś           Adamowo     <NA>           NaN   \n92       149647     część wsi   Adamowo-Osiedle   149630  Władysławowo   \n...         ...           ...               ...      ...           ...   \n124183  1044577     część wsi      Tama za Wodą   844117        Trzcin   \n124184  1044407     część wsi        Pod Mątowo   844146      Zwiniarz   \n124241  1045803     część wsi        Ostrzywilk   847280       Radomno   \n124338  1067526         osada     Turowski Młyn     <NA>           NaN   \n124487   964850  część miasta  Osiedle Kwiatowa     <NA>         Morąg   \n\n                             geometry  \n71      POINT (517072.190 698942.620)  \n73      POINT (522923.230 649553.540)  \n79      POINT (561486.270 590967.880)  \n85      POINT (630835.770 669115.890)  \n92      POINT (521525.150 699758.410)  \n...                               ...  \n124183  POINT (549613.840 611421.500)  \n124184  POINT (555161.830 618831.980)  \n124241  POINT (537562.224 628117.656)  \n124338  POINT (579057.870 622015.670)  \n124487  POINT (560742.910 672701.930)  \n\n[4680 rows x 6 columns]",
      "text/html": "<div>\n<style scoped>\n    .dataframe tbody tr th:only-of-type {\n        vertical-align: middle;\n    }\n\n    .dataframe tbody tr th {\n        vertical-align: top;\n    }\n\n    .dataframe thead th {\n        text-align: right;\n    }\n</style>\n<table border=\"1\" class=\"dataframe\">\n  <thead>\n    <tr style=\"text-align: right;\">\n      <th></th>\n      <th>SIMC_id</th>\n      <th>rodzaj</th>\n      <th>nazwaGlown</th>\n      <th>idMscNd</th>\n      <th>nazwaMscNd</th>\n      <th>geometry</th>\n    </tr>\n  </thead>\n  <tbody>\n    <tr>\n      <th>71</th>\n      <td>149222</td>\n      <td>wieś</td>\n      <td>Adamowo</td>\n      <td>&lt;NA&gt;</td>\n      <td>NaN</td>\n      <td>POINT (517072.190 698942.620)</td>\n    </tr>\n    <tr>\n      <th>73</th>\n      <td>157948</td>\n      <td>wieś</td>\n      <td>Adamowo</td>\n      <td>&lt;NA&gt;</td>\n      <td>NaN</td>\n      <td>POINT (522923.230 649553.540)</td>\n    </tr>\n    <tr>\n      <th>79</th>\n      <td>117890</td>\n      <td>wieś</td>\n      <td>Adamowo</td>\n      <td>&lt;NA&gt;</td>\n      <td>NaN</td>\n      <td>POINT (561486.270 590967.880)</td>\n    </tr>\n    <tr>\n      <th>85</th>\n      <td>471403</td>\n      <td>wieś</td>\n      <td>Adamowo</td>\n      <td>&lt;NA&gt;</td>\n      <td>NaN</td>\n      <td>POINT (630835.770 669115.890)</td>\n    </tr>\n    <tr>\n      <th>92</th>\n      <td>149647</td>\n      <td>część wsi</td>\n      <td>Adamowo-Osiedle</td>\n      <td>149630</td>\n      <td>Władysławowo</td>\n      <td>POINT (521525.150 699758.410)</td>\n    </tr>\n    <tr>\n      <th>...</th>\n      <td>...</td>\n      <td>...</td>\n      <td>...</td>\n      <td>...</td>\n      <td>...</td>\n      <td>...</td>\n    </tr>\n    <tr>\n      <th>124183</th>\n      <td>1044577</td>\n      <td>część wsi</td>\n      <td>Tama za Wodą</td>\n      <td>844117</td>\n      <td>Trzcin</td>\n      <td>POINT (549613.840 611421.500)</td>\n    </tr>\n    <tr>\n      <th>124184</th>\n      <td>1044407</td>\n      <td>część wsi</td>\n      <td>Pod Mątowo</td>\n      <td>844146</td>\n      <td>Zwiniarz</td>\n      <td>POINT (555161.830 618831.980)</td>\n    </tr>\n    <tr>\n      <th>124241</th>\n      <td>1045803</td>\n      <td>część wsi</td>\n      <td>Ostrzywilk</td>\n      <td>847280</td>\n      <td>Radomno</td>\n      <td>POINT (537562.224 628117.656)</td>\n    </tr>\n    <tr>\n      <th>124338</th>\n      <td>1067526</td>\n      <td>osada</td>\n      <td>Turowski Młyn</td>\n      <td>&lt;NA&gt;</td>\n      <td>NaN</td>\n      <td>POINT (579057.870 622015.670)</td>\n    </tr>\n    <tr>\n      <th>124487</th>\n      <td>964850</td>\n      <td>część miasta</td>\n      <td>Osiedle Kwiatowa</td>\n      <td>&lt;NA&gt;</td>\n      <td>Morąg</td>\n      <td>POINT (560742.910 672701.930)</td>\n    </tr>\n  </tbody>\n</table>\n<p>4680 rows × 6 columns</p>\n</div>"
     },
     "execution_count": 29,
     "metadata": {},
     "output_type": "execute_result"
    }
   ],
   "source": [
    "# ograniczenie do województwa warmińsko-mazurskiego\n",
    "warminskie_prng = miejscowosci_prng[miejscowosci_prng['wojewodz'] == 'warmińsko-mazurskie']\n",
    "# zmiana typu kolumn na numeryczne - int64\n",
    "warminskie_prng['idZewnetrz'] = pd.to_numeric(warminskie_prng['idZewnetrz'], errors='coerce').astype('Int64')\n",
    "warminskie_prng['idMscNd'] = pd.to_numeric(warminskie_prng['idMscNd'], errors='coerce').astype('Int64')\n",
    "# ograniczenie zbioru tylko do kilku najważniejszych kolumn\n",
    "warminskie_prng = warminskie_prng[['idZewnetrz', 'rodzaj', 'nazwaGlown', 'idMscNd', 'nazwaMscNd', 'geometry']]\n",
    "# zmiana nazwy kolumny z idZewnetrz na SIMC_id (dla lepszej czytelności i umożliwienia późniejszego łączenia tabel)\n",
    "warminskie_prng.rename(columns={'idZewnetrz': 'SIMC_id'}, inplace=True)\n",
    "# usunięcie rekordów, w których brakuje identyfikatora SIMC\n",
    "warminskie_prng.dropna(subset=['SIMC_id'], inplace=True)\n",
    "warminskie_prng"
   ],
   "metadata": {
    "collapsed": false,
    "ExecuteTime": {
     "end_time": "2023-12-26T19:07:21.872187100Z",
     "start_time": "2023-12-26T19:07:21.782189100Z"
    }
   },
   "id": "68f1f7b37c70f76f"
  },
  {
   "cell_type": "code",
   "execution_count": 30,
   "outputs": [
    {
     "name": "stderr",
     "output_type": "stream",
     "text": [
      "C:\\Users\\agnie\\AppData\\Local\\Temp\\ipykernel_3844\\2875870546.py:4: SettingWithCopyWarning: \n",
      "A value is trying to be set on a copy of a slice from a DataFrame\n",
      "\n",
      "See the caveats in the documentation: https://pandas.pydata.org/pandas-docs/stable/user_guide/indexing.html#returning-a-view-versus-a-copy\n",
      "  warminskie_prng.drop_duplicates(inplace=True)\n"
     ]
    },
    {
     "data": {
      "text/plain": "        SIMC_id     rodzaj       nazwaGlown  idMscNd    nazwaMscNd  \\\n71       149222       wieś          Adamowo     <NA>           NaN   \n73       157948       wieś          Adamowo     <NA>           NaN   \n79       117890       wieś          Adamowo     <NA>           NaN   \n85       471403       wieś          Adamowo     <NA>           NaN   \n92       149647  część wsi  Adamowo-Osiedle   149630  Władysławowo   \n...         ...        ...              ...      ...           ...   \n124182  1044583  część wsi     Trzech Króli   844100      Świniarc   \n124183  1044577  część wsi     Tama za Wodą   844117        Trzcin   \n124184  1044407  część wsi       Pod Mątowo   844146      Zwiniarz   \n124241  1045803  część wsi       Ostrzywilk   847280       Radomno   \n124338  1067526      osada    Turowski Młyn     <NA>           NaN   \n\n                             geometry  \n71      POINT (517072.190 698942.620)  \n73      POINT (522923.230 649553.540)  \n79      POINT (561486.270 590967.880)  \n85      POINT (630835.770 669115.890)  \n92      POINT (521525.150 699758.410)  \n...                               ...  \n124182  POINT (552390.880 620035.670)  \n124183  POINT (549613.840 611421.500)  \n124184  POINT (555161.830 618831.980)  \n124241  POINT (537562.224 628117.656)  \n124338  POINT (579057.870 622015.670)  \n\n[4546 rows x 6 columns]",
      "text/html": "<div>\n<style scoped>\n    .dataframe tbody tr th:only-of-type {\n        vertical-align: middle;\n    }\n\n    .dataframe tbody tr th {\n        vertical-align: top;\n    }\n\n    .dataframe thead th {\n        text-align: right;\n    }\n</style>\n<table border=\"1\" class=\"dataframe\">\n  <thead>\n    <tr style=\"text-align: right;\">\n      <th></th>\n      <th>SIMC_id</th>\n      <th>rodzaj</th>\n      <th>nazwaGlown</th>\n      <th>idMscNd</th>\n      <th>nazwaMscNd</th>\n      <th>geometry</th>\n    </tr>\n  </thead>\n  <tbody>\n    <tr>\n      <th>71</th>\n      <td>149222</td>\n      <td>wieś</td>\n      <td>Adamowo</td>\n      <td>&lt;NA&gt;</td>\n      <td>NaN</td>\n      <td>POINT (517072.190 698942.620)</td>\n    </tr>\n    <tr>\n      <th>73</th>\n      <td>157948</td>\n      <td>wieś</td>\n      <td>Adamowo</td>\n      <td>&lt;NA&gt;</td>\n      <td>NaN</td>\n      <td>POINT (522923.230 649553.540)</td>\n    </tr>\n    <tr>\n      <th>79</th>\n      <td>117890</td>\n      <td>wieś</td>\n      <td>Adamowo</td>\n      <td>&lt;NA&gt;</td>\n      <td>NaN</td>\n      <td>POINT (561486.270 590967.880)</td>\n    </tr>\n    <tr>\n      <th>85</th>\n      <td>471403</td>\n      <td>wieś</td>\n      <td>Adamowo</td>\n      <td>&lt;NA&gt;</td>\n      <td>NaN</td>\n      <td>POINT (630835.770 669115.890)</td>\n    </tr>\n    <tr>\n      <th>92</th>\n      <td>149647</td>\n      <td>część wsi</td>\n      <td>Adamowo-Osiedle</td>\n      <td>149630</td>\n      <td>Władysławowo</td>\n      <td>POINT (521525.150 699758.410)</td>\n    </tr>\n    <tr>\n      <th>...</th>\n      <td>...</td>\n      <td>...</td>\n      <td>...</td>\n      <td>...</td>\n      <td>...</td>\n      <td>...</td>\n    </tr>\n    <tr>\n      <th>124182</th>\n      <td>1044583</td>\n      <td>część wsi</td>\n      <td>Trzech Króli</td>\n      <td>844100</td>\n      <td>Świniarc</td>\n      <td>POINT (552390.880 620035.670)</td>\n    </tr>\n    <tr>\n      <th>124183</th>\n      <td>1044577</td>\n      <td>część wsi</td>\n      <td>Tama za Wodą</td>\n      <td>844117</td>\n      <td>Trzcin</td>\n      <td>POINT (549613.840 611421.500)</td>\n    </tr>\n    <tr>\n      <th>124184</th>\n      <td>1044407</td>\n      <td>część wsi</td>\n      <td>Pod Mątowo</td>\n      <td>844146</td>\n      <td>Zwiniarz</td>\n      <td>POINT (555161.830 618831.980)</td>\n    </tr>\n    <tr>\n      <th>124241</th>\n      <td>1045803</td>\n      <td>część wsi</td>\n      <td>Ostrzywilk</td>\n      <td>847280</td>\n      <td>Radomno</td>\n      <td>POINT (537562.224 628117.656)</td>\n    </tr>\n    <tr>\n      <th>124338</th>\n      <td>1067526</td>\n      <td>osada</td>\n      <td>Turowski Młyn</td>\n      <td>&lt;NA&gt;</td>\n      <td>NaN</td>\n      <td>POINT (579057.870 622015.670)</td>\n    </tr>\n  </tbody>\n</table>\n<p>4546 rows × 6 columns</p>\n</div>"
     },
     "execution_count": 30,
     "metadata": {},
     "output_type": "execute_result"
    }
   ],
   "source": [
    "# wyłączenie miast z analizy\n",
    "warminskie_prng = warminskie_prng[~warminskie_prng['rodzaj'].isin(['miasto', 'część miasta', 'osiedle'])]\n",
    "# usunięcie takich samych rekordów\n",
    "warminskie_prng.drop_duplicates(inplace=True)\n",
    "warminskie_prng"
   ],
   "metadata": {
    "collapsed": false,
    "ExecuteTime": {
     "end_time": "2023-12-26T19:07:21.913208800Z",
     "start_time": "2023-12-26T19:07:21.845187200Z"
    }
   },
   "id": "55889a299e03977"
  },
  {
   "cell_type": "code",
   "execution_count": 31,
   "outputs": [
    {
     "name": "stderr",
     "output_type": "stream",
     "text": [
      "C:\\Users\\agnie\\AppData\\Local\\Programs\\Python\\Python310\\lib\\site-packages\\geopandas\\geodataframe.py:1543: SettingWithCopyWarning: \n",
      "A value is trying to be set on a copy of a slice from a DataFrame.\n",
      "Try using .loc[row_indexer,col_indexer] = value instead\n",
      "\n",
      "See the caveats in the documentation: https://pandas.pydata.org/pandas-docs/stable/user_guide/indexing.html#returning-a-view-versus-a-copy\n",
      "  super().__setitem__(key, value)\n"
     ]
    },
    {
     "data": {
      "text/plain": "        SIMC_id     rodzaj       nazwaGlown  idMscNd    nazwaMscNd  \\\n71       149222       wieś          Adamowo     <NA>           NaN   \n73       157948       wieś          Adamowo     <NA>           NaN   \n79       117890       wieś          Adamowo     <NA>           NaN   \n85       471403       wieś          Adamowo     <NA>           NaN   \n92       149647  część wsi  Adamowo-Osiedle   149630  Władysławowo   \n...         ...        ...              ...      ...           ...   \n124182  1044583  część wsi     Trzech Króli   844100      Świniarc   \n124183  1044577  część wsi     Tama za Wodą   844117        Trzcin   \n124184  1044407  część wsi       Pod Mątowo   844146      Zwiniarz   \n124241  1045803  część wsi       Ostrzywilk   847280       Radomno   \n124338  1067526      osada    Turowski Młyn     <NA>           NaN   \n\n                             geometry  czy_samodzielna  \n71      POINT (517072.190 698942.620)             True  \n73      POINT (522923.230 649553.540)             True  \n79      POINT (561486.270 590967.880)             True  \n85      POINT (630835.770 669115.890)             True  \n92      POINT (521525.150 699758.410)            False  \n...                               ...              ...  \n124182  POINT (552390.880 620035.670)            False  \n124183  POINT (549613.840 611421.500)            False  \n124184  POINT (555161.830 618831.980)            False  \n124241  POINT (537562.224 628117.656)            False  \n124338  POINT (579057.870 622015.670)             True  \n\n[4546 rows x 7 columns]",
      "text/html": "<div>\n<style scoped>\n    .dataframe tbody tr th:only-of-type {\n        vertical-align: middle;\n    }\n\n    .dataframe tbody tr th {\n        vertical-align: top;\n    }\n\n    .dataframe thead th {\n        text-align: right;\n    }\n</style>\n<table border=\"1\" class=\"dataframe\">\n  <thead>\n    <tr style=\"text-align: right;\">\n      <th></th>\n      <th>SIMC_id</th>\n      <th>rodzaj</th>\n      <th>nazwaGlown</th>\n      <th>idMscNd</th>\n      <th>nazwaMscNd</th>\n      <th>geometry</th>\n      <th>czy_samodzielna</th>\n    </tr>\n  </thead>\n  <tbody>\n    <tr>\n      <th>71</th>\n      <td>149222</td>\n      <td>wieś</td>\n      <td>Adamowo</td>\n      <td>&lt;NA&gt;</td>\n      <td>NaN</td>\n      <td>POINT (517072.190 698942.620)</td>\n      <td>True</td>\n    </tr>\n    <tr>\n      <th>73</th>\n      <td>157948</td>\n      <td>wieś</td>\n      <td>Adamowo</td>\n      <td>&lt;NA&gt;</td>\n      <td>NaN</td>\n      <td>POINT (522923.230 649553.540)</td>\n      <td>True</td>\n    </tr>\n    <tr>\n      <th>79</th>\n      <td>117890</td>\n      <td>wieś</td>\n      <td>Adamowo</td>\n      <td>&lt;NA&gt;</td>\n      <td>NaN</td>\n      <td>POINT (561486.270 590967.880)</td>\n      <td>True</td>\n    </tr>\n    <tr>\n      <th>85</th>\n      <td>471403</td>\n      <td>wieś</td>\n      <td>Adamowo</td>\n      <td>&lt;NA&gt;</td>\n      <td>NaN</td>\n      <td>POINT (630835.770 669115.890)</td>\n      <td>True</td>\n    </tr>\n    <tr>\n      <th>92</th>\n      <td>149647</td>\n      <td>część wsi</td>\n      <td>Adamowo-Osiedle</td>\n      <td>149630</td>\n      <td>Władysławowo</td>\n      <td>POINT (521525.150 699758.410)</td>\n      <td>False</td>\n    </tr>\n    <tr>\n      <th>...</th>\n      <td>...</td>\n      <td>...</td>\n      <td>...</td>\n      <td>...</td>\n      <td>...</td>\n      <td>...</td>\n      <td>...</td>\n    </tr>\n    <tr>\n      <th>124182</th>\n      <td>1044583</td>\n      <td>część wsi</td>\n      <td>Trzech Króli</td>\n      <td>844100</td>\n      <td>Świniarc</td>\n      <td>POINT (552390.880 620035.670)</td>\n      <td>False</td>\n    </tr>\n    <tr>\n      <th>124183</th>\n      <td>1044577</td>\n      <td>część wsi</td>\n      <td>Tama za Wodą</td>\n      <td>844117</td>\n      <td>Trzcin</td>\n      <td>POINT (549613.840 611421.500)</td>\n      <td>False</td>\n    </tr>\n    <tr>\n      <th>124184</th>\n      <td>1044407</td>\n      <td>część wsi</td>\n      <td>Pod Mątowo</td>\n      <td>844146</td>\n      <td>Zwiniarz</td>\n      <td>POINT (555161.830 618831.980)</td>\n      <td>False</td>\n    </tr>\n    <tr>\n      <th>124241</th>\n      <td>1045803</td>\n      <td>część wsi</td>\n      <td>Ostrzywilk</td>\n      <td>847280</td>\n      <td>Radomno</td>\n      <td>POINT (537562.224 628117.656)</td>\n      <td>False</td>\n    </tr>\n    <tr>\n      <th>124338</th>\n      <td>1067526</td>\n      <td>osada</td>\n      <td>Turowski Młyn</td>\n      <td>&lt;NA&gt;</td>\n      <td>NaN</td>\n      <td>POINT (579057.870 622015.670)</td>\n      <td>True</td>\n    </tr>\n  </tbody>\n</table>\n<p>4546 rows × 7 columns</p>\n</div>"
     },
     "execution_count": 31,
     "metadata": {},
     "output_type": "execute_result"
    }
   ],
   "source": [
    "# dodanie kolumny 'czy_samodzielna'\n",
    "warminskie_prng['czy_samodzielna'] = [True if pd.isna(id_msc_nd) else False for id_msc_nd in warminskie_prng['idMscNd']]\n",
    "warminskie_prng"
   ],
   "metadata": {
    "collapsed": false,
    "ExecuteTime": {
     "end_time": "2023-12-26T19:07:21.981286300Z",
     "start_time": "2023-12-26T19:07:21.891186600Z"
    }
   },
   "id": "1e005ea9aa023dc7"
  },
  {
   "cell_type": "code",
   "execution_count": 32,
   "outputs": [
    {
     "data": {
      "text/plain": "         TERYT     PNA  SIMC_id  SIMC_nazwa ULIC_id              ULIC_nazwa  \\\n0       280101  11-200   964583  Bartoszyce   26464             Żeromskiego   \n1       280101  11-200   964583  Bartoszyce   03687  Jarosława Dąbrowskiego   \n2       280101  11-200   964583  Bartoszyce   08357              Kętrzyńska   \n3       280101  11-200   964583  Bartoszyce   13782                Nad Łyną   \n4       280101  11-200   964583  Bartoszyce   10157                  Krzywa   \n...        ...     ...      ...         ...     ...                     ...   \n248107  286201  10-811   964465     Olsztyn   26492                  Żniwna   \n248108  286201  11-041   964465     Olsztyn   07931               Kanarkowa   \n248109  286201  11-041   964465     Olsztyn   07931               Kanarkowa   \n248110  286201  10-685   964465     Olsztyn   00744       Franciszka Barcza   \n248111  286201  10-685   964465     Olsztyn   00744       Franciszka Barcza   \n\n       Numer                       geometry  \n0         1A  POINT (618400.759 712089.170)  \n1          1  POINT (617395.412 711090.171)  \n2         25  POINT (618364.906 711053.957)  \n3         15  POINT (617578.190 711628.687)  \n4         32  POINT (618290.436 712335.525)  \n...      ...                            ...  \n248107    21  POINT (593641.607 656339.179)  \n248108    47  POINT (593334.034 661153.432)  \n248109   47A  POINT (593396.818 661183.127)  \n248110   50N  POINT (599006.177 654747.886)  \n248111   50M  POINT (599015.665 654777.720)  \n\n[248112 rows x 8 columns]",
      "text/html": "<div>\n<style scoped>\n    .dataframe tbody tr th:only-of-type {\n        vertical-align: middle;\n    }\n\n    .dataframe tbody tr th {\n        vertical-align: top;\n    }\n\n    .dataframe thead th {\n        text-align: right;\n    }\n</style>\n<table border=\"1\" class=\"dataframe\">\n  <thead>\n    <tr style=\"text-align: right;\">\n      <th></th>\n      <th>TERYT</th>\n      <th>PNA</th>\n      <th>SIMC_id</th>\n      <th>SIMC_nazwa</th>\n      <th>ULIC_id</th>\n      <th>ULIC_nazwa</th>\n      <th>Numer</th>\n      <th>geometry</th>\n    </tr>\n  </thead>\n  <tbody>\n    <tr>\n      <th>0</th>\n      <td>280101</td>\n      <td>11-200</td>\n      <td>964583</td>\n      <td>Bartoszyce</td>\n      <td>26464</td>\n      <td>Żeromskiego</td>\n      <td>1A</td>\n      <td>POINT (618400.759 712089.170)</td>\n    </tr>\n    <tr>\n      <th>1</th>\n      <td>280101</td>\n      <td>11-200</td>\n      <td>964583</td>\n      <td>Bartoszyce</td>\n      <td>03687</td>\n      <td>Jarosława Dąbrowskiego</td>\n      <td>1</td>\n      <td>POINT (617395.412 711090.171)</td>\n    </tr>\n    <tr>\n      <th>2</th>\n      <td>280101</td>\n      <td>11-200</td>\n      <td>964583</td>\n      <td>Bartoszyce</td>\n      <td>08357</td>\n      <td>Kętrzyńska</td>\n      <td>25</td>\n      <td>POINT (618364.906 711053.957)</td>\n    </tr>\n    <tr>\n      <th>3</th>\n      <td>280101</td>\n      <td>11-200</td>\n      <td>964583</td>\n      <td>Bartoszyce</td>\n      <td>13782</td>\n      <td>Nad Łyną</td>\n      <td>15</td>\n      <td>POINT (617578.190 711628.687)</td>\n    </tr>\n    <tr>\n      <th>4</th>\n      <td>280101</td>\n      <td>11-200</td>\n      <td>964583</td>\n      <td>Bartoszyce</td>\n      <td>10157</td>\n      <td>Krzywa</td>\n      <td>32</td>\n      <td>POINT (618290.436 712335.525)</td>\n    </tr>\n    <tr>\n      <th>...</th>\n      <td>...</td>\n      <td>...</td>\n      <td>...</td>\n      <td>...</td>\n      <td>...</td>\n      <td>...</td>\n      <td>...</td>\n      <td>...</td>\n    </tr>\n    <tr>\n      <th>248107</th>\n      <td>286201</td>\n      <td>10-811</td>\n      <td>964465</td>\n      <td>Olsztyn</td>\n      <td>26492</td>\n      <td>Żniwna</td>\n      <td>21</td>\n      <td>POINT (593641.607 656339.179)</td>\n    </tr>\n    <tr>\n      <th>248108</th>\n      <td>286201</td>\n      <td>11-041</td>\n      <td>964465</td>\n      <td>Olsztyn</td>\n      <td>07931</td>\n      <td>Kanarkowa</td>\n      <td>47</td>\n      <td>POINT (593334.034 661153.432)</td>\n    </tr>\n    <tr>\n      <th>248109</th>\n      <td>286201</td>\n      <td>11-041</td>\n      <td>964465</td>\n      <td>Olsztyn</td>\n      <td>07931</td>\n      <td>Kanarkowa</td>\n      <td>47A</td>\n      <td>POINT (593396.818 661183.127)</td>\n    </tr>\n    <tr>\n      <th>248110</th>\n      <td>286201</td>\n      <td>10-685</td>\n      <td>964465</td>\n      <td>Olsztyn</td>\n      <td>00744</td>\n      <td>Franciszka Barcza</td>\n      <td>50N</td>\n      <td>POINT (599006.177 654747.886)</td>\n    </tr>\n    <tr>\n      <th>248111</th>\n      <td>286201</td>\n      <td>10-685</td>\n      <td>964465</td>\n      <td>Olsztyn</td>\n      <td>00744</td>\n      <td>Franciszka Barcza</td>\n      <td>50M</td>\n      <td>POINT (599015.665 654777.720)</td>\n    </tr>\n  </tbody>\n</table>\n<p>248112 rows × 8 columns</p>\n</div>"
     },
     "execution_count": 32,
     "metadata": {},
     "output_type": "execute_result"
    }
   ],
   "source": [
    "# pobranie punktów adresowych - warstwa punktowa\n",
    "punkty_adresowe = gpd.read_file('28/PRG_PunktyAdresowe_28.shp')\n",
    "# zmiana typu kolumny na numeryczny - int64\n",
    "punkty_adresowe['SIMC_id'] = pd.to_numeric(punkty_adresowe['SIMC_id'], errors='coerce').astype('Int64')\n",
    "punkty_adresowe"
   ],
   "metadata": {
    "collapsed": false,
    "ExecuteTime": {
     "end_time": "2023-12-26T19:07:42.835210800Z",
     "start_time": "2023-12-26T19:07:21.923187700Z"
    }
   },
   "id": "b64ae4fa735deb31"
  },
  {
   "cell_type": "code",
   "execution_count": 33,
   "outputs": [
    {
     "data": {
      "text/plain": "['TERYT',\n 'PNA',\n 'SIMC_id',\n 'SIMC_nazwa',\n 'ULIC_id',\n 'ULIC_nazwa',\n 'Numer',\n 'geometry']"
     },
     "execution_count": 33,
     "metadata": {},
     "output_type": "execute_result"
    }
   ],
   "source": [
    "punkty_adresowe.columns.to_list()"
   ],
   "metadata": {
    "collapsed": false,
    "ExecuteTime": {
     "end_time": "2023-12-26T19:07:42.870866300Z",
     "start_time": "2023-12-26T19:07:42.836284900Z"
    }
   },
   "id": "66760038349ab009"
  },
  {
   "cell_type": "code",
   "execution_count": 34,
   "outputs": [],
   "source": [
    "# usunięcie rekordów, w których brakuje identyfikatora SIMC\n",
    "punkty_adresowe_simc = punkty_adresowe.dropna(subset=['SIMC_id'])\n",
    "# ograniczenie zbioru tylko do najważniejszych kolumn i identyfikatora SIMC i geometrii\n",
    "punkty_adresowe_simc = punkty_adresowe_simc[['SIMC_id', 'geometry']]\n",
    "# zgrupowanie rekordów według identyfikatora SIMC - zmiana z geometrii pojedynczych punktów (Point) na skupiska punktów (MultiPoint)\n",
    "punkty_adresowe_simc = punkty_adresowe_simc.groupby('SIMC_id')['geometry'].apply(lambda x: MultiPoint(list(x))).reset_index()"
   ],
   "metadata": {
    "collapsed": false,
    "ExecuteTime": {
     "end_time": "2023-12-26T19:07:44.551319300Z",
     "start_time": "2023-12-26T19:07:42.852211Z"
    }
   },
   "id": "183da66f1e68c755"
  },
  {
   "cell_type": "markdown",
   "source": [
    "łączenie tabel"
   ],
   "metadata": {
    "collapsed": false
   },
   "id": "de72b12339c89513"
  },
  {
   "cell_type": "code",
   "execution_count": 39,
   "outputs": [
    {
     "data": {
      "text/plain": "      SIMC_id                                           geometry  \\\n0      113419  MULTIPOINT (576833.226 600114.868, 576347.223 ...   \n1      113431  MULTIPOINT (579297.672 591570.172, 579281.468 ...   \n2      113448  MULTIPOINT (576609.403 602643.066, 576685.907 ...   \n3      113454  MULTIPOINT (577813.172 614922.465, 578464.757 ...   \n4      113460  MULTIPOINT (573044.280 592275.710, 572368.330 ...   \n...       ...                                                ...   \n3825  1064516  MULTIPOINT (661466.676 641875.828, 661482.301 ...   \n3826  1066828  MULTIPOINT (684896.512 685596.152, 685294.711 ...   \n3827  1067147  MULTIPOINT (545312.238 719129.449, 545413.410 ...   \n3828  1067526                 MULTIPOINT (579064.300 622061.000)   \n3829  1067578  MULTIPOINT (691437.190 665197.210, 691411.410 ...   \n\n     czy_samodzielna        nazwaGlown rodzaj  \n0               True            Burkat   wieś  \n1               True             Bursz   wieś  \n2               True            Filice   wieś  \n3               True         Gąsiorowo   wieś  \n4               True          Gnojenko   wieś  \n...              ...               ...    ...  \n3825            True  Karwica Mazurska  osada  \n3826             NaN               NaN    NaN  \n3827            True       Niewiastowo  osada  \n3828            True     Turowski Młyn  osada  \n3829            True     Mikosze-Osada   wieś  \n\n[3830 rows x 5 columns]",
      "text/html": "<div>\n<style scoped>\n    .dataframe tbody tr th:only-of-type {\n        vertical-align: middle;\n    }\n\n    .dataframe tbody tr th {\n        vertical-align: top;\n    }\n\n    .dataframe thead th {\n        text-align: right;\n    }\n</style>\n<table border=\"1\" class=\"dataframe\">\n  <thead>\n    <tr style=\"text-align: right;\">\n      <th></th>\n      <th>SIMC_id</th>\n      <th>geometry</th>\n      <th>czy_samodzielna</th>\n      <th>nazwaGlown</th>\n      <th>rodzaj</th>\n    </tr>\n  </thead>\n  <tbody>\n    <tr>\n      <th>0</th>\n      <td>113419</td>\n      <td>MULTIPOINT (576833.226 600114.868, 576347.223 ...</td>\n      <td>True</td>\n      <td>Burkat</td>\n      <td>wieś</td>\n    </tr>\n    <tr>\n      <th>1</th>\n      <td>113431</td>\n      <td>MULTIPOINT (579297.672 591570.172, 579281.468 ...</td>\n      <td>True</td>\n      <td>Bursz</td>\n      <td>wieś</td>\n    </tr>\n    <tr>\n      <th>2</th>\n      <td>113448</td>\n      <td>MULTIPOINT (576609.403 602643.066, 576685.907 ...</td>\n      <td>True</td>\n      <td>Filice</td>\n      <td>wieś</td>\n    </tr>\n    <tr>\n      <th>3</th>\n      <td>113454</td>\n      <td>MULTIPOINT (577813.172 614922.465, 578464.757 ...</td>\n      <td>True</td>\n      <td>Gąsiorowo</td>\n      <td>wieś</td>\n    </tr>\n    <tr>\n      <th>4</th>\n      <td>113460</td>\n      <td>MULTIPOINT (573044.280 592275.710, 572368.330 ...</td>\n      <td>True</td>\n      <td>Gnojenko</td>\n      <td>wieś</td>\n    </tr>\n    <tr>\n      <th>...</th>\n      <td>...</td>\n      <td>...</td>\n      <td>...</td>\n      <td>...</td>\n      <td>...</td>\n    </tr>\n    <tr>\n      <th>3825</th>\n      <td>1064516</td>\n      <td>MULTIPOINT (661466.676 641875.828, 661482.301 ...</td>\n      <td>True</td>\n      <td>Karwica Mazurska</td>\n      <td>osada</td>\n    </tr>\n    <tr>\n      <th>3826</th>\n      <td>1066828</td>\n      <td>MULTIPOINT (684896.512 685596.152, 685294.711 ...</td>\n      <td>NaN</td>\n      <td>NaN</td>\n      <td>NaN</td>\n    </tr>\n    <tr>\n      <th>3827</th>\n      <td>1067147</td>\n      <td>MULTIPOINT (545312.238 719129.449, 545413.410 ...</td>\n      <td>True</td>\n      <td>Niewiastowo</td>\n      <td>osada</td>\n    </tr>\n    <tr>\n      <th>3828</th>\n      <td>1067526</td>\n      <td>MULTIPOINT (579064.300 622061.000)</td>\n      <td>True</td>\n      <td>Turowski Młyn</td>\n      <td>osada</td>\n    </tr>\n    <tr>\n      <th>3829</th>\n      <td>1067578</td>\n      <td>MULTIPOINT (691437.190 665197.210, 691411.410 ...</td>\n      <td>True</td>\n      <td>Mikosze-Osada</td>\n      <td>wieś</td>\n    </tr>\n  </tbody>\n</table>\n<p>3830 rows × 5 columns</p>\n</div>"
     },
     "execution_count": 39,
     "metadata": {},
     "output_type": "execute_result"
    }
   ],
   "source": [
    "# łączenie tabel\n",
    "miejscowosci_z_adresacja = pd.merge(punkty_adresowe_simc, warminskie_prng[['SIMC_id', 'czy_samodzielna', 'nazwaGlown', 'rodzaj']], how='left', on='SIMC_id')\n",
    "# usunięcie rekordów z brakującym identyfikatorem SIMC\n",
    "miejscowosci_z_adresacja.dropna(subset=['SIMC_id'], inplace=True)\n",
    "# usunięcie duplikatów\n",
    "miejscowosci_z_adresacja.drop_duplicates(inplace=True)\n",
    "miejscowosci_z_adresacja"
   ],
   "metadata": {
    "collapsed": false,
    "ExecuteTime": {
     "end_time": "2023-12-26T19:12:00.871766100Z",
     "start_time": "2023-12-26T19:12:00.762774300Z"
    }
   },
   "id": "fec02e251fe44603"
  },
  {
   "cell_type": "code",
   "execution_count": 41,
   "outputs": [],
   "source": [
    "# podział na zbiór miejscowości samodzielnych i niesamodzielnych\n",
    "zbior_samodzielny = miejscowosci_z_adresacja[miejscowosci_z_adresacja['czy_samodzielna'] == True]\n",
    "zbior_niesamodzielny = miejscowosci_z_adresacja[miejscowosci_z_adresacja['czy_samodzielna'] == False]"
   ],
   "metadata": {
    "collapsed": false,
    "ExecuteTime": {
     "end_time": "2023-12-26T19:12:23.615048400Z",
     "start_time": "2023-12-26T19:12:23.597632900Z"
    }
   },
   "id": "411470306c8f32ac"
  },
  {
   "cell_type": "code",
   "execution_count": 42,
   "outputs": [
    {
     "data": {
      "text/plain": "      SIMC_id                                           geometry  \\\n0      113419  MULTIPOINT (576833.226 600114.868, 576347.223 ...   \n1      113431  MULTIPOINT (579297.672 591570.172, 579281.468 ...   \n2      113448  MULTIPOINT (576609.403 602643.066, 576685.907 ...   \n3      113454  MULTIPOINT (577813.172 614922.465, 578464.757 ...   \n4      113460  MULTIPOINT (573044.280 592275.710, 572368.330 ...   \n...       ...                                                ...   \n3824  1064500                 MULTIPOINT (546311.293 721639.319)   \n3825  1064516  MULTIPOINT (661466.676 641875.828, 661482.301 ...   \n3827  1067147  MULTIPOINT (545312.238 719129.449, 545413.410 ...   \n3828  1067526                 MULTIPOINT (579064.300 622061.000)   \n3829  1067578  MULTIPOINT (691437.190 665197.210, 691411.410 ...   \n\n     czy_samodzielna            nazwaGlown       rodzaj  \n0               True                Burkat         wieś  \n1               True                 Bursz         wieś  \n2               True                Filice         wieś  \n3               True             Gąsiorowo         wieś  \n4               True              Gnojenko         wieś  \n...              ...                   ...          ...  \n3824            True  Wilanowo-Leśniczówka  osada leśna  \n3825            True      Karwica Mazurska        osada  \n3827            True           Niewiastowo        osada  \n3828            True         Turowski Młyn        osada  \n3829            True         Mikosze-Osada         wieś  \n\n[3560 rows x 5 columns]",
      "text/html": "<div>\n<style scoped>\n    .dataframe tbody tr th:only-of-type {\n        vertical-align: middle;\n    }\n\n    .dataframe tbody tr th {\n        vertical-align: top;\n    }\n\n    .dataframe thead th {\n        text-align: right;\n    }\n</style>\n<table border=\"1\" class=\"dataframe\">\n  <thead>\n    <tr style=\"text-align: right;\">\n      <th></th>\n      <th>SIMC_id</th>\n      <th>geometry</th>\n      <th>czy_samodzielna</th>\n      <th>nazwaGlown</th>\n      <th>rodzaj</th>\n    </tr>\n  </thead>\n  <tbody>\n    <tr>\n      <th>0</th>\n      <td>113419</td>\n      <td>MULTIPOINT (576833.226 600114.868, 576347.223 ...</td>\n      <td>True</td>\n      <td>Burkat</td>\n      <td>wieś</td>\n    </tr>\n    <tr>\n      <th>1</th>\n      <td>113431</td>\n      <td>MULTIPOINT (579297.672 591570.172, 579281.468 ...</td>\n      <td>True</td>\n      <td>Bursz</td>\n      <td>wieś</td>\n    </tr>\n    <tr>\n      <th>2</th>\n      <td>113448</td>\n      <td>MULTIPOINT (576609.403 602643.066, 576685.907 ...</td>\n      <td>True</td>\n      <td>Filice</td>\n      <td>wieś</td>\n    </tr>\n    <tr>\n      <th>3</th>\n      <td>113454</td>\n      <td>MULTIPOINT (577813.172 614922.465, 578464.757 ...</td>\n      <td>True</td>\n      <td>Gąsiorowo</td>\n      <td>wieś</td>\n    </tr>\n    <tr>\n      <th>4</th>\n      <td>113460</td>\n      <td>MULTIPOINT (573044.280 592275.710, 572368.330 ...</td>\n      <td>True</td>\n      <td>Gnojenko</td>\n      <td>wieś</td>\n    </tr>\n    <tr>\n      <th>...</th>\n      <td>...</td>\n      <td>...</td>\n      <td>...</td>\n      <td>...</td>\n      <td>...</td>\n    </tr>\n    <tr>\n      <th>3824</th>\n      <td>1064500</td>\n      <td>MULTIPOINT (546311.293 721639.319)</td>\n      <td>True</td>\n      <td>Wilanowo-Leśniczówka</td>\n      <td>osada leśna</td>\n    </tr>\n    <tr>\n      <th>3825</th>\n      <td>1064516</td>\n      <td>MULTIPOINT (661466.676 641875.828, 661482.301 ...</td>\n      <td>True</td>\n      <td>Karwica Mazurska</td>\n      <td>osada</td>\n    </tr>\n    <tr>\n      <th>3827</th>\n      <td>1067147</td>\n      <td>MULTIPOINT (545312.238 719129.449, 545413.410 ...</td>\n      <td>True</td>\n      <td>Niewiastowo</td>\n      <td>osada</td>\n    </tr>\n    <tr>\n      <th>3828</th>\n      <td>1067526</td>\n      <td>MULTIPOINT (579064.300 622061.000)</td>\n      <td>True</td>\n      <td>Turowski Młyn</td>\n      <td>osada</td>\n    </tr>\n    <tr>\n      <th>3829</th>\n      <td>1067578</td>\n      <td>MULTIPOINT (691437.190 665197.210, 691411.410 ...</td>\n      <td>True</td>\n      <td>Mikosze-Osada</td>\n      <td>wieś</td>\n    </tr>\n  </tbody>\n</table>\n<p>3560 rows × 5 columns</p>\n</div>"
     },
     "execution_count": 42,
     "metadata": {},
     "output_type": "execute_result"
    }
   ],
   "source": [
    "zbior_samodzielny"
   ],
   "metadata": {
    "collapsed": false,
    "ExecuteTime": {
     "end_time": "2023-12-26T19:12:24.754836100Z",
     "start_time": "2023-12-26T19:12:24.726347400Z"
    }
   },
   "id": "f6ac9b40bb28080d"
  },
  {
   "cell_type": "code",
   "execution_count": 43,
   "outputs": [
    {
     "data": {
      "text/plain": "      SIMC_id                                           geometry  \\\n48     116547  MULTIPOINT (587104.704 596041.370, 587209.098 ...   \n50     116560  MULTIPOINT (590281.505 590582.715, 590646.154 ...   \n133    148375  MULTIPOINT (556952.122 727846.064, 557019.326 ...   \n158    148620  MULTIPOINT (554901.770 726486.334, 554867.261 ...   \n164    148702  MULTIPOINT (550855.853 723656.415, 551445.015 ...   \n...       ...                                                ...   \n3811  1045401                 MULTIPOINT (697656.670 699581.360)   \n3812  1045453                 MULTIPOINT (698018.779 700092.689)   \n3816  1056020  MULTIPOINT (659647.066 712132.883, 659980.945 ...   \n3821  1063110  MULTIPOINT (624210.582 673622.750, 624698.449 ...   \n3822  1063126  MULTIPOINT (567916.970 682342.200, 567889.430 ...   \n\n     czy_samodzielna        nazwaGlown            rodzaj  \n48             False            Chorab    przysiółek wsi  \n50             False          Szczepka         część wsi  \n133            False            Kalina       kolonia wsi  \n158            False         Siedlisko       kolonia wsi  \n164            False            Prętki     część kolonii  \n...              ...               ...               ...  \n3811           False        Jeleni Róg  przysiółek osady  \n3812           False      Łękuk Wielki  przysiółek osady  \n3816           False    Stare Jegławki         część wsi  \n3821           False  Czerwonka-Stacja         część wsi  \n3822           False         Henrykowo         osada wsi  \n\n[218 rows x 5 columns]",
      "text/html": "<div>\n<style scoped>\n    .dataframe tbody tr th:only-of-type {\n        vertical-align: middle;\n    }\n\n    .dataframe tbody tr th {\n        vertical-align: top;\n    }\n\n    .dataframe thead th {\n        text-align: right;\n    }\n</style>\n<table border=\"1\" class=\"dataframe\">\n  <thead>\n    <tr style=\"text-align: right;\">\n      <th></th>\n      <th>SIMC_id</th>\n      <th>geometry</th>\n      <th>czy_samodzielna</th>\n      <th>nazwaGlown</th>\n      <th>rodzaj</th>\n    </tr>\n  </thead>\n  <tbody>\n    <tr>\n      <th>48</th>\n      <td>116547</td>\n      <td>MULTIPOINT (587104.704 596041.370, 587209.098 ...</td>\n      <td>False</td>\n      <td>Chorab</td>\n      <td>przysiółek wsi</td>\n    </tr>\n    <tr>\n      <th>50</th>\n      <td>116560</td>\n      <td>MULTIPOINT (590281.505 590582.715, 590646.154 ...</td>\n      <td>False</td>\n      <td>Szczepka</td>\n      <td>część wsi</td>\n    </tr>\n    <tr>\n      <th>133</th>\n      <td>148375</td>\n      <td>MULTIPOINT (556952.122 727846.064, 557019.326 ...</td>\n      <td>False</td>\n      <td>Kalina</td>\n      <td>kolonia wsi</td>\n    </tr>\n    <tr>\n      <th>158</th>\n      <td>148620</td>\n      <td>MULTIPOINT (554901.770 726486.334, 554867.261 ...</td>\n      <td>False</td>\n      <td>Siedlisko</td>\n      <td>kolonia wsi</td>\n    </tr>\n    <tr>\n      <th>164</th>\n      <td>148702</td>\n      <td>MULTIPOINT (550855.853 723656.415, 551445.015 ...</td>\n      <td>False</td>\n      <td>Prętki</td>\n      <td>część kolonii</td>\n    </tr>\n    <tr>\n      <th>...</th>\n      <td>...</td>\n      <td>...</td>\n      <td>...</td>\n      <td>...</td>\n      <td>...</td>\n    </tr>\n    <tr>\n      <th>3811</th>\n      <td>1045401</td>\n      <td>MULTIPOINT (697656.670 699581.360)</td>\n      <td>False</td>\n      <td>Jeleni Róg</td>\n      <td>przysiółek osady</td>\n    </tr>\n    <tr>\n      <th>3812</th>\n      <td>1045453</td>\n      <td>MULTIPOINT (698018.779 700092.689)</td>\n      <td>False</td>\n      <td>Łękuk Wielki</td>\n      <td>przysiółek osady</td>\n    </tr>\n    <tr>\n      <th>3816</th>\n      <td>1056020</td>\n      <td>MULTIPOINT (659647.066 712132.883, 659980.945 ...</td>\n      <td>False</td>\n      <td>Stare Jegławki</td>\n      <td>część wsi</td>\n    </tr>\n    <tr>\n      <th>3821</th>\n      <td>1063110</td>\n      <td>MULTIPOINT (624210.582 673622.750, 624698.449 ...</td>\n      <td>False</td>\n      <td>Czerwonka-Stacja</td>\n      <td>część wsi</td>\n    </tr>\n    <tr>\n      <th>3822</th>\n      <td>1063126</td>\n      <td>MULTIPOINT (567916.970 682342.200, 567889.430 ...</td>\n      <td>False</td>\n      <td>Henrykowo</td>\n      <td>osada wsi</td>\n    </tr>\n  </tbody>\n</table>\n<p>218 rows × 5 columns</p>\n</div>"
     },
     "execution_count": 43,
     "metadata": {},
     "output_type": "execute_result"
    }
   ],
   "source": [
    "zbior_niesamodzielny"
   ],
   "metadata": {
    "collapsed": false,
    "ExecuteTime": {
     "end_time": "2023-12-26T19:12:25.876112300Z",
     "start_time": "2023-12-26T19:12:25.845257900Z"
    }
   },
   "id": "92078fab43747e89"
  },
  {
   "cell_type": "code",
   "execution_count": 48,
   "outputs": [
    {
     "data": {
      "text/plain": "             rodzaj  SIMC_id\n0     część kolonii        2\n1         część wsi      122\n2       kolonia wsi        8\n3   osada leśna wsi        1\n4         osada wsi        6\n5  przysiółek osady       16\n6    przysiółek wsi       63",
      "text/html": "<div>\n<style scoped>\n    .dataframe tbody tr th:only-of-type {\n        vertical-align: middle;\n    }\n\n    .dataframe tbody tr th {\n        vertical-align: top;\n    }\n\n    .dataframe thead th {\n        text-align: right;\n    }\n</style>\n<table border=\"1\" class=\"dataframe\">\n  <thead>\n    <tr style=\"text-align: right;\">\n      <th></th>\n      <th>rodzaj</th>\n      <th>SIMC_id</th>\n    </tr>\n  </thead>\n  <tbody>\n    <tr>\n      <th>0</th>\n      <td>część kolonii</td>\n      <td>2</td>\n    </tr>\n    <tr>\n      <th>1</th>\n      <td>część wsi</td>\n      <td>122</td>\n    </tr>\n    <tr>\n      <th>2</th>\n      <td>kolonia wsi</td>\n      <td>8</td>\n    </tr>\n    <tr>\n      <th>3</th>\n      <td>osada leśna wsi</td>\n      <td>1</td>\n    </tr>\n    <tr>\n      <th>4</th>\n      <td>osada wsi</td>\n      <td>6</td>\n    </tr>\n    <tr>\n      <th>5</th>\n      <td>przysiółek osady</td>\n      <td>16</td>\n    </tr>\n    <tr>\n      <th>6</th>\n      <td>przysiółek wsi</td>\n      <td>63</td>\n    </tr>\n  </tbody>\n</table>\n</div>"
     },
     "execution_count": 48,
     "metadata": {},
     "output_type": "execute_result"
    }
   ],
   "source": [
    "zbior_niesamodzielny.groupby('rodzaj')['SIMC_id'].count().reset_index()"
   ],
   "metadata": {
    "collapsed": false,
    "ExecuteTime": {
     "end_time": "2023-12-26T21:26:35.533806600Z",
     "start_time": "2023-12-26T21:26:35.510326Z"
    }
   },
   "id": "17695cba71593b44"
  },
  {
   "cell_type": "code",
   "execution_count": null,
   "outputs": [],
   "source": [],
   "metadata": {
    "collapsed": false
   },
   "id": "deeef06a2dff2237"
  }
 ],
 "metadata": {
  "kernelspec": {
   "display_name": "Python 3",
   "language": "python",
   "name": "python3"
  },
  "language_info": {
   "codemirror_mode": {
    "name": "ipython",
    "version": 2
   },
   "file_extension": ".py",
   "mimetype": "text/x-python",
   "name": "python",
   "nbconvert_exporter": "python",
   "pygments_lexer": "ipython2",
   "version": "2.7.6"
  }
 },
 "nbformat": 4,
 "nbformat_minor": 5
}
