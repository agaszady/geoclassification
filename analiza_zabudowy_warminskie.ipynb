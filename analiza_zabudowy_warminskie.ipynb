{
 "cells": [
  {
   "cell_type": "markdown",
   "source": [
    "ekstraktowanie cech związanych z zabudową"
   ],
   "metadata": {
    "collapsed": false
   },
   "id": "d28ec0a6f0758c1"
  },
  {
   "cell_type": "code",
   "execution_count": 1,
   "outputs": [],
   "source": [
    "import pandas as pd\n",
    "import geopandas as gpd\n",
    "from shapely.geometry import MultiPolygon, MultiPoint\n",
    "from scipy.spatial.distance import cdist\n",
    "import numpy as np"
   ],
   "metadata": {
    "collapsed": false,
    "ExecuteTime": {
     "end_time": "2023-12-31T10:32:11.224826700Z",
     "start_time": "2023-12-31T10:32:08.604704900Z"
    }
   },
   "id": "initial_id"
  },
  {
   "cell_type": "code",
   "execution_count": 2,
   "outputs": [
    {
     "data": {
      "text/plain": "     TERYT                             LOKALNYID             WERSJAID  \\\n0     2801  2C98CCB7-E677-AAFE-E053-CA2BA8C0B325  2022-03-01T12:46:00   \n1     2801  2C98CCB7-E663-AAFE-E053-CA2BA8C0B325  2022-03-01T12:46:00   \n2     2801  2C98CCB7-E68D-AAFE-E053-CA2BA8C0B325  2022-03-01T12:46:00   \n3     2801  2C98CCB7-E690-AAFE-E053-CA2BA8C0B325  2022-03-01T12:46:00   \n4     2801  2C98CCB7-E66F-AAFE-E053-CA2BA8C0B325  2022-03-01T12:46:00   \n...    ...                                   ...                  ...   \n3768  2819  311304D1-499A-B2CD-E053-CC2BA8C0FE3A  2021-10-06T13:36:00   \n3769  2819  311304D1-4996-B2CD-E053-CC2BA8C0FE3A  2021-10-06T13:36:00   \n3770  2819  311304D1-49C6-B2CD-E053-CC2BA8C0FE3A  2021-10-06T13:36:00   \n3771  2819  311304D1-49D7-B2CD-E053-CC2BA8C0FE3A  2021-10-06T13:36:00   \n3772  2819  311304D1-497C-B2CD-E053-CC2BA8C0FE3A  2021-10-06T13:36:00   \n\n                     PNAZW                            GMLID   X_KOD  \\\n0     PL.PZGiK.341.BDOT10k   PL.PZGIK.BDOT10k.ADMSA.28.0177  ADMS03   \n1     PL.PZGiK.341.BDOT10k   PL.PZGIK.BDOT10k.ADMSA.28.0171  ADMS03   \n2     PL.PZGiK.341.BDOT10k   PL.PZGIK.BDOT10k.ADMSA.28.0196  ADMS03   \n3     PL.PZGiK.341.BDOT10k  PL.PZGIK.BDOT10k.ADMSA.28.01108  ADMS03   \n4     PL.PZGiK.341.BDOT10k  PL.PZGIK.BDOT10k.ADMSA.28.01228  ADMS07   \n...                    ...                              ...     ...   \n3768  PL.PZGiK.341.BDOT10k                    OT_ADMS_A.104  ADMS03   \n3769  PL.PZGiK.341.BDOT10k                    OT_ADMS_A.103  ADMS03   \n3770  PL.PZGiK.341.BDOT10k                    OT_ADMS_A.116  ADMS07   \n3771  PL.PZGiK.341.BDOT10k                     OT_ADMS_A.47  ADMS07   \n3772  PL.PZGiK.341.BDOT10k                     OT_ADMS_A.97  ADMS03   \n\n      X_SKRKARTO    X_SKRK_NIL    X_KATDOKG  X_DOKLGEOM  ... EM_LOKID  \\\n0            NaN  inapplicable     dokladny         NaN  ...  0474382   \n1            NaN  inapplicable     dokladny         NaN  ...  0474324   \n2            NaN  inapplicable     dokladny         NaN  ...  0474442   \n3            NaN  inapplicable     dokladny         NaN  ...  0474465   \n4            NaN  inapplicable  przyblizony         NaN  ...  0474420   \n...          ...           ...          ...         ...  ...      ...   \n3768         NaN  inapplicable     dokladny         1.0  ...   765116   \n3769         NaN  inapplicable     dokladny         1.0  ...   770979   \n3770         NaN  inapplicable     dokladny         1.0  ...   771341   \n3771         NaN  inapplicable     dokladny         1.0  ...   755632   \n3772         NaN  inapplicable     dokladny         1.0  ...   755655   \n\n           EM_PNAZW  EM_WERID                            PRNG_LOKID  \\\n0      PL.ZIPIN.870       NaN                                109502   \n1      PL.ZIPIN.870       NaN                                 99197   \n2      PL.ZIPIN.870       NaN                                126609   \n3      PL.ZIPIN.870       NaN                                140116   \n4      PL.ZIPIN.870       NaN                                127660   \n...             ...       ...                                   ...   \n3768  PL.ZIPIN.1943       NaN  00000000-0000-0000-0000-000000040858   \n3769   PL.ZIPIN.903       NaN  00000000-0000-0000-0000-000000040171   \n3770   PL.ZIPIN.903       NaN  00000000-0000-0000-0000-000000133740   \n3771   PL.ZIPIN.902       NaN  00000000-0000-0000-0000-000000026309   \n3772   PL.ZIPIN.902       NaN  00000000-0000-0000-0000-000000155113   \n\n             PRNG_PNAZW PRNG_WERID         area                         layer  \\\n0     PL.PZGiK.204.PRNG        NaN   2773713.13  PL.PZGiK.341.2801__OT_ADMS_A   \n1     PL.PZGiK.204.PRNG        NaN   6744120.39  PL.PZGiK.341.2801__OT_ADMS_A   \n2     PL.PZGiK.204.PRNG        NaN   7996737.92  PL.PZGiK.341.2801__OT_ADMS_A   \n3     PL.PZGiK.204.PRNG        NaN   3882361.42  PL.PZGiK.341.2801__OT_ADMS_A   \n4     PL.PZGiK.204.PRNG        NaN    129325.10  PL.PZGiK.341.2801__OT_ADMS_A   \n...                 ...        ...          ...                           ...   \n3768  PL.PZGiK.204.PRNG        NaN  47631769.37  PL.PZGiK.341.2819__OT_ADMS_A   \n3769  PL.PZGiK.204.PRNG        NaN  22742342.71  PL.PZGiK.341.2819__OT_ADMS_A   \n3770  PL.PZGiK.204.PRNG        NaN   3079021.72  PL.PZGiK.341.2819__OT_ADMS_A   \n3771  PL.PZGiK.204.PRNG        NaN   2833038.18  PL.PZGiK.341.2819__OT_ADMS_A   \n3772  PL.PZGiK.204.PRNG        NaN  10672686.84  PL.PZGiK.341.2819__OT_ADMS_A   \n\n                                                   path  \\\n0     C:\\studia\\pracka\\28_SHP\\28\\2801_SHP\\PL.PZGiK.3...   \n1     C:\\studia\\pracka\\28_SHP\\28\\2801_SHP\\PL.PZGiK.3...   \n2     C:\\studia\\pracka\\28_SHP\\28\\2801_SHP\\PL.PZGiK.3...   \n3     C:\\studia\\pracka\\28_SHP\\28\\2801_SHP\\PL.PZGiK.3...   \n4     C:\\studia\\pracka\\28_SHP\\28\\2801_SHP\\PL.PZGiK.3...   \n...                                                 ...   \n3768  C:\\studia\\pracka\\28_SHP\\28\\2819_SHP\\PL.PZGiK.3...   \n3769  C:\\studia\\pracka\\28_SHP\\28\\2819_SHP\\PL.PZGiK.3...   \n3770  C:\\studia\\pracka\\28_SHP\\28\\2819_SHP\\PL.PZGiK.3...   \n3771  C:\\studia\\pracka\\28_SHP\\28\\2819_SHP\\PL.PZGiK.3...   \n3772  C:\\studia\\pracka\\28_SHP\\28\\2819_SHP\\PL.PZGiK.3...   \n\n                                               geometry  \n0     POLYGON ((602428.650 708821.710, 602501.620 70...  \n1     POLYGON ((600581.150 708206.820, 600756.320 70...  \n2     POLYGON ((597062.200 717054.300, 597160.520 71...  \n3     POLYGON ((602589.080 723526.660, 602670.420 72...  \n4     POLYGON ((599604.680 721448.040, 599629.000 72...  \n...                                                 ...  \n3768  POLYGON ((682986.450 703211.410, 682991.700 70...  \n3769  POLYGON ((667907.680 715869.080, 667852.960 71...  \n3770  POLYGON ((669232.280 706589.380, 669260.150 70...  \n3771  POLYGON ((682807.210 712243.900, 682802.600 71...  \n3772  POLYGON ((689125.400 722718.000, 689362.360 72...  \n\n[3773 rows x 55 columns]",
      "text/html": "<div>\n<style scoped>\n    .dataframe tbody tr th:only-of-type {\n        vertical-align: middle;\n    }\n\n    .dataframe tbody tr th {\n        vertical-align: top;\n    }\n\n    .dataframe thead th {\n        text-align: right;\n    }\n</style>\n<table border=\"1\" class=\"dataframe\">\n  <thead>\n    <tr style=\"text-align: right;\">\n      <th></th>\n      <th>TERYT</th>\n      <th>LOKALNYID</th>\n      <th>WERSJAID</th>\n      <th>PNAZW</th>\n      <th>GMLID</th>\n      <th>X_KOD</th>\n      <th>X_SKRKARTO</th>\n      <th>X_SKRK_NIL</th>\n      <th>X_KATDOKG</th>\n      <th>X_DOKLGEOM</th>\n      <th>...</th>\n      <th>EM_LOKID</th>\n      <th>EM_PNAZW</th>\n      <th>EM_WERID</th>\n      <th>PRNG_LOKID</th>\n      <th>PRNG_PNAZW</th>\n      <th>PRNG_WERID</th>\n      <th>area</th>\n      <th>layer</th>\n      <th>path</th>\n      <th>geometry</th>\n    </tr>\n  </thead>\n  <tbody>\n    <tr>\n      <th>0</th>\n      <td>2801</td>\n      <td>2C98CCB7-E677-AAFE-E053-CA2BA8C0B325</td>\n      <td>2022-03-01T12:46:00</td>\n      <td>PL.PZGiK.341.BDOT10k</td>\n      <td>PL.PZGIK.BDOT10k.ADMSA.28.0177</td>\n      <td>ADMS03</td>\n      <td>NaN</td>\n      <td>inapplicable</td>\n      <td>dokladny</td>\n      <td>NaN</td>\n      <td>...</td>\n      <td>0474382</td>\n      <td>PL.ZIPIN.870</td>\n      <td>NaN</td>\n      <td>109502</td>\n      <td>PL.PZGiK.204.PRNG</td>\n      <td>NaN</td>\n      <td>2773713.13</td>\n      <td>PL.PZGiK.341.2801__OT_ADMS_A</td>\n      <td>C:\\studia\\pracka\\28_SHP\\28\\2801_SHP\\PL.PZGiK.3...</td>\n      <td>POLYGON ((602428.650 708821.710, 602501.620 70...</td>\n    </tr>\n    <tr>\n      <th>1</th>\n      <td>2801</td>\n      <td>2C98CCB7-E663-AAFE-E053-CA2BA8C0B325</td>\n      <td>2022-03-01T12:46:00</td>\n      <td>PL.PZGiK.341.BDOT10k</td>\n      <td>PL.PZGIK.BDOT10k.ADMSA.28.0171</td>\n      <td>ADMS03</td>\n      <td>NaN</td>\n      <td>inapplicable</td>\n      <td>dokladny</td>\n      <td>NaN</td>\n      <td>...</td>\n      <td>0474324</td>\n      <td>PL.ZIPIN.870</td>\n      <td>NaN</td>\n      <td>99197</td>\n      <td>PL.PZGiK.204.PRNG</td>\n      <td>NaN</td>\n      <td>6744120.39</td>\n      <td>PL.PZGiK.341.2801__OT_ADMS_A</td>\n      <td>C:\\studia\\pracka\\28_SHP\\28\\2801_SHP\\PL.PZGiK.3...</td>\n      <td>POLYGON ((600581.150 708206.820, 600756.320 70...</td>\n    </tr>\n    <tr>\n      <th>2</th>\n      <td>2801</td>\n      <td>2C98CCB7-E68D-AAFE-E053-CA2BA8C0B325</td>\n      <td>2022-03-01T12:46:00</td>\n      <td>PL.PZGiK.341.BDOT10k</td>\n      <td>PL.PZGIK.BDOT10k.ADMSA.28.0196</td>\n      <td>ADMS03</td>\n      <td>NaN</td>\n      <td>inapplicable</td>\n      <td>dokladny</td>\n      <td>NaN</td>\n      <td>...</td>\n      <td>0474442</td>\n      <td>PL.ZIPIN.870</td>\n      <td>NaN</td>\n      <td>126609</td>\n      <td>PL.PZGiK.204.PRNG</td>\n      <td>NaN</td>\n      <td>7996737.92</td>\n      <td>PL.PZGiK.341.2801__OT_ADMS_A</td>\n      <td>C:\\studia\\pracka\\28_SHP\\28\\2801_SHP\\PL.PZGiK.3...</td>\n      <td>POLYGON ((597062.200 717054.300, 597160.520 71...</td>\n    </tr>\n    <tr>\n      <th>3</th>\n      <td>2801</td>\n      <td>2C98CCB7-E690-AAFE-E053-CA2BA8C0B325</td>\n      <td>2022-03-01T12:46:00</td>\n      <td>PL.PZGiK.341.BDOT10k</td>\n      <td>PL.PZGIK.BDOT10k.ADMSA.28.01108</td>\n      <td>ADMS03</td>\n      <td>NaN</td>\n      <td>inapplicable</td>\n      <td>dokladny</td>\n      <td>NaN</td>\n      <td>...</td>\n      <td>0474465</td>\n      <td>PL.ZIPIN.870</td>\n      <td>NaN</td>\n      <td>140116</td>\n      <td>PL.PZGiK.204.PRNG</td>\n      <td>NaN</td>\n      <td>3882361.42</td>\n      <td>PL.PZGiK.341.2801__OT_ADMS_A</td>\n      <td>C:\\studia\\pracka\\28_SHP\\28\\2801_SHP\\PL.PZGiK.3...</td>\n      <td>POLYGON ((602589.080 723526.660, 602670.420 72...</td>\n    </tr>\n    <tr>\n      <th>4</th>\n      <td>2801</td>\n      <td>2C98CCB7-E66F-AAFE-E053-CA2BA8C0B325</td>\n      <td>2022-03-01T12:46:00</td>\n      <td>PL.PZGiK.341.BDOT10k</td>\n      <td>PL.PZGIK.BDOT10k.ADMSA.28.01228</td>\n      <td>ADMS07</td>\n      <td>NaN</td>\n      <td>inapplicable</td>\n      <td>przyblizony</td>\n      <td>NaN</td>\n      <td>...</td>\n      <td>0474420</td>\n      <td>PL.ZIPIN.870</td>\n      <td>NaN</td>\n      <td>127660</td>\n      <td>PL.PZGiK.204.PRNG</td>\n      <td>NaN</td>\n      <td>129325.10</td>\n      <td>PL.PZGiK.341.2801__OT_ADMS_A</td>\n      <td>C:\\studia\\pracka\\28_SHP\\28\\2801_SHP\\PL.PZGiK.3...</td>\n      <td>POLYGON ((599604.680 721448.040, 599629.000 72...</td>\n    </tr>\n    <tr>\n      <th>...</th>\n      <td>...</td>\n      <td>...</td>\n      <td>...</td>\n      <td>...</td>\n      <td>...</td>\n      <td>...</td>\n      <td>...</td>\n      <td>...</td>\n      <td>...</td>\n      <td>...</td>\n      <td>...</td>\n      <td>...</td>\n      <td>...</td>\n      <td>...</td>\n      <td>...</td>\n      <td>...</td>\n      <td>...</td>\n      <td>...</td>\n      <td>...</td>\n      <td>...</td>\n      <td>...</td>\n    </tr>\n    <tr>\n      <th>3768</th>\n      <td>2819</td>\n      <td>311304D1-499A-B2CD-E053-CC2BA8C0FE3A</td>\n      <td>2021-10-06T13:36:00</td>\n      <td>PL.PZGiK.341.BDOT10k</td>\n      <td>OT_ADMS_A.104</td>\n      <td>ADMS03</td>\n      <td>NaN</td>\n      <td>inapplicable</td>\n      <td>dokladny</td>\n      <td>1.0</td>\n      <td>...</td>\n      <td>765116</td>\n      <td>PL.ZIPIN.1943</td>\n      <td>NaN</td>\n      <td>00000000-0000-0000-0000-000000040858</td>\n      <td>PL.PZGiK.204.PRNG</td>\n      <td>NaN</td>\n      <td>47631769.37</td>\n      <td>PL.PZGiK.341.2819__OT_ADMS_A</td>\n      <td>C:\\studia\\pracka\\28_SHP\\28\\2819_SHP\\PL.PZGiK.3...</td>\n      <td>POLYGON ((682986.450 703211.410, 682991.700 70...</td>\n    </tr>\n    <tr>\n      <th>3769</th>\n      <td>2819</td>\n      <td>311304D1-4996-B2CD-E053-CC2BA8C0FE3A</td>\n      <td>2021-10-06T13:36:00</td>\n      <td>PL.PZGiK.341.BDOT10k</td>\n      <td>OT_ADMS_A.103</td>\n      <td>ADMS03</td>\n      <td>NaN</td>\n      <td>inapplicable</td>\n      <td>dokladny</td>\n      <td>1.0</td>\n      <td>...</td>\n      <td>770979</td>\n      <td>PL.ZIPIN.903</td>\n      <td>NaN</td>\n      <td>00000000-0000-0000-0000-000000040171</td>\n      <td>PL.PZGiK.204.PRNG</td>\n      <td>NaN</td>\n      <td>22742342.71</td>\n      <td>PL.PZGiK.341.2819__OT_ADMS_A</td>\n      <td>C:\\studia\\pracka\\28_SHP\\28\\2819_SHP\\PL.PZGiK.3...</td>\n      <td>POLYGON ((667907.680 715869.080, 667852.960 71...</td>\n    </tr>\n    <tr>\n      <th>3770</th>\n      <td>2819</td>\n      <td>311304D1-49C6-B2CD-E053-CC2BA8C0FE3A</td>\n      <td>2021-10-06T13:36:00</td>\n      <td>PL.PZGiK.341.BDOT10k</td>\n      <td>OT_ADMS_A.116</td>\n      <td>ADMS07</td>\n      <td>NaN</td>\n      <td>inapplicable</td>\n      <td>dokladny</td>\n      <td>1.0</td>\n      <td>...</td>\n      <td>771341</td>\n      <td>PL.ZIPIN.903</td>\n      <td>NaN</td>\n      <td>00000000-0000-0000-0000-000000133740</td>\n      <td>PL.PZGiK.204.PRNG</td>\n      <td>NaN</td>\n      <td>3079021.72</td>\n      <td>PL.PZGiK.341.2819__OT_ADMS_A</td>\n      <td>C:\\studia\\pracka\\28_SHP\\28\\2819_SHP\\PL.PZGiK.3...</td>\n      <td>POLYGON ((669232.280 706589.380, 669260.150 70...</td>\n    </tr>\n    <tr>\n      <th>3771</th>\n      <td>2819</td>\n      <td>311304D1-49D7-B2CD-E053-CC2BA8C0FE3A</td>\n      <td>2021-10-06T13:36:00</td>\n      <td>PL.PZGiK.341.BDOT10k</td>\n      <td>OT_ADMS_A.47</td>\n      <td>ADMS07</td>\n      <td>NaN</td>\n      <td>inapplicable</td>\n      <td>dokladny</td>\n      <td>1.0</td>\n      <td>...</td>\n      <td>755632</td>\n      <td>PL.ZIPIN.902</td>\n      <td>NaN</td>\n      <td>00000000-0000-0000-0000-000000026309</td>\n      <td>PL.PZGiK.204.PRNG</td>\n      <td>NaN</td>\n      <td>2833038.18</td>\n      <td>PL.PZGiK.341.2819__OT_ADMS_A</td>\n      <td>C:\\studia\\pracka\\28_SHP\\28\\2819_SHP\\PL.PZGiK.3...</td>\n      <td>POLYGON ((682807.210 712243.900, 682802.600 71...</td>\n    </tr>\n    <tr>\n      <th>3772</th>\n      <td>2819</td>\n      <td>311304D1-497C-B2CD-E053-CC2BA8C0FE3A</td>\n      <td>2021-10-06T13:36:00</td>\n      <td>PL.PZGiK.341.BDOT10k</td>\n      <td>OT_ADMS_A.97</td>\n      <td>ADMS03</td>\n      <td>NaN</td>\n      <td>inapplicable</td>\n      <td>dokladny</td>\n      <td>1.0</td>\n      <td>...</td>\n      <td>755655</td>\n      <td>PL.ZIPIN.902</td>\n      <td>NaN</td>\n      <td>00000000-0000-0000-0000-000000155113</td>\n      <td>PL.PZGiK.204.PRNG</td>\n      <td>NaN</td>\n      <td>10672686.84</td>\n      <td>PL.PZGiK.341.2819__OT_ADMS_A</td>\n      <td>C:\\studia\\pracka\\28_SHP\\28\\2819_SHP\\PL.PZGiK.3...</td>\n      <td>POLYGON ((689125.400 722718.000, 689362.360 72...</td>\n    </tr>\n  </tbody>\n</table>\n<p>3773 rows × 55 columns</p>\n</div>"
     },
     "execution_count": 2,
     "metadata": {},
     "output_type": "execute_result"
    }
   ],
   "source": [
    "# pobranie granic miejscowości już po usunięciu tych bez własnej adrsacji\n",
    "granice_miejscowosci_z_adresacja = gpd.read_file('28/warminskie_granice_miejscowosci_z_adresacja.shp')\n",
    "granice_miejscowosci_z_adresacja"
   ],
   "metadata": {
    "collapsed": false,
    "ExecuteTime": {
     "end_time": "2023-12-31T10:32:14.079673Z",
     "start_time": "2023-12-31T10:32:11.224826700Z"
    }
   },
   "id": "ec0d3a1695c61612"
  },
  {
   "cell_type": "code",
   "execution_count": 3,
   "outputs": [
    {
     "data": {
      "text/plain": "       TERYT                             LOKALNYID             WERSJAID  \\\n0       2801  2C98CCB7-EB4A-AAFE-E053-CA2BA8C0B325  2020-09-25T00:00:00   \n1       2801  fa78a974-327d-4dea-853e-89f282afae2e  2020-09-25T00:00:00   \n2       2801  2C98CCB8-24F9-AAFE-E053-CA2BA8C0B325  2020-09-25T00:00:00   \n3       2801  a39790b1-6cf4-11e9-83ab-5404a6a68038  2020-09-25T00:00:00   \n4       2801  9A460CD3-6BA8-4D5F-B30F-D552A3830AC4  2020-10-03T00:00:00   \n...      ...                                   ...                  ...   \n514959  2862  2BF83540-A5EB-83A2-E053-CC2BA8C04E93  2022-08-08T00:00:00   \n514960  2862  2BF83540-9219-83A2-E053-CC2BA8C04E93  2022-08-08T00:00:00   \n514961  2862  2BF83540-82C8-83A2-E053-CC2BA8C04E93  2022-08-08T00:00:00   \n514962  2862  2BF83540-8974-83A2-E053-CC2BA8C04E93  2022-08-08T00:00:00   \n514963  2862  2BF83540-79D9-83A2-E053-CC2BA8C04E93  2022-08-08T00:00:00   \n\n                       PNAZW                                           GMLID  \\\n0       PL.PZGiK.341.BDOT10k                PL.PZGIK.BDOT10k.BUBDA.28.012304   \n1       PL.PZGiK.341.BDOT10k  OT_BUBD_A.21f9dcf8-c18e-4554-aa45-35c00d10e1aa   \n2       PL.PZGiK.341.BDOT10k               PL.PZGIK.BDOT10k.BUBDA.28.0117042   \n3       PL.PZGiK.341.BDOT10k             PL.PZGIK.BDOT10k.BUBDA.28.100_21367   \n4       PL.PZGiK.341.BDOT10k         ID_9A460CD3-6BA8-4D5F-B30F-D552A3830AC4   \n...                      ...                                             ...   \n514959  PL.PZGiK.341.BDOT10k               PL.PZGIK.BDOT10k.BUBDA.28.6212187   \n514960  PL.PZGiK.341.BDOT10k                PL.PZGIK.BDOT10k.BUBDA.28.627015   \n514961  PL.PZGiK.341.BDOT10k                PL.PZGIK.BDOT10k.BUBDA.28.622599   \n514962  PL.PZGiK.341.BDOT10k                PL.PZGIK.BDOT10k.BUBDA.28.625046   \n514963  PL.PZGiK.341.BDOT10k                  PL.PZGIK.BDOT10k.BUBDA.28.6276   \n\n         X_KOD X_SKRKARTO    X_SKRK_NIL X_KATDOKG  X_DOKLGEOM  ... FUNSZC_NIL  \\\n0       BUBD01        NaN  inapplicable  dokladny         NaN  ...        NaN   \n1       BUBD18        NaN  inapplicable  dokladny         NaN  ...        NaN   \n2       BUBD10       gar.           NaN  dokladny         NaN  ...        NaN   \n3       BUBD18        NaN  inapplicable  dokladny         NaN  ...        NaN   \n4       BUBD01        NaN  inapplicable  dokladny         NaN  ...        NaN   \n...        ...        ...           ...       ...         ...  ...        ...   \n514959  BUBD21      pomp.           NaN  dokladny         NaN  ...        NaN   \n514960  BUBD08        NaN  inapplicable  dokladny         NaN  ...        NaN   \n514961  BUBD21        NaN  inapplicable  dokladny         NaN  ...        NaN   \n514962  BUBD21        NaN  inapplicable  dokladny         NaN  ...        NaN   \n514963  BUBD08        NaN  inapplicable  dokladny         NaN  ...        NaN   \n\n       KODKST LKOND  LKOND_NIL NAZWA ZABYTEK     area  \\\n0         110   2.0        NaN   NaN     Nie    85.60   \n1         108   1.0        NaN   NaN     Nie    98.33   \n2         102   1.0        NaN   NaN     Nie    77.22   \n3         108   1.0        NaN   NaN     Nie    98.24   \n4         110   2.0        NaN   NaN     Nie    90.72   \n...       ...   ...        ...   ...     ...      ...   \n514959    109   2.0        NaN   NaN     Nie  1341.46   \n514960    103   1.0        NaN   NaN     Nie   152.82   \n514961    109   1.0        NaN   NaN     Nie   115.84   \n514962    109   1.0        NaN   NaN     Nie    53.50   \n514963    103   1.0        NaN   NaN     Nie   100.10   \n\n                               layer  \\\n0       PL.PZGiK.341.2801__OT_BUBD_A   \n1       PL.PZGiK.341.2801__OT_BUBD_A   \n2       PL.PZGiK.341.2801__OT_BUBD_A   \n3       PL.PZGiK.341.2801__OT_BUBD_A   \n4       PL.PZGiK.341.2801__OT_BUBD_A   \n...                              ...   \n514959  PL.PZGiK.341.2862__OT_BUBD_A   \n514960  PL.PZGiK.341.2862__OT_BUBD_A   \n514961  PL.PZGiK.341.2862__OT_BUBD_A   \n514962  PL.PZGiK.341.2862__OT_BUBD_A   \n514963  PL.PZGiK.341.2862__OT_BUBD_A   \n\n                                                     path  \\\n0       C:\\studia\\pracka\\28_SHP\\28\\2801_SHP\\PL.PZGiK.3...   \n1       C:\\studia\\pracka\\28_SHP\\28\\2801_SHP\\PL.PZGiK.3...   \n2       C:\\studia\\pracka\\28_SHP\\28\\2801_SHP\\PL.PZGiK.3...   \n3       C:\\studia\\pracka\\28_SHP\\28\\2801_SHP\\PL.PZGiK.3...   \n4       C:\\studia\\pracka\\28_SHP\\28\\2801_SHP\\PL.PZGiK.3...   \n...                                                   ...   \n514959  C:\\studia\\pracka\\28_SHP\\28\\2862_SHP\\PL.PZGiK.3...   \n514960  C:\\studia\\pracka\\28_SHP\\28\\2862_SHP\\PL.PZGiK.3...   \n514961  C:\\studia\\pracka\\28_SHP\\28\\2862_SHP\\PL.PZGiK.3...   \n514962  C:\\studia\\pracka\\28_SHP\\28\\2862_SHP\\PL.PZGiK.3...   \n514963  C:\\studia\\pracka\\28_SHP\\28\\2862_SHP\\PL.PZGiK.3...   \n\n                                                 geometry  \n0       POLYGON ((610883.070 711181.190, 610885.070 71...  \n1       POLYGON ((600636.810 722210.250, 600631.300 72...  \n2       POLYGON ((622995.510 707641.790, 622982.050 70...  \n3       POLYGON ((604178.290 718508.330, 604173.100 71...  \n4       POLYGON ((587505.660 723024.460, 587516.310 72...  \n...                                                   ...  \n514959  POLYGON ((595479.260 654416.380, 595498.500 65...  \n514960  POLYGON ((595247.990 657244.210, 595244.510 65...  \n514961  POLYGON ((594989.630 660793.400, 595000.860 66...  \n514962  POLYGON ((598415.940 656333.760, 598417.970 65...  \n514963  POLYGON ((595134.110 659283.530, 595134.060 65...  \n\n[514964 rows x 50 columns]",
      "text/html": "<div>\n<style scoped>\n    .dataframe tbody tr th:only-of-type {\n        vertical-align: middle;\n    }\n\n    .dataframe tbody tr th {\n        vertical-align: top;\n    }\n\n    .dataframe thead th {\n        text-align: right;\n    }\n</style>\n<table border=\"1\" class=\"dataframe\">\n  <thead>\n    <tr style=\"text-align: right;\">\n      <th></th>\n      <th>TERYT</th>\n      <th>LOKALNYID</th>\n      <th>WERSJAID</th>\n      <th>PNAZW</th>\n      <th>GMLID</th>\n      <th>X_KOD</th>\n      <th>X_SKRKARTO</th>\n      <th>X_SKRK_NIL</th>\n      <th>X_KATDOKG</th>\n      <th>X_DOKLGEOM</th>\n      <th>...</th>\n      <th>FUNSZC_NIL</th>\n      <th>KODKST</th>\n      <th>LKOND</th>\n      <th>LKOND_NIL</th>\n      <th>NAZWA</th>\n      <th>ZABYTEK</th>\n      <th>area</th>\n      <th>layer</th>\n      <th>path</th>\n      <th>geometry</th>\n    </tr>\n  </thead>\n  <tbody>\n    <tr>\n      <th>0</th>\n      <td>2801</td>\n      <td>2C98CCB7-EB4A-AAFE-E053-CA2BA8C0B325</td>\n      <td>2020-09-25T00:00:00</td>\n      <td>PL.PZGiK.341.BDOT10k</td>\n      <td>PL.PZGIK.BDOT10k.BUBDA.28.012304</td>\n      <td>BUBD01</td>\n      <td>NaN</td>\n      <td>inapplicable</td>\n      <td>dokladny</td>\n      <td>NaN</td>\n      <td>...</td>\n      <td>NaN</td>\n      <td>110</td>\n      <td>2.0</td>\n      <td>NaN</td>\n      <td>NaN</td>\n      <td>Nie</td>\n      <td>85.60</td>\n      <td>PL.PZGiK.341.2801__OT_BUBD_A</td>\n      <td>C:\\studia\\pracka\\28_SHP\\28\\2801_SHP\\PL.PZGiK.3...</td>\n      <td>POLYGON ((610883.070 711181.190, 610885.070 71...</td>\n    </tr>\n    <tr>\n      <th>1</th>\n      <td>2801</td>\n      <td>fa78a974-327d-4dea-853e-89f282afae2e</td>\n      <td>2020-09-25T00:00:00</td>\n      <td>PL.PZGiK.341.BDOT10k</td>\n      <td>OT_BUBD_A.21f9dcf8-c18e-4554-aa45-35c00d10e1aa</td>\n      <td>BUBD18</td>\n      <td>NaN</td>\n      <td>inapplicable</td>\n      <td>dokladny</td>\n      <td>NaN</td>\n      <td>...</td>\n      <td>NaN</td>\n      <td>108</td>\n      <td>1.0</td>\n      <td>NaN</td>\n      <td>NaN</td>\n      <td>Nie</td>\n      <td>98.33</td>\n      <td>PL.PZGiK.341.2801__OT_BUBD_A</td>\n      <td>C:\\studia\\pracka\\28_SHP\\28\\2801_SHP\\PL.PZGiK.3...</td>\n      <td>POLYGON ((600636.810 722210.250, 600631.300 72...</td>\n    </tr>\n    <tr>\n      <th>2</th>\n      <td>2801</td>\n      <td>2C98CCB8-24F9-AAFE-E053-CA2BA8C0B325</td>\n      <td>2020-09-25T00:00:00</td>\n      <td>PL.PZGiK.341.BDOT10k</td>\n      <td>PL.PZGIK.BDOT10k.BUBDA.28.0117042</td>\n      <td>BUBD10</td>\n      <td>gar.</td>\n      <td>NaN</td>\n      <td>dokladny</td>\n      <td>NaN</td>\n      <td>...</td>\n      <td>NaN</td>\n      <td>102</td>\n      <td>1.0</td>\n      <td>NaN</td>\n      <td>NaN</td>\n      <td>Nie</td>\n      <td>77.22</td>\n      <td>PL.PZGiK.341.2801__OT_BUBD_A</td>\n      <td>C:\\studia\\pracka\\28_SHP\\28\\2801_SHP\\PL.PZGiK.3...</td>\n      <td>POLYGON ((622995.510 707641.790, 622982.050 70...</td>\n    </tr>\n    <tr>\n      <th>3</th>\n      <td>2801</td>\n      <td>a39790b1-6cf4-11e9-83ab-5404a6a68038</td>\n      <td>2020-09-25T00:00:00</td>\n      <td>PL.PZGiK.341.BDOT10k</td>\n      <td>PL.PZGIK.BDOT10k.BUBDA.28.100_21367</td>\n      <td>BUBD18</td>\n      <td>NaN</td>\n      <td>inapplicable</td>\n      <td>dokladny</td>\n      <td>NaN</td>\n      <td>...</td>\n      <td>NaN</td>\n      <td>108</td>\n      <td>1.0</td>\n      <td>NaN</td>\n      <td>NaN</td>\n      <td>Nie</td>\n      <td>98.24</td>\n      <td>PL.PZGiK.341.2801__OT_BUBD_A</td>\n      <td>C:\\studia\\pracka\\28_SHP\\28\\2801_SHP\\PL.PZGiK.3...</td>\n      <td>POLYGON ((604178.290 718508.330, 604173.100 71...</td>\n    </tr>\n    <tr>\n      <th>4</th>\n      <td>2801</td>\n      <td>9A460CD3-6BA8-4D5F-B30F-D552A3830AC4</td>\n      <td>2020-10-03T00:00:00</td>\n      <td>PL.PZGiK.341.BDOT10k</td>\n      <td>ID_9A460CD3-6BA8-4D5F-B30F-D552A3830AC4</td>\n      <td>BUBD01</td>\n      <td>NaN</td>\n      <td>inapplicable</td>\n      <td>dokladny</td>\n      <td>NaN</td>\n      <td>...</td>\n      <td>NaN</td>\n      <td>110</td>\n      <td>2.0</td>\n      <td>NaN</td>\n      <td>NaN</td>\n      <td>Nie</td>\n      <td>90.72</td>\n      <td>PL.PZGiK.341.2801__OT_BUBD_A</td>\n      <td>C:\\studia\\pracka\\28_SHP\\28\\2801_SHP\\PL.PZGiK.3...</td>\n      <td>POLYGON ((587505.660 723024.460, 587516.310 72...</td>\n    </tr>\n    <tr>\n      <th>...</th>\n      <td>...</td>\n      <td>...</td>\n      <td>...</td>\n      <td>...</td>\n      <td>...</td>\n      <td>...</td>\n      <td>...</td>\n      <td>...</td>\n      <td>...</td>\n      <td>...</td>\n      <td>...</td>\n      <td>...</td>\n      <td>...</td>\n      <td>...</td>\n      <td>...</td>\n      <td>...</td>\n      <td>...</td>\n      <td>...</td>\n      <td>...</td>\n      <td>...</td>\n      <td>...</td>\n    </tr>\n    <tr>\n      <th>514959</th>\n      <td>2862</td>\n      <td>2BF83540-A5EB-83A2-E053-CC2BA8C04E93</td>\n      <td>2022-08-08T00:00:00</td>\n      <td>PL.PZGiK.341.BDOT10k</td>\n      <td>PL.PZGIK.BDOT10k.BUBDA.28.6212187</td>\n      <td>BUBD21</td>\n      <td>pomp.</td>\n      <td>NaN</td>\n      <td>dokladny</td>\n      <td>NaN</td>\n      <td>...</td>\n      <td>NaN</td>\n      <td>109</td>\n      <td>2.0</td>\n      <td>NaN</td>\n      <td>NaN</td>\n      <td>Nie</td>\n      <td>1341.46</td>\n      <td>PL.PZGiK.341.2862__OT_BUBD_A</td>\n      <td>C:\\studia\\pracka\\28_SHP\\28\\2862_SHP\\PL.PZGiK.3...</td>\n      <td>POLYGON ((595479.260 654416.380, 595498.500 65...</td>\n    </tr>\n    <tr>\n      <th>514960</th>\n      <td>2862</td>\n      <td>2BF83540-9219-83A2-E053-CC2BA8C04E93</td>\n      <td>2022-08-08T00:00:00</td>\n      <td>PL.PZGiK.341.BDOT10k</td>\n      <td>PL.PZGIK.BDOT10k.BUBDA.28.627015</td>\n      <td>BUBD08</td>\n      <td>NaN</td>\n      <td>inapplicable</td>\n      <td>dokladny</td>\n      <td>NaN</td>\n      <td>...</td>\n      <td>NaN</td>\n      <td>103</td>\n      <td>1.0</td>\n      <td>NaN</td>\n      <td>NaN</td>\n      <td>Nie</td>\n      <td>152.82</td>\n      <td>PL.PZGiK.341.2862__OT_BUBD_A</td>\n      <td>C:\\studia\\pracka\\28_SHP\\28\\2862_SHP\\PL.PZGiK.3...</td>\n      <td>POLYGON ((595247.990 657244.210, 595244.510 65...</td>\n    </tr>\n    <tr>\n      <th>514961</th>\n      <td>2862</td>\n      <td>2BF83540-82C8-83A2-E053-CC2BA8C04E93</td>\n      <td>2022-08-08T00:00:00</td>\n      <td>PL.PZGiK.341.BDOT10k</td>\n      <td>PL.PZGIK.BDOT10k.BUBDA.28.622599</td>\n      <td>BUBD21</td>\n      <td>NaN</td>\n      <td>inapplicable</td>\n      <td>dokladny</td>\n      <td>NaN</td>\n      <td>...</td>\n      <td>NaN</td>\n      <td>109</td>\n      <td>1.0</td>\n      <td>NaN</td>\n      <td>NaN</td>\n      <td>Nie</td>\n      <td>115.84</td>\n      <td>PL.PZGiK.341.2862__OT_BUBD_A</td>\n      <td>C:\\studia\\pracka\\28_SHP\\28\\2862_SHP\\PL.PZGiK.3...</td>\n      <td>POLYGON ((594989.630 660793.400, 595000.860 66...</td>\n    </tr>\n    <tr>\n      <th>514962</th>\n      <td>2862</td>\n      <td>2BF83540-8974-83A2-E053-CC2BA8C04E93</td>\n      <td>2022-08-08T00:00:00</td>\n      <td>PL.PZGiK.341.BDOT10k</td>\n      <td>PL.PZGIK.BDOT10k.BUBDA.28.625046</td>\n      <td>BUBD21</td>\n      <td>NaN</td>\n      <td>inapplicable</td>\n      <td>dokladny</td>\n      <td>NaN</td>\n      <td>...</td>\n      <td>NaN</td>\n      <td>109</td>\n      <td>1.0</td>\n      <td>NaN</td>\n      <td>NaN</td>\n      <td>Nie</td>\n      <td>53.50</td>\n      <td>PL.PZGiK.341.2862__OT_BUBD_A</td>\n      <td>C:\\studia\\pracka\\28_SHP\\28\\2862_SHP\\PL.PZGiK.3...</td>\n      <td>POLYGON ((598415.940 656333.760, 598417.970 65...</td>\n    </tr>\n    <tr>\n      <th>514963</th>\n      <td>2862</td>\n      <td>2BF83540-79D9-83A2-E053-CC2BA8C04E93</td>\n      <td>2022-08-08T00:00:00</td>\n      <td>PL.PZGiK.341.BDOT10k</td>\n      <td>PL.PZGIK.BDOT10k.BUBDA.28.6276</td>\n      <td>BUBD08</td>\n      <td>NaN</td>\n      <td>inapplicable</td>\n      <td>dokladny</td>\n      <td>NaN</td>\n      <td>...</td>\n      <td>NaN</td>\n      <td>103</td>\n      <td>1.0</td>\n      <td>NaN</td>\n      <td>NaN</td>\n      <td>Nie</td>\n      <td>100.10</td>\n      <td>PL.PZGiK.341.2862__OT_BUBD_A</td>\n      <td>C:\\studia\\pracka\\28_SHP\\28\\2862_SHP\\PL.PZGiK.3...</td>\n      <td>POLYGON ((595134.110 659283.530, 595134.060 65...</td>\n    </tr>\n  </tbody>\n</table>\n<p>514964 rows × 50 columns</p>\n</div>"
     },
     "execution_count": 3,
     "metadata": {},
     "output_type": "execute_result"
    }
   ],
   "source": [
    "# pobranie budynków\n",
    "budynki = gpd.read_file('28/warminskie_budynki.shp')\n",
    "budynki"
   ],
   "metadata": {
    "collapsed": false,
    "ExecuteTime": {
     "end_time": "2023-12-31T10:36:21.945280700Z",
     "start_time": "2023-12-31T10:32:14.080671400Z"
    }
   },
   "id": "aca5774d2a9ae30"
  },
  {
   "cell_type": "code",
   "execution_count": 4,
   "outputs": [
    {
     "data": {
      "text/plain": "      SIMC_id                                           geometry\n0      474382  POLYGON ((602428.650 708821.710, 602501.620 70...\n1      474324  POLYGON ((600581.150 708206.820, 600756.320 70...\n2      474442  POLYGON ((597062.200 717054.300, 597160.520 71...\n3      474465  POLYGON ((602589.080 723526.660, 602670.420 72...\n4      474420  POLYGON ((599604.680 721448.040, 599629.000 72...\n...       ...                                                ...\n3768   765116  POLYGON ((682986.450 703211.410, 682991.700 70...\n3769   770979  POLYGON ((667907.680 715869.080, 667852.960 71...\n3770   771341  POLYGON ((669232.280 706589.380, 669260.150 70...\n3771   755632  POLYGON ((682807.210 712243.900, 682802.600 71...\n3772   755655  POLYGON ((689125.400 722718.000, 689362.360 72...\n\n[3773 rows x 2 columns]",
      "text/html": "<div>\n<style scoped>\n    .dataframe tbody tr th:only-of-type {\n        vertical-align: middle;\n    }\n\n    .dataframe tbody tr th {\n        vertical-align: top;\n    }\n\n    .dataframe thead th {\n        text-align: right;\n    }\n</style>\n<table border=\"1\" class=\"dataframe\">\n  <thead>\n    <tr style=\"text-align: right;\">\n      <th></th>\n      <th>SIMC_id</th>\n      <th>geometry</th>\n    </tr>\n  </thead>\n  <tbody>\n    <tr>\n      <th>0</th>\n      <td>474382</td>\n      <td>POLYGON ((602428.650 708821.710, 602501.620 70...</td>\n    </tr>\n    <tr>\n      <th>1</th>\n      <td>474324</td>\n      <td>POLYGON ((600581.150 708206.820, 600756.320 70...</td>\n    </tr>\n    <tr>\n      <th>2</th>\n      <td>474442</td>\n      <td>POLYGON ((597062.200 717054.300, 597160.520 71...</td>\n    </tr>\n    <tr>\n      <th>3</th>\n      <td>474465</td>\n      <td>POLYGON ((602589.080 723526.660, 602670.420 72...</td>\n    </tr>\n    <tr>\n      <th>4</th>\n      <td>474420</td>\n      <td>POLYGON ((599604.680 721448.040, 599629.000 72...</td>\n    </tr>\n    <tr>\n      <th>...</th>\n      <td>...</td>\n      <td>...</td>\n    </tr>\n    <tr>\n      <th>3768</th>\n      <td>765116</td>\n      <td>POLYGON ((682986.450 703211.410, 682991.700 70...</td>\n    </tr>\n    <tr>\n      <th>3769</th>\n      <td>770979</td>\n      <td>POLYGON ((667907.680 715869.080, 667852.960 71...</td>\n    </tr>\n    <tr>\n      <th>3770</th>\n      <td>771341</td>\n      <td>POLYGON ((669232.280 706589.380, 669260.150 70...</td>\n    </tr>\n    <tr>\n      <th>3771</th>\n      <td>755632</td>\n      <td>POLYGON ((682807.210 712243.900, 682802.600 71...</td>\n    </tr>\n    <tr>\n      <th>3772</th>\n      <td>755655</td>\n      <td>POLYGON ((689125.400 722718.000, 689362.360 72...</td>\n    </tr>\n  </tbody>\n</table>\n<p>3773 rows × 2 columns</p>\n</div>"
     },
     "execution_count": 4,
     "metadata": {},
     "output_type": "execute_result"
    }
   ],
   "source": [
    "# ograniczenie warstwy granaic tylko do dwóch kolumn\n",
    "granice_temp = granice_miejscowosci_z_adresacja[['SIMC_id', 'geometry']]\n",
    "granice_temp"
   ],
   "metadata": {
    "collapsed": false,
    "ExecuteTime": {
     "end_time": "2023-12-31T10:36:22.039281800Z",
     "start_time": "2023-12-31T10:36:21.941281100Z"
    }
   },
   "id": "a886b7abdfc4e26f"
  },
  {
   "cell_type": "code",
   "execution_count": 5,
   "outputs": [
    {
     "name": "stderr",
     "output_type": "stream",
     "text": [
      "C:\\Users\\agnie\\AppData\\Local\\Programs\\Python\\Python310\\lib\\site-packages\\IPython\\core\\interactiveshell.py:3466: FutureWarning: The `op` parameter is deprecated and will be removed in a future release. Please use the `predicate` parameter instead.\n",
      "  if await self.run_code(code, result, async_=asy):\n"
     ]
    },
    {
     "data": {
      "text/plain": "       TERYT                             LOKALNYID             WERSJAID  \\\n0       2801  2C98CCB7-EB4A-AAFE-E053-CA2BA8C0B325  2020-09-25T00:00:00   \n135     2801  6A2F9B96-E76E-4732-82D9-5B070EDE755D  2020-11-16T00:00:00   \n195     2801  809473e1-9bfb-11e9-a4d3-b8ca3a7f05dc  2020-09-25T00:00:00   \n505     2801  7b14dd53-3c61-11e9-96d2-f01faf546c5e  2020-09-25T00:00:00   \n601     2801  2C98CCB7-F8BA-AAFE-E053-CA2BA8C0B325  2020-09-25T00:00:00   \n...      ...                                   ...                  ...   \n480985  2819  311304D1-6A60-B2CD-E053-CC2BA8C0FE3A  2020-09-07T12:00:00   \n482496  2819  311304D1-514C-B2CD-E053-CC2BA8C0FE3A  2020-09-07T12:00:00   \n483727  2819  311304D1-5F83-B2CD-E053-CC2BA8C0FE3A  2020-09-07T12:00:00   \n477442  2819  311304D1-64E7-B2CD-E053-CC2BA8C0FE3A  2020-09-07T12:00:00   \n479731  2819  311304D1-65B4-B2CD-E053-CC2BA8C0FE3A  2020-09-07T12:00:00   \n\n                       PNAZW                                    GMLID   X_KOD  \\\n0       PL.PZGiK.341.BDOT10k         PL.PZGIK.BDOT10k.BUBDA.28.012304  BUBD01   \n135     PL.PZGiK.341.BDOT10k  ID_6A2F9B96-E76E-4732-82D9-5B070EDE755D  BUBD18   \n195     PL.PZGiK.341.BDOT10k                  OT_BUBD_A_1561984007_43  BUBD18   \n505     PL.PZGiK.341.BDOT10k                  OT_BUBD_A_1551472495_86  BUBD18   \n601     PL.PZGiK.341.BDOT10k         PL.PZGIK.BDOT10k.BUBDA.28.013355  BUBD18   \n...                      ...                                      ...     ...   \n480985  PL.PZGiK.341.BDOT10k                           OT_BUBD_A.3817  BUBD18   \n482496  PL.PZGiK.341.BDOT10k                           OT_BUBD_A.8263  BUBD01   \n483727  PL.PZGiK.341.BDOT10k                           OT_BUBD_A.8111  BUBD01   \n477442  PL.PZGiK.341.BDOT10k                          OT_BUBD_A.10868  BUBD01   \n479731  PL.PZGiK.341.BDOT10k                          OT_BUBD_A.10869  BUBD18   \n\n       X_SKRKARTO    X_SKRK_NIL    X_KATDOKG  X_DOKLGEOM  ... LKOND LKOND_NIL  \\\n0             NaN  inapplicable     dokladny         NaN  ...   2.0       NaN   \n135           NaN  inapplicable     dokladny         NaN  ...   1.0       NaN   \n195           NaN  inapplicable  przyblizony         NaN  ...   1.0       NaN   \n505           NaN  inapplicable     dokladny         NaN  ...   1.0       NaN   \n601           NaN  inapplicable     dokladny         NaN  ...   1.0       NaN   \n...           ...           ...          ...         ...  ...   ...       ...   \n480985        NaN  inapplicable     dokladny         1.0  ...   1.0       NaN   \n482496        NaN  inapplicable     dokladny         1.0  ...   1.0       NaN   \n483727        NaN  inapplicable     dokladny         1.0  ...   1.0       NaN   \n477442        NaN  inapplicable     dokladny         1.0  ...   1.0       NaN   \n479731        NaN  inapplicable     dokladny         1.0  ...   1.0       NaN   \n\n       NAZWA  ZABYTEK    area                         layer  \\\n0        NaN      Nie   85.60  PL.PZGiK.341.2801__OT_BUBD_A   \n135      NaN      Nie   44.61  PL.PZGiK.341.2801__OT_BUBD_A   \n195      NaN      Nie  114.15  PL.PZGiK.341.2801__OT_BUBD_A   \n505      NaN      Nie   53.13  PL.PZGiK.341.2801__OT_BUBD_A   \n601      NaN      Nie   44.73  PL.PZGiK.341.2801__OT_BUBD_A   \n...      ...      ...     ...                           ...   \n480985   NaN      Nie  204.87  PL.PZGiK.341.2819__OT_BUBD_A   \n482496   NaN      Nie  122.18  PL.PZGiK.341.2819__OT_BUBD_A   \n483727   NaN      Nie  184.27  PL.PZGiK.341.2819__OT_BUBD_A   \n477442   NaN      Nie  127.71  PL.PZGiK.341.2819__OT_BUBD_A   \n479731   NaN      Nie  175.46  PL.PZGiK.341.2819__OT_BUBD_A   \n\n                                                     path  \\\n0       C:\\studia\\pracka\\28_SHP\\28\\2801_SHP\\PL.PZGiK.3...   \n135     C:\\studia\\pracka\\28_SHP\\28\\2801_SHP\\PL.PZGiK.3...   \n195     C:\\studia\\pracka\\28_SHP\\28\\2801_SHP\\PL.PZGiK.3...   \n505     C:\\studia\\pracka\\28_SHP\\28\\2801_SHP\\PL.PZGiK.3...   \n601     C:\\studia\\pracka\\28_SHP\\28\\2801_SHP\\PL.PZGiK.3...   \n...                                                   ...   \n480985  C:\\studia\\pracka\\28_SHP\\28\\2819_SHP\\PL.PZGiK.3...   \n482496  C:\\studia\\pracka\\28_SHP\\28\\2819_SHP\\PL.PZGiK.3...   \n483727  C:\\studia\\pracka\\28_SHP\\28\\2819_SHP\\PL.PZGiK.3...   \n477442  C:\\studia\\pracka\\28_SHP\\28\\2819_SHP\\PL.PZGiK.3...   \n479731  C:\\studia\\pracka\\28_SHP\\28\\2819_SHP\\PL.PZGiK.3...   \n\n                                                 geometry index_right SIMC_id  \n0       POLYGON ((610883.070 711181.190, 610885.070 71...          83  470332  \n135     POLYGON ((611833.290 711889.240, 611837.160 71...          83  470332  \n195     POLYGON ((611186.630 710793.390, 611193.890 71...          83  470332  \n505     POLYGON ((611894.910 712055.640, 611896.890 71...          83  470332  \n601     POLYGON ((610826.210 711047.120, 610827.520 71...          83  470332  \n...                                                   ...         ...     ...  \n480985  POLYGON ((679715.360 719748.060, 679715.400 71...        3723  755490  \n482496  POLYGON ((679731.330 719578.050, 679731.370 71...        3723  755490  \n483727  POLYGON ((679719.040 719771.710, 679719.110 71...        3723  755490  \n477442  POLYGON ((669341.210 706815.590, 669350.670 70...        3761  771358  \n479731  POLYGON ((669314.970 706818.280, 669309.650 70...        3761  771358  \n\n[397645 rows x 52 columns]",
      "text/html": "<div>\n<style scoped>\n    .dataframe tbody tr th:only-of-type {\n        vertical-align: middle;\n    }\n\n    .dataframe tbody tr th {\n        vertical-align: top;\n    }\n\n    .dataframe thead th {\n        text-align: right;\n    }\n</style>\n<table border=\"1\" class=\"dataframe\">\n  <thead>\n    <tr style=\"text-align: right;\">\n      <th></th>\n      <th>TERYT</th>\n      <th>LOKALNYID</th>\n      <th>WERSJAID</th>\n      <th>PNAZW</th>\n      <th>GMLID</th>\n      <th>X_KOD</th>\n      <th>X_SKRKARTO</th>\n      <th>X_SKRK_NIL</th>\n      <th>X_KATDOKG</th>\n      <th>X_DOKLGEOM</th>\n      <th>...</th>\n      <th>LKOND</th>\n      <th>LKOND_NIL</th>\n      <th>NAZWA</th>\n      <th>ZABYTEK</th>\n      <th>area</th>\n      <th>layer</th>\n      <th>path</th>\n      <th>geometry</th>\n      <th>index_right</th>\n      <th>SIMC_id</th>\n    </tr>\n  </thead>\n  <tbody>\n    <tr>\n      <th>0</th>\n      <td>2801</td>\n      <td>2C98CCB7-EB4A-AAFE-E053-CA2BA8C0B325</td>\n      <td>2020-09-25T00:00:00</td>\n      <td>PL.PZGiK.341.BDOT10k</td>\n      <td>PL.PZGIK.BDOT10k.BUBDA.28.012304</td>\n      <td>BUBD01</td>\n      <td>NaN</td>\n      <td>inapplicable</td>\n      <td>dokladny</td>\n      <td>NaN</td>\n      <td>...</td>\n      <td>2.0</td>\n      <td>NaN</td>\n      <td>NaN</td>\n      <td>Nie</td>\n      <td>85.60</td>\n      <td>PL.PZGiK.341.2801__OT_BUBD_A</td>\n      <td>C:\\studia\\pracka\\28_SHP\\28\\2801_SHP\\PL.PZGiK.3...</td>\n      <td>POLYGON ((610883.070 711181.190, 610885.070 71...</td>\n      <td>83</td>\n      <td>470332</td>\n    </tr>\n    <tr>\n      <th>135</th>\n      <td>2801</td>\n      <td>6A2F9B96-E76E-4732-82D9-5B070EDE755D</td>\n      <td>2020-11-16T00:00:00</td>\n      <td>PL.PZGiK.341.BDOT10k</td>\n      <td>ID_6A2F9B96-E76E-4732-82D9-5B070EDE755D</td>\n      <td>BUBD18</td>\n      <td>NaN</td>\n      <td>inapplicable</td>\n      <td>dokladny</td>\n      <td>NaN</td>\n      <td>...</td>\n      <td>1.0</td>\n      <td>NaN</td>\n      <td>NaN</td>\n      <td>Nie</td>\n      <td>44.61</td>\n      <td>PL.PZGiK.341.2801__OT_BUBD_A</td>\n      <td>C:\\studia\\pracka\\28_SHP\\28\\2801_SHP\\PL.PZGiK.3...</td>\n      <td>POLYGON ((611833.290 711889.240, 611837.160 71...</td>\n      <td>83</td>\n      <td>470332</td>\n    </tr>\n    <tr>\n      <th>195</th>\n      <td>2801</td>\n      <td>809473e1-9bfb-11e9-a4d3-b8ca3a7f05dc</td>\n      <td>2020-09-25T00:00:00</td>\n      <td>PL.PZGiK.341.BDOT10k</td>\n      <td>OT_BUBD_A_1561984007_43</td>\n      <td>BUBD18</td>\n      <td>NaN</td>\n      <td>inapplicable</td>\n      <td>przyblizony</td>\n      <td>NaN</td>\n      <td>...</td>\n      <td>1.0</td>\n      <td>NaN</td>\n      <td>NaN</td>\n      <td>Nie</td>\n      <td>114.15</td>\n      <td>PL.PZGiK.341.2801__OT_BUBD_A</td>\n      <td>C:\\studia\\pracka\\28_SHP\\28\\2801_SHP\\PL.PZGiK.3...</td>\n      <td>POLYGON ((611186.630 710793.390, 611193.890 71...</td>\n      <td>83</td>\n      <td>470332</td>\n    </tr>\n    <tr>\n      <th>505</th>\n      <td>2801</td>\n      <td>7b14dd53-3c61-11e9-96d2-f01faf546c5e</td>\n      <td>2020-09-25T00:00:00</td>\n      <td>PL.PZGiK.341.BDOT10k</td>\n      <td>OT_BUBD_A_1551472495_86</td>\n      <td>BUBD18</td>\n      <td>NaN</td>\n      <td>inapplicable</td>\n      <td>dokladny</td>\n      <td>NaN</td>\n      <td>...</td>\n      <td>1.0</td>\n      <td>NaN</td>\n      <td>NaN</td>\n      <td>Nie</td>\n      <td>53.13</td>\n      <td>PL.PZGiK.341.2801__OT_BUBD_A</td>\n      <td>C:\\studia\\pracka\\28_SHP\\28\\2801_SHP\\PL.PZGiK.3...</td>\n      <td>POLYGON ((611894.910 712055.640, 611896.890 71...</td>\n      <td>83</td>\n      <td>470332</td>\n    </tr>\n    <tr>\n      <th>601</th>\n      <td>2801</td>\n      <td>2C98CCB7-F8BA-AAFE-E053-CA2BA8C0B325</td>\n      <td>2020-09-25T00:00:00</td>\n      <td>PL.PZGiK.341.BDOT10k</td>\n      <td>PL.PZGIK.BDOT10k.BUBDA.28.013355</td>\n      <td>BUBD18</td>\n      <td>NaN</td>\n      <td>inapplicable</td>\n      <td>dokladny</td>\n      <td>NaN</td>\n      <td>...</td>\n      <td>1.0</td>\n      <td>NaN</td>\n      <td>NaN</td>\n      <td>Nie</td>\n      <td>44.73</td>\n      <td>PL.PZGiK.341.2801__OT_BUBD_A</td>\n      <td>C:\\studia\\pracka\\28_SHP\\28\\2801_SHP\\PL.PZGiK.3...</td>\n      <td>POLYGON ((610826.210 711047.120, 610827.520 71...</td>\n      <td>83</td>\n      <td>470332</td>\n    </tr>\n    <tr>\n      <th>...</th>\n      <td>...</td>\n      <td>...</td>\n      <td>...</td>\n      <td>...</td>\n      <td>...</td>\n      <td>...</td>\n      <td>...</td>\n      <td>...</td>\n      <td>...</td>\n      <td>...</td>\n      <td>...</td>\n      <td>...</td>\n      <td>...</td>\n      <td>...</td>\n      <td>...</td>\n      <td>...</td>\n      <td>...</td>\n      <td>...</td>\n      <td>...</td>\n      <td>...</td>\n      <td>...</td>\n    </tr>\n    <tr>\n      <th>480985</th>\n      <td>2819</td>\n      <td>311304D1-6A60-B2CD-E053-CC2BA8C0FE3A</td>\n      <td>2020-09-07T12:00:00</td>\n      <td>PL.PZGiK.341.BDOT10k</td>\n      <td>OT_BUBD_A.3817</td>\n      <td>BUBD18</td>\n      <td>NaN</td>\n      <td>inapplicable</td>\n      <td>dokladny</td>\n      <td>1.0</td>\n      <td>...</td>\n      <td>1.0</td>\n      <td>NaN</td>\n      <td>NaN</td>\n      <td>Nie</td>\n      <td>204.87</td>\n      <td>PL.PZGiK.341.2819__OT_BUBD_A</td>\n      <td>C:\\studia\\pracka\\28_SHP\\28\\2819_SHP\\PL.PZGiK.3...</td>\n      <td>POLYGON ((679715.360 719748.060, 679715.400 71...</td>\n      <td>3723</td>\n      <td>755490</td>\n    </tr>\n    <tr>\n      <th>482496</th>\n      <td>2819</td>\n      <td>311304D1-514C-B2CD-E053-CC2BA8C0FE3A</td>\n      <td>2020-09-07T12:00:00</td>\n      <td>PL.PZGiK.341.BDOT10k</td>\n      <td>OT_BUBD_A.8263</td>\n      <td>BUBD01</td>\n      <td>NaN</td>\n      <td>inapplicable</td>\n      <td>dokladny</td>\n      <td>1.0</td>\n      <td>...</td>\n      <td>1.0</td>\n      <td>NaN</td>\n      <td>NaN</td>\n      <td>Nie</td>\n      <td>122.18</td>\n      <td>PL.PZGiK.341.2819__OT_BUBD_A</td>\n      <td>C:\\studia\\pracka\\28_SHP\\28\\2819_SHP\\PL.PZGiK.3...</td>\n      <td>POLYGON ((679731.330 719578.050, 679731.370 71...</td>\n      <td>3723</td>\n      <td>755490</td>\n    </tr>\n    <tr>\n      <th>483727</th>\n      <td>2819</td>\n      <td>311304D1-5F83-B2CD-E053-CC2BA8C0FE3A</td>\n      <td>2020-09-07T12:00:00</td>\n      <td>PL.PZGiK.341.BDOT10k</td>\n      <td>OT_BUBD_A.8111</td>\n      <td>BUBD01</td>\n      <td>NaN</td>\n      <td>inapplicable</td>\n      <td>dokladny</td>\n      <td>1.0</td>\n      <td>...</td>\n      <td>1.0</td>\n      <td>NaN</td>\n      <td>NaN</td>\n      <td>Nie</td>\n      <td>184.27</td>\n      <td>PL.PZGiK.341.2819__OT_BUBD_A</td>\n      <td>C:\\studia\\pracka\\28_SHP\\28\\2819_SHP\\PL.PZGiK.3...</td>\n      <td>POLYGON ((679719.040 719771.710, 679719.110 71...</td>\n      <td>3723</td>\n      <td>755490</td>\n    </tr>\n    <tr>\n      <th>477442</th>\n      <td>2819</td>\n      <td>311304D1-64E7-B2CD-E053-CC2BA8C0FE3A</td>\n      <td>2020-09-07T12:00:00</td>\n      <td>PL.PZGiK.341.BDOT10k</td>\n      <td>OT_BUBD_A.10868</td>\n      <td>BUBD01</td>\n      <td>NaN</td>\n      <td>inapplicable</td>\n      <td>dokladny</td>\n      <td>1.0</td>\n      <td>...</td>\n      <td>1.0</td>\n      <td>NaN</td>\n      <td>NaN</td>\n      <td>Nie</td>\n      <td>127.71</td>\n      <td>PL.PZGiK.341.2819__OT_BUBD_A</td>\n      <td>C:\\studia\\pracka\\28_SHP\\28\\2819_SHP\\PL.PZGiK.3...</td>\n      <td>POLYGON ((669341.210 706815.590, 669350.670 70...</td>\n      <td>3761</td>\n      <td>771358</td>\n    </tr>\n    <tr>\n      <th>479731</th>\n      <td>2819</td>\n      <td>311304D1-65B4-B2CD-E053-CC2BA8C0FE3A</td>\n      <td>2020-09-07T12:00:00</td>\n      <td>PL.PZGiK.341.BDOT10k</td>\n      <td>OT_BUBD_A.10869</td>\n      <td>BUBD18</td>\n      <td>NaN</td>\n      <td>inapplicable</td>\n      <td>dokladny</td>\n      <td>1.0</td>\n      <td>...</td>\n      <td>1.0</td>\n      <td>NaN</td>\n      <td>NaN</td>\n      <td>Nie</td>\n      <td>175.46</td>\n      <td>PL.PZGiK.341.2819__OT_BUBD_A</td>\n      <td>C:\\studia\\pracka\\28_SHP\\28\\2819_SHP\\PL.PZGiK.3...</td>\n      <td>POLYGON ((669314.970 706818.280, 669309.650 70...</td>\n      <td>3761</td>\n      <td>771358</td>\n    </tr>\n  </tbody>\n</table>\n<p>397645 rows × 52 columns</p>\n</div>"
     },
     "execution_count": 5,
     "metadata": {},
     "output_type": "execute_result"
    }
   ],
   "source": [
    "# pogrupowanie budynków wg tego w jakiej miejscowości (granicy miejscowości się znajdują)\n",
    "budynki_grouped = gpd.sjoin(budynki, granice_temp, how='inner', op=\"within\")\n",
    "budynki_grouped.drop_duplicates(inplace=True)\n",
    "budynki_grouped"
   ],
   "metadata": {
    "collapsed": false,
    "ExecuteTime": {
     "end_time": "2023-12-31T10:36:33.564596200Z",
     "start_time": "2023-12-31T10:36:21.987281800Z"
    }
   },
   "id": "8236c5ef55dbd404"
  },
  {
   "cell_type": "code",
   "execution_count": 6,
   "outputs": [
    {
     "data": {
      "text/plain": "SIMC_id\n113419     MULTIPOLYGON (((576742.340 600926.110, 576753....\n113431     MULTIPOLYGON (((579247.390 591836.840, 579249....\n113448     MULTIPOLYGON (((576212.880 603469.120, 576212....\n113454     MULTIPOLYGON (((578129.160 615174.410, 578134....\n113460     MULTIPOLYGON (((572704.220 592411.230, 572710....\n                                 ...                        \n1063126    MULTIPOLYGON (((568038.790 682086.680, 568029....\n1064491    MULTIPOLYGON (((558071.060 719577.550, 558078....\n1064500    MULTIPOLYGON (((546468.940 721559.960, 546464....\n1064516    MULTIPOLYGON (((661486.170 641861.350, 661487....\n1067147    MULTIPOLYGON (((545328.540 719118.420, 545332....\nName: geometry, Length: 3763, dtype: geometry"
     },
     "execution_count": 6,
     "metadata": {},
     "output_type": "execute_result"
    }
   ],
   "source": [
    "# stworzenie multipoligonów odpowiadającym zabudowom konkretnych numerów miejscowości\n",
    "budynki_merged = budynki_grouped.groupby('SIMC_id')['geometry'].apply(lambda x: MultiPolygon(list(x)))\n",
    "budynki_merged"
   ],
   "metadata": {
    "collapsed": false,
    "ExecuteTime": {
     "end_time": "2023-12-31T10:36:37.246040400Z",
     "start_time": "2023-12-31T10:36:33.565597400Z"
    }
   },
   "id": "507d7b930fa7b955"
  },
  {
   "cell_type": "code",
   "execution_count": 7,
   "outputs": [
    {
     "data": {
      "text/plain": "      SIMC_id                                           geometry\n0      113419  MULTIPOLYGON (((576742.340 600926.110, 576753....\n1      113431  MULTIPOLYGON (((579247.390 591836.840, 579249....\n2      113448  MULTIPOLYGON (((576212.880 603469.120, 576212....\n3      113454  MULTIPOLYGON (((578129.160 615174.410, 578134....\n4      113460  MULTIPOLYGON (((572704.220 592411.230, 572710....\n...       ...                                                ...\n3758  1063126  MULTIPOLYGON (((568038.790 682086.680, 568029....\n3759  1064491  MULTIPOLYGON (((558071.060 719577.550, 558078....\n3760  1064500  MULTIPOLYGON (((546468.940 721559.960, 546464....\n3761  1064516  MULTIPOLYGON (((661486.170 641861.350, 661487....\n3762  1067147  MULTIPOLYGON (((545328.540 719118.420, 545332....\n\n[3763 rows x 2 columns]",
      "text/html": "<div>\n<style scoped>\n    .dataframe tbody tr th:only-of-type {\n        vertical-align: middle;\n    }\n\n    .dataframe tbody tr th {\n        vertical-align: top;\n    }\n\n    .dataframe thead th {\n        text-align: right;\n    }\n</style>\n<table border=\"1\" class=\"dataframe\">\n  <thead>\n    <tr style=\"text-align: right;\">\n      <th></th>\n      <th>SIMC_id</th>\n      <th>geometry</th>\n    </tr>\n  </thead>\n  <tbody>\n    <tr>\n      <th>0</th>\n      <td>113419</td>\n      <td>MULTIPOLYGON (((576742.340 600926.110, 576753....</td>\n    </tr>\n    <tr>\n      <th>1</th>\n      <td>113431</td>\n      <td>MULTIPOLYGON (((579247.390 591836.840, 579249....</td>\n    </tr>\n    <tr>\n      <th>2</th>\n      <td>113448</td>\n      <td>MULTIPOLYGON (((576212.880 603469.120, 576212....</td>\n    </tr>\n    <tr>\n      <th>3</th>\n      <td>113454</td>\n      <td>MULTIPOLYGON (((578129.160 615174.410, 578134....</td>\n    </tr>\n    <tr>\n      <th>4</th>\n      <td>113460</td>\n      <td>MULTIPOLYGON (((572704.220 592411.230, 572710....</td>\n    </tr>\n    <tr>\n      <th>...</th>\n      <td>...</td>\n      <td>...</td>\n    </tr>\n    <tr>\n      <th>3758</th>\n      <td>1063126</td>\n      <td>MULTIPOLYGON (((568038.790 682086.680, 568029....</td>\n    </tr>\n    <tr>\n      <th>3759</th>\n      <td>1064491</td>\n      <td>MULTIPOLYGON (((558071.060 719577.550, 558078....</td>\n    </tr>\n    <tr>\n      <th>3760</th>\n      <td>1064500</td>\n      <td>MULTIPOLYGON (((546468.940 721559.960, 546464....</td>\n    </tr>\n    <tr>\n      <th>3761</th>\n      <td>1064516</td>\n      <td>MULTIPOLYGON (((661486.170 641861.350, 661487....</td>\n    </tr>\n    <tr>\n      <th>3762</th>\n      <td>1067147</td>\n      <td>MULTIPOLYGON (((545328.540 719118.420, 545332....</td>\n    </tr>\n  </tbody>\n</table>\n<p>3763 rows × 2 columns</p>\n</div>"
     },
     "execution_count": 7,
     "metadata": {},
     "output_type": "execute_result"
    }
   ],
   "source": [
    "budynki_merged_gdf = gpd.GeoDataFrame({'SIMC_id': budynki_merged.index, 'geometry': budynki_merged.values})\n",
    "budynki_merged_gdf"
   ],
   "metadata": {
    "collapsed": false,
    "ExecuteTime": {
     "end_time": "2023-12-31T10:36:37.278040200Z",
     "start_time": "2023-12-31T10:36:37.247040500Z"
    }
   },
   "id": "719b7159e7872a2e"
  },
  {
   "cell_type": "code",
   "execution_count": 8,
   "outputs": [],
   "source": [
    "# zapis do pliku takiej warstwy pomocniczej\n",
    "# budynki_merged_gdf.to_file('28/warminskie_budynki_grouped.shp')"
   ],
   "metadata": {
    "collapsed": false,
    "ExecuteTime": {
     "end_time": "2023-12-31T10:36:37.295040100Z",
     "start_time": "2023-12-31T10:36:37.279040Z"
    }
   },
   "id": "456f6a29f628672f"
  },
  {
   "cell_type": "markdown",
   "source": [
    "ekstraktowanie cech, korzystamy na razie z warstwy poligon a nie multipoligon"
   ],
   "metadata": {
    "collapsed": false
   },
   "id": "ed8bdb3a48b16683"
  },
  {
   "cell_type": "code",
   "execution_count": 9,
   "outputs": [
    {
     "data": {
      "text/plain": "      SIMC_id  count\n0      845654   1600\n1      125061   1578\n2      486296   1243\n3      758240   1224\n4      472963   1137\n...       ...    ...\n3758   474761      1\n3759   158385      1\n3760   474040      1\n3761   471350      1\n3762   471691      1\n\n[3763 rows x 2 columns]",
      "text/html": "<div>\n<style scoped>\n    .dataframe tbody tr th:only-of-type {\n        vertical-align: middle;\n    }\n\n    .dataframe tbody tr th {\n        vertical-align: top;\n    }\n\n    .dataframe thead th {\n        text-align: right;\n    }\n</style>\n<table border=\"1\" class=\"dataframe\">\n  <thead>\n    <tr style=\"text-align: right;\">\n      <th></th>\n      <th>SIMC_id</th>\n      <th>count</th>\n    </tr>\n  </thead>\n  <tbody>\n    <tr>\n      <th>0</th>\n      <td>845654</td>\n      <td>1600</td>\n    </tr>\n    <tr>\n      <th>1</th>\n      <td>125061</td>\n      <td>1578</td>\n    </tr>\n    <tr>\n      <th>2</th>\n      <td>486296</td>\n      <td>1243</td>\n    </tr>\n    <tr>\n      <th>3</th>\n      <td>758240</td>\n      <td>1224</td>\n    </tr>\n    <tr>\n      <th>4</th>\n      <td>472963</td>\n      <td>1137</td>\n    </tr>\n    <tr>\n      <th>...</th>\n      <td>...</td>\n      <td>...</td>\n    </tr>\n    <tr>\n      <th>3758</th>\n      <td>474761</td>\n      <td>1</td>\n    </tr>\n    <tr>\n      <th>3759</th>\n      <td>158385</td>\n      <td>1</td>\n    </tr>\n    <tr>\n      <th>3760</th>\n      <td>474040</td>\n      <td>1</td>\n    </tr>\n    <tr>\n      <th>3761</th>\n      <td>471350</td>\n      <td>1</td>\n    </tr>\n    <tr>\n      <th>3762</th>\n      <td>471691</td>\n      <td>1</td>\n    </tr>\n  </tbody>\n</table>\n<p>3763 rows × 2 columns</p>\n</div>"
     },
     "execution_count": 9,
     "metadata": {},
     "output_type": "execute_result"
    }
   ],
   "source": [
    "# liczba budynków\n",
    "liczba_budynkow = budynki_grouped['SIMC_id'].value_counts().reset_index()\n",
    "liczba_budynkow"
   ],
   "metadata": {
    "collapsed": false,
    "ExecuteTime": {
     "end_time": "2023-12-31T10:36:37.399057800Z",
     "start_time": "2023-12-31T10:36:37.296041800Z"
    }
   },
   "id": "c7318e1e31560e20"
  },
  {
   "cell_type": "code",
   "execution_count": 10,
   "outputs": [
    {
     "data": {
      "text/plain": "      SIMC_id      area\n0      113419  83569.42\n1      113431   3383.35\n2      113448  30639.25\n3      113454  17698.85\n4      113460   5193.56\n...       ...       ...\n3758  1063126   1601.74\n3759  1064491  16319.27\n3760  1064500    311.89\n3761  1064516    430.60\n3762  1067147    449.97\n\n[3763 rows x 2 columns]",
      "text/html": "<div>\n<style scoped>\n    .dataframe tbody tr th:only-of-type {\n        vertical-align: middle;\n    }\n\n    .dataframe tbody tr th {\n        vertical-align: top;\n    }\n\n    .dataframe thead th {\n        text-align: right;\n    }\n</style>\n<table border=\"1\" class=\"dataframe\">\n  <thead>\n    <tr style=\"text-align: right;\">\n      <th></th>\n      <th>SIMC_id</th>\n      <th>area</th>\n    </tr>\n  </thead>\n  <tbody>\n    <tr>\n      <th>0</th>\n      <td>113419</td>\n      <td>83569.42</td>\n    </tr>\n    <tr>\n      <th>1</th>\n      <td>113431</td>\n      <td>3383.35</td>\n    </tr>\n    <tr>\n      <th>2</th>\n      <td>113448</td>\n      <td>30639.25</td>\n    </tr>\n    <tr>\n      <th>3</th>\n      <td>113454</td>\n      <td>17698.85</td>\n    </tr>\n    <tr>\n      <th>4</th>\n      <td>113460</td>\n      <td>5193.56</td>\n    </tr>\n    <tr>\n      <th>...</th>\n      <td>...</td>\n      <td>...</td>\n    </tr>\n    <tr>\n      <th>3758</th>\n      <td>1063126</td>\n      <td>1601.74</td>\n    </tr>\n    <tr>\n      <th>3759</th>\n      <td>1064491</td>\n      <td>16319.27</td>\n    </tr>\n    <tr>\n      <th>3760</th>\n      <td>1064500</td>\n      <td>311.89</td>\n    </tr>\n    <tr>\n      <th>3761</th>\n      <td>1064516</td>\n      <td>430.60</td>\n    </tr>\n    <tr>\n      <th>3762</th>\n      <td>1067147</td>\n      <td>449.97</td>\n    </tr>\n  </tbody>\n</table>\n<p>3763 rows × 2 columns</p>\n</div>"
     },
     "execution_count": 10,
     "metadata": {},
     "output_type": "execute_result"
    }
   ],
   "source": [
    "# łączna powierzchnia zabudowy\n",
    "powierzchnia_budynkow = budynki_grouped.groupby('SIMC_id')['area'].sum().reset_index()\n",
    "powierzchnia_budynkow"
   ],
   "metadata": {
    "collapsed": false,
    "ExecuteTime": {
     "end_time": "2023-12-31T10:36:37.476038700Z",
     "start_time": "2023-12-31T10:36:37.326040500Z"
    }
   },
   "id": "1b534e35ddf86a68"
  },
  {
   "cell_type": "code",
   "execution_count": 11,
   "outputs": [
    {
     "data": {
      "text/plain": "      SIMC_id     LKOND\n0      113419  1.583784\n1      113431  1.250000\n2      113448  1.606987\n3      113454  1.278351\n4      113460  1.145833\n...       ...       ...\n3758  1063126  1.636364\n3759  1064491  1.423077\n3760  1064500  1.333333\n3761  1064516  1.428571\n3762  1067147  1.000000\n\n[3763 rows x 2 columns]",
      "text/html": "<div>\n<style scoped>\n    .dataframe tbody tr th:only-of-type {\n        vertical-align: middle;\n    }\n\n    .dataframe tbody tr th {\n        vertical-align: top;\n    }\n\n    .dataframe thead th {\n        text-align: right;\n    }\n</style>\n<table border=\"1\" class=\"dataframe\">\n  <thead>\n    <tr style=\"text-align: right;\">\n      <th></th>\n      <th>SIMC_id</th>\n      <th>LKOND</th>\n    </tr>\n  </thead>\n  <tbody>\n    <tr>\n      <th>0</th>\n      <td>113419</td>\n      <td>1.583784</td>\n    </tr>\n    <tr>\n      <th>1</th>\n      <td>113431</td>\n      <td>1.250000</td>\n    </tr>\n    <tr>\n      <th>2</th>\n      <td>113448</td>\n      <td>1.606987</td>\n    </tr>\n    <tr>\n      <th>3</th>\n      <td>113454</td>\n      <td>1.278351</td>\n    </tr>\n    <tr>\n      <th>4</th>\n      <td>113460</td>\n      <td>1.145833</td>\n    </tr>\n    <tr>\n      <th>...</th>\n      <td>...</td>\n      <td>...</td>\n    </tr>\n    <tr>\n      <th>3758</th>\n      <td>1063126</td>\n      <td>1.636364</td>\n    </tr>\n    <tr>\n      <th>3759</th>\n      <td>1064491</td>\n      <td>1.423077</td>\n    </tr>\n    <tr>\n      <th>3760</th>\n      <td>1064500</td>\n      <td>1.333333</td>\n    </tr>\n    <tr>\n      <th>3761</th>\n      <td>1064516</td>\n      <td>1.428571</td>\n    </tr>\n    <tr>\n      <th>3762</th>\n      <td>1067147</td>\n      <td>1.000000</td>\n    </tr>\n  </tbody>\n</table>\n<p>3763 rows × 2 columns</p>\n</div>"
     },
     "execution_count": 11,
     "metadata": {},
     "output_type": "execute_result"
    }
   ],
   "source": [
    "# średnia liczba kondygnacji\n",
    "srednia_liczba_kondygnacji = budynki_grouped.groupby('SIMC_id')['LKOND'].mean().reset_index()\n",
    "srednia_liczba_kondygnacji"
   ],
   "metadata": {
    "collapsed": false,
    "ExecuteTime": {
     "end_time": "2023-12-31T10:36:37.492040100Z",
     "start_time": "2023-12-31T10:36:37.358039300Z"
    }
   },
   "id": "c982f970fabbf200"
  },
  {
   "cell_type": "code",
   "execution_count": 12,
   "outputs": [
    {
     "data": {
      "text/plain": "array(['budynkiMieszkalneJednorodzinne', 'budynekGospodarstwaRolnego',\n       'budynkiOTrzechIWiecejMieszkaniach', 'budynkiGarazy',\n       'budynkiSzkolIInstytucjiBadawczych', 'budynkiHandlowoUslugowe',\n       'zbiornikSilosIBudynkiMagazynowe', 'budynkiPrzemyslowe',\n       'budynkiKultuReligijnego',\n       'budynkiSzpitaliIZakladowOpiekiMedycznej',\n       'budynkiZbiorowegoZamieszkania', 'pozostaleBudynkiNiemieszkalne',\n       'budynkiBiurowe', 'ogolnodostepneObiektyKulturalne',\n       'budynkiMuzeowIBibliotek', 'budynkiHoteli',\n       'budynkiLacznosciDworcowITerminali', 'budynkiKulturyFizycznej',\n       'budynkiODwochMieszkaniach',\n       'budynkiZakwaterowaniaTurystycznegoPozostale', 'budynekZabytkowy'],\n      dtype=object)"
     },
     "execution_count": 12,
     "metadata": {},
     "output_type": "execute_result"
    }
   ],
   "source": [
    "# informacyjne wyświetlenie jakie są typy budynków\n",
    "budynki_grouped['FUNOGBUD'].unique()"
   ],
   "metadata": {
    "collapsed": false,
    "ExecuteTime": {
     "end_time": "2023-12-31T10:36:37.554056700Z",
     "start_time": "2023-12-31T10:36:37.387038600Z"
    }
   },
   "id": "4e2c1ebaf10e0364"
  },
  {
   "cell_type": "markdown",
   "source": [
    "cechy związane z licznością konkretnych typów budynków"
   ],
   "metadata": {
    "collapsed": false
   },
   "id": "83dd157c877c1a3f"
  },
  {
   "cell_type": "code",
   "execution_count": 13,
   "outputs": [
    {
     "data": {
      "text/plain": "       SIMC_id                        FUNOGBUD  Liczba\n0       113419      budynekGospodarstwaRolnego     146\n1       113419                  budynkiBiurowe       3\n2       113419                   budynkiGarazy       1\n3       113419         budynkiHandlowoUslugowe       2\n4       113419                   budynkiHoteli       1\n...        ...                             ...     ...\n17609  1064500  budynkiMieszkalneJednorodzinne       1\n17610  1064516      budynekGospodarstwaRolnego       5\n17611  1064516  budynkiMieszkalneJednorodzinne       2\n17612  1067147      budynekGospodarstwaRolnego       1\n17613  1067147  budynkiMieszkalneJednorodzinne       4\n\n[17614 rows x 3 columns]",
      "text/html": "<div>\n<style scoped>\n    .dataframe tbody tr th:only-of-type {\n        vertical-align: middle;\n    }\n\n    .dataframe tbody tr th {\n        vertical-align: top;\n    }\n\n    .dataframe thead th {\n        text-align: right;\n    }\n</style>\n<table border=\"1\" class=\"dataframe\">\n  <thead>\n    <tr style=\"text-align: right;\">\n      <th></th>\n      <th>SIMC_id</th>\n      <th>FUNOGBUD</th>\n      <th>Liczba</th>\n    </tr>\n  </thead>\n  <tbody>\n    <tr>\n      <th>0</th>\n      <td>113419</td>\n      <td>budynekGospodarstwaRolnego</td>\n      <td>146</td>\n    </tr>\n    <tr>\n      <th>1</th>\n      <td>113419</td>\n      <td>budynkiBiurowe</td>\n      <td>3</td>\n    </tr>\n    <tr>\n      <th>2</th>\n      <td>113419</td>\n      <td>budynkiGarazy</td>\n      <td>1</td>\n    </tr>\n    <tr>\n      <th>3</th>\n      <td>113419</td>\n      <td>budynkiHandlowoUslugowe</td>\n      <td>2</td>\n    </tr>\n    <tr>\n      <th>4</th>\n      <td>113419</td>\n      <td>budynkiHoteli</td>\n      <td>1</td>\n    </tr>\n    <tr>\n      <th>...</th>\n      <td>...</td>\n      <td>...</td>\n      <td>...</td>\n    </tr>\n    <tr>\n      <th>17609</th>\n      <td>1064500</td>\n      <td>budynkiMieszkalneJednorodzinne</td>\n      <td>1</td>\n    </tr>\n    <tr>\n      <th>17610</th>\n      <td>1064516</td>\n      <td>budynekGospodarstwaRolnego</td>\n      <td>5</td>\n    </tr>\n    <tr>\n      <th>17611</th>\n      <td>1064516</td>\n      <td>budynkiMieszkalneJednorodzinne</td>\n      <td>2</td>\n    </tr>\n    <tr>\n      <th>17612</th>\n      <td>1067147</td>\n      <td>budynekGospodarstwaRolnego</td>\n      <td>1</td>\n    </tr>\n    <tr>\n      <th>17613</th>\n      <td>1067147</td>\n      <td>budynkiMieszkalneJednorodzinne</td>\n      <td>4</td>\n    </tr>\n  </tbody>\n</table>\n<p>17614 rows × 3 columns</p>\n</div>"
     },
     "execution_count": 13,
     "metadata": {},
     "output_type": "execute_result"
    }
   ],
   "source": [
    "rodzaje = budynki_grouped.groupby(['SIMC_id', 'FUNOGBUD']).size().reset_index(name='Liczba')\n",
    "rodzaje"
   ],
   "metadata": {
    "collapsed": false,
    "ExecuteTime": {
     "end_time": "2023-12-31T10:36:37.682066100Z",
     "start_time": "2023-12-31T10:36:37.496040400Z"
    }
   },
   "id": "295f18de1c78ce48"
  },
  {
   "cell_type": "code",
   "execution_count": 14,
   "outputs": [
    {
     "data": {
      "text/plain": "FUNOGBUD  SIMC_id  budynekGospodarstwaRolnego  budynekZabytkowy  \\\n0          113419                         146                 0   \n1          113431                           7                 0   \n2          113448                         104                 0   \n3          113454                          59                 0   \n4          113460                          30                 0   \n...           ...                         ...               ...   \n3758      1063126                           7                 0   \n3759      1064491                          29                 0   \n3760      1064500                           2                 0   \n3761      1064516                           5                 0   \n3762      1067147                           1                 0   \n\nFUNOGBUD  budynkiBiurowe  budynkiGarazy  budynkiHandlowoUslugowe  \\\n0                      3              1                        2   \n1                      0              0                        0   \n2                      2              0                        2   \n3                      1              1                        0   \n4                      0              0                        0   \n...                  ...            ...                      ...   \n3758                   0              0                        0   \n3759                   0              0                        0   \n3760                   0              0                        0   \n3761                   0              0                        0   \n3762                   0              0                        0   \n\nFUNOGBUD  budynkiHoteli  budynkiKultuReligijnego  budynkiKulturyFizycznej  \\\n0                     1                        1                        0   \n1                     0                        0                        0   \n2                     0                        0                        0   \n3                     0                        0                        0   \n4                     0                        0                        0   \n...                 ...                      ...                      ...   \n3758                  0                        0                        0   \n3759                  0                        0                        0   \n3760                  0                        0                        0   \n3761                  0                        0                        0   \n3762                  0                        0                        0   \n\nFUNOGBUD  budynkiLacznosciDworcowITerminali  ...  budynkiODwochMieszkaniach  \\\n0                                         0  ...                          0   \n1                                         0  ...                          0   \n2                                         0  ...                          0   \n3                                         0  ...                          2   \n4                                         0  ...                          0   \n...                                     ...  ...                        ...   \n3758                                      0  ...                          0   \n3759                                      0  ...                          1   \n3760                                      0  ...                          0   \n3761                                      0  ...                          0   \n3762                                      0  ...                          0   \n\nFUNOGBUD  budynkiOTrzechIWiecejMieszkaniach  budynkiPrzemyslowe  \\\n0                                         2                  12   \n1                                         2                   0   \n2                                         0                   3   \n3                                         5                   0   \n4                                         0                   0   \n...                                     ...                 ...   \n3758                                      0                   0   \n3759                                      1                   0   \n3760                                      0                   0   \n3761                                      0                   0   \n3762                                      0                   0   \n\nFUNOGBUD  budynkiSzkolIInstytucjiBadawczych  \\\n0                                         3   \n1                                         0   \n2                                         0   \n3                                         0   \n4                                         0   \n...                                     ...   \n3758                                      0   \n3759                                      0   \n3760                                      0   \n3761                                      0   \n3762                                      0   \n\nFUNOGBUD  budynkiSzpitaliIZakladowOpiekiMedycznej  \\\n0                                               0   \n1                                               0   \n2                                               0   \n3                                               0   \n4                                               0   \n...                                           ...   \n3758                                            0   \n3759                                            0   \n3760                                            0   \n3761                                            0   \n3762                                            0   \n\nFUNOGBUD  budynkiZakwaterowaniaTurystycznegoPozostale  \\\n0                                                   0   \n1                                                   0   \n2                                                   0   \n3                                                   0   \n4                                                   0   \n...                                               ...   \n3758                                                0   \n3759                                                0   \n3760                                                0   \n3761                                                0   \n3762                                                0   \n\nFUNOGBUD  budynkiZbiorowegoZamieszkania  ogolnodostepneObiektyKulturalne  \\\n0                                     1                                0   \n1                                     0                                0   \n2                                     0                                0   \n3                                     0                                1   \n4                                     0                                0   \n...                                 ...                              ...   \n3758                                  0                                0   \n3759                                  0                                0   \n3760                                  0                                0   \n3761                                  0                                0   \n3762                                  0                                0   \n\nFUNOGBUD  pozostaleBudynkiNiemieszkalne  zbiornikSilosIBudynkiMagazynowe  \n0                                     1                               14  \n1                                     0                                0  \n2                                     0                                0  \n3                                     1                                2  \n4                                     0                                0  \n...                                 ...                              ...  \n3758                                  0                                0  \n3759                                  2                                0  \n3760                                  0                                0  \n3761                                  0                                0  \n3762                                  0                                0  \n\n[3763 rows x 22 columns]",
      "text/html": "<div>\n<style scoped>\n    .dataframe tbody tr th:only-of-type {\n        vertical-align: middle;\n    }\n\n    .dataframe tbody tr th {\n        vertical-align: top;\n    }\n\n    .dataframe thead th {\n        text-align: right;\n    }\n</style>\n<table border=\"1\" class=\"dataframe\">\n  <thead>\n    <tr style=\"text-align: right;\">\n      <th>FUNOGBUD</th>\n      <th>SIMC_id</th>\n      <th>budynekGospodarstwaRolnego</th>\n      <th>budynekZabytkowy</th>\n      <th>budynkiBiurowe</th>\n      <th>budynkiGarazy</th>\n      <th>budynkiHandlowoUslugowe</th>\n      <th>budynkiHoteli</th>\n      <th>budynkiKultuReligijnego</th>\n      <th>budynkiKulturyFizycznej</th>\n      <th>budynkiLacznosciDworcowITerminali</th>\n      <th>...</th>\n      <th>budynkiODwochMieszkaniach</th>\n      <th>budynkiOTrzechIWiecejMieszkaniach</th>\n      <th>budynkiPrzemyslowe</th>\n      <th>budynkiSzkolIInstytucjiBadawczych</th>\n      <th>budynkiSzpitaliIZakladowOpiekiMedycznej</th>\n      <th>budynkiZakwaterowaniaTurystycznegoPozostale</th>\n      <th>budynkiZbiorowegoZamieszkania</th>\n      <th>ogolnodostepneObiektyKulturalne</th>\n      <th>pozostaleBudynkiNiemieszkalne</th>\n      <th>zbiornikSilosIBudynkiMagazynowe</th>\n    </tr>\n  </thead>\n  <tbody>\n    <tr>\n      <th>0</th>\n      <td>113419</td>\n      <td>146</td>\n      <td>0</td>\n      <td>3</td>\n      <td>1</td>\n      <td>2</td>\n      <td>1</td>\n      <td>1</td>\n      <td>0</td>\n      <td>0</td>\n      <td>...</td>\n      <td>0</td>\n      <td>2</td>\n      <td>12</td>\n      <td>3</td>\n      <td>0</td>\n      <td>0</td>\n      <td>1</td>\n      <td>0</td>\n      <td>1</td>\n      <td>14</td>\n    </tr>\n    <tr>\n      <th>1</th>\n      <td>113431</td>\n      <td>7</td>\n      <td>0</td>\n      <td>0</td>\n      <td>0</td>\n      <td>0</td>\n      <td>0</td>\n      <td>0</td>\n      <td>0</td>\n      <td>0</td>\n      <td>...</td>\n      <td>0</td>\n      <td>2</td>\n      <td>0</td>\n      <td>0</td>\n      <td>0</td>\n      <td>0</td>\n      <td>0</td>\n      <td>0</td>\n      <td>0</td>\n      <td>0</td>\n    </tr>\n    <tr>\n      <th>2</th>\n      <td>113448</td>\n      <td>104</td>\n      <td>0</td>\n      <td>2</td>\n      <td>0</td>\n      <td>2</td>\n      <td>0</td>\n      <td>0</td>\n      <td>0</td>\n      <td>0</td>\n      <td>...</td>\n      <td>0</td>\n      <td>0</td>\n      <td>3</td>\n      <td>0</td>\n      <td>0</td>\n      <td>0</td>\n      <td>0</td>\n      <td>0</td>\n      <td>0</td>\n      <td>0</td>\n    </tr>\n    <tr>\n      <th>3</th>\n      <td>113454</td>\n      <td>59</td>\n      <td>0</td>\n      <td>1</td>\n      <td>1</td>\n      <td>0</td>\n      <td>0</td>\n      <td>0</td>\n      <td>0</td>\n      <td>0</td>\n      <td>...</td>\n      <td>2</td>\n      <td>5</td>\n      <td>0</td>\n      <td>0</td>\n      <td>0</td>\n      <td>0</td>\n      <td>0</td>\n      <td>1</td>\n      <td>1</td>\n      <td>2</td>\n    </tr>\n    <tr>\n      <th>4</th>\n      <td>113460</td>\n      <td>30</td>\n      <td>0</td>\n      <td>0</td>\n      <td>0</td>\n      <td>0</td>\n      <td>0</td>\n      <td>0</td>\n      <td>0</td>\n      <td>0</td>\n      <td>...</td>\n      <td>0</td>\n      <td>0</td>\n      <td>0</td>\n      <td>0</td>\n      <td>0</td>\n      <td>0</td>\n      <td>0</td>\n      <td>0</td>\n      <td>0</td>\n      <td>0</td>\n    </tr>\n    <tr>\n      <th>...</th>\n      <td>...</td>\n      <td>...</td>\n      <td>...</td>\n      <td>...</td>\n      <td>...</td>\n      <td>...</td>\n      <td>...</td>\n      <td>...</td>\n      <td>...</td>\n      <td>...</td>\n      <td>...</td>\n      <td>...</td>\n      <td>...</td>\n      <td>...</td>\n      <td>...</td>\n      <td>...</td>\n      <td>...</td>\n      <td>...</td>\n      <td>...</td>\n      <td>...</td>\n      <td>...</td>\n    </tr>\n    <tr>\n      <th>3758</th>\n      <td>1063126</td>\n      <td>7</td>\n      <td>0</td>\n      <td>0</td>\n      <td>0</td>\n      <td>0</td>\n      <td>0</td>\n      <td>0</td>\n      <td>0</td>\n      <td>0</td>\n      <td>...</td>\n      <td>0</td>\n      <td>0</td>\n      <td>0</td>\n      <td>0</td>\n      <td>0</td>\n      <td>0</td>\n      <td>0</td>\n      <td>0</td>\n      <td>0</td>\n      <td>0</td>\n    </tr>\n    <tr>\n      <th>3759</th>\n      <td>1064491</td>\n      <td>29</td>\n      <td>0</td>\n      <td>0</td>\n      <td>0</td>\n      <td>0</td>\n      <td>0</td>\n      <td>0</td>\n      <td>0</td>\n      <td>0</td>\n      <td>...</td>\n      <td>1</td>\n      <td>1</td>\n      <td>0</td>\n      <td>0</td>\n      <td>0</td>\n      <td>0</td>\n      <td>0</td>\n      <td>0</td>\n      <td>2</td>\n      <td>0</td>\n    </tr>\n    <tr>\n      <th>3760</th>\n      <td>1064500</td>\n      <td>2</td>\n      <td>0</td>\n      <td>0</td>\n      <td>0</td>\n      <td>0</td>\n      <td>0</td>\n      <td>0</td>\n      <td>0</td>\n      <td>0</td>\n      <td>...</td>\n      <td>0</td>\n      <td>0</td>\n      <td>0</td>\n      <td>0</td>\n      <td>0</td>\n      <td>0</td>\n      <td>0</td>\n      <td>0</td>\n      <td>0</td>\n      <td>0</td>\n    </tr>\n    <tr>\n      <th>3761</th>\n      <td>1064516</td>\n      <td>5</td>\n      <td>0</td>\n      <td>0</td>\n      <td>0</td>\n      <td>0</td>\n      <td>0</td>\n      <td>0</td>\n      <td>0</td>\n      <td>0</td>\n      <td>...</td>\n      <td>0</td>\n      <td>0</td>\n      <td>0</td>\n      <td>0</td>\n      <td>0</td>\n      <td>0</td>\n      <td>0</td>\n      <td>0</td>\n      <td>0</td>\n      <td>0</td>\n    </tr>\n    <tr>\n      <th>3762</th>\n      <td>1067147</td>\n      <td>1</td>\n      <td>0</td>\n      <td>0</td>\n      <td>0</td>\n      <td>0</td>\n      <td>0</td>\n      <td>0</td>\n      <td>0</td>\n      <td>0</td>\n      <td>...</td>\n      <td>0</td>\n      <td>0</td>\n      <td>0</td>\n      <td>0</td>\n      <td>0</td>\n      <td>0</td>\n      <td>0</td>\n      <td>0</td>\n      <td>0</td>\n      <td>0</td>\n    </tr>\n  </tbody>\n</table>\n<p>3763 rows × 22 columns</p>\n</div>"
     },
     "execution_count": 14,
     "metadata": {},
     "output_type": "execute_result"
    }
   ],
   "source": [
    "# zliczenie ile jest jakiego rodzaju budynku dla poszczególnych numerów miejscowości\n",
    "rodzaje_budynkow = rodzaje.pivot(index='SIMC_id', columns='FUNOGBUD', values='Liczba').reset_index()\n",
    "rodzaje_budynkow = rodzaje_budynkow.fillna(0).astype('Int64')\n",
    "rodzaje_budynkow"
   ],
   "metadata": {
    "collapsed": false,
    "ExecuteTime": {
     "end_time": "2023-12-31T10:36:37.683039Z",
     "start_time": "2023-12-31T10:36:37.634040700Z"
    }
   },
   "id": "3869231ef349cf45"
  },
  {
   "cell_type": "markdown",
   "source": [
    "ekstraktowanie cech związanych ze stopniem rozproszenia zabudowy"
   ],
   "metadata": {
    "collapsed": false
   },
   "id": "e14e8afb3bdc81f5"
  },
  {
   "cell_type": "code",
   "execution_count": 15,
   "outputs": [
    {
     "data": {
      "text/plain": "        SIMC_id                       geometry\n0        470332  POINT (610888.185 711185.365)\n135      470332  POINT (611831.296 711887.857)\n195      470332  POINT (611188.875 710785.120)\n505      470332  POINT (611900.072 712057.030)\n601      470332  POINT (610829.915 711050.100)\n...         ...                            ...\n480985   755490  POINT (679710.232 719738.188)\n482496   755490  POINT (679723.814 719573.960)\n483727   755490  POINT (679707.597 719767.593)\n477442   771358  POINT (669342.878 706807.736)\n479731   771358  POINT (669319.528 706831.758)\n\n[397645 rows x 2 columns]",
      "text/html": "<div>\n<style scoped>\n    .dataframe tbody tr th:only-of-type {\n        vertical-align: middle;\n    }\n\n    .dataframe tbody tr th {\n        vertical-align: top;\n    }\n\n    .dataframe thead th {\n        text-align: right;\n    }\n</style>\n<table border=\"1\" class=\"dataframe\">\n  <thead>\n    <tr style=\"text-align: right;\">\n      <th></th>\n      <th>SIMC_id</th>\n      <th>geometry</th>\n    </tr>\n  </thead>\n  <tbody>\n    <tr>\n      <th>0</th>\n      <td>470332</td>\n      <td>POINT (610888.185 711185.365)</td>\n    </tr>\n    <tr>\n      <th>135</th>\n      <td>470332</td>\n      <td>POINT (611831.296 711887.857)</td>\n    </tr>\n    <tr>\n      <th>195</th>\n      <td>470332</td>\n      <td>POINT (611188.875 710785.120)</td>\n    </tr>\n    <tr>\n      <th>505</th>\n      <td>470332</td>\n      <td>POINT (611900.072 712057.030)</td>\n    </tr>\n    <tr>\n      <th>601</th>\n      <td>470332</td>\n      <td>POINT (610829.915 711050.100)</td>\n    </tr>\n    <tr>\n      <th>...</th>\n      <td>...</td>\n      <td>...</td>\n    </tr>\n    <tr>\n      <th>480985</th>\n      <td>755490</td>\n      <td>POINT (679710.232 719738.188)</td>\n    </tr>\n    <tr>\n      <th>482496</th>\n      <td>755490</td>\n      <td>POINT (679723.814 719573.960)</td>\n    </tr>\n    <tr>\n      <th>483727</th>\n      <td>755490</td>\n      <td>POINT (679707.597 719767.593)</td>\n    </tr>\n    <tr>\n      <th>477442</th>\n      <td>771358</td>\n      <td>POINT (669342.878 706807.736)</td>\n    </tr>\n    <tr>\n      <th>479731</th>\n      <td>771358</td>\n      <td>POINT (669319.528 706831.758)</td>\n    </tr>\n  </tbody>\n</table>\n<p>397645 rows × 2 columns</p>\n</div>"
     },
     "execution_count": 15,
     "metadata": {},
     "output_type": "execute_result"
    }
   ],
   "source": [
    "# zamiana warstwy budynków z poligonowej na punktową - z pomocą centroidu poligonu\n",
    "centroidy_budynkow = gpd.GeoDataFrame(data=budynki_grouped['SIMC_id'], geometry=budynki_grouped.centroid, crs=budynki_grouped.crs)\n",
    "centroidy_budynkow"
   ],
   "metadata": {
    "collapsed": false,
    "ExecuteTime": {
     "end_time": "2023-12-31T10:40:08.276666200Z",
     "start_time": "2023-12-31T10:40:07.228251400Z"
    }
   },
   "id": "c8013bdad2ae0be0"
  },
  {
   "cell_type": "code",
   "execution_count": 16,
   "outputs": [],
   "source": [
    "# centroidy= centroidy_budynkow.groupby('SIMC_id')['geometry'].apply(lambda x: list(x))\n",
    "# centroidy"
   ],
   "metadata": {
    "collapsed": false,
    "ExecuteTime": {
     "end_time": "2023-12-31T10:40:11.292325100Z",
     "start_time": "2023-12-31T10:40:11.277268800Z"
    }
   },
   "id": "5c86ccf53b400944"
  },
  {
   "cell_type": "code",
   "execution_count": 17,
   "outputs": [
    {
     "data": {
      "text/plain": "      SIMC_id                                           geometry\n0      113419  MULTIPOINT (576747.864 600922.497, 576250.830 ...\n1      113431  MULTIPOINT (579243.851 591835.299, 579323.945 ...\n2      113448  MULTIPOINT (576205.658 603460.988, 576414.485 ...\n3      113454  MULTIPOINT (578127.475 615167.425, 578472.345 ...\n4      113460  MULTIPOINT (572707.255 592407.690, 572380.073 ...\n...       ...                                                ...\n3758  1063126  MULTIPOINT (568032.098 682087.088, 567972.906 ...\n3759  1064491  MULTIPOINT (558076.015 719575.405, 558264.175 ...\n3760  1064500  MULTIPOINT (546469.207 721565.172, 546309.944 ...\n3761  1064516  MULTIPOINT (661485.062 641856.202, 661471.834 ...\n3762  1067147  MULTIPOINT (545332.150 719114.135, 545241.292 ...\n\n[3763 rows x 2 columns]",
      "text/html": "<div>\n<style scoped>\n    .dataframe tbody tr th:only-of-type {\n        vertical-align: middle;\n    }\n\n    .dataframe tbody tr th {\n        vertical-align: top;\n    }\n\n    .dataframe thead th {\n        text-align: right;\n    }\n</style>\n<table border=\"1\" class=\"dataframe\">\n  <thead>\n    <tr style=\"text-align: right;\">\n      <th></th>\n      <th>SIMC_id</th>\n      <th>geometry</th>\n    </tr>\n  </thead>\n  <tbody>\n    <tr>\n      <th>0</th>\n      <td>113419</td>\n      <td>MULTIPOINT (576747.864 600922.497, 576250.830 ...</td>\n    </tr>\n    <tr>\n      <th>1</th>\n      <td>113431</td>\n      <td>MULTIPOINT (579243.851 591835.299, 579323.945 ...</td>\n    </tr>\n    <tr>\n      <th>2</th>\n      <td>113448</td>\n      <td>MULTIPOINT (576205.658 603460.988, 576414.485 ...</td>\n    </tr>\n    <tr>\n      <th>3</th>\n      <td>113454</td>\n      <td>MULTIPOINT (578127.475 615167.425, 578472.345 ...</td>\n    </tr>\n    <tr>\n      <th>4</th>\n      <td>113460</td>\n      <td>MULTIPOINT (572707.255 592407.690, 572380.073 ...</td>\n    </tr>\n    <tr>\n      <th>...</th>\n      <td>...</td>\n      <td>...</td>\n    </tr>\n    <tr>\n      <th>3758</th>\n      <td>1063126</td>\n      <td>MULTIPOINT (568032.098 682087.088, 567972.906 ...</td>\n    </tr>\n    <tr>\n      <th>3759</th>\n      <td>1064491</td>\n      <td>MULTIPOINT (558076.015 719575.405, 558264.175 ...</td>\n    </tr>\n    <tr>\n      <th>3760</th>\n      <td>1064500</td>\n      <td>MULTIPOINT (546469.207 721565.172, 546309.944 ...</td>\n    </tr>\n    <tr>\n      <th>3761</th>\n      <td>1064516</td>\n      <td>MULTIPOINT (661485.062 641856.202, 661471.834 ...</td>\n    </tr>\n    <tr>\n      <th>3762</th>\n      <td>1067147</td>\n      <td>MULTIPOINT (545332.150 719114.135, 545241.292 ...</td>\n    </tr>\n  </tbody>\n</table>\n<p>3763 rows × 2 columns</p>\n</div>"
     },
     "execution_count": 17,
     "metadata": {},
     "output_type": "execute_result"
    }
   ],
   "source": [
    "# zamiana na multipoint\n",
    "centroidy_merged = centroidy_budynkow.groupby('SIMC_id')['geometry'].apply(lambda x: MultiPoint(list(x))).reset_index()\n",
    "centroidy_merged"
   ],
   "metadata": {
    "collapsed": false,
    "ExecuteTime": {
     "end_time": "2023-12-31T10:40:17.296357700Z",
     "start_time": "2023-12-31T10:40:15.165024100Z"
    }
   },
   "id": "b77be0e165407366"
  },
  {
   "cell_type": "markdown",
   "source": [
    "nna index - indeks analizy najbliższego sąsiada"
   ],
   "metadata": {
    "collapsed": false
   },
   "id": "e36f70424aa7a8a8"
  },
  {
   "cell_type": "code",
   "execution_count": 30,
   "outputs": [
    {
     "data": {
      "text/plain": "      SIMC_id                                           geometry         area\n0      113419  MULTIPOINT (576747.864 600922.497, 576250.830 ...  10911430.41\n1      113431  MULTIPOINT (579243.851 591835.299, 579323.945 ...   3102380.56\n2      113448  MULTIPOINT (576205.658 603460.988, 576414.485 ...  11637916.16\n3      113454  MULTIPOINT (578127.475 615167.425, 578472.345 ...   6158587.19\n4      113460  MULTIPOINT (572707.255 592407.690, 572380.073 ...   1709945.42\n...       ...                                                ...          ...\n3767  1063126  MULTIPOINT (568032.098 682087.088, 567972.906 ...    860289.77\n3768  1064491  MULTIPOINT (558076.015 719575.405, 558264.175 ...    205270.34\n3769  1064500  MULTIPOINT (546469.207 721565.172, 546309.944 ...     38286.56\n3770  1064516  MULTIPOINT (661485.062 641856.202, 661471.834 ...   5173336.90\n3771  1067147  MULTIPOINT (545332.150 719114.135, 545241.292 ...    607350.95\n\n[3763 rows x 3 columns]",
      "text/html": "<div>\n<style scoped>\n    .dataframe tbody tr th:only-of-type {\n        vertical-align: middle;\n    }\n\n    .dataframe tbody tr th {\n        vertical-align: top;\n    }\n\n    .dataframe thead th {\n        text-align: right;\n    }\n</style>\n<table border=\"1\" class=\"dataframe\">\n  <thead>\n    <tr style=\"text-align: right;\">\n      <th></th>\n      <th>SIMC_id</th>\n      <th>geometry</th>\n      <th>area</th>\n    </tr>\n  </thead>\n  <tbody>\n    <tr>\n      <th>0</th>\n      <td>113419</td>\n      <td>MULTIPOINT (576747.864 600922.497, 576250.830 ...</td>\n      <td>10911430.41</td>\n    </tr>\n    <tr>\n      <th>1</th>\n      <td>113431</td>\n      <td>MULTIPOINT (579243.851 591835.299, 579323.945 ...</td>\n      <td>3102380.56</td>\n    </tr>\n    <tr>\n      <th>2</th>\n      <td>113448</td>\n      <td>MULTIPOINT (576205.658 603460.988, 576414.485 ...</td>\n      <td>11637916.16</td>\n    </tr>\n    <tr>\n      <th>3</th>\n      <td>113454</td>\n      <td>MULTIPOINT (578127.475 615167.425, 578472.345 ...</td>\n      <td>6158587.19</td>\n    </tr>\n    <tr>\n      <th>4</th>\n      <td>113460</td>\n      <td>MULTIPOINT (572707.255 592407.690, 572380.073 ...</td>\n      <td>1709945.42</td>\n    </tr>\n    <tr>\n      <th>...</th>\n      <td>...</td>\n      <td>...</td>\n      <td>...</td>\n    </tr>\n    <tr>\n      <th>3767</th>\n      <td>1063126</td>\n      <td>MULTIPOINT (568032.098 682087.088, 567972.906 ...</td>\n      <td>860289.77</td>\n    </tr>\n    <tr>\n      <th>3768</th>\n      <td>1064491</td>\n      <td>MULTIPOINT (558076.015 719575.405, 558264.175 ...</td>\n      <td>205270.34</td>\n    </tr>\n    <tr>\n      <th>3769</th>\n      <td>1064500</td>\n      <td>MULTIPOINT (546469.207 721565.172, 546309.944 ...</td>\n      <td>38286.56</td>\n    </tr>\n    <tr>\n      <th>3770</th>\n      <td>1064516</td>\n      <td>MULTIPOINT (661485.062 641856.202, 661471.834 ...</td>\n      <td>5173336.90</td>\n    </tr>\n    <tr>\n      <th>3771</th>\n      <td>1067147</td>\n      <td>MULTIPOINT (545332.150 719114.135, 545241.292 ...</td>\n      <td>607350.95</td>\n    </tr>\n  </tbody>\n</table>\n<p>3763 rows × 3 columns</p>\n</div>"
     },
     "execution_count": 30,
     "metadata": {},
     "output_type": "execute_result"
    }
   ],
   "source": [
    "# przygotowanie tabeli nna_indexes z danymi potrzebnymi do wyliczenia nna index dla każdego multipointa\n",
    "nna_indexes = centroidy_merged.copy()\n",
    "# area pobrana z granic miejscowosci - w m2\n",
    "nna_indexes = nna_indexes.merge(granice_miejscowosci_z_adresacja[['SIMC_id', 'area']], how='left', on='SIMC_id')\n",
    "nna_indexes.dropna(inplace=True)\n",
    "nna_indexes.drop_duplicates(subset='SIMC_id', inplace=True)\n",
    "nna_indexes"
   ],
   "metadata": {
    "collapsed": false,
    "ExecuteTime": {
     "end_time": "2023-11-19T13:37:17.220221900Z",
     "start_time": "2023-11-19T13:37:17.178775600Z"
    }
   },
   "id": "a516467234d1828b"
  },
  {
   "cell_type": "code",
   "execution_count": 31,
   "outputs": [
    {
     "data": {
      "text/plain": "      SIMC_id                                           geometry         area  \\\n0      113419  MULTIPOINT (576747.864 600922.497, 576250.830 ...  10911430.41   \n1      113431  MULTIPOINT (579243.851 591835.299, 579323.945 ...   3102380.56   \n2      113448  MULTIPOINT (576205.658 603460.988, 576414.485 ...  11637916.16   \n3      113454  MULTIPOINT (578127.475 615167.425, 578472.345 ...   6158587.19   \n4      113460  MULTIPOINT (572707.255 592407.690, 572380.073 ...   1709945.42   \n...       ...                                                ...          ...   \n3767  1063126  MULTIPOINT (568032.098 682087.088, 567972.906 ...    860289.77   \n3768  1064491  MULTIPOINT (558076.015 719575.405, 558264.175 ...    205270.34   \n3769  1064500  MULTIPOINT (546469.207 721565.172, 546309.944 ...     38286.56   \n3770  1064516  MULTIPOINT (661485.062 641856.202, 661471.834 ...   5173336.90   \n3771  1067147  MULTIPOINT (545332.150 719114.135, 545241.292 ...    607350.95   \n\n      nna_index  \n0      0.349610  \n1      0.196046  \n2      0.212606  \n3      0.235016  \n4      0.336787  \n...         ...  \n3767   0.200409  \n3768   0.917561  \n3769   1.179343  \n3770   0.028865  \n3771   0.328823  \n\n[3763 rows x 4 columns]",
      "text/html": "<div>\n<style scoped>\n    .dataframe tbody tr th:only-of-type {\n        vertical-align: middle;\n    }\n\n    .dataframe tbody tr th {\n        vertical-align: top;\n    }\n\n    .dataframe thead th {\n        text-align: right;\n    }\n</style>\n<table border=\"1\" class=\"dataframe\">\n  <thead>\n    <tr style=\"text-align: right;\">\n      <th></th>\n      <th>SIMC_id</th>\n      <th>geometry</th>\n      <th>area</th>\n      <th>nna_index</th>\n    </tr>\n  </thead>\n  <tbody>\n    <tr>\n      <th>0</th>\n      <td>113419</td>\n      <td>MULTIPOINT (576747.864 600922.497, 576250.830 ...</td>\n      <td>10911430.41</td>\n      <td>0.349610</td>\n    </tr>\n    <tr>\n      <th>1</th>\n      <td>113431</td>\n      <td>MULTIPOINT (579243.851 591835.299, 579323.945 ...</td>\n      <td>3102380.56</td>\n      <td>0.196046</td>\n    </tr>\n    <tr>\n      <th>2</th>\n      <td>113448</td>\n      <td>MULTIPOINT (576205.658 603460.988, 576414.485 ...</td>\n      <td>11637916.16</td>\n      <td>0.212606</td>\n    </tr>\n    <tr>\n      <th>3</th>\n      <td>113454</td>\n      <td>MULTIPOINT (578127.475 615167.425, 578472.345 ...</td>\n      <td>6158587.19</td>\n      <td>0.235016</td>\n    </tr>\n    <tr>\n      <th>4</th>\n      <td>113460</td>\n      <td>MULTIPOINT (572707.255 592407.690, 572380.073 ...</td>\n      <td>1709945.42</td>\n      <td>0.336787</td>\n    </tr>\n    <tr>\n      <th>...</th>\n      <td>...</td>\n      <td>...</td>\n      <td>...</td>\n      <td>...</td>\n    </tr>\n    <tr>\n      <th>3767</th>\n      <td>1063126</td>\n      <td>MULTIPOINT (568032.098 682087.088, 567972.906 ...</td>\n      <td>860289.77</td>\n      <td>0.200409</td>\n    </tr>\n    <tr>\n      <th>3768</th>\n      <td>1064491</td>\n      <td>MULTIPOINT (558076.015 719575.405, 558264.175 ...</td>\n      <td>205270.34</td>\n      <td>0.917561</td>\n    </tr>\n    <tr>\n      <th>3769</th>\n      <td>1064500</td>\n      <td>MULTIPOINT (546469.207 721565.172, 546309.944 ...</td>\n      <td>38286.56</td>\n      <td>1.179343</td>\n    </tr>\n    <tr>\n      <th>3770</th>\n      <td>1064516</td>\n      <td>MULTIPOINT (661485.062 641856.202, 661471.834 ...</td>\n      <td>5173336.90</td>\n      <td>0.028865</td>\n    </tr>\n    <tr>\n      <th>3771</th>\n      <td>1067147</td>\n      <td>MULTIPOINT (545332.150 719114.135, 545241.292 ...</td>\n      <td>607350.95</td>\n      <td>0.328823</td>\n    </tr>\n  </tbody>\n</table>\n<p>3763 rows × 4 columns</p>\n</div>"
     },
     "execution_count": 31,
     "metadata": {},
     "output_type": "execute_result"
    }
   ],
   "source": [
    "# funkcja do wyznaczania macierzy odległości\n",
    "def compute_distances_matrix(point_list):\n",
    "    # print(point_list)\n",
    "    # zamiana współrzędnych na postać, którą akceptuje numpy\n",
    "    coordinates = [(point.x, point.y) for point in point_list]\n",
    "    # macierz odległości\n",
    "    return cdist(coordinates, coordinates)\n",
    "\n",
    "# funkcja do obliczania nna_index\n",
    "def compute_nna_index(multipoint, area):\n",
    "    # zamiana multipoint na listę punktów\n",
    "    point_list = list(multipoint.geoms)\n",
    "    distances_matrix = compute_distances_matrix(point_list)\n",
    "    # zmiana wartości na diagonali z 0 (odległość punktu od jego samego) na największą wartość z danej kolumny\n",
    "    np.fill_diagonal(distances_matrix, np.max(distances_matrix, axis=0))\n",
    "    # print(distances_matrix)\n",
    "    # obliczenie sumy odległości do najbliższego sąsiada dla każdego punktu\n",
    "    shortest_distance_sum = np.sum(np.min(distances_matrix, axis=1))\n",
    "    # print(shortest_distance_sum)\n",
    "    # liczba punktów poddawanych analizie\n",
    "    point_numer = len(point_list)\n",
    "    # print(point_numer)\n",
    "    # wzór na składnik d0\n",
    "    d0 = shortest_distance_sum/point_numer\n",
    "    # print(d0)\n",
    "    # wzór na składnik de\n",
    "    de = 0.5/np.sqrt(point_numer/area)\n",
    "    # print(de)\n",
    "    # print(d0/de)\n",
    "    # zwrócenie nna index\n",
    "    return d0/de\n",
    "\n",
    "# wskaznik = compute_nna_index(nna_indexes.loc[0]['geometry'], nna_indexes.loc[0]['area'])\n",
    "# wskaznik\n",
    "# obliczenie nna index dla każdego skupiska multipoint, które odpowiada rozmieszczeniu budynków\n",
    "nna_indexes['nna_index'] = [compute_nna_index(multipoint, area) for multipoint, area in zip(nna_indexes['geometry'], nna_indexes['area'])]\n",
    "nna_indexes"
   ],
   "metadata": {
    "collapsed": false,
    "ExecuteTime": {
     "end_time": "2023-11-19T13:37:26.501171Z",
     "start_time": "2023-11-19T13:37:21.433511400Z"
    }
   },
   "id": "ef4eb9153a817c5c"
  },
  {
   "cell_type": "code",
   "execution_count": 32,
   "outputs": [
    {
     "data": {
      "text/plain": "      SIMC_id  nna_index\n0      113419   0.349610\n1      113431   0.196046\n2      113448   0.212606\n3      113454   0.235016\n4      113460   0.336787\n...       ...        ...\n3767  1063126   0.200409\n3768  1064491   0.917561\n3769  1064500   1.179343\n3770  1064516   0.028865\n3771  1067147   0.328823\n\n[3763 rows x 2 columns]",
      "text/html": "<div>\n<style scoped>\n    .dataframe tbody tr th:only-of-type {\n        vertical-align: middle;\n    }\n\n    .dataframe tbody tr th {\n        vertical-align: top;\n    }\n\n    .dataframe thead th {\n        text-align: right;\n    }\n</style>\n<table border=\"1\" class=\"dataframe\">\n  <thead>\n    <tr style=\"text-align: right;\">\n      <th></th>\n      <th>SIMC_id</th>\n      <th>nna_index</th>\n    </tr>\n  </thead>\n  <tbody>\n    <tr>\n      <th>0</th>\n      <td>113419</td>\n      <td>0.349610</td>\n    </tr>\n    <tr>\n      <th>1</th>\n      <td>113431</td>\n      <td>0.196046</td>\n    </tr>\n    <tr>\n      <th>2</th>\n      <td>113448</td>\n      <td>0.212606</td>\n    </tr>\n    <tr>\n      <th>3</th>\n      <td>113454</td>\n      <td>0.235016</td>\n    </tr>\n    <tr>\n      <th>4</th>\n      <td>113460</td>\n      <td>0.336787</td>\n    </tr>\n    <tr>\n      <th>...</th>\n      <td>...</td>\n      <td>...</td>\n    </tr>\n    <tr>\n      <th>3767</th>\n      <td>1063126</td>\n      <td>0.200409</td>\n    </tr>\n    <tr>\n      <th>3768</th>\n      <td>1064491</td>\n      <td>0.917561</td>\n    </tr>\n    <tr>\n      <th>3769</th>\n      <td>1064500</td>\n      <td>1.179343</td>\n    </tr>\n    <tr>\n      <th>3770</th>\n      <td>1064516</td>\n      <td>0.028865</td>\n    </tr>\n    <tr>\n      <th>3771</th>\n      <td>1067147</td>\n      <td>0.328823</td>\n    </tr>\n  </tbody>\n</table>\n<p>3763 rows × 2 columns</p>\n</div>"
     },
     "execution_count": 32,
     "metadata": {},
     "output_type": "execute_result"
    }
   ],
   "source": [
    "# tabela nna_index\n",
    "nna_indexes_df = nna_indexes[['SIMC_id', 'nna_index']]\n",
    "nna_indexes_df"
   ],
   "metadata": {
    "collapsed": false,
    "ExecuteTime": {
     "end_time": "2023-11-19T13:37:33.275820800Z",
     "start_time": "2023-11-19T13:37:33.226380Z"
    }
   },
   "id": "f3989c75d47214f0"
  },
  {
   "cell_type": "markdown",
   "source": [
    "ekstraktowanie cech średniej odległości i współczynnika zmienności odległości dla centroidów budynków"
   ],
   "metadata": {
    "collapsed": false
   },
   "id": "d6bf78a18b45c9e2"
  },
  {
   "cell_type": "code",
   "execution_count": 33,
   "outputs": [
    {
     "data": {
      "text/plain": "      SIMC_id                                           geometry  \\\n0      113419  MULTIPOINT (576747.864 600922.497, 576250.830 ...   \n1      113431  MULTIPOINT (579243.851 591835.299, 579323.945 ...   \n2      113448  MULTIPOINT (576205.658 603460.988, 576414.485 ...   \n3      113454  MULTIPOINT (578127.475 615167.425, 578472.345 ...   \n4      113460  MULTIPOINT (572707.255 592407.690, 572380.073 ...   \n...       ...                                                ...   \n3758  1063126  MULTIPOINT (568032.098 682087.088, 567972.906 ...   \n3759  1064491  MULTIPOINT (558076.015 719575.405, 558264.175 ...   \n3760  1064500  MULTIPOINT (546469.207 721565.172, 546309.944 ...   \n3761  1064516  MULTIPOINT (661485.062 641856.202, 661471.834 ...   \n3762  1067147  MULTIPOINT (545332.150 719114.135, 545241.292 ...   \n\n      srednia_odleglosci  \n0            1066.709097  \n1             247.277883  \n2             497.217195  \n3             486.756717  \n4             441.816209  \n...                  ...  \n3758          137.338223  \n3759          193.946638  \n3760           78.110162  \n3761           51.428196  \n3762           81.384689  \n\n[3763 rows x 3 columns]",
      "text/html": "<div>\n<style scoped>\n    .dataframe tbody tr th:only-of-type {\n        vertical-align: middle;\n    }\n\n    .dataframe tbody tr th {\n        vertical-align: top;\n    }\n\n    .dataframe thead th {\n        text-align: right;\n    }\n</style>\n<table border=\"1\" class=\"dataframe\">\n  <thead>\n    <tr style=\"text-align: right;\">\n      <th></th>\n      <th>SIMC_id</th>\n      <th>geometry</th>\n      <th>srednia_odleglosci</th>\n    </tr>\n  </thead>\n  <tbody>\n    <tr>\n      <th>0</th>\n      <td>113419</td>\n      <td>MULTIPOINT (576747.864 600922.497, 576250.830 ...</td>\n      <td>1066.709097</td>\n    </tr>\n    <tr>\n      <th>1</th>\n      <td>113431</td>\n      <td>MULTIPOINT (579243.851 591835.299, 579323.945 ...</td>\n      <td>247.277883</td>\n    </tr>\n    <tr>\n      <th>2</th>\n      <td>113448</td>\n      <td>MULTIPOINT (576205.658 603460.988, 576414.485 ...</td>\n      <td>497.217195</td>\n    </tr>\n    <tr>\n      <th>3</th>\n      <td>113454</td>\n      <td>MULTIPOINT (578127.475 615167.425, 578472.345 ...</td>\n      <td>486.756717</td>\n    </tr>\n    <tr>\n      <th>4</th>\n      <td>113460</td>\n      <td>MULTIPOINT (572707.255 592407.690, 572380.073 ...</td>\n      <td>441.816209</td>\n    </tr>\n    <tr>\n      <th>...</th>\n      <td>...</td>\n      <td>...</td>\n      <td>...</td>\n    </tr>\n    <tr>\n      <th>3758</th>\n      <td>1063126</td>\n      <td>MULTIPOINT (568032.098 682087.088, 567972.906 ...</td>\n      <td>137.338223</td>\n    </tr>\n    <tr>\n      <th>3759</th>\n      <td>1064491</td>\n      <td>MULTIPOINT (558076.015 719575.405, 558264.175 ...</td>\n      <td>193.946638</td>\n    </tr>\n    <tr>\n      <th>3760</th>\n      <td>1064500</td>\n      <td>MULTIPOINT (546469.207 721565.172, 546309.944 ...</td>\n      <td>78.110162</td>\n    </tr>\n    <tr>\n      <th>3761</th>\n      <td>1064516</td>\n      <td>MULTIPOINT (661485.062 641856.202, 661471.834 ...</td>\n      <td>51.428196</td>\n    </tr>\n    <tr>\n      <th>3762</th>\n      <td>1067147</td>\n      <td>MULTIPOINT (545332.150 719114.135, 545241.292 ...</td>\n      <td>81.384689</td>\n    </tr>\n  </tbody>\n</table>\n<p>3763 rows × 3 columns</p>\n</div>"
     },
     "execution_count": 33,
     "metadata": {},
     "output_type": "execute_result"
    }
   ],
   "source": [
    "# obliczenie sredniej odleglosci miedzy punktami dla kazdego multipointa\n",
    "def compute_mean_distance(multipoint):\n",
    "    point_list = list(multipoint.geoms)\n",
    "    distances_matrix = compute_distances_matrix(point_list)\n",
    "    return np.mean(distances_matrix)\n",
    "\n",
    "mean_distance = centroidy_merged.copy()\n",
    "# test_srednia = compute_mean_distance(mean_distance.loc[23]['geometry'])\n",
    "# test_srednia\n",
    "mean_distance['srednia_odleglosci'] = [compute_mean_distance(multipoint) for multipoint in mean_distance['geometry']]\n",
    "mean_distance"
   ],
   "metadata": {
    "collapsed": false,
    "ExecuteTime": {
     "end_time": "2023-11-19T13:37:43.236740200Z",
     "start_time": "2023-11-19T13:37:38.431208500Z"
    }
   },
   "id": "1a8346a32337cb69"
  },
  {
   "cell_type": "code",
   "execution_count": 34,
   "outputs": [
    {
     "data": {
      "text/plain": "      SIMC_id                                           geometry  \\\n0      113419  MULTIPOINT (576747.864 600922.497, 576250.830 ...   \n1      113431  MULTIPOINT (579243.851 591835.299, 579323.945 ...   \n2      113448  MULTIPOINT (576205.658 603460.988, 576414.485 ...   \n3      113454  MULTIPOINT (578127.475 615167.425, 578472.345 ...   \n4      113460  MULTIPOINT (572707.255 592407.690, 572380.073 ...   \n...       ...                                                ...   \n3758  1063126  MULTIPOINT (568032.098 682087.088, 567972.906 ...   \n3759  1064491  MULTIPOINT (558076.015 719575.405, 558264.175 ...   \n3760  1064500  MULTIPOINT (546469.207 721565.172, 546309.944 ...   \n3761  1064516  MULTIPOINT (661485.062 641856.202, 661471.834 ...   \n3762  1067147  MULTIPOINT (545332.150 719114.135, 545241.292 ...   \n\n      srednia_odleglosci  odchylenie_standardowe  \n0            1066.709097              907.926013  \n1             247.277883              170.333300  \n2             497.217195              401.666020  \n3             486.756717              374.794532  \n4             441.816209              284.333460  \n...                  ...                     ...  \n3758          137.338223               94.242414  \n3759          193.946638              128.815451  \n3760           78.110162               77.477626  \n3761           51.428196               40.195020  \n3762           81.384689               57.180786  \n\n[3763 rows x 4 columns]",
      "text/html": "<div>\n<style scoped>\n    .dataframe tbody tr th:only-of-type {\n        vertical-align: middle;\n    }\n\n    .dataframe tbody tr th {\n        vertical-align: top;\n    }\n\n    .dataframe thead th {\n        text-align: right;\n    }\n</style>\n<table border=\"1\" class=\"dataframe\">\n  <thead>\n    <tr style=\"text-align: right;\">\n      <th></th>\n      <th>SIMC_id</th>\n      <th>geometry</th>\n      <th>srednia_odleglosci</th>\n      <th>odchylenie_standardowe</th>\n    </tr>\n  </thead>\n  <tbody>\n    <tr>\n      <th>0</th>\n      <td>113419</td>\n      <td>MULTIPOINT (576747.864 600922.497, 576250.830 ...</td>\n      <td>1066.709097</td>\n      <td>907.926013</td>\n    </tr>\n    <tr>\n      <th>1</th>\n      <td>113431</td>\n      <td>MULTIPOINT (579243.851 591835.299, 579323.945 ...</td>\n      <td>247.277883</td>\n      <td>170.333300</td>\n    </tr>\n    <tr>\n      <th>2</th>\n      <td>113448</td>\n      <td>MULTIPOINT (576205.658 603460.988, 576414.485 ...</td>\n      <td>497.217195</td>\n      <td>401.666020</td>\n    </tr>\n    <tr>\n      <th>3</th>\n      <td>113454</td>\n      <td>MULTIPOINT (578127.475 615167.425, 578472.345 ...</td>\n      <td>486.756717</td>\n      <td>374.794532</td>\n    </tr>\n    <tr>\n      <th>4</th>\n      <td>113460</td>\n      <td>MULTIPOINT (572707.255 592407.690, 572380.073 ...</td>\n      <td>441.816209</td>\n      <td>284.333460</td>\n    </tr>\n    <tr>\n      <th>...</th>\n      <td>...</td>\n      <td>...</td>\n      <td>...</td>\n      <td>...</td>\n    </tr>\n    <tr>\n      <th>3758</th>\n      <td>1063126</td>\n      <td>MULTIPOINT (568032.098 682087.088, 567972.906 ...</td>\n      <td>137.338223</td>\n      <td>94.242414</td>\n    </tr>\n    <tr>\n      <th>3759</th>\n      <td>1064491</td>\n      <td>MULTIPOINT (558076.015 719575.405, 558264.175 ...</td>\n      <td>193.946638</td>\n      <td>128.815451</td>\n    </tr>\n    <tr>\n      <th>3760</th>\n      <td>1064500</td>\n      <td>MULTIPOINT (546469.207 721565.172, 546309.944 ...</td>\n      <td>78.110162</td>\n      <td>77.477626</td>\n    </tr>\n    <tr>\n      <th>3761</th>\n      <td>1064516</td>\n      <td>MULTIPOINT (661485.062 641856.202, 661471.834 ...</td>\n      <td>51.428196</td>\n      <td>40.195020</td>\n    </tr>\n    <tr>\n      <th>3762</th>\n      <td>1067147</td>\n      <td>MULTIPOINT (545332.150 719114.135, 545241.292 ...</td>\n      <td>81.384689</td>\n      <td>57.180786</td>\n    </tr>\n  </tbody>\n</table>\n<p>3763 rows × 4 columns</p>\n</div>"
     },
     "execution_count": 34,
     "metadata": {},
     "output_type": "execute_result"
    }
   ],
   "source": [
    "# obliczenie odchylenia standardowego odleglosci miedzy punktami dla kazdego multipointa\n",
    "def compute_std(multipoint):\n",
    "    point_list = list(multipoint.geoms)\n",
    "    distances_matrix = compute_distances_matrix(point_list)\n",
    "    return np.std(distances_matrix)\n",
    "\n",
    "std_distance = mean_distance.copy()\n",
    "# test_std = compute_std(std_distance.loc[23]['geometry'])\n",
    "# test_std\n",
    "std_distance['odchylenie_standardowe'] = [compute_std(multipoint) for multipoint in std_distance['geometry']]\n",
    "std_distance"
   ],
   "metadata": {
    "collapsed": false,
    "ExecuteTime": {
     "end_time": "2023-11-19T13:38:06.844955Z",
     "start_time": "2023-11-19T13:38:01.586610600Z"
    }
   },
   "id": "c587bcb92663e2f9"
  },
  {
   "cell_type": "code",
   "execution_count": 37,
   "outputs": [
    {
     "data": {
      "text/plain": "      SIMC_id                                           geometry  \\\n0      113419  MULTIPOINT (576747.864 600922.497, 576250.830 ...   \n1      113431  MULTIPOINT (579243.851 591835.299, 579323.945 ...   \n2      113448  MULTIPOINT (576205.658 603460.988, 576414.485 ...   \n3      113454  MULTIPOINT (578127.475 615167.425, 578472.345 ...   \n4      113460  MULTIPOINT (572707.255 592407.690, 572380.073 ...   \n...       ...                                                ...   \n3758  1063126  MULTIPOINT (568032.098 682087.088, 567972.906 ...   \n3759  1064491  MULTIPOINT (558076.015 719575.405, 558264.175 ...   \n3760  1064500  MULTIPOINT (546469.207 721565.172, 546309.944 ...   \n3761  1064516  MULTIPOINT (661485.062 641856.202, 661471.834 ...   \n3762  1067147  MULTIPOINT (545332.150 719114.135, 545241.292 ...   \n\n      srednia_odleglosci  odchylenie_standardowe  wspolczynnik_zmiennosci  \n0            1066.709097              907.926013                85.114678  \n1             247.277883              170.333300                68.883354  \n2             497.217195              401.666020                80.782810  \n3             486.756717              374.794532                76.998328  \n4             441.816209              284.333460                64.355597  \n...                  ...                     ...                      ...  \n3758          137.338223               94.242414                68.620673  \n3759          193.946638              128.815451                66.417986  \n3760           78.110162               77.477626                99.190200  \n3761           51.428196               40.195020                78.157554  \n3762           81.384689               57.180786                70.259881  \n\n[3763 rows x 5 columns]",
      "text/html": "<div>\n<style scoped>\n    .dataframe tbody tr th:only-of-type {\n        vertical-align: middle;\n    }\n\n    .dataframe tbody tr th {\n        vertical-align: top;\n    }\n\n    .dataframe thead th {\n        text-align: right;\n    }\n</style>\n<table border=\"1\" class=\"dataframe\">\n  <thead>\n    <tr style=\"text-align: right;\">\n      <th></th>\n      <th>SIMC_id</th>\n      <th>geometry</th>\n      <th>srednia_odleglosci</th>\n      <th>odchylenie_standardowe</th>\n      <th>wspolczynnik_zmiennosci</th>\n    </tr>\n  </thead>\n  <tbody>\n    <tr>\n      <th>0</th>\n      <td>113419</td>\n      <td>MULTIPOINT (576747.864 600922.497, 576250.830 ...</td>\n      <td>1066.709097</td>\n      <td>907.926013</td>\n      <td>85.114678</td>\n    </tr>\n    <tr>\n      <th>1</th>\n      <td>113431</td>\n      <td>MULTIPOINT (579243.851 591835.299, 579323.945 ...</td>\n      <td>247.277883</td>\n      <td>170.333300</td>\n      <td>68.883354</td>\n    </tr>\n    <tr>\n      <th>2</th>\n      <td>113448</td>\n      <td>MULTIPOINT (576205.658 603460.988, 576414.485 ...</td>\n      <td>497.217195</td>\n      <td>401.666020</td>\n      <td>80.782810</td>\n    </tr>\n    <tr>\n      <th>3</th>\n      <td>113454</td>\n      <td>MULTIPOINT (578127.475 615167.425, 578472.345 ...</td>\n      <td>486.756717</td>\n      <td>374.794532</td>\n      <td>76.998328</td>\n    </tr>\n    <tr>\n      <th>4</th>\n      <td>113460</td>\n      <td>MULTIPOINT (572707.255 592407.690, 572380.073 ...</td>\n      <td>441.816209</td>\n      <td>284.333460</td>\n      <td>64.355597</td>\n    </tr>\n    <tr>\n      <th>...</th>\n      <td>...</td>\n      <td>...</td>\n      <td>...</td>\n      <td>...</td>\n      <td>...</td>\n    </tr>\n    <tr>\n      <th>3758</th>\n      <td>1063126</td>\n      <td>MULTIPOINT (568032.098 682087.088, 567972.906 ...</td>\n      <td>137.338223</td>\n      <td>94.242414</td>\n      <td>68.620673</td>\n    </tr>\n    <tr>\n      <th>3759</th>\n      <td>1064491</td>\n      <td>MULTIPOINT (558076.015 719575.405, 558264.175 ...</td>\n      <td>193.946638</td>\n      <td>128.815451</td>\n      <td>66.417986</td>\n    </tr>\n    <tr>\n      <th>3760</th>\n      <td>1064500</td>\n      <td>MULTIPOINT (546469.207 721565.172, 546309.944 ...</td>\n      <td>78.110162</td>\n      <td>77.477626</td>\n      <td>99.190200</td>\n    </tr>\n    <tr>\n      <th>3761</th>\n      <td>1064516</td>\n      <td>MULTIPOINT (661485.062 641856.202, 661471.834 ...</td>\n      <td>51.428196</td>\n      <td>40.195020</td>\n      <td>78.157554</td>\n    </tr>\n    <tr>\n      <th>3762</th>\n      <td>1067147</td>\n      <td>MULTIPOINT (545332.150 719114.135, 545241.292 ...</td>\n      <td>81.384689</td>\n      <td>57.180786</td>\n      <td>70.259881</td>\n    </tr>\n  </tbody>\n</table>\n<p>3763 rows × 5 columns</p>\n</div>"
     },
     "execution_count": 37,
     "metadata": {},
     "output_type": "execute_result"
    }
   ],
   "source": [
    "# obliczenie współczynnika zmienności średniej odległości dla kazdego multipointa\n",
    "std_distance['wspolczynnik_zmiennosci'] = (std_distance['odchylenie_standardowe']/std_distance['srednia_odleglosci'])*100\n",
    "std_distance"
   ],
   "metadata": {
    "collapsed": false,
    "ExecuteTime": {
     "end_time": "2023-11-19T13:39:57.220245300Z",
     "start_time": "2023-11-19T13:39:57.171042600Z"
    }
   },
   "id": "abc054410d7ee633"
  },
  {
   "cell_type": "code",
   "execution_count": 45,
   "outputs": [
    {
     "data": {
      "text/plain": "      SIMC_id  srednia_odleglosci  odchylenie_standardowe  \\\n0      113419         1066.709097              907.926013   \n1      113431          247.277883              170.333300   \n2      113448          497.217195              401.666020   \n3      113454          486.756717              374.794532   \n4      113460          441.816209              284.333460   \n...       ...                 ...                     ...   \n3758  1063126          137.338223               94.242414   \n3759  1064491          193.946638              128.815451   \n3760  1064500           78.110162               77.477626   \n3761  1064516           51.428196               40.195020   \n3762  1067147           81.384689               57.180786   \n\n      wspolczynnik_zmiennosci  \n0                   85.114678  \n1                   68.883354  \n2                   80.782810  \n3                   76.998328  \n4                   64.355597  \n...                       ...  \n3758                68.620673  \n3759                66.417986  \n3760                99.190200  \n3761                78.157554  \n3762                70.259881  \n\n[3763 rows x 4 columns]",
      "text/html": "<div>\n<style scoped>\n    .dataframe tbody tr th:only-of-type {\n        vertical-align: middle;\n    }\n\n    .dataframe tbody tr th {\n        vertical-align: top;\n    }\n\n    .dataframe thead th {\n        text-align: right;\n    }\n</style>\n<table border=\"1\" class=\"dataframe\">\n  <thead>\n    <tr style=\"text-align: right;\">\n      <th></th>\n      <th>SIMC_id</th>\n      <th>srednia_odleglosci</th>\n      <th>odchylenie_standardowe</th>\n      <th>wspolczynnik_zmiennosci</th>\n    </tr>\n  </thead>\n  <tbody>\n    <tr>\n      <th>0</th>\n      <td>113419</td>\n      <td>1066.709097</td>\n      <td>907.926013</td>\n      <td>85.114678</td>\n    </tr>\n    <tr>\n      <th>1</th>\n      <td>113431</td>\n      <td>247.277883</td>\n      <td>170.333300</td>\n      <td>68.883354</td>\n    </tr>\n    <tr>\n      <th>2</th>\n      <td>113448</td>\n      <td>497.217195</td>\n      <td>401.666020</td>\n      <td>80.782810</td>\n    </tr>\n    <tr>\n      <th>3</th>\n      <td>113454</td>\n      <td>486.756717</td>\n      <td>374.794532</td>\n      <td>76.998328</td>\n    </tr>\n    <tr>\n      <th>4</th>\n      <td>113460</td>\n      <td>441.816209</td>\n      <td>284.333460</td>\n      <td>64.355597</td>\n    </tr>\n    <tr>\n      <th>...</th>\n      <td>...</td>\n      <td>...</td>\n      <td>...</td>\n      <td>...</td>\n    </tr>\n    <tr>\n      <th>3758</th>\n      <td>1063126</td>\n      <td>137.338223</td>\n      <td>94.242414</td>\n      <td>68.620673</td>\n    </tr>\n    <tr>\n      <th>3759</th>\n      <td>1064491</td>\n      <td>193.946638</td>\n      <td>128.815451</td>\n      <td>66.417986</td>\n    </tr>\n    <tr>\n      <th>3760</th>\n      <td>1064500</td>\n      <td>78.110162</td>\n      <td>77.477626</td>\n      <td>99.190200</td>\n    </tr>\n    <tr>\n      <th>3761</th>\n      <td>1064516</td>\n      <td>51.428196</td>\n      <td>40.195020</td>\n      <td>78.157554</td>\n    </tr>\n    <tr>\n      <th>3762</th>\n      <td>1067147</td>\n      <td>81.384689</td>\n      <td>57.180786</td>\n      <td>70.259881</td>\n    </tr>\n  </tbody>\n</table>\n<p>3763 rows × 4 columns</p>\n</div>"
     },
     "execution_count": 45,
     "metadata": {},
     "output_type": "execute_result"
    }
   ],
   "source": [
    "std_distance_df = std_distance.drop('geometry', axis=1)\n",
    "std_distance_df"
   ],
   "metadata": {
    "collapsed": false,
    "ExecuteTime": {
     "end_time": "2023-11-19T13:55:07.482826900Z",
     "start_time": "2023-11-19T13:55:07.425765100Z"
    }
   },
   "id": "3b584a17ef75838b"
  },
  {
   "cell_type": "markdown",
   "source": [
    "ekstraktowanie cechy minimalnej i maksymalnej odległości między centroidami budynków dla każdej miejscowości oraz ich rozstępu"
   ],
   "metadata": {
    "collapsed": false
   },
   "id": "3fc64509563f4b2e"
  },
  {
   "cell_type": "code",
   "execution_count": 38,
   "outputs": [
    {
     "data": {
      "text/plain": "      SIMC_id                                           geometry\n0      113419  MULTIPOINT (576747.864 600922.497, 576250.830 ...\n1      113431  MULTIPOINT (579243.851 591835.299, 579323.945 ...\n2      113448  MULTIPOINT (576205.658 603460.988, 576414.485 ...\n3      113454  MULTIPOINT (578127.475 615167.425, 578472.345 ...\n4      113460  MULTIPOINT (572707.255 592407.690, 572380.073 ...\n...       ...                                                ...\n3758  1063126  MULTIPOINT (568032.098 682087.088, 567972.906 ...\n3759  1064491  MULTIPOINT (558076.015 719575.405, 558264.175 ...\n3760  1064500  MULTIPOINT (546469.207 721565.172, 546309.944 ...\n3761  1064516  MULTIPOINT (661485.062 641856.202, 661471.834 ...\n3762  1067147  MULTIPOINT (545332.150 719114.135, 545241.292 ...\n\n[3763 rows x 2 columns]",
      "text/html": "<div>\n<style scoped>\n    .dataframe tbody tr th:only-of-type {\n        vertical-align: middle;\n    }\n\n    .dataframe tbody tr th {\n        vertical-align: top;\n    }\n\n    .dataframe thead th {\n        text-align: right;\n    }\n</style>\n<table border=\"1\" class=\"dataframe\">\n  <thead>\n    <tr style=\"text-align: right;\">\n      <th></th>\n      <th>SIMC_id</th>\n      <th>geometry</th>\n    </tr>\n  </thead>\n  <tbody>\n    <tr>\n      <th>0</th>\n      <td>113419</td>\n      <td>MULTIPOINT (576747.864 600922.497, 576250.830 ...</td>\n    </tr>\n    <tr>\n      <th>1</th>\n      <td>113431</td>\n      <td>MULTIPOINT (579243.851 591835.299, 579323.945 ...</td>\n    </tr>\n    <tr>\n      <th>2</th>\n      <td>113448</td>\n      <td>MULTIPOINT (576205.658 603460.988, 576414.485 ...</td>\n    </tr>\n    <tr>\n      <th>3</th>\n      <td>113454</td>\n      <td>MULTIPOINT (578127.475 615167.425, 578472.345 ...</td>\n    </tr>\n    <tr>\n      <th>4</th>\n      <td>113460</td>\n      <td>MULTIPOINT (572707.255 592407.690, 572380.073 ...</td>\n    </tr>\n    <tr>\n      <th>...</th>\n      <td>...</td>\n      <td>...</td>\n    </tr>\n    <tr>\n      <th>3758</th>\n      <td>1063126</td>\n      <td>MULTIPOINT (568032.098 682087.088, 567972.906 ...</td>\n    </tr>\n    <tr>\n      <th>3759</th>\n      <td>1064491</td>\n      <td>MULTIPOINT (558076.015 719575.405, 558264.175 ...</td>\n    </tr>\n    <tr>\n      <th>3760</th>\n      <td>1064500</td>\n      <td>MULTIPOINT (546469.207 721565.172, 546309.944 ...</td>\n    </tr>\n    <tr>\n      <th>3761</th>\n      <td>1064516</td>\n      <td>MULTIPOINT (661485.062 641856.202, 661471.834 ...</td>\n    </tr>\n    <tr>\n      <th>3762</th>\n      <td>1067147</td>\n      <td>MULTIPOINT (545332.150 719114.135, 545241.292 ...</td>\n    </tr>\n  </tbody>\n</table>\n<p>3763 rows × 2 columns</p>\n</div>"
     },
     "execution_count": 38,
     "metadata": {},
     "output_type": "execute_result"
    }
   ],
   "source": [
    "min_max_distance = centroidy_merged.copy()\n",
    "min_max_distance"
   ],
   "metadata": {
    "collapsed": false,
    "ExecuteTime": {
     "end_time": "2023-11-19T13:43:30.422239500Z",
     "start_time": "2023-11-19T13:43:30.353022600Z"
    }
   },
   "id": "17196828b8a18616"
  },
  {
   "cell_type": "code",
   "execution_count": 40,
   "outputs": [
    {
     "data": {
      "text/plain": "      SIMC_id                                           geometry  \\\n0      113419  MULTIPOINT (576747.864 600922.497, 576250.830 ...   \n1      113431  MULTIPOINT (579243.851 591835.299, 579323.945 ...   \n2      113448  MULTIPOINT (576205.658 603460.988, 576414.485 ...   \n3      113454  MULTIPOINT (578127.475 615167.425, 578472.345 ...   \n4      113460  MULTIPOINT (572707.255 592407.690, 572380.073 ...   \n...       ...                                                ...   \n3758  1063126  MULTIPOINT (568032.098 682087.088, 567972.906 ...   \n3759  1064491  MULTIPOINT (558076.015 719575.405, 558264.175 ...   \n3760  1064500  MULTIPOINT (546469.207 721565.172, 546309.944 ...   \n3761  1064516  MULTIPOINT (661485.062 641856.202, 661471.834 ...   \n3762  1067147  MULTIPOINT (545332.150 719114.135, 545241.292 ...   \n\n      min_odleglosc  max_odleglosc  min_max_rozstep  \n0          5.595754    4490.197390      4490.197390  \n1         10.068545     520.223242       520.223242  \n2          6.621034    2849.556375      2849.556375  \n3          5.007587    2204.703636      2204.703636  \n4          5.033175    1253.942402      1253.942402  \n...             ...            ...              ...  \n3758      12.877561     304.774513       304.774513  \n3759       5.625767     614.792574       614.792574  \n3760      24.087480     175.737876       175.737876  \n3761      11.037517     111.790464       111.790464  \n3762      19.517409     180.381791       180.381791  \n\n[3763 rows x 5 columns]",
      "text/html": "<div>\n<style scoped>\n    .dataframe tbody tr th:only-of-type {\n        vertical-align: middle;\n    }\n\n    .dataframe tbody tr th {\n        vertical-align: top;\n    }\n\n    .dataframe thead th {\n        text-align: right;\n    }\n</style>\n<table border=\"1\" class=\"dataframe\">\n  <thead>\n    <tr style=\"text-align: right;\">\n      <th></th>\n      <th>SIMC_id</th>\n      <th>geometry</th>\n      <th>min_odleglosc</th>\n      <th>max_odleglosc</th>\n      <th>min_max_rozstep</th>\n    </tr>\n  </thead>\n  <tbody>\n    <tr>\n      <th>0</th>\n      <td>113419</td>\n      <td>MULTIPOINT (576747.864 600922.497, 576250.830 ...</td>\n      <td>5.595754</td>\n      <td>4490.197390</td>\n      <td>4490.197390</td>\n    </tr>\n    <tr>\n      <th>1</th>\n      <td>113431</td>\n      <td>MULTIPOINT (579243.851 591835.299, 579323.945 ...</td>\n      <td>10.068545</td>\n      <td>520.223242</td>\n      <td>520.223242</td>\n    </tr>\n    <tr>\n      <th>2</th>\n      <td>113448</td>\n      <td>MULTIPOINT (576205.658 603460.988, 576414.485 ...</td>\n      <td>6.621034</td>\n      <td>2849.556375</td>\n      <td>2849.556375</td>\n    </tr>\n    <tr>\n      <th>3</th>\n      <td>113454</td>\n      <td>MULTIPOINT (578127.475 615167.425, 578472.345 ...</td>\n      <td>5.007587</td>\n      <td>2204.703636</td>\n      <td>2204.703636</td>\n    </tr>\n    <tr>\n      <th>4</th>\n      <td>113460</td>\n      <td>MULTIPOINT (572707.255 592407.690, 572380.073 ...</td>\n      <td>5.033175</td>\n      <td>1253.942402</td>\n      <td>1253.942402</td>\n    </tr>\n    <tr>\n      <th>...</th>\n      <td>...</td>\n      <td>...</td>\n      <td>...</td>\n      <td>...</td>\n      <td>...</td>\n    </tr>\n    <tr>\n      <th>3758</th>\n      <td>1063126</td>\n      <td>MULTIPOINT (568032.098 682087.088, 567972.906 ...</td>\n      <td>12.877561</td>\n      <td>304.774513</td>\n      <td>304.774513</td>\n    </tr>\n    <tr>\n      <th>3759</th>\n      <td>1064491</td>\n      <td>MULTIPOINT (558076.015 719575.405, 558264.175 ...</td>\n      <td>5.625767</td>\n      <td>614.792574</td>\n      <td>614.792574</td>\n    </tr>\n    <tr>\n      <th>3760</th>\n      <td>1064500</td>\n      <td>MULTIPOINT (546469.207 721565.172, 546309.944 ...</td>\n      <td>24.087480</td>\n      <td>175.737876</td>\n      <td>175.737876</td>\n    </tr>\n    <tr>\n      <th>3761</th>\n      <td>1064516</td>\n      <td>MULTIPOINT (661485.062 641856.202, 661471.834 ...</td>\n      <td>11.037517</td>\n      <td>111.790464</td>\n      <td>111.790464</td>\n    </tr>\n    <tr>\n      <th>3762</th>\n      <td>1067147</td>\n      <td>MULTIPOINT (545332.150 719114.135, 545241.292 ...</td>\n      <td>19.517409</td>\n      <td>180.381791</td>\n      <td>180.381791</td>\n    </tr>\n  </tbody>\n</table>\n<p>3763 rows × 5 columns</p>\n</div>"
     },
     "execution_count": 40,
     "metadata": {},
     "output_type": "execute_result"
    }
   ],
   "source": [
    "# obliczenie min odleglosci miedzy punktami dla kazdego multipointa\n",
    "def compute_min(multipoint):\n",
    "    point_list = list(multipoint.geoms)\n",
    "    distances_matrix = compute_distances_matrix(point_list)\n",
    "    np.fill_diagonal(distances_matrix, np.max(distances_matrix, axis=0))\n",
    "    return np.min(distances_matrix)\n",
    "\n",
    "# obliczenie max odleglosci miedzy punktami dla kazdego multipointa\n",
    "def compute_max(multipoint):\n",
    "    point_list = list(multipoint.geoms)\n",
    "    distances_matrix = compute_distances_matrix(point_list)\n",
    "    return np.max(distances_matrix)\n",
    "\n",
    "# obliczenie ptp odleglosci miedzy punktami dla kazdego multipointa\n",
    "def compute_ptp(multipoint):\n",
    "    point_list = list(multipoint.geoms)\n",
    "    distances_matrix = compute_distances_matrix(point_list)\n",
    "    return np.ptp(distances_matrix)\n",
    "\n",
    "min_max_distance['min_odleglosc'] = [compute_min(multipoint) for multipoint in min_max_distance['geometry']]\n",
    "min_max_distance['max_odleglosc'] = [compute_max(multipoint) for multipoint in min_max_distance['geometry']]\n",
    "min_max_distance['min_max_rozstep'] = [compute_ptp(multipoint) for multipoint in min_max_distance['geometry']]\n",
    "min_max_distance"
   ],
   "metadata": {
    "collapsed": false,
    "ExecuteTime": {
     "end_time": "2023-11-19T13:48:50.868118300Z",
     "start_time": "2023-11-19T13:48:36.178716500Z"
    }
   },
   "id": "84929c28fc6d61d5"
  },
  {
   "cell_type": "code",
   "execution_count": 46,
   "outputs": [
    {
     "data": {
      "text/plain": "      SIMC_id  min_odleglosc  max_odleglosc  min_max_rozstep\n0      113419       5.595754    4490.197390      4490.197390\n1      113431      10.068545     520.223242       520.223242\n2      113448       6.621034    2849.556375      2849.556375\n3      113454       5.007587    2204.703636      2204.703636\n4      113460       5.033175    1253.942402      1253.942402\n...       ...            ...            ...              ...\n3758  1063126      12.877561     304.774513       304.774513\n3759  1064491       5.625767     614.792574       614.792574\n3760  1064500      24.087480     175.737876       175.737876\n3761  1064516      11.037517     111.790464       111.790464\n3762  1067147      19.517409     180.381791       180.381791\n\n[3763 rows x 4 columns]",
      "text/html": "<div>\n<style scoped>\n    .dataframe tbody tr th:only-of-type {\n        vertical-align: middle;\n    }\n\n    .dataframe tbody tr th {\n        vertical-align: top;\n    }\n\n    .dataframe thead th {\n        text-align: right;\n    }\n</style>\n<table border=\"1\" class=\"dataframe\">\n  <thead>\n    <tr style=\"text-align: right;\">\n      <th></th>\n      <th>SIMC_id</th>\n      <th>min_odleglosc</th>\n      <th>max_odleglosc</th>\n      <th>min_max_rozstep</th>\n    </tr>\n  </thead>\n  <tbody>\n    <tr>\n      <th>0</th>\n      <td>113419</td>\n      <td>5.595754</td>\n      <td>4490.197390</td>\n      <td>4490.197390</td>\n    </tr>\n    <tr>\n      <th>1</th>\n      <td>113431</td>\n      <td>10.068545</td>\n      <td>520.223242</td>\n      <td>520.223242</td>\n    </tr>\n    <tr>\n      <th>2</th>\n      <td>113448</td>\n      <td>6.621034</td>\n      <td>2849.556375</td>\n      <td>2849.556375</td>\n    </tr>\n    <tr>\n      <th>3</th>\n      <td>113454</td>\n      <td>5.007587</td>\n      <td>2204.703636</td>\n      <td>2204.703636</td>\n    </tr>\n    <tr>\n      <th>4</th>\n      <td>113460</td>\n      <td>5.033175</td>\n      <td>1253.942402</td>\n      <td>1253.942402</td>\n    </tr>\n    <tr>\n      <th>...</th>\n      <td>...</td>\n      <td>...</td>\n      <td>...</td>\n      <td>...</td>\n    </tr>\n    <tr>\n      <th>3758</th>\n      <td>1063126</td>\n      <td>12.877561</td>\n      <td>304.774513</td>\n      <td>304.774513</td>\n    </tr>\n    <tr>\n      <th>3759</th>\n      <td>1064491</td>\n      <td>5.625767</td>\n      <td>614.792574</td>\n      <td>614.792574</td>\n    </tr>\n    <tr>\n      <th>3760</th>\n      <td>1064500</td>\n      <td>24.087480</td>\n      <td>175.737876</td>\n      <td>175.737876</td>\n    </tr>\n    <tr>\n      <th>3761</th>\n      <td>1064516</td>\n      <td>11.037517</td>\n      <td>111.790464</td>\n      <td>111.790464</td>\n    </tr>\n    <tr>\n      <th>3762</th>\n      <td>1067147</td>\n      <td>19.517409</td>\n      <td>180.381791</td>\n      <td>180.381791</td>\n    </tr>\n  </tbody>\n</table>\n<p>3763 rows × 4 columns</p>\n</div>"
     },
     "execution_count": 46,
     "metadata": {},
     "output_type": "execute_result"
    }
   ],
   "source": [
    "min_max_distance_df = min_max_distance.drop('geometry', axis=1)\n",
    "min_max_distance_df"
   ],
   "metadata": {
    "collapsed": false,
    "ExecuteTime": {
     "end_time": "2023-11-19T13:55:54.652082700Z",
     "start_time": "2023-11-19T13:55:54.625800300Z"
    }
   },
   "id": "7225870feaff46e9"
  },
  {
   "cell_type": "markdown",
   "source": [
    "połączenie wszystkich wyekstraktowanych cech zabudowy"
   ],
   "metadata": {
    "collapsed": false
   },
   "id": "c073ba17d357eac6"
  },
  {
   "cell_type": "code",
   "execution_count": 43,
   "outputs": [
    {
     "data": {
      "text/plain": "      SIMC_id                                           geometry\n0      113419  MULTIPOINT (576747.864 600922.497, 576250.830 ...\n1      113431  MULTIPOINT (579243.851 591835.299, 579323.945 ...\n2      113448  MULTIPOINT (576205.658 603460.988, 576414.485 ...\n3      113454  MULTIPOINT (578127.475 615167.425, 578472.345 ...\n4      113460  MULTIPOINT (572707.255 592407.690, 572380.073 ...\n...       ...                                                ...\n3758  1063126  MULTIPOINT (568032.098 682087.088, 567972.906 ...\n3759  1064491  MULTIPOINT (558076.015 719575.405, 558264.175 ...\n3760  1064500  MULTIPOINT (546469.207 721565.172, 546309.944 ...\n3761  1064516  MULTIPOINT (661485.062 641856.202, 661471.834 ...\n3762  1067147  MULTIPOINT (545332.150 719114.135, 545241.292 ...\n\n[3763 rows x 2 columns]",
      "text/html": "<div>\n<style scoped>\n    .dataframe tbody tr th:only-of-type {\n        vertical-align: middle;\n    }\n\n    .dataframe tbody tr th {\n        vertical-align: top;\n    }\n\n    .dataframe thead th {\n        text-align: right;\n    }\n</style>\n<table border=\"1\" class=\"dataframe\">\n  <thead>\n    <tr style=\"text-align: right;\">\n      <th></th>\n      <th>SIMC_id</th>\n      <th>geometry</th>\n    </tr>\n  </thead>\n  <tbody>\n    <tr>\n      <th>0</th>\n      <td>113419</td>\n      <td>MULTIPOINT (576747.864 600922.497, 576250.830 ...</td>\n    </tr>\n    <tr>\n      <th>1</th>\n      <td>113431</td>\n      <td>MULTIPOINT (579243.851 591835.299, 579323.945 ...</td>\n    </tr>\n    <tr>\n      <th>2</th>\n      <td>113448</td>\n      <td>MULTIPOINT (576205.658 603460.988, 576414.485 ...</td>\n    </tr>\n    <tr>\n      <th>3</th>\n      <td>113454</td>\n      <td>MULTIPOINT (578127.475 615167.425, 578472.345 ...</td>\n    </tr>\n    <tr>\n      <th>4</th>\n      <td>113460</td>\n      <td>MULTIPOINT (572707.255 592407.690, 572380.073 ...</td>\n    </tr>\n    <tr>\n      <th>...</th>\n      <td>...</td>\n      <td>...</td>\n    </tr>\n    <tr>\n      <th>3758</th>\n      <td>1063126</td>\n      <td>MULTIPOINT (568032.098 682087.088, 567972.906 ...</td>\n    </tr>\n    <tr>\n      <th>3759</th>\n      <td>1064491</td>\n      <td>MULTIPOINT (558076.015 719575.405, 558264.175 ...</td>\n    </tr>\n    <tr>\n      <th>3760</th>\n      <td>1064500</td>\n      <td>MULTIPOINT (546469.207 721565.172, 546309.944 ...</td>\n    </tr>\n    <tr>\n      <th>3761</th>\n      <td>1064516</td>\n      <td>MULTIPOINT (661485.062 641856.202, 661471.834 ...</td>\n    </tr>\n    <tr>\n      <th>3762</th>\n      <td>1067147</td>\n      <td>MULTIPOINT (545332.150 719114.135, 545241.292 ...</td>\n    </tr>\n  </tbody>\n</table>\n<p>3763 rows × 2 columns</p>\n</div>"
     },
     "execution_count": 43,
     "metadata": {},
     "output_type": "execute_result"
    }
   ],
   "source": [
    "zabudowa_merged = centroidy_merged.copy()\n",
    "zabudowa_merged"
   ],
   "metadata": {
    "collapsed": false,
    "ExecuteTime": {
     "end_time": "2023-11-19T13:52:24.093059200Z",
     "start_time": "2023-11-19T13:52:24.038572900Z"
    }
   },
   "id": "8b57f2269aa2d365"
  },
  {
   "cell_type": "code",
   "execution_count": 47,
   "outputs": [
    {
     "data": {
      "text/plain": "      SIMC_id                                           geometry  count  \\\n0      113419  MULTIPOINT (576747.864 600922.497, 576250.830 ...    371   \n1      113431  MULTIPOINT (579243.851 591835.299, 579323.945 ...     12   \n2      113448  MULTIPOINT (576205.658 603460.988, 576414.485 ...    229   \n3      113454  MULTIPOINT (578127.475 615167.425, 578472.345 ...     97   \n4      113460  MULTIPOINT (572707.255 592407.690, 572380.073 ...     48   \n...       ...                                                ...    ...   \n3758  1063126  MULTIPOINT (568032.098 682087.088, 567972.906 ...     22   \n3759  1064491  MULTIPOINT (558076.015 719575.405, 558264.175 ...     52   \n3760  1064500  MULTIPOINT (546469.207 721565.172, 546309.944 ...      3   \n3761  1064516  MULTIPOINT (661485.062 641856.202, 661471.834 ...      7   \n3762  1067147  MULTIPOINT (545332.150 719114.135, 545241.292 ...      5   \n\n          area     LKOND  budynekGospodarstwaRolnego  budynekZabytkowy  \\\n0     83569.42  1.583784                         146                 0   \n1      3383.35  1.250000                           7                 0   \n2     30639.25  1.606987                         104                 0   \n3     17698.85  1.278351                          59                 0   \n4      5193.56  1.145833                          30                 0   \n...        ...       ...                         ...               ...   \n3758   1601.74  1.636364                           7                 0   \n3759  16319.27  1.423077                          29                 0   \n3760    311.89  1.333333                           2                 0   \n3761    430.60  1.428571                           5                 0   \n3762    449.97  1.000000                           1                 0   \n\n      budynkiBiurowe  budynkiGarazy  budynkiHandlowoUslugowe  ...  \\\n0                  3              1                        2  ...   \n1                  0              0                        0  ...   \n2                  2              0                        2  ...   \n3                  1              1                        0  ...   \n4                  0              0                        0  ...   \n...              ...            ...                      ...  ...   \n3758               0              0                        0  ...   \n3759               0              0                        0  ...   \n3760               0              0                        0  ...   \n3761               0              0                        0  ...   \n3762               0              0                        0  ...   \n\n      ogolnodostepneObiektyKulturalne  pozostaleBudynkiNiemieszkalne  \\\n0                                   0                              1   \n1                                   0                              0   \n2                                   0                              0   \n3                                   1                              1   \n4                                   0                              0   \n...                               ...                            ...   \n3758                                0                              0   \n3759                                0                              2   \n3760                                0                              0   \n3761                                0                              0   \n3762                                0                              0   \n\n      zbiornikSilosIBudynkiMagazynowe  nna_index  srednia_odleglosci  \\\n0                                  14   0.349610         1066.709097   \n1                                   0   0.196046          247.277883   \n2                                   0   0.212606          497.217195   \n3                                   2   0.235016          486.756717   \n4                                   0   0.336787          441.816209   \n...                               ...        ...                 ...   \n3758                                0   0.200409          137.338223   \n3759                                0   0.917561          193.946638   \n3760                                0   1.179343           78.110162   \n3761                                0   0.028865           51.428196   \n3762                                0   0.328823           81.384689   \n\n      odchylenie_standardowe  wspolczynnik_zmiennosci  min_odleglosc  \\\n0                 907.926013                85.114678       5.595754   \n1                 170.333300                68.883354      10.068545   \n2                 401.666020                80.782810       6.621034   \n3                 374.794532                76.998328       5.007587   \n4                 284.333460                64.355597       5.033175   \n...                      ...                      ...            ...   \n3758               94.242414                68.620673      12.877561   \n3759              128.815451                66.417986       5.625767   \n3760               77.477626                99.190200      24.087480   \n3761               40.195020                78.157554      11.037517   \n3762               57.180786                70.259881      19.517409   \n\n      max_odleglosc  min_max_rozstep  \n0       4490.197390      4490.197390  \n1        520.223242       520.223242  \n2       2849.556375      2849.556375  \n3       2204.703636      2204.703636  \n4       1253.942402      1253.942402  \n...             ...              ...  \n3758     304.774513       304.774513  \n3759     614.792574       614.792574  \n3760     175.737876       175.737876  \n3761     111.790464       111.790464  \n3762     180.381791       180.381791  \n\n[3763 rows x 33 columns]",
      "text/html": "<div>\n<style scoped>\n    .dataframe tbody tr th:only-of-type {\n        vertical-align: middle;\n    }\n\n    .dataframe tbody tr th {\n        vertical-align: top;\n    }\n\n    .dataframe thead th {\n        text-align: right;\n    }\n</style>\n<table border=\"1\" class=\"dataframe\">\n  <thead>\n    <tr style=\"text-align: right;\">\n      <th></th>\n      <th>SIMC_id</th>\n      <th>geometry</th>\n      <th>count</th>\n      <th>area</th>\n      <th>LKOND</th>\n      <th>budynekGospodarstwaRolnego</th>\n      <th>budynekZabytkowy</th>\n      <th>budynkiBiurowe</th>\n      <th>budynkiGarazy</th>\n      <th>budynkiHandlowoUslugowe</th>\n      <th>...</th>\n      <th>ogolnodostepneObiektyKulturalne</th>\n      <th>pozostaleBudynkiNiemieszkalne</th>\n      <th>zbiornikSilosIBudynkiMagazynowe</th>\n      <th>nna_index</th>\n      <th>srednia_odleglosci</th>\n      <th>odchylenie_standardowe</th>\n      <th>wspolczynnik_zmiennosci</th>\n      <th>min_odleglosc</th>\n      <th>max_odleglosc</th>\n      <th>min_max_rozstep</th>\n    </tr>\n  </thead>\n  <tbody>\n    <tr>\n      <th>0</th>\n      <td>113419</td>\n      <td>MULTIPOINT (576747.864 600922.497, 576250.830 ...</td>\n      <td>371</td>\n      <td>83569.42</td>\n      <td>1.583784</td>\n      <td>146</td>\n      <td>0</td>\n      <td>3</td>\n      <td>1</td>\n      <td>2</td>\n      <td>...</td>\n      <td>0</td>\n      <td>1</td>\n      <td>14</td>\n      <td>0.349610</td>\n      <td>1066.709097</td>\n      <td>907.926013</td>\n      <td>85.114678</td>\n      <td>5.595754</td>\n      <td>4490.197390</td>\n      <td>4490.197390</td>\n    </tr>\n    <tr>\n      <th>1</th>\n      <td>113431</td>\n      <td>MULTIPOINT (579243.851 591835.299, 579323.945 ...</td>\n      <td>12</td>\n      <td>3383.35</td>\n      <td>1.250000</td>\n      <td>7</td>\n      <td>0</td>\n      <td>0</td>\n      <td>0</td>\n      <td>0</td>\n      <td>...</td>\n      <td>0</td>\n      <td>0</td>\n      <td>0</td>\n      <td>0.196046</td>\n      <td>247.277883</td>\n      <td>170.333300</td>\n      <td>68.883354</td>\n      <td>10.068545</td>\n      <td>520.223242</td>\n      <td>520.223242</td>\n    </tr>\n    <tr>\n      <th>2</th>\n      <td>113448</td>\n      <td>MULTIPOINT (576205.658 603460.988, 576414.485 ...</td>\n      <td>229</td>\n      <td>30639.25</td>\n      <td>1.606987</td>\n      <td>104</td>\n      <td>0</td>\n      <td>2</td>\n      <td>0</td>\n      <td>2</td>\n      <td>...</td>\n      <td>0</td>\n      <td>0</td>\n      <td>0</td>\n      <td>0.212606</td>\n      <td>497.217195</td>\n      <td>401.666020</td>\n      <td>80.782810</td>\n      <td>6.621034</td>\n      <td>2849.556375</td>\n      <td>2849.556375</td>\n    </tr>\n    <tr>\n      <th>3</th>\n      <td>113454</td>\n      <td>MULTIPOINT (578127.475 615167.425, 578472.345 ...</td>\n      <td>97</td>\n      <td>17698.85</td>\n      <td>1.278351</td>\n      <td>59</td>\n      <td>0</td>\n      <td>1</td>\n      <td>1</td>\n      <td>0</td>\n      <td>...</td>\n      <td>1</td>\n      <td>1</td>\n      <td>2</td>\n      <td>0.235016</td>\n      <td>486.756717</td>\n      <td>374.794532</td>\n      <td>76.998328</td>\n      <td>5.007587</td>\n      <td>2204.703636</td>\n      <td>2204.703636</td>\n    </tr>\n    <tr>\n      <th>4</th>\n      <td>113460</td>\n      <td>MULTIPOINT (572707.255 592407.690, 572380.073 ...</td>\n      <td>48</td>\n      <td>5193.56</td>\n      <td>1.145833</td>\n      <td>30</td>\n      <td>0</td>\n      <td>0</td>\n      <td>0</td>\n      <td>0</td>\n      <td>...</td>\n      <td>0</td>\n      <td>0</td>\n      <td>0</td>\n      <td>0.336787</td>\n      <td>441.816209</td>\n      <td>284.333460</td>\n      <td>64.355597</td>\n      <td>5.033175</td>\n      <td>1253.942402</td>\n      <td>1253.942402</td>\n    </tr>\n    <tr>\n      <th>...</th>\n      <td>...</td>\n      <td>...</td>\n      <td>...</td>\n      <td>...</td>\n      <td>...</td>\n      <td>...</td>\n      <td>...</td>\n      <td>...</td>\n      <td>...</td>\n      <td>...</td>\n      <td>...</td>\n      <td>...</td>\n      <td>...</td>\n      <td>...</td>\n      <td>...</td>\n      <td>...</td>\n      <td>...</td>\n      <td>...</td>\n      <td>...</td>\n      <td>...</td>\n      <td>...</td>\n    </tr>\n    <tr>\n      <th>3758</th>\n      <td>1063126</td>\n      <td>MULTIPOINT (568032.098 682087.088, 567972.906 ...</td>\n      <td>22</td>\n      <td>1601.74</td>\n      <td>1.636364</td>\n      <td>7</td>\n      <td>0</td>\n      <td>0</td>\n      <td>0</td>\n      <td>0</td>\n      <td>...</td>\n      <td>0</td>\n      <td>0</td>\n      <td>0</td>\n      <td>0.200409</td>\n      <td>137.338223</td>\n      <td>94.242414</td>\n      <td>68.620673</td>\n      <td>12.877561</td>\n      <td>304.774513</td>\n      <td>304.774513</td>\n    </tr>\n    <tr>\n      <th>3759</th>\n      <td>1064491</td>\n      <td>MULTIPOINT (558076.015 719575.405, 558264.175 ...</td>\n      <td>52</td>\n      <td>16319.27</td>\n      <td>1.423077</td>\n      <td>29</td>\n      <td>0</td>\n      <td>0</td>\n      <td>0</td>\n      <td>0</td>\n      <td>...</td>\n      <td>0</td>\n      <td>2</td>\n      <td>0</td>\n      <td>0.917561</td>\n      <td>193.946638</td>\n      <td>128.815451</td>\n      <td>66.417986</td>\n      <td>5.625767</td>\n      <td>614.792574</td>\n      <td>614.792574</td>\n    </tr>\n    <tr>\n      <th>3760</th>\n      <td>1064500</td>\n      <td>MULTIPOINT (546469.207 721565.172, 546309.944 ...</td>\n      <td>3</td>\n      <td>311.89</td>\n      <td>1.333333</td>\n      <td>2</td>\n      <td>0</td>\n      <td>0</td>\n      <td>0</td>\n      <td>0</td>\n      <td>...</td>\n      <td>0</td>\n      <td>0</td>\n      <td>0</td>\n      <td>1.179343</td>\n      <td>78.110162</td>\n      <td>77.477626</td>\n      <td>99.190200</td>\n      <td>24.087480</td>\n      <td>175.737876</td>\n      <td>175.737876</td>\n    </tr>\n    <tr>\n      <th>3761</th>\n      <td>1064516</td>\n      <td>MULTIPOINT (661485.062 641856.202, 661471.834 ...</td>\n      <td>7</td>\n      <td>430.60</td>\n      <td>1.428571</td>\n      <td>5</td>\n      <td>0</td>\n      <td>0</td>\n      <td>0</td>\n      <td>0</td>\n      <td>...</td>\n      <td>0</td>\n      <td>0</td>\n      <td>0</td>\n      <td>0.028865</td>\n      <td>51.428196</td>\n      <td>40.195020</td>\n      <td>78.157554</td>\n      <td>11.037517</td>\n      <td>111.790464</td>\n      <td>111.790464</td>\n    </tr>\n    <tr>\n      <th>3762</th>\n      <td>1067147</td>\n      <td>MULTIPOINT (545332.150 719114.135, 545241.292 ...</td>\n      <td>5</td>\n      <td>449.97</td>\n      <td>1.000000</td>\n      <td>1</td>\n      <td>0</td>\n      <td>0</td>\n      <td>0</td>\n      <td>0</td>\n      <td>...</td>\n      <td>0</td>\n      <td>0</td>\n      <td>0</td>\n      <td>0.328823</td>\n      <td>81.384689</td>\n      <td>57.180786</td>\n      <td>70.259881</td>\n      <td>19.517409</td>\n      <td>180.381791</td>\n      <td>180.381791</td>\n    </tr>\n  </tbody>\n</table>\n<p>3763 rows × 33 columns</p>\n</div>"
     },
     "execution_count": 47,
     "metadata": {},
     "output_type": "execute_result"
    }
   ],
   "source": [
    "# merge wszystkich tabel po kolei po simc_id\n",
    "tables_to_merge = [liczba_budynkow, powierzchnia_budynkow, srednia_liczba_kondygnacji, rodzaje_budynkow, nna_indexes_df, std_distance_df, min_max_distance_df]\n",
    "for table in tables_to_merge:\n",
    "    zabudowa_merged = zabudowa_merged.merge(table, how='left', on='SIMC_id')\n",
    "    zabudowa_merged.drop_duplicates(inplace=True)\n",
    "zabudowa_merged"
   ],
   "metadata": {
    "collapsed": false,
    "ExecuteTime": {
     "end_time": "2023-11-19T13:57:34.114259100Z",
     "start_time": "2023-11-19T13:57:33.182386500Z"
    }
   },
   "id": "ff9e831656d787a7"
  },
  {
   "cell_type": "code",
   "execution_count": 49,
   "outputs": [
    {
     "data": {
      "text/plain": "      SIMC_id  liczba_budynkow  powierzchnia_budynkow  \\\n0      113419              371               83569.42   \n1      113431               12                3383.35   \n2      113448              229               30639.25   \n3      113454               97               17698.85   \n4      113460               48                5193.56   \n...       ...              ...                    ...   \n3758  1063126               22                1601.74   \n3759  1064491               52               16319.27   \n3760  1064500                3                 311.89   \n3761  1064516                7                 430.60   \n3762  1067147                5                 449.97   \n\n      srednia_liczba_kondygnacji  budynekGospodarstwaRolnego  \\\n0                       1.583784                         146   \n1                       1.250000                           7   \n2                       1.606987                         104   \n3                       1.278351                          59   \n4                       1.145833                          30   \n...                          ...                         ...   \n3758                    1.636364                           7   \n3759                    1.423077                          29   \n3760                    1.333333                           2   \n3761                    1.428571                           5   \n3762                    1.000000                           1   \n\n      budynekZabytkowy  budynkiBiurowe  budynkiGarazy  \\\n0                    0               3              1   \n1                    0               0              0   \n2                    0               2              0   \n3                    0               1              1   \n4                    0               0              0   \n...                ...             ...            ...   \n3758                 0               0              0   \n3759                 0               0              0   \n3760                 0               0              0   \n3761                 0               0              0   \n3762                 0               0              0   \n\n      budynkiHandlowoUslugowe  budynkiHoteli  ...  \\\n0                           2              1  ...   \n1                           0              0  ...   \n2                           2              0  ...   \n3                           0              0  ...   \n4                           0              0  ...   \n...                       ...            ...  ...   \n3758                        0              0  ...   \n3759                        0              0  ...   \n3760                        0              0  ...   \n3761                        0              0  ...   \n3762                        0              0  ...   \n\n      ogolnodostepneObiektyKulturalne  pozostaleBudynkiNiemieszkalne  \\\n0                                   0                              1   \n1                                   0                              0   \n2                                   0                              0   \n3                                   1                              1   \n4                                   0                              0   \n...                               ...                            ...   \n3758                                0                              0   \n3759                                0                              2   \n3760                                0                              0   \n3761                                0                              0   \n3762                                0                              0   \n\n      zbiornikSilosIBudynkiMagazynowe  nna_index  srednia_odleglosci  \\\n0                                  14   0.349610         1066.709097   \n1                                   0   0.196046          247.277883   \n2                                   0   0.212606          497.217195   \n3                                   2   0.235016          486.756717   \n4                                   0   0.336787          441.816209   \n...                               ...        ...                 ...   \n3758                                0   0.200409          137.338223   \n3759                                0   0.917561          193.946638   \n3760                                0   1.179343           78.110162   \n3761                                0   0.028865           51.428196   \n3762                                0   0.328823           81.384689   \n\n      odchylenie_standardowe  wspolczynnik_zmiennosci  min_odleglosc  \\\n0                 907.926013                85.114678       5.595754   \n1                 170.333300                68.883354      10.068545   \n2                 401.666020                80.782810       6.621034   \n3                 374.794532                76.998328       5.007587   \n4                 284.333460                64.355597       5.033175   \n...                      ...                      ...            ...   \n3758               94.242414                68.620673      12.877561   \n3759              128.815451                66.417986       5.625767   \n3760               77.477626                99.190200      24.087480   \n3761               40.195020                78.157554      11.037517   \n3762               57.180786                70.259881      19.517409   \n\n      max_odleglosc  min_max_rozstep  \n0       4490.197390      4490.197390  \n1        520.223242       520.223242  \n2       2849.556375      2849.556375  \n3       2204.703636      2204.703636  \n4       1253.942402      1253.942402  \n...             ...              ...  \n3758     304.774513       304.774513  \n3759     614.792574       614.792574  \n3760     175.737876       175.737876  \n3761     111.790464       111.790464  \n3762     180.381791       180.381791  \n\n[3763 rows x 32 columns]",
      "text/html": "<div>\n<style scoped>\n    .dataframe tbody tr th:only-of-type {\n        vertical-align: middle;\n    }\n\n    .dataframe tbody tr th {\n        vertical-align: top;\n    }\n\n    .dataframe thead th {\n        text-align: right;\n    }\n</style>\n<table border=\"1\" class=\"dataframe\">\n  <thead>\n    <tr style=\"text-align: right;\">\n      <th></th>\n      <th>SIMC_id</th>\n      <th>liczba_budynkow</th>\n      <th>powierzchnia_budynkow</th>\n      <th>srednia_liczba_kondygnacji</th>\n      <th>budynekGospodarstwaRolnego</th>\n      <th>budynekZabytkowy</th>\n      <th>budynkiBiurowe</th>\n      <th>budynkiGarazy</th>\n      <th>budynkiHandlowoUslugowe</th>\n      <th>budynkiHoteli</th>\n      <th>...</th>\n      <th>ogolnodostepneObiektyKulturalne</th>\n      <th>pozostaleBudynkiNiemieszkalne</th>\n      <th>zbiornikSilosIBudynkiMagazynowe</th>\n      <th>nna_index</th>\n      <th>srednia_odleglosci</th>\n      <th>odchylenie_standardowe</th>\n      <th>wspolczynnik_zmiennosci</th>\n      <th>min_odleglosc</th>\n      <th>max_odleglosc</th>\n      <th>min_max_rozstep</th>\n    </tr>\n  </thead>\n  <tbody>\n    <tr>\n      <th>0</th>\n      <td>113419</td>\n      <td>371</td>\n      <td>83569.42</td>\n      <td>1.583784</td>\n      <td>146</td>\n      <td>0</td>\n      <td>3</td>\n      <td>1</td>\n      <td>2</td>\n      <td>1</td>\n      <td>...</td>\n      <td>0</td>\n      <td>1</td>\n      <td>14</td>\n      <td>0.349610</td>\n      <td>1066.709097</td>\n      <td>907.926013</td>\n      <td>85.114678</td>\n      <td>5.595754</td>\n      <td>4490.197390</td>\n      <td>4490.197390</td>\n    </tr>\n    <tr>\n      <th>1</th>\n      <td>113431</td>\n      <td>12</td>\n      <td>3383.35</td>\n      <td>1.250000</td>\n      <td>7</td>\n      <td>0</td>\n      <td>0</td>\n      <td>0</td>\n      <td>0</td>\n      <td>0</td>\n      <td>...</td>\n      <td>0</td>\n      <td>0</td>\n      <td>0</td>\n      <td>0.196046</td>\n      <td>247.277883</td>\n      <td>170.333300</td>\n      <td>68.883354</td>\n      <td>10.068545</td>\n      <td>520.223242</td>\n      <td>520.223242</td>\n    </tr>\n    <tr>\n      <th>2</th>\n      <td>113448</td>\n      <td>229</td>\n      <td>30639.25</td>\n      <td>1.606987</td>\n      <td>104</td>\n      <td>0</td>\n      <td>2</td>\n      <td>0</td>\n      <td>2</td>\n      <td>0</td>\n      <td>...</td>\n      <td>0</td>\n      <td>0</td>\n      <td>0</td>\n      <td>0.212606</td>\n      <td>497.217195</td>\n      <td>401.666020</td>\n      <td>80.782810</td>\n      <td>6.621034</td>\n      <td>2849.556375</td>\n      <td>2849.556375</td>\n    </tr>\n    <tr>\n      <th>3</th>\n      <td>113454</td>\n      <td>97</td>\n      <td>17698.85</td>\n      <td>1.278351</td>\n      <td>59</td>\n      <td>0</td>\n      <td>1</td>\n      <td>1</td>\n      <td>0</td>\n      <td>0</td>\n      <td>...</td>\n      <td>1</td>\n      <td>1</td>\n      <td>2</td>\n      <td>0.235016</td>\n      <td>486.756717</td>\n      <td>374.794532</td>\n      <td>76.998328</td>\n      <td>5.007587</td>\n      <td>2204.703636</td>\n      <td>2204.703636</td>\n    </tr>\n    <tr>\n      <th>4</th>\n      <td>113460</td>\n      <td>48</td>\n      <td>5193.56</td>\n      <td>1.145833</td>\n      <td>30</td>\n      <td>0</td>\n      <td>0</td>\n      <td>0</td>\n      <td>0</td>\n      <td>0</td>\n      <td>...</td>\n      <td>0</td>\n      <td>0</td>\n      <td>0</td>\n      <td>0.336787</td>\n      <td>441.816209</td>\n      <td>284.333460</td>\n      <td>64.355597</td>\n      <td>5.033175</td>\n      <td>1253.942402</td>\n      <td>1253.942402</td>\n    </tr>\n    <tr>\n      <th>...</th>\n      <td>...</td>\n      <td>...</td>\n      <td>...</td>\n      <td>...</td>\n      <td>...</td>\n      <td>...</td>\n      <td>...</td>\n      <td>...</td>\n      <td>...</td>\n      <td>...</td>\n      <td>...</td>\n      <td>...</td>\n      <td>...</td>\n      <td>...</td>\n      <td>...</td>\n      <td>...</td>\n      <td>...</td>\n      <td>...</td>\n      <td>...</td>\n      <td>...</td>\n      <td>...</td>\n    </tr>\n    <tr>\n      <th>3758</th>\n      <td>1063126</td>\n      <td>22</td>\n      <td>1601.74</td>\n      <td>1.636364</td>\n      <td>7</td>\n      <td>0</td>\n      <td>0</td>\n      <td>0</td>\n      <td>0</td>\n      <td>0</td>\n      <td>...</td>\n      <td>0</td>\n      <td>0</td>\n      <td>0</td>\n      <td>0.200409</td>\n      <td>137.338223</td>\n      <td>94.242414</td>\n      <td>68.620673</td>\n      <td>12.877561</td>\n      <td>304.774513</td>\n      <td>304.774513</td>\n    </tr>\n    <tr>\n      <th>3759</th>\n      <td>1064491</td>\n      <td>52</td>\n      <td>16319.27</td>\n      <td>1.423077</td>\n      <td>29</td>\n      <td>0</td>\n      <td>0</td>\n      <td>0</td>\n      <td>0</td>\n      <td>0</td>\n      <td>...</td>\n      <td>0</td>\n      <td>2</td>\n      <td>0</td>\n      <td>0.917561</td>\n      <td>193.946638</td>\n      <td>128.815451</td>\n      <td>66.417986</td>\n      <td>5.625767</td>\n      <td>614.792574</td>\n      <td>614.792574</td>\n    </tr>\n    <tr>\n      <th>3760</th>\n      <td>1064500</td>\n      <td>3</td>\n      <td>311.89</td>\n      <td>1.333333</td>\n      <td>2</td>\n      <td>0</td>\n      <td>0</td>\n      <td>0</td>\n      <td>0</td>\n      <td>0</td>\n      <td>...</td>\n      <td>0</td>\n      <td>0</td>\n      <td>0</td>\n      <td>1.179343</td>\n      <td>78.110162</td>\n      <td>77.477626</td>\n      <td>99.190200</td>\n      <td>24.087480</td>\n      <td>175.737876</td>\n      <td>175.737876</td>\n    </tr>\n    <tr>\n      <th>3761</th>\n      <td>1064516</td>\n      <td>7</td>\n      <td>430.60</td>\n      <td>1.428571</td>\n      <td>5</td>\n      <td>0</td>\n      <td>0</td>\n      <td>0</td>\n      <td>0</td>\n      <td>0</td>\n      <td>...</td>\n      <td>0</td>\n      <td>0</td>\n      <td>0</td>\n      <td>0.028865</td>\n      <td>51.428196</td>\n      <td>40.195020</td>\n      <td>78.157554</td>\n      <td>11.037517</td>\n      <td>111.790464</td>\n      <td>111.790464</td>\n    </tr>\n    <tr>\n      <th>3762</th>\n      <td>1067147</td>\n      <td>5</td>\n      <td>449.97</td>\n      <td>1.000000</td>\n      <td>1</td>\n      <td>0</td>\n      <td>0</td>\n      <td>0</td>\n      <td>0</td>\n      <td>0</td>\n      <td>...</td>\n      <td>0</td>\n      <td>0</td>\n      <td>0</td>\n      <td>0.328823</td>\n      <td>81.384689</td>\n      <td>57.180786</td>\n      <td>70.259881</td>\n      <td>19.517409</td>\n      <td>180.381791</td>\n      <td>180.381791</td>\n    </tr>\n  </tbody>\n</table>\n<p>3763 rows × 32 columns</p>\n</div>"
     },
     "execution_count": 49,
     "metadata": {},
     "output_type": "execute_result"
    }
   ],
   "source": [
    "# zmiana nazw niektórych kolumn na bardziej czytelne i wyrzucenie geometrii centroidów\n",
    "zabudowa_merged.rename(columns={'count': 'liczba_budynkow', 'area': 'powierzchnia_budynkow', 'LKOND': 'srednia_liczba_kondygnacji'}, inplace=True)\n",
    "zabudowa_merged_df = zabudowa_merged.drop('geometry', axis=1)\n",
    "zabudowa_merged_df"
   ],
   "metadata": {
    "collapsed": false,
    "ExecuteTime": {
     "end_time": "2023-11-19T14:00:17.913045Z",
     "start_time": "2023-11-19T14:00:17.870232300Z"
    }
   },
   "id": "af2e1c8e8890210f"
  },
  {
   "cell_type": "code",
   "execution_count": 52,
   "outputs": [
    {
     "data": {
      "text/plain": "      SIMC_id  liczba_budynkow  powierzchnia_budynkow  \\\n455    154625                1                 273.40   \n600    158385                1                 173.67   \n648    468973                1                 120.19   \n869    471350                1                 132.47   \n898    471691                1                 113.44   \n1030   473170                1                 252.50   \n1114   474040                1                 255.45   \n1175   474761                1                 100.15   \n1460   477802                1                 131.82   \n1485   478055                1                 122.38   \n2113   485061                1                 127.76   \n2123   485167                1                 108.02   \n3745  1044070                1                 100.00   \n\n      srednia_liczba_kondygnacji  budynekGospodarstwaRolnego  \\\n455                          2.0                           0   \n600                          2.0                           0   \n648                          1.0                           0   \n869                          2.0                           0   \n898                          1.0                           0   \n1030                         2.0                           0   \n1114                         1.0                           0   \n1175                         2.0                           0   \n1460                         2.0                           0   \n1485                         2.0                           0   \n2113                         2.0                           0   \n2123                         2.0                           0   \n3745                         2.0                           0   \n\n      budynekZabytkowy  budynkiBiurowe  budynkiGarazy  \\\n455                  0               0              0   \n600                  0               0              0   \n648                  0               0              0   \n869                  0               0              0   \n898                  0               0              0   \n1030                 0               0              0   \n1114                 0               0              0   \n1175                 0               0              0   \n1460                 0               0              0   \n1485                 0               0              0   \n2113                 0               0              0   \n2123                 0               0              0   \n3745                 0               0              0   \n\n      budynkiHandlowoUslugowe  budynkiHoteli  ...  \\\n455                         0              0  ...   \n600                         0              0  ...   \n648                         0              0  ...   \n869                         0              0  ...   \n898                         0              0  ...   \n1030                        0              0  ...   \n1114                        0              0  ...   \n1175                        0              0  ...   \n1460                        0              0  ...   \n1485                        0              0  ...   \n2113                        0              0  ...   \n2123                        0              0  ...   \n3745                        0              0  ...   \n\n      ogolnodostepneObiektyKulturalne  pozostaleBudynkiNiemieszkalne  \\\n455                                 0                              0   \n600                                 0                              0   \n648                                 0                              0   \n869                                 0                              0   \n898                                 0                              0   \n1030                                0                              0   \n1114                                0                              0   \n1175                                0                              0   \n1460                                0                              0   \n1485                                0                              0   \n2113                                0                              0   \n2123                                0                              0   \n3745                                0                              0   \n\n      zbiornikSilosIBudynkiMagazynowe  nna_index  srednia_odleglosci  \\\n455                                 0        0.0                 0.0   \n600                                 0        0.0                 0.0   \n648                                 0        0.0                 0.0   \n869                                 0        0.0                 0.0   \n898                                 0        0.0                 0.0   \n1030                                0        0.0                 0.0   \n1114                                0        0.0                 0.0   \n1175                                0        0.0                 0.0   \n1460                                0        0.0                 0.0   \n1485                                0        0.0                 0.0   \n2113                                0        0.0                 0.0   \n2123                                0        0.0                 0.0   \n3745                                0        0.0                 0.0   \n\n      odchylenie_standardowe  wspolczynnik_zmiennosci  min_odleglosc  \\\n455                      0.0                      NaN            0.0   \n600                      0.0                      NaN            0.0   \n648                      0.0                      NaN            0.0   \n869                      0.0                      NaN            0.0   \n898                      0.0                      NaN            0.0   \n1030                     0.0                      NaN            0.0   \n1114                     0.0                      NaN            0.0   \n1175                     0.0                      NaN            0.0   \n1460                     0.0                      NaN            0.0   \n1485                     0.0                      NaN            0.0   \n2113                     0.0                      NaN            0.0   \n2123                     0.0                      NaN            0.0   \n3745                     0.0                      NaN            0.0   \n\n      max_odleglosc  min_max_rozstep  \n455             0.0              0.0  \n600             0.0              0.0  \n648             0.0              0.0  \n869             0.0              0.0  \n898             0.0              0.0  \n1030            0.0              0.0  \n1114            0.0              0.0  \n1175            0.0              0.0  \n1460            0.0              0.0  \n1485            0.0              0.0  \n2113            0.0              0.0  \n2123            0.0              0.0  \n3745            0.0              0.0  \n\n[13 rows x 32 columns]",
      "text/html": "<div>\n<style scoped>\n    .dataframe tbody tr th:only-of-type {\n        vertical-align: middle;\n    }\n\n    .dataframe tbody tr th {\n        vertical-align: top;\n    }\n\n    .dataframe thead th {\n        text-align: right;\n    }\n</style>\n<table border=\"1\" class=\"dataframe\">\n  <thead>\n    <tr style=\"text-align: right;\">\n      <th></th>\n      <th>SIMC_id</th>\n      <th>liczba_budynkow</th>\n      <th>powierzchnia_budynkow</th>\n      <th>srednia_liczba_kondygnacji</th>\n      <th>budynekGospodarstwaRolnego</th>\n      <th>budynekZabytkowy</th>\n      <th>budynkiBiurowe</th>\n      <th>budynkiGarazy</th>\n      <th>budynkiHandlowoUslugowe</th>\n      <th>budynkiHoteli</th>\n      <th>...</th>\n      <th>ogolnodostepneObiektyKulturalne</th>\n      <th>pozostaleBudynkiNiemieszkalne</th>\n      <th>zbiornikSilosIBudynkiMagazynowe</th>\n      <th>nna_index</th>\n      <th>srednia_odleglosci</th>\n      <th>odchylenie_standardowe</th>\n      <th>wspolczynnik_zmiennosci</th>\n      <th>min_odleglosc</th>\n      <th>max_odleglosc</th>\n      <th>min_max_rozstep</th>\n    </tr>\n  </thead>\n  <tbody>\n    <tr>\n      <th>455</th>\n      <td>154625</td>\n      <td>1</td>\n      <td>273.40</td>\n      <td>2.0</td>\n      <td>0</td>\n      <td>0</td>\n      <td>0</td>\n      <td>0</td>\n      <td>0</td>\n      <td>0</td>\n      <td>...</td>\n      <td>0</td>\n      <td>0</td>\n      <td>0</td>\n      <td>0.0</td>\n      <td>0.0</td>\n      <td>0.0</td>\n      <td>NaN</td>\n      <td>0.0</td>\n      <td>0.0</td>\n      <td>0.0</td>\n    </tr>\n    <tr>\n      <th>600</th>\n      <td>158385</td>\n      <td>1</td>\n      <td>173.67</td>\n      <td>2.0</td>\n      <td>0</td>\n      <td>0</td>\n      <td>0</td>\n      <td>0</td>\n      <td>0</td>\n      <td>0</td>\n      <td>...</td>\n      <td>0</td>\n      <td>0</td>\n      <td>0</td>\n      <td>0.0</td>\n      <td>0.0</td>\n      <td>0.0</td>\n      <td>NaN</td>\n      <td>0.0</td>\n      <td>0.0</td>\n      <td>0.0</td>\n    </tr>\n    <tr>\n      <th>648</th>\n      <td>468973</td>\n      <td>1</td>\n      <td>120.19</td>\n      <td>1.0</td>\n      <td>0</td>\n      <td>0</td>\n      <td>0</td>\n      <td>0</td>\n      <td>0</td>\n      <td>0</td>\n      <td>...</td>\n      <td>0</td>\n      <td>0</td>\n      <td>0</td>\n      <td>0.0</td>\n      <td>0.0</td>\n      <td>0.0</td>\n      <td>NaN</td>\n      <td>0.0</td>\n      <td>0.0</td>\n      <td>0.0</td>\n    </tr>\n    <tr>\n      <th>869</th>\n      <td>471350</td>\n      <td>1</td>\n      <td>132.47</td>\n      <td>2.0</td>\n      <td>0</td>\n      <td>0</td>\n      <td>0</td>\n      <td>0</td>\n      <td>0</td>\n      <td>0</td>\n      <td>...</td>\n      <td>0</td>\n      <td>0</td>\n      <td>0</td>\n      <td>0.0</td>\n      <td>0.0</td>\n      <td>0.0</td>\n      <td>NaN</td>\n      <td>0.0</td>\n      <td>0.0</td>\n      <td>0.0</td>\n    </tr>\n    <tr>\n      <th>898</th>\n      <td>471691</td>\n      <td>1</td>\n      <td>113.44</td>\n      <td>1.0</td>\n      <td>0</td>\n      <td>0</td>\n      <td>0</td>\n      <td>0</td>\n      <td>0</td>\n      <td>0</td>\n      <td>...</td>\n      <td>0</td>\n      <td>0</td>\n      <td>0</td>\n      <td>0.0</td>\n      <td>0.0</td>\n      <td>0.0</td>\n      <td>NaN</td>\n      <td>0.0</td>\n      <td>0.0</td>\n      <td>0.0</td>\n    </tr>\n    <tr>\n      <th>1030</th>\n      <td>473170</td>\n      <td>1</td>\n      <td>252.50</td>\n      <td>2.0</td>\n      <td>0</td>\n      <td>0</td>\n      <td>0</td>\n      <td>0</td>\n      <td>0</td>\n      <td>0</td>\n      <td>...</td>\n      <td>0</td>\n      <td>0</td>\n      <td>0</td>\n      <td>0.0</td>\n      <td>0.0</td>\n      <td>0.0</td>\n      <td>NaN</td>\n      <td>0.0</td>\n      <td>0.0</td>\n      <td>0.0</td>\n    </tr>\n    <tr>\n      <th>1114</th>\n      <td>474040</td>\n      <td>1</td>\n      <td>255.45</td>\n      <td>1.0</td>\n      <td>0</td>\n      <td>0</td>\n      <td>0</td>\n      <td>0</td>\n      <td>0</td>\n      <td>0</td>\n      <td>...</td>\n      <td>0</td>\n      <td>0</td>\n      <td>0</td>\n      <td>0.0</td>\n      <td>0.0</td>\n      <td>0.0</td>\n      <td>NaN</td>\n      <td>0.0</td>\n      <td>0.0</td>\n      <td>0.0</td>\n    </tr>\n    <tr>\n      <th>1175</th>\n      <td>474761</td>\n      <td>1</td>\n      <td>100.15</td>\n      <td>2.0</td>\n      <td>0</td>\n      <td>0</td>\n      <td>0</td>\n      <td>0</td>\n      <td>0</td>\n      <td>0</td>\n      <td>...</td>\n      <td>0</td>\n      <td>0</td>\n      <td>0</td>\n      <td>0.0</td>\n      <td>0.0</td>\n      <td>0.0</td>\n      <td>NaN</td>\n      <td>0.0</td>\n      <td>0.0</td>\n      <td>0.0</td>\n    </tr>\n    <tr>\n      <th>1460</th>\n      <td>477802</td>\n      <td>1</td>\n      <td>131.82</td>\n      <td>2.0</td>\n      <td>0</td>\n      <td>0</td>\n      <td>0</td>\n      <td>0</td>\n      <td>0</td>\n      <td>0</td>\n      <td>...</td>\n      <td>0</td>\n      <td>0</td>\n      <td>0</td>\n      <td>0.0</td>\n      <td>0.0</td>\n      <td>0.0</td>\n      <td>NaN</td>\n      <td>0.0</td>\n      <td>0.0</td>\n      <td>0.0</td>\n    </tr>\n    <tr>\n      <th>1485</th>\n      <td>478055</td>\n      <td>1</td>\n      <td>122.38</td>\n      <td>2.0</td>\n      <td>0</td>\n      <td>0</td>\n      <td>0</td>\n      <td>0</td>\n      <td>0</td>\n      <td>0</td>\n      <td>...</td>\n      <td>0</td>\n      <td>0</td>\n      <td>0</td>\n      <td>0.0</td>\n      <td>0.0</td>\n      <td>0.0</td>\n      <td>NaN</td>\n      <td>0.0</td>\n      <td>0.0</td>\n      <td>0.0</td>\n    </tr>\n    <tr>\n      <th>2113</th>\n      <td>485061</td>\n      <td>1</td>\n      <td>127.76</td>\n      <td>2.0</td>\n      <td>0</td>\n      <td>0</td>\n      <td>0</td>\n      <td>0</td>\n      <td>0</td>\n      <td>0</td>\n      <td>...</td>\n      <td>0</td>\n      <td>0</td>\n      <td>0</td>\n      <td>0.0</td>\n      <td>0.0</td>\n      <td>0.0</td>\n      <td>NaN</td>\n      <td>0.0</td>\n      <td>0.0</td>\n      <td>0.0</td>\n    </tr>\n    <tr>\n      <th>2123</th>\n      <td>485167</td>\n      <td>1</td>\n      <td>108.02</td>\n      <td>2.0</td>\n      <td>0</td>\n      <td>0</td>\n      <td>0</td>\n      <td>0</td>\n      <td>0</td>\n      <td>0</td>\n      <td>...</td>\n      <td>0</td>\n      <td>0</td>\n      <td>0</td>\n      <td>0.0</td>\n      <td>0.0</td>\n      <td>0.0</td>\n      <td>NaN</td>\n      <td>0.0</td>\n      <td>0.0</td>\n      <td>0.0</td>\n    </tr>\n    <tr>\n      <th>3745</th>\n      <td>1044070</td>\n      <td>1</td>\n      <td>100.00</td>\n      <td>2.0</td>\n      <td>0</td>\n      <td>0</td>\n      <td>0</td>\n      <td>0</td>\n      <td>0</td>\n      <td>0</td>\n      <td>...</td>\n      <td>0</td>\n      <td>0</td>\n      <td>0</td>\n      <td>0.0</td>\n      <td>0.0</td>\n      <td>0.0</td>\n      <td>NaN</td>\n      <td>0.0</td>\n      <td>0.0</td>\n      <td>0.0</td>\n    </tr>\n  </tbody>\n</table>\n<p>13 rows × 32 columns</p>\n</div>"
     },
     "execution_count": 52,
     "metadata": {},
     "output_type": "execute_result"
    }
   ],
   "source": [
    "# zbadanie, czy występują wartości null albo nan\n",
    "na = zabudowa_merged_df[zabudowa_merged_df.isnull().any(axis=1)]\n",
    "na\n",
    "# Wartości nan występują dla 13 miejscowości dla współczynnika zmienności. Są to miejscowości z jednym budynkiem, więc współczynnik o wartości nan wyniknął z podzielenia przez 0 (odchylenie/średnią odległości, co daje 0/0). Zostanie on zastąpiony wartością 0, gdyż interpretacja tego współczynnika to \"im wyższy współczynnik zmienności, tym niższa regularność\". Wartość 0 to najmniejsza możliwa, więc oznaczająca wysoki poziom regularności - jeden budynek to zdecydowana regularność"
   ],
   "metadata": {
    "collapsed": false,
    "ExecuteTime": {
     "end_time": "2023-11-19T14:01:55.484658Z",
     "start_time": "2023-11-19T14:01:55.430165800Z"
    }
   },
   "id": "13a9f017b00dd00c"
  },
  {
   "cell_type": "code",
   "execution_count": 53,
   "outputs": [
    {
     "data": {
      "text/plain": "      SIMC_id  liczba_budynkow  powierzchnia_budynkow  \\\n0      113419              371               83569.42   \n1      113431               12                3383.35   \n2      113448              229               30639.25   \n3      113454               97               17698.85   \n4      113460               48                5193.56   \n...       ...              ...                    ...   \n3758  1063126               22                1601.74   \n3759  1064491               52               16319.27   \n3760  1064500                3                 311.89   \n3761  1064516                7                 430.60   \n3762  1067147                5                 449.97   \n\n      srednia_liczba_kondygnacji  budynekGospodarstwaRolnego  \\\n0                       1.583784                         146   \n1                       1.250000                           7   \n2                       1.606987                         104   \n3                       1.278351                          59   \n4                       1.145833                          30   \n...                          ...                         ...   \n3758                    1.636364                           7   \n3759                    1.423077                          29   \n3760                    1.333333                           2   \n3761                    1.428571                           5   \n3762                    1.000000                           1   \n\n      budynekZabytkowy  budynkiBiurowe  budynkiGarazy  \\\n0                    0               3              1   \n1                    0               0              0   \n2                    0               2              0   \n3                    0               1              1   \n4                    0               0              0   \n...                ...             ...            ...   \n3758                 0               0              0   \n3759                 0               0              0   \n3760                 0               0              0   \n3761                 0               0              0   \n3762                 0               0              0   \n\n      budynkiHandlowoUslugowe  budynkiHoteli  ...  \\\n0                           2              1  ...   \n1                           0              0  ...   \n2                           2              0  ...   \n3                           0              0  ...   \n4                           0              0  ...   \n...                       ...            ...  ...   \n3758                        0              0  ...   \n3759                        0              0  ...   \n3760                        0              0  ...   \n3761                        0              0  ...   \n3762                        0              0  ...   \n\n      ogolnodostepneObiektyKulturalne  pozostaleBudynkiNiemieszkalne  \\\n0                                   0                              1   \n1                                   0                              0   \n2                                   0                              0   \n3                                   1                              1   \n4                                   0                              0   \n...                               ...                            ...   \n3758                                0                              0   \n3759                                0                              2   \n3760                                0                              0   \n3761                                0                              0   \n3762                                0                              0   \n\n      zbiornikSilosIBudynkiMagazynowe  nna_index  srednia_odleglosci  \\\n0                                  14   0.349610         1066.709097   \n1                                   0   0.196046          247.277883   \n2                                   0   0.212606          497.217195   \n3                                   2   0.235016          486.756717   \n4                                   0   0.336787          441.816209   \n...                               ...        ...                 ...   \n3758                                0   0.200409          137.338223   \n3759                                0   0.917561          193.946638   \n3760                                0   1.179343           78.110162   \n3761                                0   0.028865           51.428196   \n3762                                0   0.328823           81.384689   \n\n      odchylenie_standardowe  wspolczynnik_zmiennosci  min_odleglosc  \\\n0                 907.926013                85.114678       5.595754   \n1                 170.333300                68.883354      10.068545   \n2                 401.666020                80.782810       6.621034   \n3                 374.794532                76.998328       5.007587   \n4                 284.333460                64.355597       5.033175   \n...                      ...                      ...            ...   \n3758               94.242414                68.620673      12.877561   \n3759              128.815451                66.417986       5.625767   \n3760               77.477626                99.190200      24.087480   \n3761               40.195020                78.157554      11.037517   \n3762               57.180786                70.259881      19.517409   \n\n      max_odleglosc  min_max_rozstep  \n0       4490.197390      4490.197390  \n1        520.223242       520.223242  \n2       2849.556375      2849.556375  \n3       2204.703636      2204.703636  \n4       1253.942402      1253.942402  \n...             ...              ...  \n3758     304.774513       304.774513  \n3759     614.792574       614.792574  \n3760     175.737876       175.737876  \n3761     111.790464       111.790464  \n3762     180.381791       180.381791  \n\n[3763 rows x 32 columns]",
      "text/html": "<div>\n<style scoped>\n    .dataframe tbody tr th:only-of-type {\n        vertical-align: middle;\n    }\n\n    .dataframe tbody tr th {\n        vertical-align: top;\n    }\n\n    .dataframe thead th {\n        text-align: right;\n    }\n</style>\n<table border=\"1\" class=\"dataframe\">\n  <thead>\n    <tr style=\"text-align: right;\">\n      <th></th>\n      <th>SIMC_id</th>\n      <th>liczba_budynkow</th>\n      <th>powierzchnia_budynkow</th>\n      <th>srednia_liczba_kondygnacji</th>\n      <th>budynekGospodarstwaRolnego</th>\n      <th>budynekZabytkowy</th>\n      <th>budynkiBiurowe</th>\n      <th>budynkiGarazy</th>\n      <th>budynkiHandlowoUslugowe</th>\n      <th>budynkiHoteli</th>\n      <th>...</th>\n      <th>ogolnodostepneObiektyKulturalne</th>\n      <th>pozostaleBudynkiNiemieszkalne</th>\n      <th>zbiornikSilosIBudynkiMagazynowe</th>\n      <th>nna_index</th>\n      <th>srednia_odleglosci</th>\n      <th>odchylenie_standardowe</th>\n      <th>wspolczynnik_zmiennosci</th>\n      <th>min_odleglosc</th>\n      <th>max_odleglosc</th>\n      <th>min_max_rozstep</th>\n    </tr>\n  </thead>\n  <tbody>\n    <tr>\n      <th>0</th>\n      <td>113419</td>\n      <td>371</td>\n      <td>83569.42</td>\n      <td>1.583784</td>\n      <td>146</td>\n      <td>0</td>\n      <td>3</td>\n      <td>1</td>\n      <td>2</td>\n      <td>1</td>\n      <td>...</td>\n      <td>0</td>\n      <td>1</td>\n      <td>14</td>\n      <td>0.349610</td>\n      <td>1066.709097</td>\n      <td>907.926013</td>\n      <td>85.114678</td>\n      <td>5.595754</td>\n      <td>4490.197390</td>\n      <td>4490.197390</td>\n    </tr>\n    <tr>\n      <th>1</th>\n      <td>113431</td>\n      <td>12</td>\n      <td>3383.35</td>\n      <td>1.250000</td>\n      <td>7</td>\n      <td>0</td>\n      <td>0</td>\n      <td>0</td>\n      <td>0</td>\n      <td>0</td>\n      <td>...</td>\n      <td>0</td>\n      <td>0</td>\n      <td>0</td>\n      <td>0.196046</td>\n      <td>247.277883</td>\n      <td>170.333300</td>\n      <td>68.883354</td>\n      <td>10.068545</td>\n      <td>520.223242</td>\n      <td>520.223242</td>\n    </tr>\n    <tr>\n      <th>2</th>\n      <td>113448</td>\n      <td>229</td>\n      <td>30639.25</td>\n      <td>1.606987</td>\n      <td>104</td>\n      <td>0</td>\n      <td>2</td>\n      <td>0</td>\n      <td>2</td>\n      <td>0</td>\n      <td>...</td>\n      <td>0</td>\n      <td>0</td>\n      <td>0</td>\n      <td>0.212606</td>\n      <td>497.217195</td>\n      <td>401.666020</td>\n      <td>80.782810</td>\n      <td>6.621034</td>\n      <td>2849.556375</td>\n      <td>2849.556375</td>\n    </tr>\n    <tr>\n      <th>3</th>\n      <td>113454</td>\n      <td>97</td>\n      <td>17698.85</td>\n      <td>1.278351</td>\n      <td>59</td>\n      <td>0</td>\n      <td>1</td>\n      <td>1</td>\n      <td>0</td>\n      <td>0</td>\n      <td>...</td>\n      <td>1</td>\n      <td>1</td>\n      <td>2</td>\n      <td>0.235016</td>\n      <td>486.756717</td>\n      <td>374.794532</td>\n      <td>76.998328</td>\n      <td>5.007587</td>\n      <td>2204.703636</td>\n      <td>2204.703636</td>\n    </tr>\n    <tr>\n      <th>4</th>\n      <td>113460</td>\n      <td>48</td>\n      <td>5193.56</td>\n      <td>1.145833</td>\n      <td>30</td>\n      <td>0</td>\n      <td>0</td>\n      <td>0</td>\n      <td>0</td>\n      <td>0</td>\n      <td>...</td>\n      <td>0</td>\n      <td>0</td>\n      <td>0</td>\n      <td>0.336787</td>\n      <td>441.816209</td>\n      <td>284.333460</td>\n      <td>64.355597</td>\n      <td>5.033175</td>\n      <td>1253.942402</td>\n      <td>1253.942402</td>\n    </tr>\n    <tr>\n      <th>...</th>\n      <td>...</td>\n      <td>...</td>\n      <td>...</td>\n      <td>...</td>\n      <td>...</td>\n      <td>...</td>\n      <td>...</td>\n      <td>...</td>\n      <td>...</td>\n      <td>...</td>\n      <td>...</td>\n      <td>...</td>\n      <td>...</td>\n      <td>...</td>\n      <td>...</td>\n      <td>...</td>\n      <td>...</td>\n      <td>...</td>\n      <td>...</td>\n      <td>...</td>\n      <td>...</td>\n    </tr>\n    <tr>\n      <th>3758</th>\n      <td>1063126</td>\n      <td>22</td>\n      <td>1601.74</td>\n      <td>1.636364</td>\n      <td>7</td>\n      <td>0</td>\n      <td>0</td>\n      <td>0</td>\n      <td>0</td>\n      <td>0</td>\n      <td>...</td>\n      <td>0</td>\n      <td>0</td>\n      <td>0</td>\n      <td>0.200409</td>\n      <td>137.338223</td>\n      <td>94.242414</td>\n      <td>68.620673</td>\n      <td>12.877561</td>\n      <td>304.774513</td>\n      <td>304.774513</td>\n    </tr>\n    <tr>\n      <th>3759</th>\n      <td>1064491</td>\n      <td>52</td>\n      <td>16319.27</td>\n      <td>1.423077</td>\n      <td>29</td>\n      <td>0</td>\n      <td>0</td>\n      <td>0</td>\n      <td>0</td>\n      <td>0</td>\n      <td>...</td>\n      <td>0</td>\n      <td>2</td>\n      <td>0</td>\n      <td>0.917561</td>\n      <td>193.946638</td>\n      <td>128.815451</td>\n      <td>66.417986</td>\n      <td>5.625767</td>\n      <td>614.792574</td>\n      <td>614.792574</td>\n    </tr>\n    <tr>\n      <th>3760</th>\n      <td>1064500</td>\n      <td>3</td>\n      <td>311.89</td>\n      <td>1.333333</td>\n      <td>2</td>\n      <td>0</td>\n      <td>0</td>\n      <td>0</td>\n      <td>0</td>\n      <td>0</td>\n      <td>...</td>\n      <td>0</td>\n      <td>0</td>\n      <td>0</td>\n      <td>1.179343</td>\n      <td>78.110162</td>\n      <td>77.477626</td>\n      <td>99.190200</td>\n      <td>24.087480</td>\n      <td>175.737876</td>\n      <td>175.737876</td>\n    </tr>\n    <tr>\n      <th>3761</th>\n      <td>1064516</td>\n      <td>7</td>\n      <td>430.60</td>\n      <td>1.428571</td>\n      <td>5</td>\n      <td>0</td>\n      <td>0</td>\n      <td>0</td>\n      <td>0</td>\n      <td>0</td>\n      <td>...</td>\n      <td>0</td>\n      <td>0</td>\n      <td>0</td>\n      <td>0.028865</td>\n      <td>51.428196</td>\n      <td>40.195020</td>\n      <td>78.157554</td>\n      <td>11.037517</td>\n      <td>111.790464</td>\n      <td>111.790464</td>\n    </tr>\n    <tr>\n      <th>3762</th>\n      <td>1067147</td>\n      <td>5</td>\n      <td>449.97</td>\n      <td>1.000000</td>\n      <td>1</td>\n      <td>0</td>\n      <td>0</td>\n      <td>0</td>\n      <td>0</td>\n      <td>0</td>\n      <td>...</td>\n      <td>0</td>\n      <td>0</td>\n      <td>0</td>\n      <td>0.328823</td>\n      <td>81.384689</td>\n      <td>57.180786</td>\n      <td>70.259881</td>\n      <td>19.517409</td>\n      <td>180.381791</td>\n      <td>180.381791</td>\n    </tr>\n  </tbody>\n</table>\n<p>3763 rows × 32 columns</p>\n</div>"
     },
     "execution_count": 53,
     "metadata": {},
     "output_type": "execute_result"
    }
   ],
   "source": [
    "zabudowa_merged_df.fillna(0, inplace=True)\n",
    "zabudowa_merged_df"
   ],
   "metadata": {
    "collapsed": false,
    "ExecuteTime": {
     "end_time": "2023-11-19T14:12:00.293620400Z",
     "start_time": "2023-11-19T14:12:00.222611700Z"
    }
   },
   "id": "b049602b0ac2d0a9"
  },
  {
   "cell_type": "code",
   "execution_count": 55,
   "outputs": [],
   "source": [
    "# zapis do csv\n",
    "# zabudowa_merged_df.to_csv(\"28/analiza_zabudowy_warminskie.csv\", sep=';', header=True, index=False)"
   ],
   "metadata": {
    "collapsed": false,
    "ExecuteTime": {
     "end_time": "2023-11-19T14:14:45.251951300Z",
     "start_time": "2023-11-19T14:14:45.210953100Z"
    }
   },
   "id": "f5bb2222fd8fa093"
  },
  {
   "cell_type": "code",
   "execution_count": null,
   "outputs": [],
   "source": [],
   "metadata": {
    "collapsed": false
   },
   "id": "c4644d33579803af"
  }
 ],
 "metadata": {
  "kernelspec": {
   "display_name": "Python 3",
   "language": "python",
   "name": "python3"
  },
  "language_info": {
   "codemirror_mode": {
    "name": "ipython",
    "version": 2
   },
   "file_extension": ".py",
   "mimetype": "text/x-python",
   "name": "python",
   "nbconvert_exporter": "python",
   "pygments_lexer": "ipython2",
   "version": "2.7.6"
  }
 },
 "nbformat": 4,
 "nbformat_minor": 5
}
